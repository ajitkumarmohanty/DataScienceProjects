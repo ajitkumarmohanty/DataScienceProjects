{
 "cells": [
  {
   "cell_type": "markdown",
   "metadata": {},
   "source": [
    "# Restaurant Food Cost: \n",
    "\n",
    "\n",
    "Who doesn’t love food? All of us must have craving for at least a few favourite food items, we may also have a few places\n",
    "where we like to get them, a restaurant which serves our favourite food the way we want it to be. But there is one factor\n",
    "that will make us reconsider having our favourite food from our favourite restaurant, the cost. Here in this hackathon,\n",
    "you will be predicting the cost of the food served by the restaurants across different cities in India. You will use your\n",
    "Data Science skills to investigate the factors that really affect the cost, and who knows maybe you will even gain some \n",
    "very interesting insights that might help you choose what to eat and from where.\n",
    "\n",
    "Size of training set: 12,690 records\n",
    "\n",
    "Size of test set: 4,231 records\n",
    "    \n",
    "FEATURES:\n",
    "TITLE: The feature of the restaurant which can help identify what and for whom it is suitable for.\n",
    "\n",
    "RESTAURANT_ID: A unique ID for each restaurant.\n",
    "\n",
    "CUISINES: The variety of cuisines that the restaurant offers.\n",
    "\n",
    "TIME: The open hours of the restaurant.\n",
    "\n",
    "CITY: The city in which the restaurant is located.\n",
    "\n",
    "LOCALITY: The locality of the restaurant.\n",
    "\n",
    "RATING: The average rating of the restaurant by customers.\n",
    "\n",
    "VOTES: The overall votes received by the restaurant.\n",
    "\n",
    "COST: The average cost of a two-person meal.\n",
    "    \n",
    "So here we will use different regression methods to predict the Restaurant Food Cost."
   ]
  },
  {
   "cell_type": "markdown",
   "metadata": {},
   "source": [
    "# 1-Data Exploration (Reading the data and Attributes name)"
   ]
  },
  {
   "cell_type": "code",
   "execution_count": 1,
   "metadata": {},
   "outputs": [],
   "source": [
    "#Importing all basic required libray\n",
    "import numpy as np\n",
    "import pandas as pd\n",
    "import matplotlib.pyplot as plt\n",
    "import seaborn as sns\n",
    "import warnings\n",
    "warnings.filterwarnings('ignore')"
   ]
  },
  {
   "cell_type": "code",
   "execution_count": 3,
   "metadata": {},
   "outputs": [
    {
     "name": "stdout",
     "output_type": "stream",
     "text": [
      "(12690, 9)\n",
      "(4231, 8)\n"
     ]
    }
   ],
   "source": [
    "#lets import the train and test dataset\n",
    "fc_train=pd.read_excel('foodcost_train.xlsx')\n",
    "fc_test=pd.read_excel('foocost_test.xlsx')\n",
    "print(fc_train.shape)\n",
    "print(fc_test.shape)"
   ]
  },
  {
   "cell_type": "code",
   "execution_count": 4,
   "metadata": {},
   "outputs": [
    {
     "name": "stdout",
     "output_type": "stream",
     "text": [
      "               TITLE  RESTAURANT_ID  \\\n",
      "0      CASUAL DINING           9438   \n",
      "1  CASUAL DINING,BAR          13198   \n",
      "2      CASUAL DINING          10915   \n",
      "3        QUICK BITES           6346   \n",
      "4     DESSERT PARLOR          15387   \n",
      "\n",
      "                                     CUISINES  \\\n",
      "0                 Malwani, Goan, North Indian   \n",
      "1              Asian, Modern Indian, Japanese   \n",
      "2  North Indian, Chinese, Biryani, Hyderabadi   \n",
      "3                            Tibetan, Chinese   \n",
      "4                                    Desserts   \n",
      "\n",
      "                                     TIME     CITY        LOCALITY RATING  \\\n",
      "0  11am – 4pm, 7:30pm – 11:30pm (Mon-Sun)    Thane  Dombivali East    3.6   \n",
      "1                    6pm – 11pm (Mon-Sun)  Chennai       Ramapuram    4.2   \n",
      "2     11am – 3:30pm, 7pm – 11pm (Mon-Sun)  Chennai      Saligramam    3.8   \n",
      "3                 11:30am – 1am (Mon-Sun)   Mumbai     Bandra West    4.1   \n",
      "4                    11am – 1am (Mon-Sun)   Mumbai     Lower Parel    3.8   \n",
      "\n",
      "       VOTES  COST  \n",
      "0   49 votes  1200  \n",
      "1   30 votes  1500  \n",
      "2  221 votes   800  \n",
      "3   24 votes   800  \n",
      "4  165 votes   300  \n"
     ]
    }
   ],
   "source": [
    "#printing the train data\n",
    "print(fc_train.head())"
   ]
  },
  {
   "cell_type": "code",
   "execution_count": 5,
   "metadata": {},
   "outputs": [
    {
     "name": "stdout",
     "output_type": "stream",
     "text": [
      "<class 'pandas.core.frame.DataFrame'>\n",
      "RangeIndex: 12690 entries, 0 to 12689\n",
      "Data columns (total 9 columns):\n",
      " #   Column         Non-Null Count  Dtype \n",
      "---  ------         --------------  ----- \n",
      " 0   TITLE          12690 non-null  object\n",
      " 1   RESTAURANT_ID  12690 non-null  int64 \n",
      " 2   CUISINES       12690 non-null  object\n",
      " 3   TIME           12690 non-null  object\n",
      " 4   CITY           12578 non-null  object\n",
      " 5   LOCALITY       12592 non-null  object\n",
      " 6   RATING         12688 non-null  object\n",
      " 7   VOTES          11486 non-null  object\n",
      " 8   COST           12690 non-null  int64 \n",
      "dtypes: int64(2), object(7)\n",
      "memory usage: 892.4+ KB\n",
      "None\n"
     ]
    }
   ],
   "source": [
    "#lets print the train data information\n",
    "print(fc_train.info())\n",
    "\n",
    "#so there are some missing value, so we will threat them later."
   ]
  },
  {
   "cell_type": "code",
   "execution_count": 6,
   "metadata": {},
   "outputs": [
    {
     "name": "stdout",
     "output_type": "stream",
     "text": [
      "           TITLE  RESTAURANT_ID                                      CUISINES  \\\n",
      "0  CASUAL DINING           4085         North Indian, Chinese, Mughlai, Kebab   \n",
      "1    QUICK BITES          12680  South Indian, Fast Food, Pizza, North Indian   \n",
      "2  CASUAL DINING           1411       North Indian, Seafood, Biryani, Chinese   \n",
      "3           None            204                                       Biryani   \n",
      "4    QUICK BITES          13453                          South Indian, Kerala   \n",
      "\n",
      "                                                TIME       CITY      LOCALITY  \\\n",
      "0                      12noon – 12midnight (Mon-Sun)      Noida     Sector 18   \n",
      "1                            7am – 12:30AM (Mon-Sun)     Mumbai    Grant Road   \n",
      "2                           11am – 11:30pm (Mon-Sun)     Mumbai  Marine Lines   \n",
      "3  9am – 10pm (Mon, Wed, Thu, Fri, Sat, Sun), 10:...  Faridabad           NIT   \n",
      "4                              11am – 10pm (Mon-Sun)      Kochi        Kaloor   \n",
      "\n",
      "  RATING       VOTES  \n",
      "0    4.3   564 votes  \n",
      "1    4.2    61 votes  \n",
      "2    3.8   350 votes  \n",
      "3    3.8  1445 votes  \n",
      "4    3.6    23 votes  \n"
     ]
    }
   ],
   "source": [
    "#printing the test data\n",
    "print(fc_test.head())"
   ]
  },
  {
   "cell_type": "code",
   "execution_count": 8,
   "metadata": {},
   "outputs": [
    {
     "name": "stdout",
     "output_type": "stream",
     "text": [
      "<class 'pandas.core.frame.DataFrame'>\n",
      "RangeIndex: 4231 entries, 0 to 4230\n",
      "Data columns (total 8 columns):\n",
      " #   Column         Non-Null Count  Dtype \n",
      "---  ------         --------------  ----- \n",
      " 0   TITLE          4231 non-null   object\n",
      " 1   RESTAURANT_ID  4231 non-null   int64 \n",
      " 2   CUISINES       4231 non-null   object\n",
      " 3   TIME           4231 non-null   object\n",
      " 4   CITY           4196 non-null   object\n",
      " 5   LOCALITY       4201 non-null   object\n",
      " 6   RATING         4229 non-null   object\n",
      " 7   VOTES          3829 non-null   object\n",
      "dtypes: int64(1), object(7)\n",
      "memory usage: 264.6+ KB\n",
      "None\n"
     ]
    }
   ],
   "source": [
    "#lets print the test data information\n",
    "print(fc_test.info())\n",
    "\n",
    "#so there are some missing value, so we will threat them later."
   ]
  },
  {
   "cell_type": "markdown",
   "metadata": {},
   "source": [
    "# 2-Exploratory Data Analysis (Exploring, Imputing, Cleaning & Visualizing)"
   ]
  },
  {
   "cell_type": "code",
   "execution_count": 9,
   "metadata": {},
   "outputs": [
    {
     "name": "stdout",
     "output_type": "stream",
     "text": [
      "(12690, 10)\n",
      "(4231, 10)\n",
      "(16921, 10)\n"
     ]
    }
   ],
   "source": [
    "#so to explore data better we can append both train and test data. \n",
    "#So we will combine both train and test for our dayta analysis and for data visualization,\n",
    "#feature engineering, one-hot encoding, and label encoding as all the attributes are object in nature except price. \n",
    "#Later we will split this combined data back to train and test datasets.\n",
    "\n",
    "fc_train['source']='train'\n",
    "fc_test['source']='test'\n",
    "fc_test['COST'] = 0\n",
    "combidata = pd.concat([fc_train,fc_test],sort=False)\n",
    "print(fc_train.shape)\n",
    "print(fc_test.shape)\n",
    "print(combidata.shape)"
   ]
  },
  {
   "cell_type": "code",
   "execution_count": 10,
   "metadata": {},
   "outputs": [
    {
     "name": "stdout",
     "output_type": "stream",
     "text": [
      "               TITLE  RESTAURANT_ID  \\\n",
      "0      CASUAL DINING           9438   \n",
      "1  CASUAL DINING,BAR          13198   \n",
      "2      CASUAL DINING          10915   \n",
      "3        QUICK BITES           6346   \n",
      "4     DESSERT PARLOR          15387   \n",
      "\n",
      "                                     CUISINES  \\\n",
      "0                 Malwani, Goan, North Indian   \n",
      "1              Asian, Modern Indian, Japanese   \n",
      "2  North Indian, Chinese, Biryani, Hyderabadi   \n",
      "3                            Tibetan, Chinese   \n",
      "4                                    Desserts   \n",
      "\n",
      "                                     TIME     CITY        LOCALITY RATING  \\\n",
      "0  11am – 4pm, 7:30pm – 11:30pm (Mon-Sun)    Thane  Dombivali East    3.6   \n",
      "1                    6pm – 11pm (Mon-Sun)  Chennai       Ramapuram    4.2   \n",
      "2     11am – 3:30pm, 7pm – 11pm (Mon-Sun)  Chennai      Saligramam    3.8   \n",
      "3                 11:30am – 1am (Mon-Sun)   Mumbai     Bandra West    4.1   \n",
      "4                    11am – 1am (Mon-Sun)   Mumbai     Lower Parel    3.8   \n",
      "\n",
      "       VOTES  COST source  \n",
      "0   49 votes  1200  train  \n",
      "1   30 votes  1500  train  \n",
      "2  221 votes   800  train  \n",
      "3   24 votes   800  train  \n",
      "4  165 votes   300  train  \n"
     ]
    }
   ],
   "source": [
    "#printing the combine data\n",
    "print(combidata.head())"
   ]
  },
  {
   "cell_type": "code",
   "execution_count": 11,
   "metadata": {},
   "outputs": [
    {
     "name": "stdout",
     "output_type": "stream",
     "text": [
      "<class 'pandas.core.frame.DataFrame'>\n",
      "Int64Index: 16921 entries, 0 to 4230\n",
      "Data columns (total 10 columns):\n",
      " #   Column         Non-Null Count  Dtype \n",
      "---  ------         --------------  ----- \n",
      " 0   TITLE          16921 non-null  object\n",
      " 1   RESTAURANT_ID  16921 non-null  int64 \n",
      " 2   CUISINES       16921 non-null  object\n",
      " 3   TIME           16921 non-null  object\n",
      " 4   CITY           16774 non-null  object\n",
      " 5   LOCALITY       16793 non-null  object\n",
      " 6   RATING         16917 non-null  object\n",
      " 7   VOTES          15315 non-null  object\n",
      " 8   COST           16921 non-null  int64 \n",
      " 9   source         16921 non-null  object\n",
      "dtypes: int64(2), object(8)\n",
      "memory usage: 1.4+ MB\n",
      "None\n"
     ]
    }
   ],
   "source": [
    "#lets print the combine data information\n",
    "print(combidata.info())"
   ]
  },
  {
   "cell_type": "code",
   "execution_count": 15,
   "metadata": {},
   "outputs": [
    {
     "data": {
      "text/plain": [
       "26"
      ]
     },
     "execution_count": 15,
     "metadata": {},
     "output_type": "execute_result"
    }
   ],
   "source": [
    "#lets check is there any duplicate data present in the dataset\n",
    "combidata.duplicated().sum()"
   ]
  },
  {
   "cell_type": "code",
   "execution_count": 16,
   "metadata": {},
   "outputs": [
    {
     "name": "stdout",
     "output_type": "stream",
     "text": [
      "<class 'pandas.core.frame.DataFrame'>\n",
      "Int64Index: 16895 entries, 0 to 4230\n",
      "Data columns (total 10 columns):\n",
      " #   Column         Non-Null Count  Dtype \n",
      "---  ------         --------------  ----- \n",
      " 0   TITLE          16895 non-null  object\n",
      " 1   RESTAURANT_ID  16895 non-null  int64 \n",
      " 2   CUISINES       16895 non-null  object\n",
      " 3   TIME           16895 non-null  object\n",
      " 4   CITY           16748 non-null  object\n",
      " 5   LOCALITY       16767 non-null  object\n",
      " 6   RATING         16891 non-null  object\n",
      " 7   VOTES          15293 non-null  object\n",
      " 8   COST           16895 non-null  int64 \n",
      " 9   source         16895 non-null  object\n",
      "dtypes: int64(2), object(8)\n",
      "memory usage: 1.4+ MB\n"
     ]
    }
   ],
   "source": [
    "#so there are 26 duplicate data present in the dataset, so lets drop them first\n",
    "combidata= combidata.drop_duplicates()\n",
    "combidata.info()"
   ]
  },
  {
   "cell_type": "code",
   "execution_count": 18,
   "metadata": {},
   "outputs": [
    {
     "name": "stdout",
     "output_type": "stream",
     "text": [
      "Column Name: TITLE\n",
      "QUICK BITES                  5627\n",
      "CASUAL DINING                4902\n",
      "None                         1284\n",
      "CAFÉ                          829\n",
      "DESSERT PARLOR                507\n",
      "                             ... \n",
      "IRANI CAFE,BAKERY               1\n",
      "CONFECTIONERY,QUICK BITES       1\n",
      "CAFÉ,FINE DINING                1\n",
      "BAKERY,CONFECTIONERY            1\n",
      "QUICK BITES,BAR                 1\n",
      "Name: TITLE, Length: 123, dtype: int64\n",
      "\n",
      "\n",
      "Column Name: RESTAURANT_ID\n",
      "4634     8\n",
      "7264     8\n",
      "1619     7\n",
      "8032     7\n",
      "4058     7\n",
      "        ..\n",
      "986      1\n",
      "7129     1\n",
      "11215    1\n",
      "9166     1\n",
      "0        1\n",
      "Name: RESTAURANT_ID, Length: 15574, dtype: int64\n",
      "\n",
      "\n",
      "Column Name: CUISINES\n",
      "North Indian                                                            714\n",
      "North Indian, Chinese                                                   713\n",
      "South Indian                                                            706\n",
      "Fast Food                                                               364\n",
      "Chinese                                                                 226\n",
      "                                                                       ... \n",
      "Bar Food, Fast Food, European, Chinese, North Indian                      1\n",
      "Bengali, North Indian, Chinese, Seafood                                   1\n",
      "North Indian, Fast Food, BBQ                                              1\n",
      "Mexican, Italian, Burger, Salad, Healthy Food, Sandwich, Continental      1\n",
      "American, Italian, Mexican, Continental                                   1\n",
      "Name: CUISINES, Length: 5183, dtype: int64\n",
      "\n",
      "\n",
      "Column Name: TIME\n",
      "11am – 11pm (Mon-Sun)                              1861\n",
      "12noon – 12midnight (Mon-Sun)                       614\n",
      "12noon – 11pm (Mon-Sun)                             539\n",
      "11am – 12midnight (Mon-Sun)                         418\n",
      "10am – 10pm (Mon-Sun)                               288\n",
      "                                                   ... \n",
      "12:30pm – 3pm, 7pm – 11:30pm (Mon, Tue, Fri...        1\n",
      "12:30pm – 12:30AM (Mon-Thu),12noon – 12:30AM...       1\n",
      "12noon – 11pm (Mon-Thu),12noon – 12:30AM...           1\n",
      "Closed (Mon-Thu),12midnight – 2:15am (Fri-Sun)        1\n",
      "10am – 11pm (Mon-Sat),Closed (Sun)                    1\n",
      "Name: TIME, Length: 3295, dtype: int64\n",
      "\n",
      "\n",
      "Column Name: CITY\n",
      "Chennai                           2854\n",
      "Bangalore                         2831\n",
      "Hyderabad                         2458\n",
      "Mumbai                            2301\n",
      "Kochi                             1750\n",
      "                                  ... \n",
      "Near Santosh Banjara Hyderabad       1\n",
      "Outer Ring Road                      1\n",
      "Noida Extention                      1\n",
      "Tambaram                             1\n",
      "BTM Layout                           1\n",
      "Name: CITY, Length: 450, dtype: int64\n",
      "\n",
      "\n",
      "Column Name: LOCALITY\n",
      "Gachibowli                          216\n",
      "Indiranagar                         186\n",
      "Kakkanad                            175\n",
      "Kukatpally                          171\n",
      "Madhapur                            169\n",
      "                                   ... \n",
      "Near Udayapura Post Office            1\n",
      "Tambaram Senatorium                   1\n",
      "Near Center State Mall Sector 18      1\n",
      "Gurugram                              1\n",
      "Main Market Chhatarpur                1\n",
      "Name: LOCALITY, Length: 1636, dtype: int64\n",
      "\n",
      "\n",
      "Column Name: RATING\n",
      "3.9    1638\n",
      "3.8    1601\n",
      "4.0    1493\n",
      "3.7    1437\n",
      "3.6    1261\n",
      "4.1    1214\n",
      "3.5     985\n",
      "4.2     967\n",
      "NEW     927\n",
      "3.4     776\n",
      "4.3     740\n",
      "-       671\n",
      "3.3     485\n",
      "4.4     484\n",
      "3.2     349\n",
      "4.5     274\n",
      "3.1     263\n",
      "2.9     242\n",
      "3.0     229\n",
      "2.8     191\n",
      "4.6     184\n",
      "2.7     129\n",
      "4.7      89\n",
      "2.6      85\n",
      "2.5      51\n",
      "4.8      49\n",
      "4.9      28\n",
      "2.4      24\n",
      "2.3      15\n",
      "2.1       4\n",
      "2.2       4\n",
      "2.0       2\n",
      "Name: RATING, dtype: int64\n",
      "\n",
      "\n",
      "Column Name: VOTES\n",
      "44 votes      92\n",
      "22 votes      88\n",
      "6 votes       87\n",
      "29 votes      83\n",
      "24 votes      81\n",
      "              ..\n",
      "3216 votes     1\n",
      "4920 votes     1\n",
      "2632 votes     1\n",
      "1554 votes     1\n",
      "975 votes      1\n",
      "Name: VOTES, Length: 2075, dtype: int64\n",
      "\n",
      "\n",
      "Column Name: COST\n",
      "0        4230\n",
      "300      1593\n",
      "400      1356\n",
      "500      1297\n",
      "200      1029\n",
      "         ... \n",
      "8000        1\n",
      "4050        1\n",
      "20          1\n",
      "10000       1\n",
      "1950        1\n",
      "Name: COST, Length: 87, dtype: int64\n",
      "\n",
      "\n",
      "Column Name: source\n",
      "train    12665\n",
      "test      4230\n",
      "Name: source, dtype: int64\n",
      "\n",
      "\n"
     ]
    }
   ],
   "source": [
    "#lets see what are the types of data are present in each attribute which will help us to analyze.\n",
    "for columns in combidata:\n",
    "    print(\"Column Name:\",columns)\n",
    "    #print(np.unique(combidata[columns], return_counts=True))\n",
    "    print(combidata[columns].value_counts())\n",
    "    print(\"\\n\")"
   ]
  },
  {
   "cell_type": "code",
   "execution_count": 19,
   "metadata": {},
   "outputs": [
    {
     "data": {
      "text/plain": [
       "TITLE               0\n",
       "RESTAURANT_ID       0\n",
       "CUISINES            0\n",
       "TIME                0\n",
       "CITY              147\n",
       "LOCALITY          128\n",
       "RATING              4\n",
       "VOTES            1602\n",
       "COST                0\n",
       "source              0\n",
       "dtype: int64"
      ]
     },
     "execution_count": 19,
     "metadata": {},
     "output_type": "execute_result"
    }
   ],
   "source": [
    "#lets see how many data are not available for attribute\n",
    "combidata.isna().sum()"
   ]
  },
  {
   "cell_type": "code",
   "execution_count": 21,
   "metadata": {},
   "outputs": [
    {
     "name": "stdout",
     "output_type": "stream",
     "text": [
      "0\n"
     ]
    }
   ],
   "source": [
    "#lets first see for CITY  attribute as there are 147 null values\n",
    "# as we don't know about city name, so we will put those values \"Missing\"\n",
    "combidata['CITY'].fillna('Missing', inplace=True)\n",
    "print(combidata['CITY'].isna().sum())"
   ]
  },
  {
   "cell_type": "code",
   "execution_count": 22,
   "metadata": {},
   "outputs": [
    {
     "name": "stdout",
     "output_type": "stream",
     "text": [
      "0\n"
     ]
    }
   ],
   "source": [
    "#lets see for LOCALITY  attribute as there are 128 null values\n",
    "# as we don't know about locality name, so we will put those values \"Missing\"\n",
    "combidata['LOCALITY'].fillna('Missing', inplace=True)\n",
    "print(combidata['LOCALITY'].isna().sum())"
   ]
  },
  {
   "cell_type": "code",
   "execution_count": 25,
   "metadata": {},
   "outputs": [
    {
     "name": "stdout",
     "output_type": "stream",
     "text": [
      "3.9    1638\n",
      "3.8    1601\n",
      "1.0    1598\n",
      "4.0    1493\n",
      "3.7    1437\n",
      "3.6    1261\n",
      "4.1    1214\n",
      "3.5     985\n",
      "4.2     967\n",
      "3.4     776\n",
      "4.3     740\n",
      "3.3     485\n",
      "4.4     484\n",
      "3.2     349\n",
      "4.5     274\n",
      "3.1     263\n",
      "2.9     242\n",
      "3.0     229\n",
      "2.8     191\n",
      "4.6     184\n",
      "2.7     129\n",
      "4.7      89\n",
      "2.6      85\n",
      "2.5      51\n",
      "4.8      49\n",
      "4.9      28\n",
      "2.4      24\n",
      "2.3      15\n",
      "2.1       4\n",
      "2.2       4\n",
      "2.0       2\n",
      "Name: RATING, dtype: int64\n"
     ]
    }
   ],
   "source": [
    "#here Rating attribute has some missing data and also with 'NEW' data and with \"-\"\n",
    "#so lets put the rating 1.0 for both \"NEW\" and \"-\"\n",
    "combidata['RATING'] = combidata['RATING'].str.replace('NEW', '1.0')\n",
    "combidata['RATING'] = combidata['RATING'].str.replace('-', '1.0')\n",
    "print(combidata['RATING'].value_counts())"
   ]
  },
  {
   "cell_type": "code",
   "execution_count": 37,
   "metadata": {},
   "outputs": [
    {
     "name": "stdout",
     "output_type": "stream",
     "text": [
      "count    16891.000000\n",
      "mean         3.520881\n",
      "std          0.909766\n",
      "min          1.000000\n",
      "25%          3.400000\n",
      "50%          3.800000\n",
      "75%          4.000000\n",
      "max          4.900000\n",
      "Name: RATING, dtype: float64\n"
     ]
    }
   ],
   "source": [
    "#so for model building lets convert this RATING to float datatype\n",
    "combidata['RATING'] = combidata['RATING'].astype(float)\n",
    "print(combidata['RATING'].describe())"
   ]
  },
  {
   "cell_type": "code",
   "execution_count": 38,
   "metadata": {},
   "outputs": [
    {
     "name": "stdout",
     "output_type": "stream",
     "text": [
      "count    16895.000000\n",
      "mean         3.520698\n",
      "std          0.909760\n",
      "min          1.000000\n",
      "25%          3.400000\n",
      "50%          3.800000\n",
      "75%          4.000000\n",
      "max          4.900000\n",
      "Name: RATING, dtype: float64\n",
      "0\n"
     ]
    }
   ],
   "source": [
    "# as we don't know about missing RATING so we will fill these missing value with the average value wrt std dev.\n",
    "for dataset in combidata:\n",
    "    mean = combidata['RATING'].mean()\n",
    "    std = combidata['RATING'].std()\n",
    "    is_null = combidata['RATING'].isnull().sum()\n",
    "    # calculate random numbers between the mean, std and is_null\n",
    "    missval = np.random.randint(mean - std, mean + std, size = is_null)\n",
    "    # filling these random values in VOTES column\n",
    "    fillval = combidata[\"RATING\"].copy()\n",
    "    fillval[np.isnan(fillval)] = missval\n",
    "    combidata[\"RATING\"] = fillval\n",
    "    combidata[\"RATING\"] = combidata[\"RATING\"].astype(float)\n",
    "\n",
    "#again check for VOTES attribute after missing value replacement\n",
    "print(combidata['RATING'].describe())\n",
    "\n",
    "print(combidata['RATING'].isna().sum())"
   ]
  },
  {
   "cell_type": "code",
   "execution_count": 31,
   "metadata": {},
   "outputs": [
    {
     "name": "stdout",
     "output_type": "stream",
     "text": [
      "1602\n",
      "count    15293.000000\n",
      "mean       419.134506\n",
      "std        840.378264\n",
      "min          3.000000\n",
      "25%         57.000000\n",
      "50%        164.000000\n",
      "75%        462.000000\n",
      "max      41186.000000\n",
      "Name: VOTES, dtype: float64\n"
     ]
    }
   ],
   "source": [
    "#lets see for VOTE  attribute as there are 1602 null values\n",
    "#first we will separate the \" votes\" word from VOTE attribute, which will help us for analysis\n",
    "combidata['VOTES'] = combidata['VOTES'].str.replace(' votes', '')\n",
    "print(combidata['VOTES'].isna().sum())\n",
    "\n",
    "#so for model building lets convert this RATING to float datatype\n",
    "combidata['VOTES'] = combidata['VOTES'].astype(float)\n",
    "\n",
    "print(combidata['VOTES'].describe())"
   ]
  },
  {
   "cell_type": "code",
   "execution_count": 33,
   "metadata": {},
   "outputs": [
    {
     "name": "stdout",
     "output_type": "stream",
     "text": [
      "count    16895.000000\n",
      "mean       417.975851\n",
      "std        813.790570\n",
      "min       -421.000000\n",
      "25%         56.000000\n",
      "50%        174.000000\n",
      "75%        503.000000\n",
      "max      41186.000000\n",
      "Name: VOTES, dtype: float64\n",
      "0\n"
     ]
    }
   ],
   "source": [
    "# as we don't know about missing VOTES so we will fill these missing value with the average value wrt std dev.\n",
    "for dataset in combidata:\n",
    "    mean = combidata['VOTES'].mean()\n",
    "    std = combidata['VOTES'].std()\n",
    "    is_null = combidata['VOTES'].isnull().sum()\n",
    "    # calculate random numbers between the mean, std and is_null\n",
    "    missval = np.random.randint(mean - std, mean + std, size = is_null)\n",
    "    # filling these random values in VOTES column\n",
    "    fillval = combidata[\"VOTES\"].copy()\n",
    "    fillval[np.isnan(fillval)] = missval\n",
    "    combidata[\"VOTES\"] = fillval\n",
    "    combidata[\"VOTES\"] = combidata[\"VOTES\"].astype(float)\n",
    "\n",
    "#again check for VOTES attribute after missing value replacement\n",
    "print(combidata['VOTES'].describe())\n",
    "\n",
    "print(combidata['VOTES'].isna().sum())"
   ]
  },
  {
   "cell_type": "code",
   "execution_count": 42,
   "metadata": {},
   "outputs": [
    {
     "name": "stdout",
     "output_type": "stream",
     "text": [
      "TITLE            0\n",
      "RESTAURANT_ID    0\n",
      "CUISINES         0\n",
      "TIME             0\n",
      "CITY             0\n",
      "LOCALITY         0\n",
      "RATING           0\n",
      "VOTES            0\n",
      "COST             0\n",
      "source           0\n",
      "dtype: int64\n",
      "<class 'pandas.core.frame.DataFrame'>\n",
      "Int64Index: 16895 entries, 0 to 4230\n",
      "Data columns (total 10 columns):\n",
      " #   Column         Non-Null Count  Dtype  \n",
      "---  ------         --------------  -----  \n",
      " 0   TITLE          16895 non-null  object \n",
      " 1   RESTAURANT_ID  16895 non-null  int64  \n",
      " 2   CUISINES       16895 non-null  object \n",
      " 3   TIME           16895 non-null  object \n",
      " 4   CITY           16895 non-null  object \n",
      " 5   LOCALITY       16895 non-null  object \n",
      " 6   RATING         16895 non-null  float64\n",
      " 7   VOTES          16895 non-null  float64\n",
      " 8   COST           16895 non-null  int64  \n",
      " 9   source         16895 non-null  object \n",
      "dtypes: float64(2), int64(2), object(6)\n",
      "memory usage: 1.4+ MB\n",
      "None\n"
     ]
    }
   ],
   "source": [
    "#lets again see is there any missing data after treating all the missing values and thier information\n",
    "print(combidata.isna().sum())\n",
    "print(combidata.info())"
   ]
  },
  {
   "cell_type": "code",
   "execution_count": 43,
   "metadata": {},
   "outputs": [
    {
     "data": {
      "text/html": [
       "<div>\n",
       "<style scoped>\n",
       "    .dataframe tbody tr th:only-of-type {\n",
       "        vertical-align: middle;\n",
       "    }\n",
       "\n",
       "    .dataframe tbody tr th {\n",
       "        vertical-align: top;\n",
       "    }\n",
       "\n",
       "    .dataframe thead th {\n",
       "        text-align: right;\n",
       "    }\n",
       "</style>\n",
       "<table border=\"1\" class=\"dataframe\">\n",
       "  <thead>\n",
       "    <tr style=\"text-align: right;\">\n",
       "      <th></th>\n",
       "      <th>TITLE</th>\n",
       "      <th>RESTAURANT_ID</th>\n",
       "      <th>CUISINES</th>\n",
       "      <th>TIME</th>\n",
       "      <th>CITY</th>\n",
       "      <th>LOCALITY</th>\n",
       "      <th>RATING</th>\n",
       "      <th>VOTES</th>\n",
       "      <th>COST</th>\n",
       "      <th>source</th>\n",
       "    </tr>\n",
       "  </thead>\n",
       "  <tbody>\n",
       "    <tr>\n",
       "      <th>0</th>\n",
       "      <td>CASUAL DINING</td>\n",
       "      <td>9438</td>\n",
       "      <td>Malwani, Goan, North Indian</td>\n",
       "      <td>11am – 4pm, 7:30pm – 11:30pm (Mon-Sun)</td>\n",
       "      <td>Thane</td>\n",
       "      <td>Dombivali East</td>\n",
       "      <td>3.6</td>\n",
       "      <td>49.0</td>\n",
       "      <td>1200</td>\n",
       "      <td>train</td>\n",
       "    </tr>\n",
       "    <tr>\n",
       "      <th>1</th>\n",
       "      <td>CASUAL DINING,BAR</td>\n",
       "      <td>13198</td>\n",
       "      <td>Asian, Modern Indian, Japanese</td>\n",
       "      <td>6pm – 11pm (Mon-Sun)</td>\n",
       "      <td>Chennai</td>\n",
       "      <td>Ramapuram</td>\n",
       "      <td>4.2</td>\n",
       "      <td>30.0</td>\n",
       "      <td>1500</td>\n",
       "      <td>train</td>\n",
       "    </tr>\n",
       "    <tr>\n",
       "      <th>2</th>\n",
       "      <td>CASUAL DINING</td>\n",
       "      <td>10915</td>\n",
       "      <td>North Indian, Chinese, Biryani, Hyderabadi</td>\n",
       "      <td>11am – 3:30pm, 7pm – 11pm (Mon-Sun)</td>\n",
       "      <td>Chennai</td>\n",
       "      <td>Saligramam</td>\n",
       "      <td>3.8</td>\n",
       "      <td>221.0</td>\n",
       "      <td>800</td>\n",
       "      <td>train</td>\n",
       "    </tr>\n",
       "    <tr>\n",
       "      <th>3</th>\n",
       "      <td>QUICK BITES</td>\n",
       "      <td>6346</td>\n",
       "      <td>Tibetan, Chinese</td>\n",
       "      <td>11:30am – 1am (Mon-Sun)</td>\n",
       "      <td>Mumbai</td>\n",
       "      <td>Bandra West</td>\n",
       "      <td>4.1</td>\n",
       "      <td>24.0</td>\n",
       "      <td>800</td>\n",
       "      <td>train</td>\n",
       "    </tr>\n",
       "    <tr>\n",
       "      <th>4</th>\n",
       "      <td>DESSERT PARLOR</td>\n",
       "      <td>15387</td>\n",
       "      <td>Desserts</td>\n",
       "      <td>11am – 1am (Mon-Sun)</td>\n",
       "      <td>Mumbai</td>\n",
       "      <td>Lower Parel</td>\n",
       "      <td>3.8</td>\n",
       "      <td>165.0</td>\n",
       "      <td>300</td>\n",
       "      <td>train</td>\n",
       "    </tr>\n",
       "  </tbody>\n",
       "</table>\n",
       "</div>"
      ],
      "text/plain": [
       "               TITLE  RESTAURANT_ID  \\\n",
       "0      CASUAL DINING           9438   \n",
       "1  CASUAL DINING,BAR          13198   \n",
       "2      CASUAL DINING          10915   \n",
       "3        QUICK BITES           6346   \n",
       "4     DESSERT PARLOR          15387   \n",
       "\n",
       "                                     CUISINES  \\\n",
       "0                 Malwani, Goan, North Indian   \n",
       "1              Asian, Modern Indian, Japanese   \n",
       "2  North Indian, Chinese, Biryani, Hyderabadi   \n",
       "3                            Tibetan, Chinese   \n",
       "4                                    Desserts   \n",
       "\n",
       "                                     TIME     CITY        LOCALITY  RATING  \\\n",
       "0  11am – 4pm, 7:30pm – 11:30pm (Mon-Sun)    Thane  Dombivali East     3.6   \n",
       "1                    6pm – 11pm (Mon-Sun)  Chennai       Ramapuram     4.2   \n",
       "2     11am – 3:30pm, 7pm – 11pm (Mon-Sun)  Chennai      Saligramam     3.8   \n",
       "3                 11:30am – 1am (Mon-Sun)   Mumbai     Bandra West     4.1   \n",
       "4                    11am – 1am (Mon-Sun)   Mumbai     Lower Parel     3.8   \n",
       "\n",
       "   VOTES  COST source  \n",
       "0   49.0  1200  train  \n",
       "1   30.0  1500  train  \n",
       "2  221.0   800  train  \n",
       "3   24.0   800  train  \n",
       "4  165.0   300  train  "
      ]
     },
     "execution_count": 43,
     "metadata": {},
     "output_type": "execute_result"
    }
   ],
   "source": [
    "#lets see tha data\n",
    "combidata.head()"
   ]
  },
  {
   "cell_type": "code",
   "execution_count": 45,
   "metadata": {},
   "outputs": [],
   "source": [
    "#lets analysis the TIME attribute, so here we will find the closed time of resturants\n",
    "import re\n",
    "def extract_closed(time):\n",
    "    a = re.findall('Closed \\(.*?\\)', time)\n",
    "    if a != []:\n",
    "        return a[0]\n",
    "    else:\n",
    "        return 'NA'\n",
    "\n",
    "combidata['CLOSED'] = combidata['TIME'].apply(extract_closed)"
   ]
  },
  {
   "cell_type": "code",
   "execution_count": 52,
   "metadata": {},
   "outputs": [],
   "source": [
    "combidata['TIME'] = combidata['TIME'].str.replace(r'Closed \\(.*?\\)','')"
   ]
  },
  {
   "cell_type": "code",
   "execution_count": 57,
   "metadata": {},
   "outputs": [
    {
     "name": "stdout",
     "output_type": "stream",
     "text": [
      "count                     16895\n",
      "unique                     3295\n",
      "top       11am – 11pm (Mon-Sun)\n",
      "freq                       1861\n",
      "Name: TIME, dtype: object\n",
      "11am – 11pm (Mon-Sun)                               1861\n",
      "12noon – 12midnight (Mon-Sun)                        614\n",
      "12noon – 11pm (Mon-Sun)                              539\n",
      "11am – 12midnight (Mon-Sun)                          418\n",
      "10am – 10pm (Mon-Sun)                                288\n",
      "                                                    ... \n",
      "12noon – 9:30pm (Mon),11am – 9:30pm (Tue-Sun)          1\n",
      "11:30am – 4:30pm (Mon-Sun)                             1\n",
      "11am – 11:29am (Mon),11am – 12midnight (Tue-Sun)       1\n",
      "12noon – 4pm, 6:30pm – 10pm (Mon-Sat),                 1\n",
      "11am – 11pm (Mon-Thu),11am – 11:55pm (Fri-Sun)         1\n",
      "Name: TIME, Length: 3295, dtype: int64\n",
      "0    11am – 4pm, 7:30pm – 11:30pm (Mon-Sun)\n",
      "1                      6pm – 11pm (Mon-Sun)\n",
      "2       11am – 3:30pm, 7pm – 11pm (Mon-Sun)\n",
      "3                   11:30am – 1am (Mon-Sun)\n",
      "4                      11am – 1am (Mon-Sun)\n",
      "Name: TIME, dtype: object\n"
     ]
    }
   ],
   "source": [
    "print(combidata['TIME'].describe())\n",
    "print(combidata['TIME'].value_counts())\n",
    "print(combidata['TIME'].head())"
   ]
  },
  {
   "cell_type": "code",
   "execution_count": 61,
   "metadata": {},
   "outputs": [],
   "source": [
    "#so lets drop the TIME attribute\n",
    "combidata=combidata.drop(columns=['TIME'])"
   ]
  },
  {
   "cell_type": "code",
   "execution_count": 62,
   "metadata": {
    "scrolled": true
   },
   "outputs": [
    {
     "data": {
      "text/html": [
       "<div>\n",
       "<style scoped>\n",
       "    .dataframe tbody tr th:only-of-type {\n",
       "        vertical-align: middle;\n",
       "    }\n",
       "\n",
       "    .dataframe tbody tr th {\n",
       "        vertical-align: top;\n",
       "    }\n",
       "\n",
       "    .dataframe thead th {\n",
       "        text-align: right;\n",
       "    }\n",
       "</style>\n",
       "<table border=\"1\" class=\"dataframe\">\n",
       "  <thead>\n",
       "    <tr style=\"text-align: right;\">\n",
       "      <th></th>\n",
       "      <th>TITLE</th>\n",
       "      <th>RESTAURANT_ID</th>\n",
       "      <th>CUISINES</th>\n",
       "      <th>CITY</th>\n",
       "      <th>LOCALITY</th>\n",
       "      <th>RATING</th>\n",
       "      <th>VOTES</th>\n",
       "      <th>COST</th>\n",
       "      <th>source</th>\n",
       "      <th>CLOSED</th>\n",
       "    </tr>\n",
       "  </thead>\n",
       "  <tbody>\n",
       "    <tr>\n",
       "      <th>0</th>\n",
       "      <td>CASUAL DINING</td>\n",
       "      <td>9438</td>\n",
       "      <td>Malwani, Goan, North Indian</td>\n",
       "      <td>Thane</td>\n",
       "      <td>Dombivali East</td>\n",
       "      <td>3.6</td>\n",
       "      <td>49.0</td>\n",
       "      <td>1200</td>\n",
       "      <td>train</td>\n",
       "      <td>NA</td>\n",
       "    </tr>\n",
       "    <tr>\n",
       "      <th>1</th>\n",
       "      <td>CASUAL DINING,BAR</td>\n",
       "      <td>13198</td>\n",
       "      <td>Asian, Modern Indian, Japanese</td>\n",
       "      <td>Chennai</td>\n",
       "      <td>Ramapuram</td>\n",
       "      <td>4.2</td>\n",
       "      <td>30.0</td>\n",
       "      <td>1500</td>\n",
       "      <td>train</td>\n",
       "      <td>NA</td>\n",
       "    </tr>\n",
       "    <tr>\n",
       "      <th>2</th>\n",
       "      <td>CASUAL DINING</td>\n",
       "      <td>10915</td>\n",
       "      <td>North Indian, Chinese, Biryani, Hyderabadi</td>\n",
       "      <td>Chennai</td>\n",
       "      <td>Saligramam</td>\n",
       "      <td>3.8</td>\n",
       "      <td>221.0</td>\n",
       "      <td>800</td>\n",
       "      <td>train</td>\n",
       "      <td>NA</td>\n",
       "    </tr>\n",
       "    <tr>\n",
       "      <th>3</th>\n",
       "      <td>QUICK BITES</td>\n",
       "      <td>6346</td>\n",
       "      <td>Tibetan, Chinese</td>\n",
       "      <td>Mumbai</td>\n",
       "      <td>Bandra West</td>\n",
       "      <td>4.1</td>\n",
       "      <td>24.0</td>\n",
       "      <td>800</td>\n",
       "      <td>train</td>\n",
       "      <td>NA</td>\n",
       "    </tr>\n",
       "    <tr>\n",
       "      <th>4</th>\n",
       "      <td>DESSERT PARLOR</td>\n",
       "      <td>15387</td>\n",
       "      <td>Desserts</td>\n",
       "      <td>Mumbai</td>\n",
       "      <td>Lower Parel</td>\n",
       "      <td>3.8</td>\n",
       "      <td>165.0</td>\n",
       "      <td>300</td>\n",
       "      <td>train</td>\n",
       "      <td>NA</td>\n",
       "    </tr>\n",
       "  </tbody>\n",
       "</table>\n",
       "</div>"
      ],
      "text/plain": [
       "               TITLE  RESTAURANT_ID  \\\n",
       "0      CASUAL DINING           9438   \n",
       "1  CASUAL DINING,BAR          13198   \n",
       "2      CASUAL DINING          10915   \n",
       "3        QUICK BITES           6346   \n",
       "4     DESSERT PARLOR          15387   \n",
       "\n",
       "                                     CUISINES     CITY        LOCALITY  \\\n",
       "0                 Malwani, Goan, North Indian    Thane  Dombivali East   \n",
       "1              Asian, Modern Indian, Japanese  Chennai       Ramapuram   \n",
       "2  North Indian, Chinese, Biryani, Hyderabadi  Chennai      Saligramam   \n",
       "3                            Tibetan, Chinese   Mumbai     Bandra West   \n",
       "4                                    Desserts   Mumbai     Lower Parel   \n",
       "\n",
       "   RATING  VOTES  COST source CLOSED  \n",
       "0     3.6   49.0  1200  train     NA  \n",
       "1     4.2   30.0  1500  train     NA  \n",
       "2     3.8  221.0   800  train     NA  \n",
       "3     4.1   24.0   800  train     NA  \n",
       "4     3.8  165.0   300  train     NA  "
      ]
     },
     "execution_count": 62,
     "metadata": {},
     "output_type": "execute_result"
    }
   ],
   "source": [
    "#lets see the data\n",
    "combidata.head()"
   ]
  },
  {
   "cell_type": "code",
   "execution_count": 63,
   "metadata": {},
   "outputs": [],
   "source": [
    "#lets combine both CITY and LOCALITY for better analysis and the new attribute name is \"LOCATION\"\n",
    "\n",
    "combidata['LOCATION']=combidata['CITY']+' '+combidata['LOCALITY']\n",
    "\n",
    "#dropping the CITY and LOCALITY attribute from dataset\n",
    "combidata=combidata.drop(columns=['CITY','LOCALITY'])"
   ]
  },
  {
   "cell_type": "code",
   "execution_count": 64,
   "metadata": {},
   "outputs": [
    {
     "data": {
      "text/html": [
       "<div>\n",
       "<style scoped>\n",
       "    .dataframe tbody tr th:only-of-type {\n",
       "        vertical-align: middle;\n",
       "    }\n",
       "\n",
       "    .dataframe tbody tr th {\n",
       "        vertical-align: top;\n",
       "    }\n",
       "\n",
       "    .dataframe thead th {\n",
       "        text-align: right;\n",
       "    }\n",
       "</style>\n",
       "<table border=\"1\" class=\"dataframe\">\n",
       "  <thead>\n",
       "    <tr style=\"text-align: right;\">\n",
       "      <th></th>\n",
       "      <th>TITLE</th>\n",
       "      <th>RESTAURANT_ID</th>\n",
       "      <th>CUISINES</th>\n",
       "      <th>RATING</th>\n",
       "      <th>VOTES</th>\n",
       "      <th>COST</th>\n",
       "      <th>source</th>\n",
       "      <th>CLOSED</th>\n",
       "      <th>LOCATION</th>\n",
       "    </tr>\n",
       "  </thead>\n",
       "  <tbody>\n",
       "    <tr>\n",
       "      <th>0</th>\n",
       "      <td>CASUAL DINING</td>\n",
       "      <td>9438</td>\n",
       "      <td>Malwani, Goan, North Indian</td>\n",
       "      <td>3.6</td>\n",
       "      <td>49.0</td>\n",
       "      <td>1200</td>\n",
       "      <td>train</td>\n",
       "      <td>NA</td>\n",
       "      <td>Thane Dombivali East</td>\n",
       "    </tr>\n",
       "    <tr>\n",
       "      <th>1</th>\n",
       "      <td>CASUAL DINING,BAR</td>\n",
       "      <td>13198</td>\n",
       "      <td>Asian, Modern Indian, Japanese</td>\n",
       "      <td>4.2</td>\n",
       "      <td>30.0</td>\n",
       "      <td>1500</td>\n",
       "      <td>train</td>\n",
       "      <td>NA</td>\n",
       "      <td>Chennai Ramapuram</td>\n",
       "    </tr>\n",
       "    <tr>\n",
       "      <th>2</th>\n",
       "      <td>CASUAL DINING</td>\n",
       "      <td>10915</td>\n",
       "      <td>North Indian, Chinese, Biryani, Hyderabadi</td>\n",
       "      <td>3.8</td>\n",
       "      <td>221.0</td>\n",
       "      <td>800</td>\n",
       "      <td>train</td>\n",
       "      <td>NA</td>\n",
       "      <td>Chennai Saligramam</td>\n",
       "    </tr>\n",
       "    <tr>\n",
       "      <th>3</th>\n",
       "      <td>QUICK BITES</td>\n",
       "      <td>6346</td>\n",
       "      <td>Tibetan, Chinese</td>\n",
       "      <td>4.1</td>\n",
       "      <td>24.0</td>\n",
       "      <td>800</td>\n",
       "      <td>train</td>\n",
       "      <td>NA</td>\n",
       "      <td>Mumbai Bandra West</td>\n",
       "    </tr>\n",
       "    <tr>\n",
       "      <th>4</th>\n",
       "      <td>DESSERT PARLOR</td>\n",
       "      <td>15387</td>\n",
       "      <td>Desserts</td>\n",
       "      <td>3.8</td>\n",
       "      <td>165.0</td>\n",
       "      <td>300</td>\n",
       "      <td>train</td>\n",
       "      <td>NA</td>\n",
       "      <td>Mumbai Lower Parel</td>\n",
       "    </tr>\n",
       "  </tbody>\n",
       "</table>\n",
       "</div>"
      ],
      "text/plain": [
       "               TITLE  RESTAURANT_ID  \\\n",
       "0      CASUAL DINING           9438   \n",
       "1  CASUAL DINING,BAR          13198   \n",
       "2      CASUAL DINING          10915   \n",
       "3        QUICK BITES           6346   \n",
       "4     DESSERT PARLOR          15387   \n",
       "\n",
       "                                     CUISINES  RATING  VOTES  COST source  \\\n",
       "0                 Malwani, Goan, North Indian     3.6   49.0  1200  train   \n",
       "1              Asian, Modern Indian, Japanese     4.2   30.0  1500  train   \n",
       "2  North Indian, Chinese, Biryani, Hyderabadi     3.8  221.0   800  train   \n",
       "3                            Tibetan, Chinese     4.1   24.0   800  train   \n",
       "4                                    Desserts     3.8  165.0   300  train   \n",
       "\n",
       "  CLOSED              LOCATION  \n",
       "0     NA  Thane Dombivali East  \n",
       "1     NA     Chennai Ramapuram  \n",
       "2     NA    Chennai Saligramam  \n",
       "3     NA    Mumbai Bandra West  \n",
       "4     NA    Mumbai Lower Parel  "
      ]
     },
     "execution_count": 64,
     "metadata": {},
     "output_type": "execute_result"
    }
   ],
   "source": [
    "#lets see the data\n",
    "combidata.head()"
   ]
  },
  {
   "cell_type": "code",
   "execution_count": 66,
   "metadata": {},
   "outputs": [
    {
     "ename": "KeyError",
     "evalue": "\"['RESTAURANT_ID'] not found in axis\"",
     "output_type": "error",
     "traceback": [
      "\u001b[1;31m---------------------------------------------------------------------------\u001b[0m",
      "\u001b[1;31mKeyError\u001b[0m                                  Traceback (most recent call last)",
      "\u001b[1;32m<ipython-input-66-238e63c0feaa>\u001b[0m in \u001b[0;36m<module>\u001b[1;34m\u001b[0m\n\u001b[0;32m      1\u001b[0m \u001b[1;31m#so here by looking the data we can drop RESTAURANT_ID attribute which is not require for our analysis\u001b[0m\u001b[1;33m\u001b[0m\u001b[1;33m\u001b[0m\u001b[1;33m\u001b[0m\u001b[0m\n\u001b[1;32m----> 2\u001b[1;33m \u001b[0mcombidata\u001b[0m\u001b[1;33m=\u001b[0m\u001b[0mcombidata\u001b[0m\u001b[1;33m.\u001b[0m\u001b[0mdrop\u001b[0m\u001b[1;33m(\u001b[0m\u001b[0mcolumns\u001b[0m\u001b[1;33m=\u001b[0m\u001b[1;33m[\u001b[0m\u001b[1;34m'RESTAURANT_ID'\u001b[0m\u001b[1;33m]\u001b[0m\u001b[1;33m)\u001b[0m\u001b[1;33m\u001b[0m\u001b[1;33m\u001b[0m\u001b[0m\n\u001b[0m\u001b[0;32m      3\u001b[0m \u001b[0mcombidata\u001b[0m\u001b[1;33m.\u001b[0m\u001b[0mhead\u001b[0m\u001b[1;33m(\u001b[0m\u001b[1;33m)\u001b[0m\u001b[1;33m\u001b[0m\u001b[1;33m\u001b[0m\u001b[0m\n",
      "\u001b[1;32m~\\anaconda3\\lib\\site-packages\\pandas\\core\\frame.py\u001b[0m in \u001b[0;36mdrop\u001b[1;34m(self, labels, axis, index, columns, level, inplace, errors)\u001b[0m\n\u001b[0;32m   3995\u001b[0m             \u001b[0mlevel\u001b[0m\u001b[1;33m=\u001b[0m\u001b[0mlevel\u001b[0m\u001b[1;33m,\u001b[0m\u001b[1;33m\u001b[0m\u001b[1;33m\u001b[0m\u001b[0m\n\u001b[0;32m   3996\u001b[0m             \u001b[0minplace\u001b[0m\u001b[1;33m=\u001b[0m\u001b[0minplace\u001b[0m\u001b[1;33m,\u001b[0m\u001b[1;33m\u001b[0m\u001b[1;33m\u001b[0m\u001b[0m\n\u001b[1;32m-> 3997\u001b[1;33m             \u001b[0merrors\u001b[0m\u001b[1;33m=\u001b[0m\u001b[0merrors\u001b[0m\u001b[1;33m,\u001b[0m\u001b[1;33m\u001b[0m\u001b[1;33m\u001b[0m\u001b[0m\n\u001b[0m\u001b[0;32m   3998\u001b[0m         )\n\u001b[0;32m   3999\u001b[0m \u001b[1;33m\u001b[0m\u001b[0m\n",
      "\u001b[1;32m~\\anaconda3\\lib\\site-packages\\pandas\\core\\generic.py\u001b[0m in \u001b[0;36mdrop\u001b[1;34m(self, labels, axis, index, columns, level, inplace, errors)\u001b[0m\n\u001b[0;32m   3934\u001b[0m         \u001b[1;32mfor\u001b[0m \u001b[0maxis\u001b[0m\u001b[1;33m,\u001b[0m \u001b[0mlabels\u001b[0m \u001b[1;32min\u001b[0m \u001b[0maxes\u001b[0m\u001b[1;33m.\u001b[0m\u001b[0mitems\u001b[0m\u001b[1;33m(\u001b[0m\u001b[1;33m)\u001b[0m\u001b[1;33m:\u001b[0m\u001b[1;33m\u001b[0m\u001b[1;33m\u001b[0m\u001b[0m\n\u001b[0;32m   3935\u001b[0m             \u001b[1;32mif\u001b[0m \u001b[0mlabels\u001b[0m \u001b[1;32mis\u001b[0m \u001b[1;32mnot\u001b[0m \u001b[1;32mNone\u001b[0m\u001b[1;33m:\u001b[0m\u001b[1;33m\u001b[0m\u001b[1;33m\u001b[0m\u001b[0m\n\u001b[1;32m-> 3936\u001b[1;33m                 \u001b[0mobj\u001b[0m \u001b[1;33m=\u001b[0m \u001b[0mobj\u001b[0m\u001b[1;33m.\u001b[0m\u001b[0m_drop_axis\u001b[0m\u001b[1;33m(\u001b[0m\u001b[0mlabels\u001b[0m\u001b[1;33m,\u001b[0m \u001b[0maxis\u001b[0m\u001b[1;33m,\u001b[0m \u001b[0mlevel\u001b[0m\u001b[1;33m=\u001b[0m\u001b[0mlevel\u001b[0m\u001b[1;33m,\u001b[0m \u001b[0merrors\u001b[0m\u001b[1;33m=\u001b[0m\u001b[0merrors\u001b[0m\u001b[1;33m)\u001b[0m\u001b[1;33m\u001b[0m\u001b[1;33m\u001b[0m\u001b[0m\n\u001b[0m\u001b[0;32m   3937\u001b[0m \u001b[1;33m\u001b[0m\u001b[0m\n\u001b[0;32m   3938\u001b[0m         \u001b[1;32mif\u001b[0m \u001b[0minplace\u001b[0m\u001b[1;33m:\u001b[0m\u001b[1;33m\u001b[0m\u001b[1;33m\u001b[0m\u001b[0m\n",
      "\u001b[1;32m~\\anaconda3\\lib\\site-packages\\pandas\\core\\generic.py\u001b[0m in \u001b[0;36m_drop_axis\u001b[1;34m(self, labels, axis, level, errors)\u001b[0m\n\u001b[0;32m   3968\u001b[0m                 \u001b[0mnew_axis\u001b[0m \u001b[1;33m=\u001b[0m \u001b[0maxis\u001b[0m\u001b[1;33m.\u001b[0m\u001b[0mdrop\u001b[0m\u001b[1;33m(\u001b[0m\u001b[0mlabels\u001b[0m\u001b[1;33m,\u001b[0m \u001b[0mlevel\u001b[0m\u001b[1;33m=\u001b[0m\u001b[0mlevel\u001b[0m\u001b[1;33m,\u001b[0m \u001b[0merrors\u001b[0m\u001b[1;33m=\u001b[0m\u001b[0merrors\u001b[0m\u001b[1;33m)\u001b[0m\u001b[1;33m\u001b[0m\u001b[1;33m\u001b[0m\u001b[0m\n\u001b[0;32m   3969\u001b[0m             \u001b[1;32melse\u001b[0m\u001b[1;33m:\u001b[0m\u001b[1;33m\u001b[0m\u001b[1;33m\u001b[0m\u001b[0m\n\u001b[1;32m-> 3970\u001b[1;33m                 \u001b[0mnew_axis\u001b[0m \u001b[1;33m=\u001b[0m \u001b[0maxis\u001b[0m\u001b[1;33m.\u001b[0m\u001b[0mdrop\u001b[0m\u001b[1;33m(\u001b[0m\u001b[0mlabels\u001b[0m\u001b[1;33m,\u001b[0m \u001b[0merrors\u001b[0m\u001b[1;33m=\u001b[0m\u001b[0merrors\u001b[0m\u001b[1;33m)\u001b[0m\u001b[1;33m\u001b[0m\u001b[1;33m\u001b[0m\u001b[0m\n\u001b[0m\u001b[0;32m   3971\u001b[0m             \u001b[0mresult\u001b[0m \u001b[1;33m=\u001b[0m \u001b[0mself\u001b[0m\u001b[1;33m.\u001b[0m\u001b[0mreindex\u001b[0m\u001b[1;33m(\u001b[0m\u001b[1;33m**\u001b[0m\u001b[1;33m{\u001b[0m\u001b[0maxis_name\u001b[0m\u001b[1;33m:\u001b[0m \u001b[0mnew_axis\u001b[0m\u001b[1;33m}\u001b[0m\u001b[1;33m)\u001b[0m\u001b[1;33m\u001b[0m\u001b[1;33m\u001b[0m\u001b[0m\n\u001b[0;32m   3972\u001b[0m \u001b[1;33m\u001b[0m\u001b[0m\n",
      "\u001b[1;32m~\\anaconda3\\lib\\site-packages\\pandas\\core\\indexes\\base.py\u001b[0m in \u001b[0;36mdrop\u001b[1;34m(self, labels, errors)\u001b[0m\n\u001b[0;32m   5016\u001b[0m         \u001b[1;32mif\u001b[0m \u001b[0mmask\u001b[0m\u001b[1;33m.\u001b[0m\u001b[0many\u001b[0m\u001b[1;33m(\u001b[0m\u001b[1;33m)\u001b[0m\u001b[1;33m:\u001b[0m\u001b[1;33m\u001b[0m\u001b[1;33m\u001b[0m\u001b[0m\n\u001b[0;32m   5017\u001b[0m             \u001b[1;32mif\u001b[0m \u001b[0merrors\u001b[0m \u001b[1;33m!=\u001b[0m \u001b[1;34m\"ignore\"\u001b[0m\u001b[1;33m:\u001b[0m\u001b[1;33m\u001b[0m\u001b[1;33m\u001b[0m\u001b[0m\n\u001b[1;32m-> 5018\u001b[1;33m                 \u001b[1;32mraise\u001b[0m \u001b[0mKeyError\u001b[0m\u001b[1;33m(\u001b[0m\u001b[1;34mf\"{labels[mask]} not found in axis\"\u001b[0m\u001b[1;33m)\u001b[0m\u001b[1;33m\u001b[0m\u001b[1;33m\u001b[0m\u001b[0m\n\u001b[0m\u001b[0;32m   5019\u001b[0m             \u001b[0mindexer\u001b[0m \u001b[1;33m=\u001b[0m \u001b[0mindexer\u001b[0m\u001b[1;33m[\u001b[0m\u001b[1;33m~\u001b[0m\u001b[0mmask\u001b[0m\u001b[1;33m]\u001b[0m\u001b[1;33m\u001b[0m\u001b[1;33m\u001b[0m\u001b[0m\n\u001b[0;32m   5020\u001b[0m         \u001b[1;32mreturn\u001b[0m \u001b[0mself\u001b[0m\u001b[1;33m.\u001b[0m\u001b[0mdelete\u001b[0m\u001b[1;33m(\u001b[0m\u001b[0mindexer\u001b[0m\u001b[1;33m)\u001b[0m\u001b[1;33m\u001b[0m\u001b[1;33m\u001b[0m\u001b[0m\n",
      "\u001b[1;31mKeyError\u001b[0m: \"['RESTAURANT_ID'] not found in axis\""
     ]
    }
   ],
   "source": [
    "#so here by looking the data we can drop RESTAURANT_ID attribute which is not require for our analysis\n",
    "combidata=combidata.drop(columns=['RESTAURANT_ID'])"
   ]
  },
  {
   "cell_type": "code",
   "execution_count": 67,
   "metadata": {},
   "outputs": [
    {
     "data": {
      "text/html": [
       "<div>\n",
       "<style scoped>\n",
       "    .dataframe tbody tr th:only-of-type {\n",
       "        vertical-align: middle;\n",
       "    }\n",
       "\n",
       "    .dataframe tbody tr th {\n",
       "        vertical-align: top;\n",
       "    }\n",
       "\n",
       "    .dataframe thead th {\n",
       "        text-align: right;\n",
       "    }\n",
       "</style>\n",
       "<table border=\"1\" class=\"dataframe\">\n",
       "  <thead>\n",
       "    <tr style=\"text-align: right;\">\n",
       "      <th></th>\n",
       "      <th>TITLE</th>\n",
       "      <th>CUISINES</th>\n",
       "      <th>RATING</th>\n",
       "      <th>VOTES</th>\n",
       "      <th>COST</th>\n",
       "      <th>source</th>\n",
       "      <th>CLOSED</th>\n",
       "      <th>LOCATION</th>\n",
       "    </tr>\n",
       "  </thead>\n",
       "  <tbody>\n",
       "    <tr>\n",
       "      <th>0</th>\n",
       "      <td>CASUAL DINING</td>\n",
       "      <td>Malwani, Goan, North Indian</td>\n",
       "      <td>3.6</td>\n",
       "      <td>49.0</td>\n",
       "      <td>1200</td>\n",
       "      <td>train</td>\n",
       "      <td>NA</td>\n",
       "      <td>Thane Dombivali East</td>\n",
       "    </tr>\n",
       "    <tr>\n",
       "      <th>1</th>\n",
       "      <td>CASUAL DINING,BAR</td>\n",
       "      <td>Asian, Modern Indian, Japanese</td>\n",
       "      <td>4.2</td>\n",
       "      <td>30.0</td>\n",
       "      <td>1500</td>\n",
       "      <td>train</td>\n",
       "      <td>NA</td>\n",
       "      <td>Chennai Ramapuram</td>\n",
       "    </tr>\n",
       "    <tr>\n",
       "      <th>2</th>\n",
       "      <td>CASUAL DINING</td>\n",
       "      <td>North Indian, Chinese, Biryani, Hyderabadi</td>\n",
       "      <td>3.8</td>\n",
       "      <td>221.0</td>\n",
       "      <td>800</td>\n",
       "      <td>train</td>\n",
       "      <td>NA</td>\n",
       "      <td>Chennai Saligramam</td>\n",
       "    </tr>\n",
       "    <tr>\n",
       "      <th>3</th>\n",
       "      <td>QUICK BITES</td>\n",
       "      <td>Tibetan, Chinese</td>\n",
       "      <td>4.1</td>\n",
       "      <td>24.0</td>\n",
       "      <td>800</td>\n",
       "      <td>train</td>\n",
       "      <td>NA</td>\n",
       "      <td>Mumbai Bandra West</td>\n",
       "    </tr>\n",
       "    <tr>\n",
       "      <th>4</th>\n",
       "      <td>DESSERT PARLOR</td>\n",
       "      <td>Desserts</td>\n",
       "      <td>3.8</td>\n",
       "      <td>165.0</td>\n",
       "      <td>300</td>\n",
       "      <td>train</td>\n",
       "      <td>NA</td>\n",
       "      <td>Mumbai Lower Parel</td>\n",
       "    </tr>\n",
       "  </tbody>\n",
       "</table>\n",
       "</div>"
      ],
      "text/plain": [
       "               TITLE                                    CUISINES  RATING  \\\n",
       "0      CASUAL DINING                 Malwani, Goan, North Indian     3.6   \n",
       "1  CASUAL DINING,BAR              Asian, Modern Indian, Japanese     4.2   \n",
       "2      CASUAL DINING  North Indian, Chinese, Biryani, Hyderabadi     3.8   \n",
       "3        QUICK BITES                            Tibetan, Chinese     4.1   \n",
       "4     DESSERT PARLOR                                    Desserts     3.8   \n",
       "\n",
       "   VOTES  COST source CLOSED              LOCATION  \n",
       "0   49.0  1200  train     NA  Thane Dombivali East  \n",
       "1   30.0  1500  train     NA     Chennai Ramapuram  \n",
       "2  221.0   800  train     NA    Chennai Saligramam  \n",
       "3   24.0   800  train     NA    Mumbai Bandra West  \n",
       "4  165.0   300  train     NA    Mumbai Lower Parel  "
      ]
     },
     "execution_count": 67,
     "metadata": {},
     "output_type": "execute_result"
    }
   ],
   "source": [
    "#lets see the data\n",
    "combidata.head()"
   ]
  },
  {
   "cell_type": "code",
   "execution_count": 68,
   "metadata": {},
   "outputs": [
    {
     "name": "stdout",
     "output_type": "stream",
     "text": [
      "<class 'pandas.core.frame.DataFrame'>\n",
      "Int64Index: 16895 entries, 0 to 4230\n",
      "Data columns (total 8 columns):\n",
      " #   Column    Non-Null Count  Dtype  \n",
      "---  ------    --------------  -----  \n",
      " 0   TITLE     16895 non-null  object \n",
      " 1   CUISINES  16895 non-null  object \n",
      " 2   RATING    16895 non-null  float64\n",
      " 3   VOTES     16895 non-null  float64\n",
      " 4   COST      16895 non-null  int64  \n",
      " 5   source    16895 non-null  object \n",
      " 6   CLOSED    16895 non-null  object \n",
      " 7   LOCATION  16895 non-null  object \n",
      "dtypes: float64(2), int64(1), object(5)\n",
      "memory usage: 1.2+ MB\n",
      "None\n"
     ]
    }
   ],
   "source": [
    "#lets print the combine data information\n",
    "print(combidata.info())"
   ]
  },
  {
   "cell_type": "code",
   "execution_count": 69,
   "metadata": {},
   "outputs": [
    {
     "data": {
      "text/plain": [
       "<matplotlib.axes._subplots.AxesSubplot at 0x1c6c9f4ce48>"
      ]
     },
     "execution_count": 69,
     "metadata": {},
     "output_type": "execute_result"
    },
    {
     "data": {
      "image/png": "[encoded data removed]",
      "text/plain": [
       "<Figure size 1080x720 with 1 Axes>"
      ]
     },
     "metadata": {
      "needs_background": "light"
     },
     "output_type": "display_data"
    }
   ],
   "source": [
    "# now lets see the distribution of \"COST\" in the dataset\n",
    "plt.figure(figsize=(15,10))\n",
    "plt.title('Distribution of Resturant Cost')\n",
    "sns.distplot(combidata['COST'])\n",
    "\n",
    "#so by looking this the data is skewed, so we will treat them later."
   ]
  },
  {
   "cell_type": "code",
   "execution_count": 70,
   "metadata": {},
   "outputs": [
    {
     "name": "stdout",
     "output_type": "stream",
     "text": [
      "   RATING    COST\n",
      "0     4.0  869560\n",
      "1     4.1  831200\n",
      "2     3.9  817750\n",
      "3     4.2  754800\n",
      "4     3.8  661729\n",
      "5     4.3  609810\n",
      "6     3.7  568130\n",
      "7     1.0  481040\n",
      "8     3.6  457520\n",
      "9     4.4  428270\n"
     ]
    },
    {
     "data": {
      "image/png": "[encoded data removed]",
      "text/plain": [
       "<Figure size 1440x720 with 1 Axes>"
      ]
     },
     "metadata": {
      "needs_background": "light"
     },
     "output_type": "display_data"
    }
   ],
   "source": [
    "#lets see the Cost of top Rating\n",
    "top_cases=combidata[['COST','RATING']].groupby('RATING').sum().sort_values('COST',ascending=False).head(10)\n",
    "top_cases=top_cases.reset_index()\n",
    "print(top_cases)\n",
    "top_cases.plot(kind='bar',width=0.5,colormap='plasma',figsize=(20,10))\n",
    "plt.show()"
   ]
  },
  {
   "cell_type": "code",
   "execution_count": 1,
   "metadata": {},
   "outputs": [
    {
     "ename": "NameError",
     "evalue": "name 'combidata' is not defined",
     "output_type": "error",
     "traceback": [
      "\u001b[1;31m---------------------------------------------------------------------------\u001b[0m",
      "\u001b[1;31mNameError\u001b[0m                                 Traceback (most recent call last)",
      "\u001b[1;32m<ipython-input-1-4a841aa2057e>\u001b[0m in \u001b[0;36m<module>\u001b[1;34m\u001b[0m\n\u001b[0;32m      1\u001b[0m \u001b[1;31m#lets see the COST of top VOTES\u001b[0m\u001b[1;33m\u001b[0m\u001b[1;33m\u001b[0m\u001b[1;33m\u001b[0m\u001b[0m\n\u001b[1;32m----> 2\u001b[1;33m \u001b[0mtop_cases\u001b[0m\u001b[1;33m=\u001b[0m\u001b[0mcombidata\u001b[0m\u001b[1;33m[\u001b[0m\u001b[1;33m[\u001b[0m\u001b[1;34m'COST'\u001b[0m\u001b[1;33m,\u001b[0m\u001b[1;34m'VOTES'\u001b[0m\u001b[1;33m]\u001b[0m\u001b[1;33m]\u001b[0m\u001b[1;33m.\u001b[0m\u001b[0mgroupby\u001b[0m\u001b[1;33m(\u001b[0m\u001b[1;34m'VOTES'\u001b[0m\u001b[1;33m)\u001b[0m\u001b[1;33m.\u001b[0m\u001b[0msum\u001b[0m\u001b[1;33m(\u001b[0m\u001b[1;33m)\u001b[0m\u001b[1;33m.\u001b[0m\u001b[0msort_values\u001b[0m\u001b[1;33m(\u001b[0m\u001b[1;34m'COST'\u001b[0m\u001b[1;33m,\u001b[0m\u001b[0mascending\u001b[0m\u001b[1;33m=\u001b[0m\u001b[1;32mFalse\u001b[0m\u001b[1;33m)\u001b[0m\u001b[1;33m.\u001b[0m\u001b[0mhead\u001b[0m\u001b[1;33m(\u001b[0m\u001b[1;36m10\u001b[0m\u001b[1;33m)\u001b[0m\u001b[1;33m\u001b[0m\u001b[1;33m\u001b[0m\u001b[0m\n\u001b[0m\u001b[0;32m      3\u001b[0m \u001b[0mtop_cases\u001b[0m\u001b[1;33m=\u001b[0m\u001b[0mtop_cases\u001b[0m\u001b[1;33m.\u001b[0m\u001b[0mreset_index\u001b[0m\u001b[1;33m(\u001b[0m\u001b[1;33m)\u001b[0m\u001b[1;33m\u001b[0m\u001b[1;33m\u001b[0m\u001b[0m\n\u001b[0;32m      4\u001b[0m \u001b[0mprint\u001b[0m\u001b[1;33m(\u001b[0m\u001b[0mtop_cases\u001b[0m\u001b[1;33m)\u001b[0m\u001b[1;33m\u001b[0m\u001b[1;33m\u001b[0m\u001b[0m\n\u001b[0;32m      5\u001b[0m \u001b[0mtop_cases\u001b[0m\u001b[1;33m.\u001b[0m\u001b[0mplot\u001b[0m\u001b[1;33m(\u001b[0m\u001b[0mkind\u001b[0m\u001b[1;33m=\u001b[0m\u001b[1;34m'bar'\u001b[0m\u001b[1;33m,\u001b[0m\u001b[0mstacked\u001b[0m\u001b[1;33m=\u001b[0m\u001b[1;32mTrue\u001b[0m\u001b[1;33m,\u001b[0m\u001b[0mwidth\u001b[0m\u001b[1;33m=\u001b[0m\u001b[1;36m0.5\u001b[0m\u001b[1;33m,\u001b[0m\u001b[0mcolormap\u001b[0m\u001b[1;33m=\u001b[0m\u001b[1;34m'plasma'\u001b[0m\u001b[1;33m,\u001b[0m\u001b[0mfigsize\u001b[0m\u001b[1;33m=\u001b[0m\u001b[1;33m(\u001b[0m\u001b[1;36m20\u001b[0m\u001b[1;33m,\u001b[0m\u001b[1;36m10\u001b[0m\u001b[1;33m)\u001b[0m\u001b[1;33m)\u001b[0m\u001b[1;33m\u001b[0m\u001b[1;33m\u001b[0m\u001b[0m\n",
      "\u001b[1;31mNameError\u001b[0m: name 'combidata' is not defined"
     ]
    }
   ],
   "source": [
    "#lets see the COST of top VOTES\n",
    "top_cases=combidata[['COST','VOTES']].groupby('VOTES').sum().sort_values('COST',ascending=False).head(10)\n",
    "top_cases=top_cases.reset_index()\n",
    "print(top_cases)\n",
    "top_cases.plot(kind='bar',width=0.5,colormap='plasma',figsize=(20,10))\n",
    "plt.show()"
   ]
  },
  {
   "cell_type": "code",
   "execution_count": 72,
   "metadata": {},
   "outputs": [
    {
     "name": "stdout",
     "output_type": "stream",
     "text": [
      "                    LOCATION    COST\n",
      "0      Bangalore Indiranagar  110810\n",
      "1       Hyderabad Gachibowli  110750\n",
      "2    Hyderabad Jubilee Hills  107150\n",
      "3  New Delhi Connaught Place   94250\n",
      "4    Hyderabad Banjara Hills   94200\n",
      "5         Mumbai Lower Parel   91000\n",
      "6       Bangalore Whitefield   86150\n",
      "7       Chennai Nungambakkam   86000\n",
      "8     Bangalore Marathahalli   77200\n",
      "9              Mumbai Colaba   76550\n"
     ]
    },
    {
     "data": {
      "image/png": "[encoded data removed]",
      "text/plain": [
       "<Figure size 1440x720 with 1 Axes>"
      ]
     },
     "metadata": {
      "needs_background": "light"
     },
     "output_type": "display_data"
    }
   ],
   "source": [
    "#lets see the COST of top LOCATION\n",
    "top_cases=combidata[['COST','LOCATION']].groupby('LOCATION').sum().sort_values('COST',ascending=False).head(10)\n",
    "top_cases=top_cases.reset_index()\n",
    "print(top_cases)\n",
    "top_cases.plot(kind='bar',width=0.5,colormap='plasma',figsize=(20,10))\n",
    "plt.show()"
   ]
  },
  {
   "cell_type": "code",
   "execution_count": 73,
   "metadata": {},
   "outputs": [
    {
     "name": "stdout",
     "output_type": "stream",
     "text": [
      "Index(['TITLE', 'CUISINES', 'RATING', 'VOTES', 'COST', 'source', 'CLOSED',\n",
      "       'LOCATION'],\n",
      "      dtype='object')\n"
     ]
    }
   ],
   "source": [
    "#lets print all the columns name and create a array for all categorical data to convert them to numerical value.\n",
    "print(combidata.columns)"
   ]
  },
  {
   "cell_type": "code",
   "execution_count": 74,
   "metadata": {},
   "outputs": [],
   "source": [
    "#Now convert all the categorical variable to numerical varibale using label encoder.\n",
    "cat_data=['TITLE','CUISINES','CLOSED','LOCATION']\n",
    "\n",
    "from sklearn.preprocessing import LabelEncoder\n",
    "le = LabelEncoder()\n",
    "for i in cat_data:\n",
    "    combidata[i] = le.fit_transform(combidata[i])"
   ]
  },
  {
   "cell_type": "code",
   "execution_count": 75,
   "metadata": {},
   "outputs": [
    {
     "name": "stdout",
     "output_type": "stream",
     "text": [
      "Column Name: TITLE\n",
      "(array([  0,   1,   2,   3,   4,   5,   6,   7,   8,   9,  10,  11,  12,\n",
      "        13,  14,  15,  16,  17,  18,  19,  20,  21,  22,  23,  24,  25,\n",
      "        26,  27,  28,  29,  30,  31,  32,  33,  34,  35,  36,  37,  38,\n",
      "        39,  40,  41,  42,  43,  44,  45,  46,  47,  48,  49,  50,  51,\n",
      "        52,  53,  54,  55,  56,  57,  58,  59,  60,  61,  62,  63,  64,\n",
      "        65,  66,  67,  68,  69,  70,  71,  72,  73,  74,  75,  76,  77,\n",
      "        78,  79,  80,  81,  82,  83,  84,  85,  86,  87,  88,  89,  90,\n",
      "        91,  92,  93,  94,  95,  96,  97,  98,  99, 100, 101, 102, 103,\n",
      "       104, 105, 106, 107, 108, 109, 110, 111, 112, 113, 114, 115, 116,\n",
      "       117, 118, 119, 120, 121, 122]), array([ 391,    2,   18,    1,    1,   61,    1,  126,    2,  124,    4,\n",
      "        175,    1,    6,   17,    1,    8,  215,    4,    1,   25,    1,\n",
      "         44,    1,  829,   43,   23,    4,   47,   38,    1,    1,    2,\n",
      "         35, 4902,    9,  463,   65,    2,    1,    2,    4,   17,   10,\n",
      "         24,    8,   26,    3,    2,    1,    1,    3,    4,    3,    1,\n",
      "        507,   17,   13,   12,    5,    1,    1,   57,   11,   61,  406,\n",
      "         36,    3,   11,    1,  110,    3,   13,   37,    1,    1,   73,\n",
      "          1,    2,  135,   27,    2,   34,    3,    2,    2,    3,    1,\n",
      "          2,   68,   12,    4,   35,    1,    9, 1284,    5,   67,    7,\n",
      "          2,   42,    1,    5,   21, 5627,   31,    1,   19,    6,    5,\n",
      "         36,    7,    1,    3,    1,   49,   67,    2,    1,    2,    1,\n",
      "          5,   70], dtype=int64))\n",
      "104    5627\n",
      "34     4902\n",
      "95     1284\n",
      "24      829\n",
      "55      507\n",
      "       ... \n",
      "69        1\n",
      "21        1\n",
      "74        1\n",
      "106       1\n",
      "87        1\n",
      "Name: TITLE, Length: 123, dtype: int64\n",
      "\n",
      "\n",
      "Column Name: CUISINES\n",
      "(array([   0,    1,    2, ..., 5180, 5181, 5182]), array([ 1,  2, 10, ...,  1,  1,  1], dtype=int64))\n",
      "3574    714\n",
      "3690    713\n",
      "4768    706\n",
      "2375    364\n",
      "1365    226\n",
      "       ... \n",
      "1993      1\n",
      "4040      1\n",
      "1977      1\n",
      "4024      1\n",
      "0         1\n",
      "Name: CUISINES, Length: 5183, dtype: int64\n",
      "\n",
      "\n",
      "Column Name: RATING\n",
      "(array([1. , 2. , 2.1, 2.2, 2.3, 2.4, 2.5, 2.6, 2.7, 2.8, 2.9, 3. , 3.1,\n",
      "       3.2, 3.3, 3.4, 3.5, 3.6, 3.7, 3.8, 3.9, 4. , 4.1, 4.2, 4.3, 4.4,\n",
      "       4.5, 4.6, 4.7, 4.8, 4.9]), array([1598,    3,    4,    4,   15,   24,   51,   85,  129,  191,  242,\n",
      "        232,  263,  349,  485,  776,  985, 1261, 1437, 1601, 1638, 1493,\n",
      "       1214,  967,  740,  484,  274,  184,   89,   49,   28], dtype=int64))\n",
      "3.9    1638\n",
      "3.8    1601\n",
      "1.0    1598\n",
      "4.0    1493\n",
      "3.7    1437\n",
      "3.6    1261\n",
      "4.1    1214\n",
      "3.5     985\n",
      "4.2     967\n",
      "3.4     776\n",
      "4.3     740\n",
      "3.3     485\n",
      "4.4     484\n",
      "3.2     349\n",
      "4.5     274\n",
      "3.1     263\n",
      "2.9     242\n",
      "3.0     232\n",
      "2.8     191\n",
      "4.6     184\n",
      "2.7     129\n",
      "4.7      89\n",
      "2.6      85\n",
      "2.5      51\n",
      "4.8      49\n",
      "4.9      28\n",
      "2.4      24\n",
      "2.3      15\n",
      "2.1       4\n",
      "2.2       4\n",
      "2.0       3\n",
      "Name: RATING, dtype: int64\n",
      "\n",
      "\n",
      "Column Name: VOTES\n",
      "(array([ -421.,  -420.,  -418., ..., 15205., 17060., 41186.]), array([2, 3, 1, ..., 1, 1, 1], dtype=int64))\n",
      " 44.0      92\n",
      " 22.0      89\n",
      " 6.0       88\n",
      " 29.0      84\n",
      " 24.0      81\n",
      "           ..\n",
      " 1075.0     1\n",
      " 3713.0     1\n",
      "-393.0      1\n",
      "-282.0      1\n",
      " 4582.0     1\n",
      "Name: VOTES, Length: 2387, dtype: int64\n",
      "\n",
      "\n",
      "Column Name: COST\n",
      "(array([    0,    20,    50,    60,    70,    80,   100,   120,   130,\n",
      "         140,   150,   180,   200,   250,   299,   300,   313,   320,\n",
      "         350,   370,   400,   450,   500,   550,   599,   600,   650,\n",
      "         700,   750,   800,   850,   900,   950,  1000,  1050,  1100,\n",
      "        1150,  1200,  1250,  1260,  1300,  1350,  1400,  1450,  1500,\n",
      "        1550,  1600,  1650,  1700,  1750,  1800,  1850,  1900,  1950,\n",
      "        2000,  2100,  2200,  2300,  2400,  2500,  2600,  2700,  2800,\n",
      "        2900,  3000,  3100,  3200,  3300,  3400,  3500,  3600,  3700,\n",
      "        3800,  4000,  4050,  4100,  4200,  4500,  5000,  5200,  5500,\n",
      "        6000,  6500,  7000,  8000, 10000, 14000], dtype=int64), array([4230,    1,    8,    2,    1,    1,  183,   14,    2,    1,  491,\n",
      "          4, 1029,  667,    1, 1593,    1,    1,  548,    1, 1356,  354,\n",
      "       1297,  190,    1,  805,  182,  586,  153,  596,   68,  178,   29,\n",
      "        435,    2,  125,    5,  327,    7,    1,  120,    6,  118,    2,\n",
      "        306,    5,  109,    3,   47,    4,  125,    4,   24,    1,  157,\n",
      "         16,   34,    9,   19,   86,    9,    5,   11,    1,   80,    2,\n",
      "          4,    3,    5,   19,    1,    2,    4,   29,    1,    1,    3,\n",
      "         14,   15,    1,    6,    2,    2,    1,    1,    1,    1],\n",
      "      dtype=int64))\n",
      "0        4230\n",
      "300      1593\n",
      "400      1356\n",
      "500      1297\n",
      "200      1029\n",
      "         ... \n",
      "8000        1\n",
      "4050        1\n",
      "20          1\n",
      "10000       1\n",
      "1950        1\n",
      "Name: COST, Length: 87, dtype: int64\n",
      "\n",
      "\n",
      "Column Name: source\n",
      "(array(['test', 'train'], dtype=object), array([ 4230, 12665], dtype=int64))\n",
      "train    12665\n",
      "test      4230\n",
      "Name: source, dtype: int64\n",
      "\n",
      "\n",
      "Column Name: CLOSED\n",
      "(array([ 0,  1,  2,  3,  4,  5,  6,  7,  8,  9, 10, 11, 12, 13, 14, 15, 16,\n",
      "       17, 18, 19, 20, 21, 22, 23]), array([    3,   277,     1,     3,     2,     2,     3,     1,     1,\n",
      "           1,     1,     7,     1,     1,     3,     6,     1,     6,\n",
      "         127,     1,     5,     2,     1, 16439], dtype=int64))\n",
      "23    16439\n",
      "1       277\n",
      "18      127\n",
      "11        7\n",
      "15        6\n",
      "17        6\n",
      "20        5\n",
      "6         3\n",
      "3         3\n",
      "14        3\n",
      "0         3\n",
      "5         2\n",
      "4         2\n",
      "21        2\n",
      "22        1\n",
      "7         1\n",
      "8         1\n",
      "19        1\n",
      "9         1\n",
      "10        1\n",
      "2         1\n",
      "12        1\n",
      "13        1\n",
      "16        1\n",
      "Name: CLOSED, dtype: int64\n",
      "\n",
      "\n",
      "Column Name: LOCATION\n",
      "(array([   0,    1,    2, ..., 1962, 1963, 1964]), array([1, 3, 1, ..., 1, 2, 1], dtype=int64))\n",
      "813     214\n",
      "123     183\n",
      "1082    172\n",
      "837     170\n",
      "844     167\n",
      "       ... \n",
      "329       1\n",
      "409       1\n",
      "425       1\n",
      "505       1\n",
      "0         1\n",
      "Name: LOCATION, Length: 1965, dtype: int64\n",
      "\n",
      "\n"
     ]
    }
   ],
   "source": [
    "#lets again see what are the types of data are present in each attribute after label encoder.\n",
    "for columns in combidata:\n",
    "    print(\"Column Name:\",columns)\n",
    "    print(np.unique(combidata[columns], return_counts=True))\n",
    "    print(combidata[columns].value_counts())\n",
    "    print(\"\\n\")"
   ]
  },
  {
   "cell_type": "code",
   "execution_count": 76,
   "metadata": {},
   "outputs": [
    {
     "name": "stdout",
     "output_type": "stream",
     "text": [
      "<class 'pandas.core.frame.DataFrame'>\n",
      "Int64Index: 16895 entries, 0 to 4230\n",
      "Data columns (total 8 columns):\n",
      " #   Column    Non-Null Count  Dtype  \n",
      "---  ------    --------------  -----  \n",
      " 0   TITLE     16895 non-null  int32  \n",
      " 1   CUISINES  16895 non-null  int32  \n",
      " 2   RATING    16895 non-null  float64\n",
      " 3   VOTES     16895 non-null  float64\n",
      " 4   COST      16895 non-null  int64  \n",
      " 5   source    16895 non-null  object \n",
      " 6   CLOSED    16895 non-null  int32  \n",
      " 7   LOCATION  16895 non-null  int32  \n",
      "dtypes: float64(2), int32(4), int64(1), object(1)\n",
      "memory usage: 923.9+ KB\n"
     ]
    }
   ],
   "source": [
    "#again checking the information of the data\n",
    "combidata.info()"
   ]
  },
  {
   "cell_type": "code",
   "execution_count": 78,
   "metadata": {},
   "outputs": [
    {
     "data": {
      "text/plain": [
       "<matplotlib.axes._subplots.AxesSubplot at 0x1c6c9637e48>"
      ]
     },
     "execution_count": 78,
     "metadata": {},
     "output_type": "execute_result"
    },
    {
     "data": {
      "image/png": "[encoded data removed]",
      "text/plain": [
       "<Figure size 1440x1080 with 2 Axes>"
      ]
     },
     "metadata": {
      "needs_background": "light"
     },
     "output_type": "display_data"
    }
   ],
   "source": [
    "#lets see the corelation among data\n",
    "plt.figure(figsize=(20,15))\n",
    "sns.heatmap(combidata.corr(),cmap='coolwarm',annot=True)\n",
    "\n",
    "#so by looking the corelation of data, we can say that ratig and votes attributes has most significant."
   ]
  },
  {
   "cell_type": "code",
   "execution_count": 79,
   "metadata": {},
   "outputs": [
    {
     "data": {
      "text/plain": [
       "TITLE          AxesSubplot(0.125,0.125;0.0945122x0.755)\n",
       "CUISINES    AxesSubplot(0.238415,0.125;0.0945122x0.755)\n",
       "RATING      AxesSubplot(0.351829,0.125;0.0945122x0.755)\n",
       "VOTES       AxesSubplot(0.465244,0.125;0.0945122x0.755)\n",
       "COST        AxesSubplot(0.578659,0.125;0.0945122x0.755)\n",
       "CLOSED      AxesSubplot(0.692073,0.125;0.0945122x0.755)\n",
       "LOCATION    AxesSubplot(0.805488,0.125;0.0945122x0.755)\n",
       "dtype: object"
      ]
     },
     "execution_count": 79,
     "metadata": {},
     "output_type": "execute_result"
    },
    {
     "data": {
      "image/png": "[encoded data removed]",
      "text/plain": [
       "<Figure size 1080x720 with 7 Axes>"
      ]
     },
     "metadata": {
      "needs_background": "light"
     },
     "output_type": "display_data"
    }
   ],
   "source": [
    "#checking the outliers with box plot\n",
    "combidata.plot(kind='box',subplots=True, figsize=(15,10))\n",
    "\n",
    "#so here we saw that there are no outlier data present."
   ]
  },
  {
   "cell_type": "code",
   "execution_count": 81,
   "metadata": {},
   "outputs": [
    {
     "name": "stdout",
     "output_type": "stream",
     "text": [
      "(12665, 8)\n",
      "(4230, 8)\n"
     ]
    }
   ],
   "source": [
    "# Now our data is ready for model building, so split them into original train and test dataset\n",
    "rfcost_train = combidata.loc[combidata['source']==\"train\"]\n",
    "rfcost_test = combidata.loc[combidata['source']==\"test\"]\n",
    "print(rfcost_train.shape)\n",
    "print(rfcost_test.shape)"
   ]
  },
  {
   "cell_type": "code",
   "execution_count": 82,
   "metadata": {},
   "outputs": [
    {
     "name": "stdout",
     "output_type": "stream",
     "text": [
      "(12665, 7)\n",
      "(4230, 6)\n"
     ]
    }
   ],
   "source": [
    "#Drop the columns which are added initially for data analysis\n",
    "rfcost_train.drop(['source'],axis=1,inplace=True)\n",
    "rfcost_test.drop(['COST','source'],axis=1,inplace=True)\n",
    "print(rfcost_train.shape)\n",
    "print(rfcost_test.shape)"
   ]
  },
  {
   "cell_type": "code",
   "execution_count": 87,
   "metadata": {},
   "outputs": [],
   "source": [
    "#scaling the train and test dataset\n",
    "from sklearn.preprocessing import StandardScaler\n",
    "sc=StandardScaler()\n",
    "foodcost_train=sc.fit_transform(rfcost_train)\n",
    "foodcost_train=pd.DataFrame(foodcost_train,columns=rfcost_train.columns)\n"
   ]
  },
  {
   "cell_type": "code",
   "execution_count": 88,
   "metadata": {},
   "outputs": [
    {
     "name": "stdout",
     "output_type": "stream",
     "text": [
      "<class 'pandas.core.frame.DataFrame'>\n",
      "RangeIndex: 12665 entries, 0 to 12664\n",
      "Data columns (total 7 columns):\n",
      " #   Column    Non-Null Count  Dtype  \n",
      "---  ------    --------------  -----  \n",
      " 0   TITLE     12665 non-null  float64\n",
      " 1   CUISINES  12665 non-null  float64\n",
      " 2   RATING    12665 non-null  float64\n",
      " 3   VOTES     12665 non-null  float64\n",
      " 4   COST      12665 non-null  float64\n",
      " 5   CLOSED    12665 non-null  float64\n",
      " 6   LOCATION  12665 non-null  float64\n",
      "dtypes: float64(7)\n",
      "memory usage: 692.7 KB\n"
     ]
    }
   ],
   "source": [
    "foodcost_train.info()"
   ]
  },
  {
   "cell_type": "code",
   "execution_count": 89,
   "metadata": {},
   "outputs": [],
   "source": [
    "#scaling the train and test dataset\n",
    "from sklearn.preprocessing import StandardScaler\n",
    "sc=StandardScaler()\n",
    "foodcost_test=sc.fit_transform(rfcost_test)\n",
    "foodcost_test=pd.DataFrame(foodcost_test,columns=rfcost_test.columns)"
   ]
  },
  {
   "cell_type": "code",
   "execution_count": 90,
   "metadata": {},
   "outputs": [
    {
     "name": "stdout",
     "output_type": "stream",
     "text": [
      "<class 'pandas.core.frame.DataFrame'>\n",
      "RangeIndex: 4230 entries, 0 to 4229\n",
      "Data columns (total 6 columns):\n",
      " #   Column    Non-Null Count  Dtype  \n",
      "---  ------    --------------  -----  \n",
      " 0   TITLE     4230 non-null   float64\n",
      " 1   CUISINES  4230 non-null   float64\n",
      " 2   RATING    4230 non-null   float64\n",
      " 3   VOTES     4230 non-null   float64\n",
      " 4   CLOSED    4230 non-null   float64\n",
      " 5   LOCATION  4230 non-null   float64\n",
      "dtypes: float64(6)\n",
      "memory usage: 198.4 KB\n"
     ]
    }
   ],
   "source": [
    "foodcost_test.info()"
   ]
  },
  {
   "cell_type": "code",
   "execution_count": 91,
   "metadata": {},
   "outputs": [],
   "source": [
    "#Now Export the final dataset:\n",
    "foodcost_train.to_csv(\"foodcost_train.csv\",index=False)\n",
    "foodcost_test.to_csv(\"foodcost_test.csv\",index=False)"
   ]
  },
  {
   "cell_type": "markdown",
   "metadata": {},
   "source": [
    "# 3-Preparing the Train data for Model Building"
   ]
  },
  {
   "cell_type": "code",
   "execution_count": 92,
   "metadata": {},
   "outputs": [
    {
     "name": "stdout",
     "output_type": "stream",
     "text": [
      "(12665, 7)\n",
      "(4230, 6)\n"
     ]
    }
   ],
   "source": [
    "#lets import the final train and test dataset and print them\n",
    "rfoodcost_train=pd.read_csv('foodcost_train.csv')\n",
    "rfoodcost_test=pd.read_csv('foodcost_test.csv')\n",
    "\n",
    "print(rfoodcost_train.shape)\n",
    "print(rfoodcost_test.shape)"
   ]
  },
  {
   "cell_type": "code",
   "execution_count": 93,
   "metadata": {},
   "outputs": [
    {
     "name": "stdout",
     "output_type": "stream",
     "text": [
      "      TITLE  CUISINES    RATING     VOTES      COST    CLOSED  LOCATION\n",
      "0 -0.867041  0.327044  0.086199 -0.448382  0.868074  0.151219  1.916987\n",
      "1 -0.811245 -1.612535  0.746441 -0.471660  1.346264  0.151219 -0.769500\n",
      "2 -0.867041  0.615002  0.306280 -0.237647  0.230487  0.151219 -0.760094\n",
      "3  1.085810  1.559637  0.636401 -0.479011  0.230487  0.151219  0.726128\n",
      "4 -0.281186 -0.385238  0.306280 -0.306259 -0.566498  0.151219  0.846531\n"
     ]
    }
   ],
   "source": [
    "#printing the train data\n",
    "print(rfoodcost_train.head())"
   ]
  },
  {
   "cell_type": "code",
   "execution_count": 94,
   "metadata": {},
   "outputs": [
    {
     "name": "stdout",
     "output_type": "stream",
     "text": [
      "(12665, 6)\n",
      "(12665, 1)\n"
     ]
    }
   ],
   "source": [
    "# separating the input and output/target variables of dtrain\n",
    "import numpy as np\n",
    "x=rfoodcost_train.drop(columns=['COST'],axis=1)\n",
    "y=rfoodcost_train[['COST']]\n",
    "\n",
    "print(x.shape)\n",
    "print(y.shape)"
   ]
  },
  {
   "cell_type": "markdown",
   "metadata": {},
   "source": [
    "# 4-Building Different Model and Finding the Best Model"
   ]
  },
  {
   "cell_type": "code",
   "execution_count": 95,
   "metadata": {},
   "outputs": [],
   "source": [
    "#defining the models which will be used for model building\n",
    "from sklearn.linear_model import LinearRegression\n",
    "lreg=LinearRegression()\n",
    "from sklearn.neighbors import KNeighborsRegressor\n",
    "knn=KNeighborsRegressor()\n",
    "from sklearn.linear_model import Lasso\n",
    "lsreg=Lasso(alpha=0.1)\n",
    "from sklearn.linear_model import Ridge\n",
    "lrreg=Ridge(alpha=0.1)\n",
    "from sklearn.ensemble import GradientBoostingRegressor\n",
    "gbr=GradientBoostingRegressor()\n",
    "from sklearn.ensemble import AdaBoostRegressor\n",
    "ada=AdaBoostRegressor()\n",
    "from sklearn.ensemble import RandomForestRegressor\n",
    "rf=RandomForestRegressor()"
   ]
  },
  {
   "cell_type": "code",
   "execution_count": 96,
   "metadata": {},
   "outputs": [],
   "source": [
    "#appending all the models\n",
    "models=[]\n",
    "models.append(('LinearRegression',lreg))\n",
    "models.append(('KNeighborsRegressor',knn))\n",
    "models.append(('Lasso',lsreg))\n",
    "models.append(('Ridge',lrreg))\n",
    "models.append(('GradientBoostingRegressor',gbr))\n",
    "models.append(('AdaBoostRegressor',ada))\n",
    "models.append(('RandomForestRegressor',rf))"
   ]
  },
  {
   "cell_type": "code",
   "execution_count": 97,
   "metadata": {},
   "outputs": [
    {
     "name": "stdout",
     "output_type": "stream",
     "text": [
      "************************ LinearRegression **********************\n",
      "\n",
      "\n",
      "Final Random State is: 59\n",
      "\n",
      "\n",
      "R2 Score is: 0.20057732245325122\n",
      "\n",
      "\n",
      "\n",
      "\n",
      "************************ KNeighborsRegressor **********************\n",
      "\n",
      "\n",
      "Final Random State is: 91\n",
      "\n",
      "\n",
      "R2 Score is: 0.5270548854004493\n",
      "\n",
      "\n",
      "\n",
      "\n",
      "************************ Lasso **********************\n",
      "\n",
      "\n",
      "Final Random State is: 59\n",
      "\n",
      "\n",
      "R2 Score is: 0.15594547982957085\n",
      "\n",
      "\n",
      "\n",
      "\n",
      "************************ Ridge **********************\n",
      "\n",
      "\n",
      "Final Random State is: 59\n",
      "\n",
      "\n",
      "R2 Score is: 0.2005770969746965\n",
      "\n",
      "\n",
      "\n",
      "\n",
      "************************ GradientBoostingRegressor **********************\n",
      "\n",
      "\n",
      "Final Random State is: 86\n",
      "\n",
      "\n",
      "R2 Score is: 0.7589944166659133\n",
      "\n",
      "\n",
      "\n",
      "\n",
      "************************ AdaBoostRegressor **********************\n",
      "\n",
      "\n",
      "Final Random State is: 57\n",
      "\n",
      "\n",
      "R2 Score is: 0.19562691067383453\n",
      "\n",
      "\n",
      "\n",
      "\n",
      "************************ RandomForestRegressor **********************\n",
      "\n",
      "\n",
      "Final Random State is: 86\n",
      "\n",
      "\n",
      "R2 Score is: 0.7770874789982781\n",
      "\n",
      "\n",
      "\n",
      "\n"
     ]
    }
   ],
   "source": [
    "#printing the output of each model\n",
    "from sklearn.model_selection import train_test_split\n",
    "from sklearn.metrics import mean_squared_error\n",
    "from sklearn.metrics import r2_score\n",
    "Model=[]\n",
    "RState=[]\n",
    "score=[]\n",
    "for name, model in models:\n",
    "    print('************************',name,'**********************')\n",
    "    print('\\n')\n",
    "    Model.append(name)\n",
    "    max_r2_score=0.0\n",
    "    for r_state in range(42,101):\n",
    "        x_train,x_test,y_train,y_test = train_test_split(x,y,test_size=0.2,random_state=r_state)\n",
    "        model.fit(x_train,y_train)\n",
    "        y_pred=model.predict(x_test)\n",
    "        r2_scr=r2_score(y_test,y_pred)\n",
    "        if r2_scr>max_r2_score:\n",
    "            max_r2_score=r2_scr\n",
    "            final_r_state=r_state\n",
    "    print('Final Random State is:', final_r_state)\n",
    "    print('\\n')\n",
    "    RState.append(final_r_state*1)\n",
    "    print('R2 Score is:', max_r2_score)\n",
    "    print('\\n')\n",
    "    score.append(max_r2_score*100)\n",
    "    print('\\n')"
   ]
  },
  {
   "cell_type": "code",
   "execution_count": 98,
   "metadata": {},
   "outputs": [
    {
     "name": "stdout",
     "output_type": "stream",
     "text": [
      "                       Model  Random_State   R2_Score\n",
      "0           LinearRegression            59  20.057732\n",
      "1        KNeighborsRegressor            91  52.705489\n",
      "2                      Lasso            59  15.594548\n",
      "3                      Ridge            59  20.057710\n",
      "4  GradientBoostingRegressor            86  75.899442\n",
      "5          AdaBoostRegressor            57  19.562691\n",
      "6      RandomForestRegressor            86  77.708748\n"
     ]
    }
   ],
   "source": [
    "#lets print the final result of all the models\n",
    "result=pd.DataFrame({'Model':Model,'Random_State':RState,'R2_Score':score})\n",
    "print(result)"
   ]
  },
  {
   "cell_type": "code",
   "execution_count": 99,
   "metadata": {},
   "outputs": [
    {
     "ename": "KeyboardInterrupt",
     "evalue": "",
     "output_type": "error",
     "traceback": [
      "\u001b[1;31m---------------------------------------------------------------------------\u001b[0m",
      "\u001b[1;31mKeyboardInterrupt\u001b[0m                         Traceback (most recent call last)",
      "\u001b[1;32m<ipython-input-99-b49608bb9e1a>\u001b[0m in \u001b[0;36m<module>\u001b[1;34m\u001b[0m\n\u001b[0;32m     12\u001b[0m             'n_estimators':[int(x) for x in np.linspace(start = 200, stop = 1000, num = 200)]}\n\u001b[0;32m     13\u001b[0m \u001b[0mclf\u001b[0m\u001b[1;33m=\u001b[0m\u001b[0mGridSearchCV\u001b[0m\u001b[1;33m(\u001b[0m\u001b[0mrfreg\u001b[0m\u001b[1;33m,\u001b[0m \u001b[0mparameters\u001b[0m\u001b[1;33m,\u001b[0m \u001b[0mcv\u001b[0m\u001b[1;33m=\u001b[0m\u001b[1;36m5\u001b[0m\u001b[1;33m)\u001b[0m\u001b[1;33m\u001b[0m\u001b[1;33m\u001b[0m\u001b[0m\n\u001b[1;32m---> 14\u001b[1;33m \u001b[0mclf\u001b[0m\u001b[1;33m.\u001b[0m\u001b[0mfit\u001b[0m\u001b[1;33m(\u001b[0m\u001b[0mx\u001b[0m\u001b[1;33m,\u001b[0m\u001b[0my\u001b[0m\u001b[1;33m)\u001b[0m\u001b[1;33m\u001b[0m\u001b[1;33m\u001b[0m\u001b[0m\n\u001b[0m\u001b[0;32m     15\u001b[0m \u001b[0mclf\u001b[0m\u001b[1;33m.\u001b[0m\u001b[0mbest_params_\u001b[0m\u001b[1;33m\u001b[0m\u001b[1;33m\u001b[0m\u001b[0m\n",
      "\u001b[1;32m~\\anaconda3\\lib\\site-packages\\sklearn\\model_selection\\_search.py\u001b[0m in \u001b[0;36mfit\u001b[1;34m(self, X, y, groups, **fit_params)\u001b[0m\n\u001b[0;32m    708\u001b[0m                 \u001b[1;32mreturn\u001b[0m \u001b[0mresults\u001b[0m\u001b[1;33m\u001b[0m\u001b[1;33m\u001b[0m\u001b[0m\n\u001b[0;32m    709\u001b[0m \u001b[1;33m\u001b[0m\u001b[0m\n\u001b[1;32m--> 710\u001b[1;33m             \u001b[0mself\u001b[0m\u001b[1;33m.\u001b[0m\u001b[0m_run_search\u001b[0m\u001b[1;33m(\u001b[0m\u001b[0mevaluate_candidates\u001b[0m\u001b[1;33m)\u001b[0m\u001b[1;33m\u001b[0m\u001b[1;33m\u001b[0m\u001b[0m\n\u001b[0m\u001b[0;32m    711\u001b[0m \u001b[1;33m\u001b[0m\u001b[0m\n\u001b[0;32m    712\u001b[0m         \u001b[1;31m# For multi-metric evaluation, store the best_index_, best_params_ and\u001b[0m\u001b[1;33m\u001b[0m\u001b[1;33m\u001b[0m\u001b[1;33m\u001b[0m\u001b[0m\n",
      "\u001b[1;32m~\\anaconda3\\lib\\site-packages\\sklearn\\model_selection\\_search.py\u001b[0m in \u001b[0;36m_run_search\u001b[1;34m(self, evaluate_candidates)\u001b[0m\n\u001b[0;32m   1149\u001b[0m     \u001b[1;32mdef\u001b[0m \u001b[0m_run_search\u001b[0m\u001b[1;33m(\u001b[0m\u001b[0mself\u001b[0m\u001b[1;33m,\u001b[0m \u001b[0mevaluate_candidates\u001b[0m\u001b[1;33m)\u001b[0m\u001b[1;33m:\u001b[0m\u001b[1;33m\u001b[0m\u001b[1;33m\u001b[0m\u001b[0m\n\u001b[0;32m   1150\u001b[0m         \u001b[1;34m\"\"\"Search all candidates in param_grid\"\"\"\u001b[0m\u001b[1;33m\u001b[0m\u001b[1;33m\u001b[0m\u001b[0m\n\u001b[1;32m-> 1151\u001b[1;33m         \u001b[0mevaluate_candidates\u001b[0m\u001b[1;33m(\u001b[0m\u001b[0mParameterGrid\u001b[0m\u001b[1;33m(\u001b[0m\u001b[0mself\u001b[0m\u001b[1;33m.\u001b[0m\u001b[0mparam_grid\u001b[0m\u001b[1;33m)\u001b[0m\u001b[1;33m)\u001b[0m\u001b[1;33m\u001b[0m\u001b[1;33m\u001b[0m\u001b[0m\n\u001b[0m\u001b[0;32m   1152\u001b[0m \u001b[1;33m\u001b[0m\u001b[0m\n\u001b[0;32m   1153\u001b[0m \u001b[1;33m\u001b[0m\u001b[0m\n",
      "\u001b[1;32m~\\anaconda3\\lib\\site-packages\\sklearn\\model_selection\\_search.py\u001b[0m in \u001b[0;36mevaluate_candidates\u001b[1;34m(candidate_params)\u001b[0m\n\u001b[0;32m    687\u001b[0m                                \u001b[1;32mfor\u001b[0m \u001b[0mparameters\u001b[0m\u001b[1;33m,\u001b[0m \u001b[1;33m(\u001b[0m\u001b[0mtrain\u001b[0m\u001b[1;33m,\u001b[0m \u001b[0mtest\u001b[0m\u001b[1;33m)\u001b[0m\u001b[1;33m\u001b[0m\u001b[1;33m\u001b[0m\u001b[0m\n\u001b[0;32m    688\u001b[0m                                in product(candidate_params,\n\u001b[1;32m--> 689\u001b[1;33m                                           cv.split(X, y, groups)))\n\u001b[0m\u001b[0;32m    690\u001b[0m \u001b[1;33m\u001b[0m\u001b[0m\n\u001b[0;32m    691\u001b[0m                 \u001b[1;32mif\u001b[0m \u001b[0mlen\u001b[0m\u001b[1;33m(\u001b[0m\u001b[0mout\u001b[0m\u001b[1;33m)\u001b[0m \u001b[1;33m<\u001b[0m \u001b[1;36m1\u001b[0m\u001b[1;33m:\u001b[0m\u001b[1;33m\u001b[0m\u001b[1;33m\u001b[0m\u001b[0m\n",
      "\u001b[1;32m~\\anaconda3\\lib\\site-packages\\joblib\\parallel.py\u001b[0m in \u001b[0;36m__call__\u001b[1;34m(self, iterable)\u001b[0m\n\u001b[0;32m   1005\u001b[0m                 \u001b[0mself\u001b[0m\u001b[1;33m.\u001b[0m\u001b[0m_iterating\u001b[0m \u001b[1;33m=\u001b[0m \u001b[0mself\u001b[0m\u001b[1;33m.\u001b[0m\u001b[0m_original_iterator\u001b[0m \u001b[1;32mis\u001b[0m \u001b[1;32mnot\u001b[0m \u001b[1;32mNone\u001b[0m\u001b[1;33m\u001b[0m\u001b[1;33m\u001b[0m\u001b[0m\n\u001b[0;32m   1006\u001b[0m \u001b[1;33m\u001b[0m\u001b[0m\n\u001b[1;32m-> 1007\u001b[1;33m             \u001b[1;32mwhile\u001b[0m \u001b[0mself\u001b[0m\u001b[1;33m.\u001b[0m\u001b[0mdispatch_one_batch\u001b[0m\u001b[1;33m(\u001b[0m\u001b[0miterator\u001b[0m\u001b[1;33m)\u001b[0m\u001b[1;33m:\u001b[0m\u001b[1;33m\u001b[0m\u001b[1;33m\u001b[0m\u001b[0m\n\u001b[0m\u001b[0;32m   1008\u001b[0m                 \u001b[1;32mpass\u001b[0m\u001b[1;33m\u001b[0m\u001b[1;33m\u001b[0m\u001b[0m\n\u001b[0;32m   1009\u001b[0m \u001b[1;33m\u001b[0m\u001b[0m\n",
      "\u001b[1;32m~\\anaconda3\\lib\\site-packages\\joblib\\parallel.py\u001b[0m in \u001b[0;36mdispatch_one_batch\u001b[1;34m(self, iterator)\u001b[0m\n\u001b[0;32m    833\u001b[0m                 \u001b[1;32mreturn\u001b[0m \u001b[1;32mFalse\u001b[0m\u001b[1;33m\u001b[0m\u001b[1;33m\u001b[0m\u001b[0m\n\u001b[0;32m    834\u001b[0m             \u001b[1;32melse\u001b[0m\u001b[1;33m:\u001b[0m\u001b[1;33m\u001b[0m\u001b[1;33m\u001b[0m\u001b[0m\n\u001b[1;32m--> 835\u001b[1;33m                 \u001b[0mself\u001b[0m\u001b[1;33m.\u001b[0m\u001b[0m_dispatch\u001b[0m\u001b[1;33m(\u001b[0m\u001b[0mtasks\u001b[0m\u001b[1;33m)\u001b[0m\u001b[1;33m\u001b[0m\u001b[1;33m\u001b[0m\u001b[0m\n\u001b[0m\u001b[0;32m    836\u001b[0m                 \u001b[1;32mreturn\u001b[0m \u001b[1;32mTrue\u001b[0m\u001b[1;33m\u001b[0m\u001b[1;33m\u001b[0m\u001b[0m\n\u001b[0;32m    837\u001b[0m \u001b[1;33m\u001b[0m\u001b[0m\n",
      "\u001b[1;32m~\\anaconda3\\lib\\site-packages\\joblib\\parallel.py\u001b[0m in \u001b[0;36m_dispatch\u001b[1;34m(self, batch)\u001b[0m\n\u001b[0;32m    752\u001b[0m         \u001b[1;32mwith\u001b[0m \u001b[0mself\u001b[0m\u001b[1;33m.\u001b[0m\u001b[0m_lock\u001b[0m\u001b[1;33m:\u001b[0m\u001b[1;33m\u001b[0m\u001b[1;33m\u001b[0m\u001b[0m\n\u001b[0;32m    753\u001b[0m             \u001b[0mjob_idx\u001b[0m \u001b[1;33m=\u001b[0m \u001b[0mlen\u001b[0m\u001b[1;33m(\u001b[0m\u001b[0mself\u001b[0m\u001b[1;33m.\u001b[0m\u001b[0m_jobs\u001b[0m\u001b[1;33m)\u001b[0m\u001b[1;33m\u001b[0m\u001b[1;33m\u001b[0m\u001b[0m\n\u001b[1;32m--> 754\u001b[1;33m             \u001b[0mjob\u001b[0m \u001b[1;33m=\u001b[0m \u001b[0mself\u001b[0m\u001b[1;33m.\u001b[0m\u001b[0m_backend\u001b[0m\u001b[1;33m.\u001b[0m\u001b[0mapply_async\u001b[0m\u001b[1;33m(\u001b[0m\u001b[0mbatch\u001b[0m\u001b[1;33m,\u001b[0m \u001b[0mcallback\u001b[0m\u001b[1;33m=\u001b[0m\u001b[0mcb\u001b[0m\u001b[1;33m)\u001b[0m\u001b[1;33m\u001b[0m\u001b[1;33m\u001b[0m\u001b[0m\n\u001b[0m\u001b[0;32m    755\u001b[0m             \u001b[1;31m# A job can complete so quickly than its callback is\u001b[0m\u001b[1;33m\u001b[0m\u001b[1;33m\u001b[0m\u001b[1;33m\u001b[0m\u001b[0m\n\u001b[0;32m    756\u001b[0m             \u001b[1;31m# called before we get here, causing self._jobs to\u001b[0m\u001b[1;33m\u001b[0m\u001b[1;33m\u001b[0m\u001b[1;33m\u001b[0m\u001b[0m\n",
      "\u001b[1;32m~\\anaconda3\\lib\\site-packages\\joblib\\_parallel_backends.py\u001b[0m in \u001b[0;36mapply_async\u001b[1;34m(self, func, callback)\u001b[0m\n\u001b[0;32m    207\u001b[0m     \u001b[1;32mdef\u001b[0m \u001b[0mapply_async\u001b[0m\u001b[1;33m(\u001b[0m\u001b[0mself\u001b[0m\u001b[1;33m,\u001b[0m \u001b[0mfunc\u001b[0m\u001b[1;33m,\u001b[0m \u001b[0mcallback\u001b[0m\u001b[1;33m=\u001b[0m\u001b[1;32mNone\u001b[0m\u001b[1;33m)\u001b[0m\u001b[1;33m:\u001b[0m\u001b[1;33m\u001b[0m\u001b[1;33m\u001b[0m\u001b[0m\n\u001b[0;32m    208\u001b[0m         \u001b[1;34m\"\"\"Schedule a func to be run\"\"\"\u001b[0m\u001b[1;33m\u001b[0m\u001b[1;33m\u001b[0m\u001b[0m\n\u001b[1;32m--> 209\u001b[1;33m         \u001b[0mresult\u001b[0m \u001b[1;33m=\u001b[0m \u001b[0mImmediateResult\u001b[0m\u001b[1;33m(\u001b[0m\u001b[0mfunc\u001b[0m\u001b[1;33m)\u001b[0m\u001b[1;33m\u001b[0m\u001b[1;33m\u001b[0m\u001b[0m\n\u001b[0m\u001b[0;32m    210\u001b[0m         \u001b[1;32mif\u001b[0m \u001b[0mcallback\u001b[0m\u001b[1;33m:\u001b[0m\u001b[1;33m\u001b[0m\u001b[1;33m\u001b[0m\u001b[0m\n\u001b[0;32m    211\u001b[0m             \u001b[0mcallback\u001b[0m\u001b[1;33m(\u001b[0m\u001b[0mresult\u001b[0m\u001b[1;33m)\u001b[0m\u001b[1;33m\u001b[0m\u001b[1;33m\u001b[0m\u001b[0m\n",
      "\u001b[1;32m~\\anaconda3\\lib\\site-packages\\joblib\\_parallel_backends.py\u001b[0m in \u001b[0;36m__init__\u001b[1;34m(self, batch)\u001b[0m\n\u001b[0;32m    588\u001b[0m         \u001b[1;31m# Don't delay the application, to avoid keeping the input\u001b[0m\u001b[1;33m\u001b[0m\u001b[1;33m\u001b[0m\u001b[1;33m\u001b[0m\u001b[0m\n\u001b[0;32m    589\u001b[0m         \u001b[1;31m# arguments in memory\u001b[0m\u001b[1;33m\u001b[0m\u001b[1;33m\u001b[0m\u001b[1;33m\u001b[0m\u001b[0m\n\u001b[1;32m--> 590\u001b[1;33m         \u001b[0mself\u001b[0m\u001b[1;33m.\u001b[0m\u001b[0mresults\u001b[0m \u001b[1;33m=\u001b[0m \u001b[0mbatch\u001b[0m\u001b[1;33m(\u001b[0m\u001b[1;33m)\u001b[0m\u001b[1;33m\u001b[0m\u001b[1;33m\u001b[0m\u001b[0m\n\u001b[0m\u001b[0;32m    591\u001b[0m \u001b[1;33m\u001b[0m\u001b[0m\n\u001b[0;32m    592\u001b[0m     \u001b[1;32mdef\u001b[0m \u001b[0mget\u001b[0m\u001b[1;33m(\u001b[0m\u001b[0mself\u001b[0m\u001b[1;33m)\u001b[0m\u001b[1;33m:\u001b[0m\u001b[1;33m\u001b[0m\u001b[1;33m\u001b[0m\u001b[0m\n",
      "\u001b[1;32m~\\anaconda3\\lib\\site-packages\\joblib\\parallel.py\u001b[0m in \u001b[0;36m__call__\u001b[1;34m(self)\u001b[0m\n\u001b[0;32m    254\u001b[0m         \u001b[1;32mwith\u001b[0m \u001b[0mparallel_backend\u001b[0m\u001b[1;33m(\u001b[0m\u001b[0mself\u001b[0m\u001b[1;33m.\u001b[0m\u001b[0m_backend\u001b[0m\u001b[1;33m,\u001b[0m \u001b[0mn_jobs\u001b[0m\u001b[1;33m=\u001b[0m\u001b[0mself\u001b[0m\u001b[1;33m.\u001b[0m\u001b[0m_n_jobs\u001b[0m\u001b[1;33m)\u001b[0m\u001b[1;33m:\u001b[0m\u001b[1;33m\u001b[0m\u001b[1;33m\u001b[0m\u001b[0m\n\u001b[0;32m    255\u001b[0m             return [func(*args, **kwargs)\n\u001b[1;32m--> 256\u001b[1;33m                     for func, args, kwargs in self.items]\n\u001b[0m\u001b[0;32m    257\u001b[0m \u001b[1;33m\u001b[0m\u001b[0m\n\u001b[0;32m    258\u001b[0m     \u001b[1;32mdef\u001b[0m \u001b[0m__len__\u001b[0m\u001b[1;33m(\u001b[0m\u001b[0mself\u001b[0m\u001b[1;33m)\u001b[0m\u001b[1;33m:\u001b[0m\u001b[1;33m\u001b[0m\u001b[1;33m\u001b[0m\u001b[0m\n",
      "\u001b[1;32m~\\anaconda3\\lib\\site-packages\\joblib\\parallel.py\u001b[0m in \u001b[0;36m<listcomp>\u001b[1;34m(.0)\u001b[0m\n\u001b[0;32m    254\u001b[0m         \u001b[1;32mwith\u001b[0m \u001b[0mparallel_backend\u001b[0m\u001b[1;33m(\u001b[0m\u001b[0mself\u001b[0m\u001b[1;33m.\u001b[0m\u001b[0m_backend\u001b[0m\u001b[1;33m,\u001b[0m \u001b[0mn_jobs\u001b[0m\u001b[1;33m=\u001b[0m\u001b[0mself\u001b[0m\u001b[1;33m.\u001b[0m\u001b[0m_n_jobs\u001b[0m\u001b[1;33m)\u001b[0m\u001b[1;33m:\u001b[0m\u001b[1;33m\u001b[0m\u001b[1;33m\u001b[0m\u001b[0m\n\u001b[0;32m    255\u001b[0m             return [func(*args, **kwargs)\n\u001b[1;32m--> 256\u001b[1;33m                     for func, args, kwargs in self.items]\n\u001b[0m\u001b[0;32m    257\u001b[0m \u001b[1;33m\u001b[0m\u001b[0m\n\u001b[0;32m    258\u001b[0m     \u001b[1;32mdef\u001b[0m \u001b[0m__len__\u001b[0m\u001b[1;33m(\u001b[0m\u001b[0mself\u001b[0m\u001b[1;33m)\u001b[0m\u001b[1;33m:\u001b[0m\u001b[1;33m\u001b[0m\u001b[1;33m\u001b[0m\u001b[0m\n",
      "\u001b[1;32m~\\anaconda3\\lib\\site-packages\\sklearn\\model_selection\\_validation.py\u001b[0m in \u001b[0;36m_fit_and_score\u001b[1;34m(estimator, X, y, scorer, train, test, verbose, parameters, fit_params, return_train_score, return_parameters, return_n_test_samples, return_times, return_estimator, error_score)\u001b[0m\n\u001b[0;32m    513\u001b[0m             \u001b[0mestimator\u001b[0m\u001b[1;33m.\u001b[0m\u001b[0mfit\u001b[0m\u001b[1;33m(\u001b[0m\u001b[0mX_train\u001b[0m\u001b[1;33m,\u001b[0m \u001b[1;33m**\u001b[0m\u001b[0mfit_params\u001b[0m\u001b[1;33m)\u001b[0m\u001b[1;33m\u001b[0m\u001b[1;33m\u001b[0m\u001b[0m\n\u001b[0;32m    514\u001b[0m         \u001b[1;32melse\u001b[0m\u001b[1;33m:\u001b[0m\u001b[1;33m\u001b[0m\u001b[1;33m\u001b[0m\u001b[0m\n\u001b[1;32m--> 515\u001b[1;33m             \u001b[0mestimator\u001b[0m\u001b[1;33m.\u001b[0m\u001b[0mfit\u001b[0m\u001b[1;33m(\u001b[0m\u001b[0mX_train\u001b[0m\u001b[1;33m,\u001b[0m \u001b[0my_train\u001b[0m\u001b[1;33m,\u001b[0m \u001b[1;33m**\u001b[0m\u001b[0mfit_params\u001b[0m\u001b[1;33m)\u001b[0m\u001b[1;33m\u001b[0m\u001b[1;33m\u001b[0m\u001b[0m\n\u001b[0m\u001b[0;32m    516\u001b[0m \u001b[1;33m\u001b[0m\u001b[0m\n\u001b[0;32m    517\u001b[0m     \u001b[1;32mexcept\u001b[0m \u001b[0mException\u001b[0m \u001b[1;32mas\u001b[0m \u001b[0me\u001b[0m\u001b[1;33m:\u001b[0m\u001b[1;33m\u001b[0m\u001b[1;33m\u001b[0m\u001b[0m\n",
      "\u001b[1;32m~\\anaconda3\\lib\\site-packages\\sklearn\\ensemble\\_forest.py\u001b[0m in \u001b[0;36mfit\u001b[1;34m(self, X, y, sample_weight)\u001b[0m\n\u001b[0;32m    381\u001b[0m                     \u001b[0mverbose\u001b[0m\u001b[1;33m=\u001b[0m\u001b[0mself\u001b[0m\u001b[1;33m.\u001b[0m\u001b[0mverbose\u001b[0m\u001b[1;33m,\u001b[0m \u001b[0mclass_weight\u001b[0m\u001b[1;33m=\u001b[0m\u001b[0mself\u001b[0m\u001b[1;33m.\u001b[0m\u001b[0mclass_weight\u001b[0m\u001b[1;33m,\u001b[0m\u001b[1;33m\u001b[0m\u001b[1;33m\u001b[0m\u001b[0m\n\u001b[0;32m    382\u001b[0m                     n_samples_bootstrap=n_samples_bootstrap)\n\u001b[1;32m--> 383\u001b[1;33m                 for i, t in enumerate(trees))\n\u001b[0m\u001b[0;32m    384\u001b[0m \u001b[1;33m\u001b[0m\u001b[0m\n\u001b[0;32m    385\u001b[0m             \u001b[1;31m# Collect newly grown trees\u001b[0m\u001b[1;33m\u001b[0m\u001b[1;33m\u001b[0m\u001b[1;33m\u001b[0m\u001b[0m\n",
      "\u001b[1;32m~\\anaconda3\\lib\\site-packages\\joblib\\parallel.py\u001b[0m in \u001b[0;36m__call__\u001b[1;34m(self, iterable)\u001b[0m\n\u001b[0;32m   1005\u001b[0m                 \u001b[0mself\u001b[0m\u001b[1;33m.\u001b[0m\u001b[0m_iterating\u001b[0m \u001b[1;33m=\u001b[0m \u001b[0mself\u001b[0m\u001b[1;33m.\u001b[0m\u001b[0m_original_iterator\u001b[0m \u001b[1;32mis\u001b[0m \u001b[1;32mnot\u001b[0m \u001b[1;32mNone\u001b[0m\u001b[1;33m\u001b[0m\u001b[1;33m\u001b[0m\u001b[0m\n\u001b[0;32m   1006\u001b[0m \u001b[1;33m\u001b[0m\u001b[0m\n\u001b[1;32m-> 1007\u001b[1;33m             \u001b[1;32mwhile\u001b[0m \u001b[0mself\u001b[0m\u001b[1;33m.\u001b[0m\u001b[0mdispatch_one_batch\u001b[0m\u001b[1;33m(\u001b[0m\u001b[0miterator\u001b[0m\u001b[1;33m)\u001b[0m\u001b[1;33m:\u001b[0m\u001b[1;33m\u001b[0m\u001b[1;33m\u001b[0m\u001b[0m\n\u001b[0m\u001b[0;32m   1008\u001b[0m                 \u001b[1;32mpass\u001b[0m\u001b[1;33m\u001b[0m\u001b[1;33m\u001b[0m\u001b[0m\n\u001b[0;32m   1009\u001b[0m \u001b[1;33m\u001b[0m\u001b[0m\n",
      "\u001b[1;32m~\\anaconda3\\lib\\site-packages\\joblib\\parallel.py\u001b[0m in \u001b[0;36mdispatch_one_batch\u001b[1;34m(self, iterator)\u001b[0m\n\u001b[0;32m    833\u001b[0m                 \u001b[1;32mreturn\u001b[0m \u001b[1;32mFalse\u001b[0m\u001b[1;33m\u001b[0m\u001b[1;33m\u001b[0m\u001b[0m\n\u001b[0;32m    834\u001b[0m             \u001b[1;32melse\u001b[0m\u001b[1;33m:\u001b[0m\u001b[1;33m\u001b[0m\u001b[1;33m\u001b[0m\u001b[0m\n\u001b[1;32m--> 835\u001b[1;33m                 \u001b[0mself\u001b[0m\u001b[1;33m.\u001b[0m\u001b[0m_dispatch\u001b[0m\u001b[1;33m(\u001b[0m\u001b[0mtasks\u001b[0m\u001b[1;33m)\u001b[0m\u001b[1;33m\u001b[0m\u001b[1;33m\u001b[0m\u001b[0m\n\u001b[0m\u001b[0;32m    836\u001b[0m                 \u001b[1;32mreturn\u001b[0m \u001b[1;32mTrue\u001b[0m\u001b[1;33m\u001b[0m\u001b[1;33m\u001b[0m\u001b[0m\n\u001b[0;32m    837\u001b[0m \u001b[1;33m\u001b[0m\u001b[0m\n",
      "\u001b[1;32m~\\anaconda3\\lib\\site-packages\\joblib\\parallel.py\u001b[0m in \u001b[0;36m_dispatch\u001b[1;34m(self, batch)\u001b[0m\n\u001b[0;32m    752\u001b[0m         \u001b[1;32mwith\u001b[0m \u001b[0mself\u001b[0m\u001b[1;33m.\u001b[0m\u001b[0m_lock\u001b[0m\u001b[1;33m:\u001b[0m\u001b[1;33m\u001b[0m\u001b[1;33m\u001b[0m\u001b[0m\n\u001b[0;32m    753\u001b[0m             \u001b[0mjob_idx\u001b[0m \u001b[1;33m=\u001b[0m \u001b[0mlen\u001b[0m\u001b[1;33m(\u001b[0m\u001b[0mself\u001b[0m\u001b[1;33m.\u001b[0m\u001b[0m_jobs\u001b[0m\u001b[1;33m)\u001b[0m\u001b[1;33m\u001b[0m\u001b[1;33m\u001b[0m\u001b[0m\n\u001b[1;32m--> 754\u001b[1;33m             \u001b[0mjob\u001b[0m \u001b[1;33m=\u001b[0m \u001b[0mself\u001b[0m\u001b[1;33m.\u001b[0m\u001b[0m_backend\u001b[0m\u001b[1;33m.\u001b[0m\u001b[0mapply_async\u001b[0m\u001b[1;33m(\u001b[0m\u001b[0mbatch\u001b[0m\u001b[1;33m,\u001b[0m \u001b[0mcallback\u001b[0m\u001b[1;33m=\u001b[0m\u001b[0mcb\u001b[0m\u001b[1;33m)\u001b[0m\u001b[1;33m\u001b[0m\u001b[1;33m\u001b[0m\u001b[0m\n\u001b[0m\u001b[0;32m    755\u001b[0m             \u001b[1;31m# A job can complete so quickly than its callback is\u001b[0m\u001b[1;33m\u001b[0m\u001b[1;33m\u001b[0m\u001b[1;33m\u001b[0m\u001b[0m\n\u001b[0;32m    756\u001b[0m             \u001b[1;31m# called before we get here, causing self._jobs to\u001b[0m\u001b[1;33m\u001b[0m\u001b[1;33m\u001b[0m\u001b[1;33m\u001b[0m\u001b[0m\n",
      "\u001b[1;32m~\\anaconda3\\lib\\site-packages\\joblib\\_parallel_backends.py\u001b[0m in \u001b[0;36mapply_async\u001b[1;34m(self, func, callback)\u001b[0m\n\u001b[0;32m    207\u001b[0m     \u001b[1;32mdef\u001b[0m \u001b[0mapply_async\u001b[0m\u001b[1;33m(\u001b[0m\u001b[0mself\u001b[0m\u001b[1;33m,\u001b[0m \u001b[0mfunc\u001b[0m\u001b[1;33m,\u001b[0m \u001b[0mcallback\u001b[0m\u001b[1;33m=\u001b[0m\u001b[1;32mNone\u001b[0m\u001b[1;33m)\u001b[0m\u001b[1;33m:\u001b[0m\u001b[1;33m\u001b[0m\u001b[1;33m\u001b[0m\u001b[0m\n\u001b[0;32m    208\u001b[0m         \u001b[1;34m\"\"\"Schedule a func to be run\"\"\"\u001b[0m\u001b[1;33m\u001b[0m\u001b[1;33m\u001b[0m\u001b[0m\n\u001b[1;32m--> 209\u001b[1;33m         \u001b[0mresult\u001b[0m \u001b[1;33m=\u001b[0m \u001b[0mImmediateResult\u001b[0m\u001b[1;33m(\u001b[0m\u001b[0mfunc\u001b[0m\u001b[1;33m)\u001b[0m\u001b[1;33m\u001b[0m\u001b[1;33m\u001b[0m\u001b[0m\n\u001b[0m\u001b[0;32m    210\u001b[0m         \u001b[1;32mif\u001b[0m \u001b[0mcallback\u001b[0m\u001b[1;33m:\u001b[0m\u001b[1;33m\u001b[0m\u001b[1;33m\u001b[0m\u001b[0m\n\u001b[0;32m    211\u001b[0m             \u001b[0mcallback\u001b[0m\u001b[1;33m(\u001b[0m\u001b[0mresult\u001b[0m\u001b[1;33m)\u001b[0m\u001b[1;33m\u001b[0m\u001b[1;33m\u001b[0m\u001b[0m\n",
      "\u001b[1;32m~\\anaconda3\\lib\\site-packages\\joblib\\_parallel_backends.py\u001b[0m in \u001b[0;36m__init__\u001b[1;34m(self, batch)\u001b[0m\n\u001b[0;32m    588\u001b[0m         \u001b[1;31m# Don't delay the application, to avoid keeping the input\u001b[0m\u001b[1;33m\u001b[0m\u001b[1;33m\u001b[0m\u001b[1;33m\u001b[0m\u001b[0m\n\u001b[0;32m    589\u001b[0m         \u001b[1;31m# arguments in memory\u001b[0m\u001b[1;33m\u001b[0m\u001b[1;33m\u001b[0m\u001b[1;33m\u001b[0m\u001b[0m\n\u001b[1;32m--> 590\u001b[1;33m         \u001b[0mself\u001b[0m\u001b[1;33m.\u001b[0m\u001b[0mresults\u001b[0m \u001b[1;33m=\u001b[0m \u001b[0mbatch\u001b[0m\u001b[1;33m(\u001b[0m\u001b[1;33m)\u001b[0m\u001b[1;33m\u001b[0m\u001b[1;33m\u001b[0m\u001b[0m\n\u001b[0m\u001b[0;32m    591\u001b[0m \u001b[1;33m\u001b[0m\u001b[0m\n\u001b[0;32m    592\u001b[0m     \u001b[1;32mdef\u001b[0m \u001b[0mget\u001b[0m\u001b[1;33m(\u001b[0m\u001b[0mself\u001b[0m\u001b[1;33m)\u001b[0m\u001b[1;33m:\u001b[0m\u001b[1;33m\u001b[0m\u001b[1;33m\u001b[0m\u001b[0m\n",
      "\u001b[1;32m~\\anaconda3\\lib\\site-packages\\joblib\\parallel.py\u001b[0m in \u001b[0;36m__call__\u001b[1;34m(self)\u001b[0m\n\u001b[0;32m    254\u001b[0m         \u001b[1;32mwith\u001b[0m \u001b[0mparallel_backend\u001b[0m\u001b[1;33m(\u001b[0m\u001b[0mself\u001b[0m\u001b[1;33m.\u001b[0m\u001b[0m_backend\u001b[0m\u001b[1;33m,\u001b[0m \u001b[0mn_jobs\u001b[0m\u001b[1;33m=\u001b[0m\u001b[0mself\u001b[0m\u001b[1;33m.\u001b[0m\u001b[0m_n_jobs\u001b[0m\u001b[1;33m)\u001b[0m\u001b[1;33m:\u001b[0m\u001b[1;33m\u001b[0m\u001b[1;33m\u001b[0m\u001b[0m\n\u001b[0;32m    255\u001b[0m             return [func(*args, **kwargs)\n\u001b[1;32m--> 256\u001b[1;33m                     for func, args, kwargs in self.items]\n\u001b[0m\u001b[0;32m    257\u001b[0m \u001b[1;33m\u001b[0m\u001b[0m\n\u001b[0;32m    258\u001b[0m     \u001b[1;32mdef\u001b[0m \u001b[0m__len__\u001b[0m\u001b[1;33m(\u001b[0m\u001b[0mself\u001b[0m\u001b[1;33m)\u001b[0m\u001b[1;33m:\u001b[0m\u001b[1;33m\u001b[0m\u001b[1;33m\u001b[0m\u001b[0m\n",
      "\u001b[1;32m~\\anaconda3\\lib\\site-packages\\joblib\\parallel.py\u001b[0m in \u001b[0;36m<listcomp>\u001b[1;34m(.0)\u001b[0m\n\u001b[0;32m    254\u001b[0m         \u001b[1;32mwith\u001b[0m \u001b[0mparallel_backend\u001b[0m\u001b[1;33m(\u001b[0m\u001b[0mself\u001b[0m\u001b[1;33m.\u001b[0m\u001b[0m_backend\u001b[0m\u001b[1;33m,\u001b[0m \u001b[0mn_jobs\u001b[0m\u001b[1;33m=\u001b[0m\u001b[0mself\u001b[0m\u001b[1;33m.\u001b[0m\u001b[0m_n_jobs\u001b[0m\u001b[1;33m)\u001b[0m\u001b[1;33m:\u001b[0m\u001b[1;33m\u001b[0m\u001b[1;33m\u001b[0m\u001b[0m\n\u001b[0;32m    255\u001b[0m             return [func(*args, **kwargs)\n\u001b[1;32m--> 256\u001b[1;33m                     for func, args, kwargs in self.items]\n\u001b[0m\u001b[0;32m    257\u001b[0m \u001b[1;33m\u001b[0m\u001b[0m\n\u001b[0;32m    258\u001b[0m     \u001b[1;32mdef\u001b[0m \u001b[0m__len__\u001b[0m\u001b[1;33m(\u001b[0m\u001b[0mself\u001b[0m\u001b[1;33m)\u001b[0m\u001b[1;33m:\u001b[0m\u001b[1;33m\u001b[0m\u001b[1;33m\u001b[0m\u001b[0m\n",
      "\u001b[1;32m~\\anaconda3\\lib\\site-packages\\sklearn\\ensemble\\_forest.py\u001b[0m in \u001b[0;36m_parallel_build_trees\u001b[1;34m(tree, forest, X, y, sample_weight, tree_idx, n_trees, verbose, class_weight, n_samples_bootstrap)\u001b[0m\n\u001b[0;32m    163\u001b[0m             \u001b[0mcurr_sample_weight\u001b[0m \u001b[1;33m*=\u001b[0m \u001b[0mcompute_sample_weight\u001b[0m\u001b[1;33m(\u001b[0m\u001b[1;34m'balanced'\u001b[0m\u001b[1;33m,\u001b[0m \u001b[0my\u001b[0m\u001b[1;33m,\u001b[0m \u001b[0mindices\u001b[0m\u001b[1;33m)\u001b[0m\u001b[1;33m\u001b[0m\u001b[1;33m\u001b[0m\u001b[0m\n\u001b[0;32m    164\u001b[0m \u001b[1;33m\u001b[0m\u001b[0m\n\u001b[1;32m--> 165\u001b[1;33m         \u001b[0mtree\u001b[0m\u001b[1;33m.\u001b[0m\u001b[0mfit\u001b[0m\u001b[1;33m(\u001b[0m\u001b[0mX\u001b[0m\u001b[1;33m,\u001b[0m \u001b[0my\u001b[0m\u001b[1;33m,\u001b[0m \u001b[0msample_weight\u001b[0m\u001b[1;33m=\u001b[0m\u001b[0mcurr_sample_weight\u001b[0m\u001b[1;33m,\u001b[0m \u001b[0mcheck_input\u001b[0m\u001b[1;33m=\u001b[0m\u001b[1;32mFalse\u001b[0m\u001b[1;33m)\u001b[0m\u001b[1;33m\u001b[0m\u001b[1;33m\u001b[0m\u001b[0m\n\u001b[0m\u001b[0;32m    166\u001b[0m     \u001b[1;32melse\u001b[0m\u001b[1;33m:\u001b[0m\u001b[1;33m\u001b[0m\u001b[1;33m\u001b[0m\u001b[0m\n\u001b[0;32m    167\u001b[0m         \u001b[0mtree\u001b[0m\u001b[1;33m.\u001b[0m\u001b[0mfit\u001b[0m\u001b[1;33m(\u001b[0m\u001b[0mX\u001b[0m\u001b[1;33m,\u001b[0m \u001b[0my\u001b[0m\u001b[1;33m,\u001b[0m \u001b[0msample_weight\u001b[0m\u001b[1;33m=\u001b[0m\u001b[0msample_weight\u001b[0m\u001b[1;33m,\u001b[0m \u001b[0mcheck_input\u001b[0m\u001b[1;33m=\u001b[0m\u001b[1;32mFalse\u001b[0m\u001b[1;33m)\u001b[0m\u001b[1;33m\u001b[0m\u001b[1;33m\u001b[0m\u001b[0m\n",
      "\u001b[1;32m~\\anaconda3\\lib\\site-packages\\sklearn\\tree\\_classes.py\u001b[0m in \u001b[0;36mfit\u001b[1;34m(self, X, y, sample_weight, check_input, X_idx_sorted)\u001b[0m\n\u001b[0;32m   1223\u001b[0m             \u001b[0msample_weight\u001b[0m\u001b[1;33m=\u001b[0m\u001b[0msample_weight\u001b[0m\u001b[1;33m,\u001b[0m\u001b[1;33m\u001b[0m\u001b[1;33m\u001b[0m\u001b[0m\n\u001b[0;32m   1224\u001b[0m             \u001b[0mcheck_input\u001b[0m\u001b[1;33m=\u001b[0m\u001b[0mcheck_input\u001b[0m\u001b[1;33m,\u001b[0m\u001b[1;33m\u001b[0m\u001b[1;33m\u001b[0m\u001b[0m\n\u001b[1;32m-> 1225\u001b[1;33m             X_idx_sorted=X_idx_sorted)\n\u001b[0m\u001b[0;32m   1226\u001b[0m         \u001b[1;32mreturn\u001b[0m \u001b[0mself\u001b[0m\u001b[1;33m\u001b[0m\u001b[1;33m\u001b[0m\u001b[0m\n\u001b[0;32m   1227\u001b[0m \u001b[1;33m\u001b[0m\u001b[0m\n",
      "\u001b[1;32m~\\anaconda3\\lib\\site-packages\\sklearn\\tree\\_classes.py\u001b[0m in \u001b[0;36mfit\u001b[1;34m(self, X, y, sample_weight, check_input, X_idx_sorted)\u001b[0m\n\u001b[0;32m    365\u001b[0m                                            min_impurity_split)\n\u001b[0;32m    366\u001b[0m \u001b[1;33m\u001b[0m\u001b[0m\n\u001b[1;32m--> 367\u001b[1;33m         \u001b[0mbuilder\u001b[0m\u001b[1;33m.\u001b[0m\u001b[0mbuild\u001b[0m\u001b[1;33m(\u001b[0m\u001b[0mself\u001b[0m\u001b[1;33m.\u001b[0m\u001b[0mtree_\u001b[0m\u001b[1;33m,\u001b[0m \u001b[0mX\u001b[0m\u001b[1;33m,\u001b[0m \u001b[0my\u001b[0m\u001b[1;33m,\u001b[0m \u001b[0msample_weight\u001b[0m\u001b[1;33m,\u001b[0m \u001b[0mX_idx_sorted\u001b[0m\u001b[1;33m)\u001b[0m\u001b[1;33m\u001b[0m\u001b[1;33m\u001b[0m\u001b[0m\n\u001b[0m\u001b[0;32m    368\u001b[0m \u001b[1;33m\u001b[0m\u001b[0m\n\u001b[0;32m    369\u001b[0m         \u001b[1;32mif\u001b[0m \u001b[0mself\u001b[0m\u001b[1;33m.\u001b[0m\u001b[0mn_outputs_\u001b[0m \u001b[1;33m==\u001b[0m \u001b[1;36m1\u001b[0m \u001b[1;32mand\u001b[0m \u001b[0mis_classifier\u001b[0m\u001b[1;33m(\u001b[0m\u001b[0mself\u001b[0m\u001b[1;33m)\u001b[0m\u001b[1;33m:\u001b[0m\u001b[1;33m\u001b[0m\u001b[1;33m\u001b[0m\u001b[0m\n",
      "\u001b[1;31mKeyboardInterrupt\u001b[0m: "
     ]
    }
   ],
   "source": [
    "# So here RandomForestRegressor is the best model, so lets find out the best parameter for this to get maximum score\n",
    "#lets use grid search method to find optimal value \n",
    "\n",
    "from sklearn.model_selection import GridSearchCV\n",
    "from sklearn.ensemble import RandomForestRegressor\n",
    "rfreg=RandomForestRegressor()\n",
    "parameters={'bootstrap': [True, False],\n",
    "            'max_depth': [5, 10,None],\n",
    "            'max_features': ['auto', 'sqrt'],\n",
    "            'min_samples_leaf': [1, 2, 5,],\n",
    "            'min_samples_split': [2, 5],\n",
    "            'n_estimators':[int(x) for x in np.linspace(start = 200, stop = 1000, num = 200)]}\n",
    "clf=GridSearchCV(rfreg, parameters, cv=5)\n",
    "clf.fit(x,y)\n",
    "clf.best_params_\n",
    "\n",
    "#its taking long time to get the best parameter, so i stopped in middle"
   ]
  },
  {
   "cell_type": "code",
   "execution_count": 100,
   "metadata": {},
   "outputs": [
    {
     "name": "stdout",
     "output_type": "stream",
     "text": [
      "R2 score is: 0.7793784525717182\n",
      "RMSE is: 0.46591949345236433\n"
     ]
    }
   ],
   "source": [
    "#the best parameter values are bootstrap=, max_depth= ,max_features= ,min_samples_leaf= ,min_samples_split= ,n_estimators= and random_state=86\n",
    "#this is taking long time (aapx more than 5 hrs) to find all the best parameters, so stopped the execution.\n",
    "#hence building the final model with random_state=86.\n",
    "\n",
    "from sklearn.model_selection import train_test_split\n",
    "from sklearn.ensemble import RandomForestRegressor\n",
    "from sklearn.metrics import mean_squared_error\n",
    "from sklearn.metrics import r2_score\n",
    "x_train,x_test,y_train,y_test = train_test_split(x,y,test_size=0.2,random_state=86)\n",
    "rfreg=RandomForestRegressor()\n",
    "rfreg.fit(x_train,y_train)\n",
    "y_pred=rfreg.predict(x_test)\n",
    "print('R2 score is:',r2_score(y_test,y_pred))\n",
    "print('RMSE is:',np.sqrt(mean_squared_error(y_test,y_pred)))"
   ]
  },
  {
   "cell_type": "code",
   "execution_count": 101,
   "metadata": {},
   "outputs": [
    {
     "name": "stdout",
     "output_type": "stream",
     "text": [
      "Mean R2 score of RandomForestRegressor is: 0.7118659877260992\n",
      "Standard Deviation of RandomForestRegressor is: 0.039693720526224205\n"
     ]
    }
   ],
   "source": [
    "#checking the mean r2 score and overfitting and underfitting using cross validation\n",
    "from sklearn.model_selection import cross_val_score\n",
    "print('Mean R2 score of RandomForestRegressor is:', cross_val_score(rfreg,x,y,cv=5,scoring='r2').mean())\n",
    "print('Standard Deviation of RandomForestRegressor is:',cross_val_score(rfreg,x,y,cv=5,scoring='r2').std())"
   ]
  },
  {
   "cell_type": "code",
   "execution_count": 102,
   "metadata": {},
   "outputs": [
    {
     "name": "stdout",
     "output_type": "stream",
     "text": [
      "Actual Cost:\n",
      "           COST\n",
      "9094 -0.168006\n",
      "7907 -0.247704\n",
      "4274 -0.725894\n",
      "1531 -0.566498\n",
      "2995 -0.486799\n",
      "...        ...\n",
      "1503  1.346264\n",
      "9725 -0.327402\n",
      "5490 -0.088307\n",
      "6325 -0.486799\n",
      "3137 -0.247704\n",
      "\n",
      "[2533 rows x 1 columns]\n",
      "Predicted Cost:\n",
      " [-0.49158107 -0.65018091 -0.61830155 ... -0.29313202 -0.58164028\n",
      " -0.4652806 ]\n"
     ]
    }
   ],
   "source": [
    "#lets predict the Avarage Price value\n",
    "print('Actual Cost:\\n',y_test)\n",
    "print('Predicted Cost:\\n',y_pred)\n",
    "\n",
    "#So by looking this we can conclude that our model is predicting around 86% of correct results \n",
    "#for predicting the claim amount auto insurance."
   ]
  },
  {
   "cell_type": "code",
   "execution_count": 103,
   "metadata": {},
   "outputs": [
    {
     "data": {
      "text/plain": [
       "['rfreg_rfcost.obj']"
      ]
     },
     "execution_count": 103,
     "metadata": {},
     "output_type": "execute_result"
    }
   ],
   "source": [
    "#saving the final model\n",
    "from sklearn.externals import joblib\n",
    "#save the model as joblib in a file\n",
    "joblib.dump(rfreg,'rfreg_rfcost.obj')"
   ]
  },
  {
   "cell_type": "code",
   "execution_count": 104,
   "metadata": {},
   "outputs": [],
   "source": [
    "# load the model from the file\n",
    "rfcost_from_joblib=joblib.load('rfreg_rfcost.obj')"
   ]
  },
  {
   "cell_type": "code",
   "execution_count": 105,
   "metadata": {},
   "outputs": [
    {
     "data": {
      "text/plain": [
       "array([-0.49158107, -0.65018091, -0.61830155, ..., -0.29313202,\n",
       "       -0.58164028, -0.4652806 ])"
      ]
     },
     "execution_count": 105,
     "metadata": {},
     "output_type": "execute_result"
    }
   ],
   "source": [
    "#Use the loaded model to make predictions against test data\n",
    "rfcost_from_joblib.predict(x_test)"
   ]
  },
  {
   "cell_type": "code",
   "execution_count": 106,
   "metadata": {},
   "outputs": [
    {
     "name": "stdout",
     "output_type": "stream",
     "text": [
      "[ 0.459221   -0.52824234  0.06630782 ... -0.46687456 -0.51947552\n",
      " -0.51389663]\n"
     ]
    }
   ],
   "source": [
    "#lets predict the resturant food cost for test dataset which provided initially\n",
    "rfcost_test_predict=rfcost_from_joblib.predict(rfoodcost_test)\n",
    "print(rfcost_test_predict)"
   ]
  },
  {
   "cell_type": "markdown",
   "metadata": {},
   "source": [
    "# Conclusion:\n",
    "    \n",
    "So here 'RandomForestRegressor Model' is the best model out of all model tested above and by looking this we can\n",
    "conclude that our model is predicting around 80% of correct results for predicting the resturant food cost."
   ]
  },
  {
   "cell_type": "code",
   "execution_count": null,
   "metadata": {},
   "outputs": [],
   "source": []
  },
  {
   "cell_type": "code",
   "execution_count": null,
   "metadata": {},
   "outputs": [],
   "source": []
  }
 ],
 "metadata": {
  "kernelspec": {
   "display_name": "Python 3",
   "language": "python",
   "name": "python3"
  },
  "language_info": {
   "codemirror_mode": {
    "name": "ipython",
    "version": 3
   },
   "file_extension": ".py",
   "mimetype": "text/x-python",
   "name": "python",
   "nbconvert_exporter": "python",
   "pygments_lexer": "ipython3",
   "version": "3.7.6"
  }
 },
 "nbformat": 4,
 "nbformat_minor": 4
}
