{
 "cells": [
  {
   "cell_type": "markdown",
   "metadata": {},
   "source": [
    "# Country_Wide_COVID19_Datasets \n",
    "\n",
    "The dataset contains data about the numbers of tests, cases, deaths, serious/critical cases, active cases and recovered\n",
    "cases in each country for every day since April 18, and also contains the population of each country to calculate \n",
    "per-capita penetration of the virus\n",
    "\n",
    "Additionally, an auxiliary table with information about the fraction of the general population at different age groups\n",
    "for every country is added (taken from Wikipedia). This is specifically relevant since COVID-19 death rate is very much\n",
    "age dependent.\n",
    "\n",
    "Acknowledgements\n",
    "The people at \"www.worldometers.info\" collecting and maintaining this site really are doing very important work\n",
    "https://www.worldometers.info/coronavirus/#countries\n",
    "\n",
    "Data about age structure for every country comes from wikipedia\n",
    "\n",
    "Inspiration\n",
    "It's possible to use this dataset for various purposes and analyses\n",
    "My goal will be to use the additional data about the number of tests performed in each country to estimate the true death\n",
    "rate of COVID-19 and examine the relationship with age .(Consider the both files for understanding the scenario.)\n",
    "\n",
    "https://github.com/dsrscientist/COVID_19_Datasets/blob/master/worldometer_snapshots_April18_to_May18.csv\n",
    "\n",
    "https://github.com/dsrscientist/COVID_19_Datasets/blob/master/population_structure_by_age_per_contry.csv\n",
    "\n",
    "So here we will use different regression methods to predict COVID-19 death rate of India and will forecast the death rate\n",
    "till December 2020."
   ]
  },
  {
   "cell_type": "markdown",
   "metadata": {},
   "source": [
    "# 1-Data Exploration (Reading the data and attributes name)"
   ]
  },
  {
   "cell_type": "code",
   "execution_count": 1,
   "metadata": {},
   "outputs": [],
   "source": [
    "#Importing all basic required libray\n",
    "import numpy as np\n",
    "import pandas as pd\n",
    "import matplotlib.pyplot as plt\n",
    "import seaborn as sns\n",
    "import warnings\n",
    "warnings.filterwarnings('ignore')"
   ]
  },
  {
   "cell_type": "code",
   "execution_count": 2,
   "metadata": {},
   "outputs": [
    {
     "name": "stdout",
     "output_type": "stream",
     "text": [
      "(6603, 9)\n",
      "(213, 4)\n"
     ]
    }
   ],
   "source": [
    "#lets import the covid19 country wide dataset and covid19 datset by age group\n",
    "covid19_allcountry=pd.read_csv('covid19_countrywide.csv')\n",
    "print(covid19_allcountry.shape)\n",
    "\n",
    "covid19_byage=pd.read_csv('covid19_byage.csv')\n",
    "print(covid19_byage.shape)"
   ]
  },
  {
   "cell_type": "code",
   "execution_count": 3,
   "metadata": {},
   "outputs": [
    {
     "name": "stdout",
     "output_type": "stream",
     "text": [
      "         Date Country  Population  Total Tests  Total Cases  Total Deaths  \\\n",
      "0  2020-04-18     USA   330774664    3722145.0     738792.0       39014.0   \n",
      "1  2020-04-18  Russia   145927292    1831892.0      36793.0         313.0   \n",
      "2  2020-04-18   Spain    46752703     930230.0     194416.0       20043.0   \n",
      "3  2020-04-18  Brazil   212380932      62985.0      36722.0        2361.0   \n",
      "4  2020-04-18      UK    67844241     460437.0     114217.0       15464.0   \n",
      "\n",
      "   Total Recovered  Serious or Critical  Active Cases  \n",
      "0          68269.0              13551.0      631509.0  \n",
      "1           3057.0                  8.0       33423.0  \n",
      "2          74797.0               7371.0       99576.0  \n",
      "3          14026.0               6634.0       20335.0  \n",
      "4              NaN               1559.0       98409.0  \n"
     ]
    }
   ],
   "source": [
    "#lets print the data\n",
    "print(covid19_allcountry.head())"
   ]
  },
  {
   "cell_type": "code",
   "execution_count": 5,
   "metadata": {},
   "outputs": [
    {
     "name": "stdout",
     "output_type": "stream",
     "text": [
      "<class 'pandas.core.frame.DataFrame'>\n",
      "RangeIndex: 6603 entries, 0 to 6602\n",
      "Data columns (total 9 columns):\n",
      " #   Column               Non-Null Count  Dtype  \n",
      "---  ------               --------------  -----  \n",
      " 0   Date                 6603 non-null   object \n",
      " 1   Country              6603 non-null   object \n",
      " 2   Population           6603 non-null   int64  \n",
      " 3   Total Tests          5505 non-null   float64\n",
      " 4   Total Cases          6554 non-null   float64\n",
      " 5   Total Deaths         5367 non-null   float64\n",
      " 6   Total Recovered      6318 non-null   float64\n",
      " 7   Serious or Critical  4117 non-null   float64\n",
      " 8   Active Cases         6544 non-null   float64\n",
      "dtypes: float64(6), int64(1), object(2)\n",
      "memory usage: 464.4+ KB\n"
     ]
    }
   ],
   "source": [
    "#lets check is there any null value or not\n",
    "covid19_allcountry.info()"
   ]
  },
  {
   "cell_type": "code",
   "execution_count": 6,
   "metadata": {},
   "outputs": [
    {
     "data": {
      "text/plain": [
       "Date                      0\n",
       "Country                   0\n",
       "Population                0\n",
       "Total Tests            1098\n",
       "Total Cases              49\n",
       "Total Deaths           1236\n",
       "Total Recovered         285\n",
       "Serious or Critical    2486\n",
       "Active Cases             59\n",
       "dtype: int64"
      ]
     },
     "execution_count": 6,
     "metadata": {},
     "output_type": "execute_result"
    }
   ],
   "source": [
    "#lets check how many are there null values\n",
    "covid19_allcountry.isnull().sum()"
   ]
  },
  {
   "cell_type": "code",
   "execution_count": 7,
   "metadata": {},
   "outputs": [
    {
     "name": "stdout",
     "output_type": "stream",
     "text": [
      "  Country  Fraction age 0-14 years  Fraction age 15-64 years  \\\n",
      "0     USA                    0.189                     0.657   \n",
      "1  Russia                    0.176                     0.682   \n",
      "2   Spain                    0.147                     0.659   \n",
      "3  Brazil                    0.217                     0.697   \n",
      "4      UK                    0.177                     0.638   \n",
      "\n",
      "   Fraction age 65+ years  \n",
      "0                   0.154  \n",
      "1                   0.142  \n",
      "2                   0.194  \n",
      "3                   0.086  \n",
      "4                   0.185  \n"
     ]
    }
   ],
   "source": [
    "#lets print the data\n",
    "print(covid19_byage.head())"
   ]
  },
  {
   "cell_type": "code",
   "execution_count": 8,
   "metadata": {},
   "outputs": [
    {
     "name": "stdout",
     "output_type": "stream",
     "text": [
      "<class 'pandas.core.frame.DataFrame'>\n",
      "RangeIndex: 213 entries, 0 to 212\n",
      "Data columns (total 4 columns):\n",
      " #   Column                    Non-Null Count  Dtype  \n",
      "---  ------                    --------------  -----  \n",
      " 0   Country                   213 non-null    object \n",
      " 1   Fraction age 0-14 years   176 non-null    float64\n",
      " 2   Fraction age 15-64 years  176 non-null    float64\n",
      " 3   Fraction age 65+ years    176 non-null    float64\n",
      "dtypes: float64(3), object(1)\n",
      "memory usage: 6.8+ KB\n"
     ]
    }
   ],
   "source": [
    "#lets check is there any null value or not\n",
    "covid19_byage.info()"
   ]
  },
  {
   "cell_type": "code",
   "execution_count": 9,
   "metadata": {},
   "outputs": [
    {
     "data": {
      "text/plain": [
       "Country                      0\n",
       "Fraction age 0-14 years     37\n",
       "Fraction age 15-64 years    37\n",
       "Fraction age 65+ years      37\n",
       "dtype: int64"
      ]
     },
     "execution_count": 9,
     "metadata": {},
     "output_type": "execute_result"
    }
   ],
   "source": [
    "#lets check how many are there null values\n",
    "covid19_byage.isnull().sum()"
   ]
  },
  {
   "cell_type": "markdown",
   "metadata": {},
   "source": [
    "# 2-Exploratory Data Analysis (Exploring, Imputing, Cleaning & Visualizing)"
   ]
  },
  {
   "cell_type": "code",
   "execution_count": 19,
   "metadata": {},
   "outputs": [
    {
     "name": "stdout",
     "output_type": "stream",
     "text": [
      "(31, 9)\n"
     ]
    }
   ],
   "source": [
    "#As we are going to analysis the data for India, so lets see the India's covid19 cases\n",
    "\n",
    "covid19_India=covid19_allcountry.loc[covid19_allcountry['Country']=='India']\n",
    "print(covid19_India.shape)"
   ]
  },
  {
   "cell_type": "code",
   "execution_count": 20,
   "metadata": {},
   "outputs": [
    {
     "name": "stdout",
     "output_type": "stream",
     "text": [
      "           Date Country  Population  Total Tests  Total Cases  Total Deaths  \\\n",
      "10   2020-04-18   India  1378381772     335123.0      16365.0         521.0   \n",
      "223  2020-04-19   India  1378381772     401586.0      17615.0         559.0   \n",
      "436  2020-04-20   India  1378381772     401586.0      18539.0         592.0   \n",
      "649  2020-04-21   India  1378381772     447812.0      20080.0         645.0   \n",
      "862  2020-04-22   India  1378381772     462621.0      21370.0         681.0   \n",
      "\n",
      "     Total Recovered  Serious or Critical  Active Cases  \n",
      "10            2463.0                  NaN       13381.0  \n",
      "223           2854.0                  NaN       14202.0  \n",
      "436           3273.0                  NaN       14674.0  \n",
      "649           3975.0                  NaN       15460.0  \n",
      "862           4370.0                  NaN       16319.0  \n"
     ]
    }
   ],
   "source": [
    "#lets print the data of India cases\n",
    "print(covid19_India.head())"
   ]
  },
  {
   "cell_type": "code",
   "execution_count": 22,
   "metadata": {},
   "outputs": [
    {
     "data": {
      "text/html": [
       "<div>\n",
       "<style scoped>\n",
       "    .dataframe tbody tr th:only-of-type {\n",
       "        vertical-align: middle;\n",
       "    }\n",
       "\n",
       "    .dataframe tbody tr th {\n",
       "        vertical-align: top;\n",
       "    }\n",
       "\n",
       "    .dataframe thead th {\n",
       "        text-align: right;\n",
       "    }\n",
       "</style>\n",
       "<table border=\"1\" class=\"dataframe\">\n",
       "  <thead>\n",
       "    <tr style=\"text-align: right;\">\n",
       "      <th></th>\n",
       "      <th>Population</th>\n",
       "      <th>Total Tests</th>\n",
       "      <th>Total Cases</th>\n",
       "      <th>Total Deaths</th>\n",
       "      <th>Total Recovered</th>\n",
       "      <th>Serious or Critical</th>\n",
       "      <th>Active Cases</th>\n",
       "    </tr>\n",
       "  </thead>\n",
       "  <tbody>\n",
       "    <tr>\n",
       "      <th>count</th>\n",
       "      <td>3.100000e+01</td>\n",
       "      <td>3.100000e+01</td>\n",
       "      <td>31.000000</td>\n",
       "      <td>31.000000</td>\n",
       "      <td>31.000000</td>\n",
       "      <td>0.0</td>\n",
       "      <td>31.000000</td>\n",
       "    </tr>\n",
       "    <tr>\n",
       "      <th>mean</th>\n",
       "      <td>1.378382e+09</td>\n",
       "      <td>1.152194e+06</td>\n",
       "      <td>48909.612903</td>\n",
       "      <td>1589.258065</td>\n",
       "      <td>14998.451613</td>\n",
       "      <td>NaN</td>\n",
       "      <td>32410.225806</td>\n",
       "    </tr>\n",
       "    <tr>\n",
       "      <th>std</th>\n",
       "      <td>0.000000e+00</td>\n",
       "      <td>6.168781e+05</td>\n",
       "      <td>25750.075605</td>\n",
       "      <td>827.617020</td>\n",
       "      <td>10706.462537</td>\n",
       "      <td>NaN</td>\n",
       "      <td>14298.705799</td>\n",
       "    </tr>\n",
       "    <tr>\n",
       "      <th>min</th>\n",
       "      <td>1.378382e+09</td>\n",
       "      <td>3.351230e+05</td>\n",
       "      <td>16365.000000</td>\n",
       "      <td>521.000000</td>\n",
       "      <td>2463.000000</td>\n",
       "      <td>NaN</td>\n",
       "      <td>13381.000000</td>\n",
       "    </tr>\n",
       "    <tr>\n",
       "      <th>25%</th>\n",
       "      <td>1.378382e+09</td>\n",
       "      <td>6.026330e+05</td>\n",
       "      <td>27086.500000</td>\n",
       "      <td>853.000000</td>\n",
       "      <td>6231.000000</td>\n",
       "      <td>NaN</td>\n",
       "      <td>20002.500000</td>\n",
       "    </tr>\n",
       "    <tr>\n",
       "      <th>50%</th>\n",
       "      <td>1.378382e+09</td>\n",
       "      <td>1.046450e+06</td>\n",
       "      <td>42505.000000</td>\n",
       "      <td>1391.000000</td>\n",
       "      <td>11775.000000</td>\n",
       "      <td>NaN</td>\n",
       "      <td>29339.000000</td>\n",
       "    </tr>\n",
       "    <tr>\n",
       "      <th>75%</th>\n",
       "      <td>1.378382e+09</td>\n",
       "      <td>1.641362e+06</td>\n",
       "      <td>68964.500000</td>\n",
       "      <td>2253.000000</td>\n",
       "      <td>21759.000000</td>\n",
       "      <td>NaN</td>\n",
       "      <td>44952.500000</td>\n",
       "    </tr>\n",
       "    <tr>\n",
       "      <th>max</th>\n",
       "      <td>1.378382e+09</td>\n",
       "      <td>2.302792e+06</td>\n",
       "      <td>100328.000000</td>\n",
       "      <td>3156.000000</td>\n",
       "      <td>39233.000000</td>\n",
       "      <td>NaN</td>\n",
       "      <td>57939.000000</td>\n",
       "    </tr>\n",
       "  </tbody>\n",
       "</table>\n",
       "</div>"
      ],
      "text/plain": [
       "         Population   Total Tests    Total Cases  Total Deaths  \\\n",
       "count  3.100000e+01  3.100000e+01      31.000000     31.000000   \n",
       "mean   1.378382e+09  1.152194e+06   48909.612903   1589.258065   \n",
       "std    0.000000e+00  6.168781e+05   25750.075605    827.617020   \n",
       "min    1.378382e+09  3.351230e+05   16365.000000    521.000000   \n",
       "25%    1.378382e+09  6.026330e+05   27086.500000    853.000000   \n",
       "50%    1.378382e+09  1.046450e+06   42505.000000   1391.000000   \n",
       "75%    1.378382e+09  1.641362e+06   68964.500000   2253.000000   \n",
       "max    1.378382e+09  2.302792e+06  100328.000000   3156.000000   \n",
       "\n",
       "       Total Recovered  Serious or Critical  Active Cases  \n",
       "count        31.000000                  0.0     31.000000  \n",
       "mean      14998.451613                  NaN  32410.225806  \n",
       "std       10706.462537                  NaN  14298.705799  \n",
       "min        2463.000000                  NaN  13381.000000  \n",
       "25%        6231.000000                  NaN  20002.500000  \n",
       "50%       11775.000000                  NaN  29339.000000  \n",
       "75%       21759.000000                  NaN  44952.500000  \n",
       "max       39233.000000                  NaN  57939.000000  "
      ]
     },
     "execution_count": 22,
     "metadata": {},
     "output_type": "execute_result"
    }
   ],
   "source": [
    "#lets see the dataset description\n",
    "covid19_India.describe()"
   ]
  },
  {
   "cell_type": "code",
   "execution_count": 21,
   "metadata": {},
   "outputs": [
    {
     "data": {
      "text/plain": [
       "Date                    0\n",
       "Country                 0\n",
       "Population              0\n",
       "Total Tests             0\n",
       "Total Cases             0\n",
       "Total Deaths            0\n",
       "Total Recovered         0\n",
       "Serious or Critical    31\n",
       "Active Cases            0\n",
       "dtype: int64"
      ]
     },
     "execution_count": 21,
     "metadata": {},
     "output_type": "execute_result"
    }
   ],
   "source": [
    "#lets check how many are there null values\n",
    "covid19_India.isnull().sum()"
   ]
  },
  {
   "cell_type": "code",
   "execution_count": 23,
   "metadata": {},
   "outputs": [
    {
     "name": "stdout",
     "output_type": "stream",
     "text": [
      "(31, 8)\n",
      "Date               0\n",
      "Country            0\n",
      "Population         0\n",
      "Total Tests        0\n",
      "Total Cases        0\n",
      "Total Deaths       0\n",
      "Total Recovered    0\n",
      "Active Cases       0\n",
      "dtype: int64\n"
     ]
    }
   ],
   "source": [
    "#we saw there are no data for 'Serious or Critical', so we will drop this attribute from dataset\n",
    "\n",
    "covid19_India=covid19_India.drop(['Serious or Critical'],axis=1)\n",
    "print(covid19_India.shape)\n",
    "print(covid19_India.isnull().sum())"
   ]
  },
  {
   "cell_type": "code",
   "execution_count": 24,
   "metadata": {},
   "outputs": [
    {
     "name": "stdout",
     "output_type": "stream",
     "text": [
      "(1, 4)\n"
     ]
    }
   ],
   "source": [
    "#similarly we are going to analysis the data for India from age wise, so lets see the India's covid19 cases based on age wise\n",
    "\n",
    "covid19_India_byage=covid19_byage.loc[covid19_byage['Country']=='India']\n",
    "print(covid19_India_byage.shape)"
   ]
  },
  {
   "cell_type": "code",
   "execution_count": 32,
   "metadata": {},
   "outputs": [
    {
     "name": "stdout",
     "output_type": "stream",
     "text": [
      "(32, 11)\n"
     ]
    }
   ],
   "source": [
    "#So for our analysis, lets combine both datasets\n",
    "covid19_India_final = pd.concat([covid19_India,covid19_India_byage],sort=False)\n",
    "print(covid19_India_final.shape)"
   ]
  },
  {
   "cell_type": "code",
   "execution_count": 33,
   "metadata": {},
   "outputs": [
    {
     "data": {
      "text/plain": [
       "Date                         1\n",
       "Country                      0\n",
       "Population                   1\n",
       "Total Tests                  1\n",
       "Total Cases                  1\n",
       "Total Deaths                 1\n",
       "Total Recovered              1\n",
       "Active Cases                 1\n",
       "Fraction age 0-14 years     31\n",
       "Fraction age 15-64 years    31\n",
       "Fraction age 65+ years      31\n",
       "dtype: int64"
      ]
     },
     "execution_count": 33,
     "metadata": {},
     "output_type": "execute_result"
    }
   ],
   "source": [
    "#lets check how many are there null values\n",
    "covid19_India_final.isnull().sum()"
   ]
  },
  {
   "cell_type": "code",
   "execution_count": 34,
   "metadata": {},
   "outputs": [
    {
     "data": {
      "text/html": [
       "<div>\n",
       "<style scoped>\n",
       "    .dataframe tbody tr th:only-of-type {\n",
       "        vertical-align: middle;\n",
       "    }\n",
       "\n",
       "    .dataframe tbody tr th {\n",
       "        vertical-align: top;\n",
       "    }\n",
       "\n",
       "    .dataframe thead th {\n",
       "        text-align: right;\n",
       "    }\n",
       "</style>\n",
       "<table border=\"1\" class=\"dataframe\">\n",
       "  <thead>\n",
       "    <tr style=\"text-align: right;\">\n",
       "      <th></th>\n",
       "      <th>Date</th>\n",
       "      <th>Country</th>\n",
       "      <th>Population</th>\n",
       "      <th>Total Tests</th>\n",
       "      <th>Total Cases</th>\n",
       "      <th>Total Deaths</th>\n",
       "      <th>Total Recovered</th>\n",
       "      <th>Active Cases</th>\n",
       "      <th>Fraction age 0-14 years</th>\n",
       "      <th>Fraction age 15-64 years</th>\n",
       "      <th>Fraction age 65+ years</th>\n",
       "    </tr>\n",
       "  </thead>\n",
       "  <tbody>\n",
       "    <tr>\n",
       "      <th>10</th>\n",
       "      <td>2020-04-18</td>\n",
       "      <td>India</td>\n",
       "      <td>1.378382e+09</td>\n",
       "      <td>335123.0</td>\n",
       "      <td>16365.0</td>\n",
       "      <td>521.0</td>\n",
       "      <td>2463.0</td>\n",
       "      <td>13381.0</td>\n",
       "      <td>NaN</td>\n",
       "      <td>NaN</td>\n",
       "      <td>NaN</td>\n",
       "    </tr>\n",
       "    <tr>\n",
       "      <th>223</th>\n",
       "      <td>2020-04-19</td>\n",
       "      <td>India</td>\n",
       "      <td>1.378382e+09</td>\n",
       "      <td>401586.0</td>\n",
       "      <td>17615.0</td>\n",
       "      <td>559.0</td>\n",
       "      <td>2854.0</td>\n",
       "      <td>14202.0</td>\n",
       "      <td>NaN</td>\n",
       "      <td>NaN</td>\n",
       "      <td>NaN</td>\n",
       "    </tr>\n",
       "    <tr>\n",
       "      <th>436</th>\n",
       "      <td>2020-04-20</td>\n",
       "      <td>India</td>\n",
       "      <td>1.378382e+09</td>\n",
       "      <td>401586.0</td>\n",
       "      <td>18539.0</td>\n",
       "      <td>592.0</td>\n",
       "      <td>3273.0</td>\n",
       "      <td>14674.0</td>\n",
       "      <td>NaN</td>\n",
       "      <td>NaN</td>\n",
       "      <td>NaN</td>\n",
       "    </tr>\n",
       "    <tr>\n",
       "      <th>649</th>\n",
       "      <td>2020-04-21</td>\n",
       "      <td>India</td>\n",
       "      <td>1.378382e+09</td>\n",
       "      <td>447812.0</td>\n",
       "      <td>20080.0</td>\n",
       "      <td>645.0</td>\n",
       "      <td>3975.0</td>\n",
       "      <td>15460.0</td>\n",
       "      <td>NaN</td>\n",
       "      <td>NaN</td>\n",
       "      <td>NaN</td>\n",
       "    </tr>\n",
       "    <tr>\n",
       "      <th>862</th>\n",
       "      <td>2020-04-22</td>\n",
       "      <td>India</td>\n",
       "      <td>1.378382e+09</td>\n",
       "      <td>462621.0</td>\n",
       "      <td>21370.0</td>\n",
       "      <td>681.0</td>\n",
       "      <td>4370.0</td>\n",
       "      <td>16319.0</td>\n",
       "      <td>NaN</td>\n",
       "      <td>NaN</td>\n",
       "      <td>NaN</td>\n",
       "    </tr>\n",
       "    <tr>\n",
       "      <th>1075</th>\n",
       "      <td>2020-04-23</td>\n",
       "      <td>India</td>\n",
       "      <td>1.378382e+09</td>\n",
       "      <td>500542.0</td>\n",
       "      <td>23039.0</td>\n",
       "      <td>721.0</td>\n",
       "      <td>5012.0</td>\n",
       "      <td>17306.0</td>\n",
       "      <td>NaN</td>\n",
       "      <td>NaN</td>\n",
       "      <td>NaN</td>\n",
       "    </tr>\n",
       "    <tr>\n",
       "      <th>1288</th>\n",
       "      <td>2020-04-24</td>\n",
       "      <td>India</td>\n",
       "      <td>1.378382e+09</td>\n",
       "      <td>541789.0</td>\n",
       "      <td>24447.0</td>\n",
       "      <td>780.0</td>\n",
       "      <td>5496.0</td>\n",
       "      <td>18171.0</td>\n",
       "      <td>NaN</td>\n",
       "      <td>NaN</td>\n",
       "      <td>NaN</td>\n",
       "    </tr>\n",
       "    <tr>\n",
       "      <th>1501</th>\n",
       "      <td>2020-04-25</td>\n",
       "      <td>India</td>\n",
       "      <td>1.378382e+09</td>\n",
       "      <td>579957.0</td>\n",
       "      <td>26283.0</td>\n",
       "      <td>825.0</td>\n",
       "      <td>5939.0</td>\n",
       "      <td>19519.0</td>\n",
       "      <td>NaN</td>\n",
       "      <td>NaN</td>\n",
       "      <td>NaN</td>\n",
       "    </tr>\n",
       "    <tr>\n",
       "      <th>1714</th>\n",
       "      <td>2020-04-26</td>\n",
       "      <td>India</td>\n",
       "      <td>1.378382e+09</td>\n",
       "      <td>625309.0</td>\n",
       "      <td>27890.0</td>\n",
       "      <td>881.0</td>\n",
       "      <td>6523.0</td>\n",
       "      <td>20486.0</td>\n",
       "      <td>NaN</td>\n",
       "      <td>NaN</td>\n",
       "      <td>NaN</td>\n",
       "    </tr>\n",
       "    <tr>\n",
       "      <th>1927</th>\n",
       "      <td>2020-04-27</td>\n",
       "      <td>India</td>\n",
       "      <td>1.378382e+09</td>\n",
       "      <td>665819.0</td>\n",
       "      <td>29451.0</td>\n",
       "      <td>939.0</td>\n",
       "      <td>7137.0</td>\n",
       "      <td>21375.0</td>\n",
       "      <td>NaN</td>\n",
       "      <td>NaN</td>\n",
       "      <td>NaN</td>\n",
       "    </tr>\n",
       "    <tr>\n",
       "      <th>2140</th>\n",
       "      <td>2020-04-28</td>\n",
       "      <td>India</td>\n",
       "      <td>1.378382e+09</td>\n",
       "      <td>716733.0</td>\n",
       "      <td>31324.0</td>\n",
       "      <td>1008.0</td>\n",
       "      <td>7747.0</td>\n",
       "      <td>22569.0</td>\n",
       "      <td>NaN</td>\n",
       "      <td>NaN</td>\n",
       "      <td>NaN</td>\n",
       "    </tr>\n",
       "    <tr>\n",
       "      <th>2353</th>\n",
       "      <td>2020-04-29</td>\n",
       "      <td>India</td>\n",
       "      <td>1.378382e+09</td>\n",
       "      <td>770764.0</td>\n",
       "      <td>33062.0</td>\n",
       "      <td>1079.0</td>\n",
       "      <td>8437.0</td>\n",
       "      <td>23546.0</td>\n",
       "      <td>NaN</td>\n",
       "      <td>NaN</td>\n",
       "      <td>NaN</td>\n",
       "    </tr>\n",
       "    <tr>\n",
       "      <th>2566</th>\n",
       "      <td>2020-04-30</td>\n",
       "      <td>India</td>\n",
       "      <td>1.378382e+09</td>\n",
       "      <td>830201.0</td>\n",
       "      <td>34863.0</td>\n",
       "      <td>1154.0</td>\n",
       "      <td>9068.0</td>\n",
       "      <td>24641.0</td>\n",
       "      <td>NaN</td>\n",
       "      <td>NaN</td>\n",
       "      <td>NaN</td>\n",
       "    </tr>\n",
       "    <tr>\n",
       "      <th>2779</th>\n",
       "      <td>2020-05-01</td>\n",
       "      <td>India</td>\n",
       "      <td>1.378382e+09</td>\n",
       "      <td>902654.0</td>\n",
       "      <td>37257.0</td>\n",
       "      <td>1223.0</td>\n",
       "      <td>10007.0</td>\n",
       "      <td>26027.0</td>\n",
       "      <td>NaN</td>\n",
       "      <td>NaN</td>\n",
       "      <td>NaN</td>\n",
       "    </tr>\n",
       "    <tr>\n",
       "      <th>2992</th>\n",
       "      <td>2020-05-02</td>\n",
       "      <td>India</td>\n",
       "      <td>1.378382e+09</td>\n",
       "      <td>1046450.0</td>\n",
       "      <td>39699.0</td>\n",
       "      <td>1323.0</td>\n",
       "      <td>11775.0</td>\n",
       "      <td>29339.0</td>\n",
       "      <td>NaN</td>\n",
       "      <td>NaN</td>\n",
       "      <td>NaN</td>\n",
       "    </tr>\n",
       "    <tr>\n",
       "      <th>3205</th>\n",
       "      <td>2020-05-03</td>\n",
       "      <td>India</td>\n",
       "      <td>1.378382e+09</td>\n",
       "      <td>1046450.0</td>\n",
       "      <td>42505.0</td>\n",
       "      <td>1391.0</td>\n",
       "      <td>11775.0</td>\n",
       "      <td>29339.0</td>\n",
       "      <td>NaN</td>\n",
       "      <td>NaN</td>\n",
       "      <td>NaN</td>\n",
       "    </tr>\n",
       "    <tr>\n",
       "      <th>3418</th>\n",
       "      <td>2020-05-04</td>\n",
       "      <td>India</td>\n",
       "      <td>1.378382e+09</td>\n",
       "      <td>1107233.0</td>\n",
       "      <td>46437.0</td>\n",
       "      <td>1566.0</td>\n",
       "      <td>12847.0</td>\n",
       "      <td>32024.0</td>\n",
       "      <td>NaN</td>\n",
       "      <td>NaN</td>\n",
       "      <td>NaN</td>\n",
       "    </tr>\n",
       "    <tr>\n",
       "      <th>3631</th>\n",
       "      <td>2020-05-05</td>\n",
       "      <td>India</td>\n",
       "      <td>1.378382e+09</td>\n",
       "      <td>1191946.0</td>\n",
       "      <td>49400.0</td>\n",
       "      <td>1693.0</td>\n",
       "      <td>14142.0</td>\n",
       "      <td>33565.0</td>\n",
       "      <td>NaN</td>\n",
       "      <td>NaN</td>\n",
       "      <td>NaN</td>\n",
       "    </tr>\n",
       "    <tr>\n",
       "      <th>3844</th>\n",
       "      <td>2020-05-06</td>\n",
       "      <td>India</td>\n",
       "      <td>1.378382e+09</td>\n",
       "      <td>1276781.0</td>\n",
       "      <td>52987.0</td>\n",
       "      <td>1785.0</td>\n",
       "      <td>15331.0</td>\n",
       "      <td>35871.0</td>\n",
       "      <td>NaN</td>\n",
       "      <td>NaN</td>\n",
       "      <td>NaN</td>\n",
       "    </tr>\n",
       "    <tr>\n",
       "      <th>4057</th>\n",
       "      <td>2020-05-07</td>\n",
       "      <td>India</td>\n",
       "      <td>1.378382e+09</td>\n",
       "      <td>1357413.0</td>\n",
       "      <td>56351.0</td>\n",
       "      <td>1889.0</td>\n",
       "      <td>16776.0</td>\n",
       "      <td>37686.0</td>\n",
       "      <td>NaN</td>\n",
       "      <td>NaN</td>\n",
       "      <td>NaN</td>\n",
       "    </tr>\n",
       "    <tr>\n",
       "      <th>4270</th>\n",
       "      <td>2020-05-08</td>\n",
       "      <td>India</td>\n",
       "      <td>1.378382e+09</td>\n",
       "      <td>1437788.0</td>\n",
       "      <td>59695.0</td>\n",
       "      <td>1985.0</td>\n",
       "      <td>17887.0</td>\n",
       "      <td>39823.0</td>\n",
       "      <td>NaN</td>\n",
       "      <td>NaN</td>\n",
       "      <td>NaN</td>\n",
       "    </tr>\n",
       "    <tr>\n",
       "      <th>4483</th>\n",
       "      <td>2020-05-09</td>\n",
       "      <td>India</td>\n",
       "      <td>1.378382e+09</td>\n",
       "      <td>1523213.0</td>\n",
       "      <td>62808.0</td>\n",
       "      <td>2101.0</td>\n",
       "      <td>19301.0</td>\n",
       "      <td>41406.0</td>\n",
       "      <td>NaN</td>\n",
       "      <td>NaN</td>\n",
       "      <td>NaN</td>\n",
       "    </tr>\n",
       "    <tr>\n",
       "      <th>4696</th>\n",
       "      <td>2020-05-10</td>\n",
       "      <td>India</td>\n",
       "      <td>1.378382e+09</td>\n",
       "      <td>1609037.0</td>\n",
       "      <td>67161.0</td>\n",
       "      <td>2212.0</td>\n",
       "      <td>20969.0</td>\n",
       "      <td>43980.0</td>\n",
       "      <td>NaN</td>\n",
       "      <td>NaN</td>\n",
       "      <td>NaN</td>\n",
       "    </tr>\n",
       "    <tr>\n",
       "      <th>4909</th>\n",
       "      <td>2020-05-11</td>\n",
       "      <td>India</td>\n",
       "      <td>1.378382e+09</td>\n",
       "      <td>1673688.0</td>\n",
       "      <td>70768.0</td>\n",
       "      <td>2294.0</td>\n",
       "      <td>22549.0</td>\n",
       "      <td>45925.0</td>\n",
       "      <td>NaN</td>\n",
       "      <td>NaN</td>\n",
       "      <td>NaN</td>\n",
       "    </tr>\n",
       "    <tr>\n",
       "      <th>5122</th>\n",
       "      <td>2020-05-12</td>\n",
       "      <td>India</td>\n",
       "      <td>1.378382e+09</td>\n",
       "      <td>1759579.0</td>\n",
       "      <td>74292.0</td>\n",
       "      <td>2415.0</td>\n",
       "      <td>24420.0</td>\n",
       "      <td>47457.0</td>\n",
       "      <td>NaN</td>\n",
       "      <td>NaN</td>\n",
       "      <td>NaN</td>\n",
       "    </tr>\n",
       "    <tr>\n",
       "      <th>5335</th>\n",
       "      <td>2020-05-13</td>\n",
       "      <td>India</td>\n",
       "      <td>1.378382e+09</td>\n",
       "      <td>1854250.0</td>\n",
       "      <td>78055.0</td>\n",
       "      <td>2551.0</td>\n",
       "      <td>26400.0</td>\n",
       "      <td>49104.0</td>\n",
       "      <td>NaN</td>\n",
       "      <td>NaN</td>\n",
       "      <td>NaN</td>\n",
       "    </tr>\n",
       "    <tr>\n",
       "      <th>5548</th>\n",
       "      <td>2020-05-14</td>\n",
       "      <td>India</td>\n",
       "      <td>1.378382e+09</td>\n",
       "      <td>1947041.0</td>\n",
       "      <td>81997.0</td>\n",
       "      <td>2649.0</td>\n",
       "      <td>27969.0</td>\n",
       "      <td>51379.0</td>\n",
       "      <td>NaN</td>\n",
       "      <td>NaN</td>\n",
       "      <td>NaN</td>\n",
       "    </tr>\n",
       "    <tr>\n",
       "      <th>5761</th>\n",
       "      <td>2020-05-15</td>\n",
       "      <td>India</td>\n",
       "      <td>1.378382e+09</td>\n",
       "      <td>2039952.0</td>\n",
       "      <td>85784.0</td>\n",
       "      <td>2753.0</td>\n",
       "      <td>30258.0</td>\n",
       "      <td>52773.0</td>\n",
       "      <td>NaN</td>\n",
       "      <td>NaN</td>\n",
       "      <td>NaN</td>\n",
       "    </tr>\n",
       "    <tr>\n",
       "      <th>5974</th>\n",
       "      <td>2020-05-16</td>\n",
       "      <td>India</td>\n",
       "      <td>1.378382e+09</td>\n",
       "      <td>2134277.0</td>\n",
       "      <td>90648.0</td>\n",
       "      <td>2871.0</td>\n",
       "      <td>34224.0</td>\n",
       "      <td>53553.0</td>\n",
       "      <td>NaN</td>\n",
       "      <td>NaN</td>\n",
       "      <td>NaN</td>\n",
       "    </tr>\n",
       "    <tr>\n",
       "      <th>6187</th>\n",
       "      <td>2020-05-17</td>\n",
       "      <td>India</td>\n",
       "      <td>1.378382e+09</td>\n",
       "      <td>2227642.0</td>\n",
       "      <td>95698.0</td>\n",
       "      <td>3025.0</td>\n",
       "      <td>36795.0</td>\n",
       "      <td>55878.0</td>\n",
       "      <td>NaN</td>\n",
       "      <td>NaN</td>\n",
       "      <td>NaN</td>\n",
       "    </tr>\n",
       "    <tr>\n",
       "      <th>6400</th>\n",
       "      <td>2020-05-18</td>\n",
       "      <td>India</td>\n",
       "      <td>1.378382e+09</td>\n",
       "      <td>2302792.0</td>\n",
       "      <td>100328.0</td>\n",
       "      <td>3156.0</td>\n",
       "      <td>39233.0</td>\n",
       "      <td>57939.0</td>\n",
       "      <td>NaN</td>\n",
       "      <td>NaN</td>\n",
       "      <td>NaN</td>\n",
       "    </tr>\n",
       "    <tr>\n",
       "      <th>10</th>\n",
       "      <td>NaN</td>\n",
       "      <td>India</td>\n",
       "      <td>NaN</td>\n",
       "      <td>NaN</td>\n",
       "      <td>NaN</td>\n",
       "      <td>NaN</td>\n",
       "      <td>NaN</td>\n",
       "      <td>NaN</td>\n",
       "      <td>0.278</td>\n",
       "      <td>0.662</td>\n",
       "      <td>0.06</td>\n",
       "    </tr>\n",
       "  </tbody>\n",
       "</table>\n",
       "</div>"
      ],
      "text/plain": [
       "            Date Country    Population  Total Tests  Total Cases  \\\n",
       "10    2020-04-18   India  1.378382e+09     335123.0      16365.0   \n",
       "223   2020-04-19   India  1.378382e+09     401586.0      17615.0   \n",
       "436   2020-04-20   India  1.378382e+09     401586.0      18539.0   \n",
       "649   2020-04-21   India  1.378382e+09     447812.0      20080.0   \n",
       "862   2020-04-22   India  1.378382e+09     462621.0      21370.0   \n",
       "1075  2020-04-23   India  1.378382e+09     500542.0      23039.0   \n",
       "1288  2020-04-24   India  1.378382e+09     541789.0      24447.0   \n",
       "1501  2020-04-25   India  1.378382e+09     579957.0      26283.0   \n",
       "1714  2020-04-26   India  1.378382e+09     625309.0      27890.0   \n",
       "1927  2020-04-27   India  1.378382e+09     665819.0      29451.0   \n",
       "2140  2020-04-28   India  1.378382e+09     716733.0      31324.0   \n",
       "2353  2020-04-29   India  1.378382e+09     770764.0      33062.0   \n",
       "2566  2020-04-30   India  1.378382e+09     830201.0      34863.0   \n",
       "2779  2020-05-01   India  1.378382e+09     902654.0      37257.0   \n",
       "2992  2020-05-02   India  1.378382e+09    1046450.0      39699.0   \n",
       "3205  2020-05-03   India  1.378382e+09    1046450.0      42505.0   \n",
       "3418  2020-05-04   India  1.378382e+09    1107233.0      46437.0   \n",
       "3631  2020-05-05   India  1.378382e+09    1191946.0      49400.0   \n",
       "3844  2020-05-06   India  1.378382e+09    1276781.0      52987.0   \n",
       "4057  2020-05-07   India  1.378382e+09    1357413.0      56351.0   \n",
       "4270  2020-05-08   India  1.378382e+09    1437788.0      59695.0   \n",
       "4483  2020-05-09   India  1.378382e+09    1523213.0      62808.0   \n",
       "4696  2020-05-10   India  1.378382e+09    1609037.0      67161.0   \n",
       "4909  2020-05-11   India  1.378382e+09    1673688.0      70768.0   \n",
       "5122  2020-05-12   India  1.378382e+09    1759579.0      74292.0   \n",
       "5335  2020-05-13   India  1.378382e+09    1854250.0      78055.0   \n",
       "5548  2020-05-14   India  1.378382e+09    1947041.0      81997.0   \n",
       "5761  2020-05-15   India  1.378382e+09    2039952.0      85784.0   \n",
       "5974  2020-05-16   India  1.378382e+09    2134277.0      90648.0   \n",
       "6187  2020-05-17   India  1.378382e+09    2227642.0      95698.0   \n",
       "6400  2020-05-18   India  1.378382e+09    2302792.0     100328.0   \n",
       "10           NaN   India           NaN          NaN          NaN   \n",
       "\n",
       "      Total Deaths  Total Recovered  Active Cases  Fraction age 0-14 years  \\\n",
       "10           521.0           2463.0       13381.0                      NaN   \n",
       "223          559.0           2854.0       14202.0                      NaN   \n",
       "436          592.0           3273.0       14674.0                      NaN   \n",
       "649          645.0           3975.0       15460.0                      NaN   \n",
       "862          681.0           4370.0       16319.0                      NaN   \n",
       "1075         721.0           5012.0       17306.0                      NaN   \n",
       "1288         780.0           5496.0       18171.0                      NaN   \n",
       "1501         825.0           5939.0       19519.0                      NaN   \n",
       "1714         881.0           6523.0       20486.0                      NaN   \n",
       "1927         939.0           7137.0       21375.0                      NaN   \n",
       "2140        1008.0           7747.0       22569.0                      NaN   \n",
       "2353        1079.0           8437.0       23546.0                      NaN   \n",
       "2566        1154.0           9068.0       24641.0                      NaN   \n",
       "2779        1223.0          10007.0       26027.0                      NaN   \n",
       "2992        1323.0          11775.0       29339.0                      NaN   \n",
       "3205        1391.0          11775.0       29339.0                      NaN   \n",
       "3418        1566.0          12847.0       32024.0                      NaN   \n",
       "3631        1693.0          14142.0       33565.0                      NaN   \n",
       "3844        1785.0          15331.0       35871.0                      NaN   \n",
       "4057        1889.0          16776.0       37686.0                      NaN   \n",
       "4270        1985.0          17887.0       39823.0                      NaN   \n",
       "4483        2101.0          19301.0       41406.0                      NaN   \n",
       "4696        2212.0          20969.0       43980.0                      NaN   \n",
       "4909        2294.0          22549.0       45925.0                      NaN   \n",
       "5122        2415.0          24420.0       47457.0                      NaN   \n",
       "5335        2551.0          26400.0       49104.0                      NaN   \n",
       "5548        2649.0          27969.0       51379.0                      NaN   \n",
       "5761        2753.0          30258.0       52773.0                      NaN   \n",
       "5974        2871.0          34224.0       53553.0                      NaN   \n",
       "6187        3025.0          36795.0       55878.0                      NaN   \n",
       "6400        3156.0          39233.0       57939.0                      NaN   \n",
       "10             NaN              NaN           NaN                    0.278   \n",
       "\n",
       "      Fraction age 15-64 years  Fraction age 65+ years  \n",
       "10                         NaN                     NaN  \n",
       "223                        NaN                     NaN  \n",
       "436                        NaN                     NaN  \n",
       "649                        NaN                     NaN  \n",
       "862                        NaN                     NaN  \n",
       "1075                       NaN                     NaN  \n",
       "1288                       NaN                     NaN  \n",
       "1501                       NaN                     NaN  \n",
       "1714                       NaN                     NaN  \n",
       "1927                       NaN                     NaN  \n",
       "2140                       NaN                     NaN  \n",
       "2353                       NaN                     NaN  \n",
       "2566                       NaN                     NaN  \n",
       "2779                       NaN                     NaN  \n",
       "2992                       NaN                     NaN  \n",
       "3205                       NaN                     NaN  \n",
       "3418                       NaN                     NaN  \n",
       "3631                       NaN                     NaN  \n",
       "3844                       NaN                     NaN  \n",
       "4057                       NaN                     NaN  \n",
       "4270                       NaN                     NaN  \n",
       "4483                       NaN                     NaN  \n",
       "4696                       NaN                     NaN  \n",
       "4909                       NaN                     NaN  \n",
       "5122                       NaN                     NaN  \n",
       "5335                       NaN                     NaN  \n",
       "5548                       NaN                     NaN  \n",
       "5761                       NaN                     NaN  \n",
       "5974                       NaN                     NaN  \n",
       "6187                       NaN                     NaN  \n",
       "6400                       NaN                     NaN  \n",
       "10                       0.662                    0.06  "
      ]
     },
     "execution_count": 34,
     "metadata": {},
     "output_type": "execute_result"
    }
   ],
   "source": [
    "covid19_India_final"
   ]
  },
  {
   "cell_type": "code",
   "execution_count": 37,
   "metadata": {},
   "outputs": [],
   "source": [
    "#lets replace all the missing values in the dataset\n",
    "covid19_India_final['Fraction age 0-14 years'].fillna(0.278, inplace = True)\n",
    "covid19_India_final['Fraction age 15-64 years'].fillna(0.662, inplace = True) \n",
    "covid19_India_final['Fraction age 65+ years'].fillna(0.06, inplace = True) "
   ]
  },
  {
   "cell_type": "code",
   "execution_count": 42,
   "metadata": {},
   "outputs": [
    {
     "name": "stdout",
     "output_type": "stream",
     "text": [
      "<class 'pandas.core.frame.DataFrame'>\n",
      "Int64Index: 31 entries, 10 to 6400\n",
      "Data columns (total 11 columns):\n",
      " #   Column                    Non-Null Count  Dtype  \n",
      "---  ------                    --------------  -----  \n",
      " 0   Date                      31 non-null     object \n",
      " 1   Country                   31 non-null     object \n",
      " 2   Population                31 non-null     float64\n",
      " 3   Total Tests               31 non-null     float64\n",
      " 4   Total Cases               31 non-null     float64\n",
      " 5   Total Deaths              31 non-null     float64\n",
      " 6   Total Recovered           31 non-null     float64\n",
      " 7   Active Cases              31 non-null     float64\n",
      " 8   Fraction age 0-14 years   31 non-null     float64\n",
      " 9   Fraction age 15-64 years  31 non-null     float64\n",
      " 10  Fraction age 65+ years    31 non-null     float64\n",
      "dtypes: float64(9), object(2)\n",
      "memory usage: 2.9+ KB\n",
      "None\n"
     ]
    }
   ],
   "source": [
    "#now lets drop the rows with missing values\n",
    "covid19_India_final=covid19_India_final.dropna()\n",
    "#lets check how many are there null values\n",
    "print(covid19_India_final.info())"
   ]
  },
  {
   "cell_type": "code",
   "execution_count": 47,
   "metadata": {},
   "outputs": [
    {
     "data": {
      "image/png": "[encoded data removed]",
      "text/plain": [
       "<Figure size 1440x720 with 1 Axes>"
      ]
     },
     "metadata": {
      "needs_background": "light"
     },
     "output_type": "display_data"
    }
   ],
   "source": [
    "#lets see the covid cases wrt to 'Fraction age 0-14 years' \n",
    "cases=covid19_India_final[['Total Tests','Total Cases','Total Deaths','Total Recovered','Active Cases','Fraction age 0-14 years']].groupby('Fraction age 0-14 years').sum().sort_values('Total Deaths',ascending=False).head(10)\n",
    "cases.plot(kind='bar',width=0.9,colormap='plasma',figsize=(20,10))\n",
    "plt.show()"
   ]
  },
  {
   "cell_type": "code",
   "execution_count": 48,
   "metadata": {},
   "outputs": [
    {
     "data": {
      "image/png": "[encoded data removed]",
      "text/plain": [
       "<Figure size 1440x720 with 1 Axes>"
      ]
     },
     "metadata": {
      "needs_background": "light"
     },
     "output_type": "display_data"
    }
   ],
   "source": [
    "#lets see the covid cases wrt to 'Fraction age 15-64 years' \n",
    "cases=covid19_India_final[['Total Tests','Total Cases','Total Deaths','Total Recovered','Active Cases','Fraction age 15-64 years']].groupby('Fraction age 15-64 years').sum().sort_values('Total Deaths',ascending=False).head(10)\n",
    "cases.plot(kind='bar',width=0.9,colormap='plasma',figsize=(20,10))\n",
    "plt.show()"
   ]
  },
  {
   "cell_type": "code",
   "execution_count": 49,
   "metadata": {},
   "outputs": [
    {
     "data": {
      "image/png": "[encoded data removed]",
      "text/plain": [
       "<Figure size 1440x720 with 1 Axes>"
      ]
     },
     "metadata": {
      "needs_background": "light"
     },
     "output_type": "display_data"
    }
   ],
   "source": [
    "#lets see the covid cases wrt to 'Fraction age 65+ years' \n",
    "cases=covid19_India_final[['Total Tests','Total Cases','Total Deaths','Total Recovered','Active Cases','Fraction age 65+ years']].groupby('Fraction age 65+ years').sum().sort_values('Total Deaths',ascending=False).head(10)\n",
    "cases.plot(kind='bar',width=0.9,colormap='plasma',figsize=(20,10))\n",
    "plt.show()"
   ]
  },
  {
   "cell_type": "code",
   "execution_count": 51,
   "metadata": {},
   "outputs": [
    {
     "data": {
      "image/png": "[encoded data removed]",
      "text/plain": [
       "<Figure size 576x576 with 1 Axes>"
      ]
     },
     "metadata": {
      "needs_background": "light"
     },
     "output_type": "display_data"
    }
   ],
   "source": [
    "#lets see the exponential curve of worldwide covid19 cases\n",
    "datewise_data = covid19_India_final.groupby('Date')['Total Tests','Total Cases','Total Deaths','Total Recovered','Active Cases','Fraction age 0-14 years','Fraction age 15-64 years','Fraction age 65+ years'].sum()\n",
    "datewise_data.plot(figsize=(8,8),title='Per Day statistics for Covid19 Cases',colormap='viridis',marker='o')\n",
    "plt.show()"
   ]
  },
  {
   "cell_type": "code",
   "execution_count": 52,
   "metadata": {},
   "outputs": [
    {
     "data": {
      "text/plain": [
       "<matplotlib.axes._subplots.AxesSubplot at 0x1ea5e19a908>"
      ]
     },
     "execution_count": 52,
     "metadata": {},
     "output_type": "execute_result"
    },
    {
     "data": {
      "image/png": "[encoded data removed]",
      "text/plain": [
       "<Figure size 1080x720 with 2 Axes>"
      ]
     },
     "metadata": {
      "needs_background": "light"
     },
     "output_type": "display_data"
    }
   ],
   "source": [
    "#lets see the corelation among data\n",
    "plt.figure(figsize=(15,10))\n",
    "sns.heatmap(covid19_India_final.corr(),cmap='coolwarm',annot=True)"
   ]
  },
  {
   "cell_type": "markdown",
   "metadata": {},
   "source": [
    "# 3-Preparing the Train data for Model Building"
   ]
  },
  {
   "cell_type": "code",
   "execution_count": 53,
   "metadata": {},
   "outputs": [
    {
     "data": {
      "text/html": [
       "<div>\n",
       "<style scoped>\n",
       "    .dataframe tbody tr th:only-of-type {\n",
       "        vertical-align: middle;\n",
       "    }\n",
       "\n",
       "    .dataframe tbody tr th {\n",
       "        vertical-align: top;\n",
       "    }\n",
       "\n",
       "    .dataframe thead th {\n",
       "        text-align: right;\n",
       "    }\n",
       "</style>\n",
       "<table border=\"1\" class=\"dataframe\">\n",
       "  <thead>\n",
       "    <tr style=\"text-align: right;\">\n",
       "      <th></th>\n",
       "      <th>Date</th>\n",
       "      <th>Country</th>\n",
       "      <th>Population</th>\n",
       "      <th>Total Tests</th>\n",
       "      <th>Total Cases</th>\n",
       "      <th>Total Deaths</th>\n",
       "      <th>Total Recovered</th>\n",
       "      <th>Active Cases</th>\n",
       "      <th>Fraction age 0-14 years</th>\n",
       "      <th>Fraction age 15-64 years</th>\n",
       "      <th>Fraction age 65+ years</th>\n",
       "    </tr>\n",
       "  </thead>\n",
       "  <tbody>\n",
       "    <tr>\n",
       "      <th>10</th>\n",
       "      <td>2020-04-18</td>\n",
       "      <td>India</td>\n",
       "      <td>1.378382e+09</td>\n",
       "      <td>335123.0</td>\n",
       "      <td>16365.0</td>\n",
       "      <td>521.0</td>\n",
       "      <td>2463.0</td>\n",
       "      <td>13381.0</td>\n",
       "      <td>0.278</td>\n",
       "      <td>0.662</td>\n",
       "      <td>0.06</td>\n",
       "    </tr>\n",
       "    <tr>\n",
       "      <th>223</th>\n",
       "      <td>2020-04-19</td>\n",
       "      <td>India</td>\n",
       "      <td>1.378382e+09</td>\n",
       "      <td>401586.0</td>\n",
       "      <td>17615.0</td>\n",
       "      <td>559.0</td>\n",
       "      <td>2854.0</td>\n",
       "      <td>14202.0</td>\n",
       "      <td>0.278</td>\n",
       "      <td>0.662</td>\n",
       "      <td>0.06</td>\n",
       "    </tr>\n",
       "    <tr>\n",
       "      <th>436</th>\n",
       "      <td>2020-04-20</td>\n",
       "      <td>India</td>\n",
       "      <td>1.378382e+09</td>\n",
       "      <td>401586.0</td>\n",
       "      <td>18539.0</td>\n",
       "      <td>592.0</td>\n",
       "      <td>3273.0</td>\n",
       "      <td>14674.0</td>\n",
       "      <td>0.278</td>\n",
       "      <td>0.662</td>\n",
       "      <td>0.06</td>\n",
       "    </tr>\n",
       "    <tr>\n",
       "      <th>649</th>\n",
       "      <td>2020-04-21</td>\n",
       "      <td>India</td>\n",
       "      <td>1.378382e+09</td>\n",
       "      <td>447812.0</td>\n",
       "      <td>20080.0</td>\n",
       "      <td>645.0</td>\n",
       "      <td>3975.0</td>\n",
       "      <td>15460.0</td>\n",
       "      <td>0.278</td>\n",
       "      <td>0.662</td>\n",
       "      <td>0.06</td>\n",
       "    </tr>\n",
       "    <tr>\n",
       "      <th>862</th>\n",
       "      <td>2020-04-22</td>\n",
       "      <td>India</td>\n",
       "      <td>1.378382e+09</td>\n",
       "      <td>462621.0</td>\n",
       "      <td>21370.0</td>\n",
       "      <td>681.0</td>\n",
       "      <td>4370.0</td>\n",
       "      <td>16319.0</td>\n",
       "      <td>0.278</td>\n",
       "      <td>0.662</td>\n",
       "      <td>0.06</td>\n",
       "    </tr>\n",
       "  </tbody>\n",
       "</table>\n",
       "</div>"
      ],
      "text/plain": [
       "           Date Country    Population  Total Tests  Total Cases  Total Deaths  \\\n",
       "10   2020-04-18   India  1.378382e+09     335123.0      16365.0         521.0   \n",
       "223  2020-04-19   India  1.378382e+09     401586.0      17615.0         559.0   \n",
       "436  2020-04-20   India  1.378382e+09     401586.0      18539.0         592.0   \n",
       "649  2020-04-21   India  1.378382e+09     447812.0      20080.0         645.0   \n",
       "862  2020-04-22   India  1.378382e+09     462621.0      21370.0         681.0   \n",
       "\n",
       "     Total Recovered  Active Cases  Fraction age 0-14 years  \\\n",
       "10            2463.0       13381.0                    0.278   \n",
       "223           2854.0       14202.0                    0.278   \n",
       "436           3273.0       14674.0                    0.278   \n",
       "649           3975.0       15460.0                    0.278   \n",
       "862           4370.0       16319.0                    0.278   \n",
       "\n",
       "     Fraction age 15-64 years  Fraction age 65+ years  \n",
       "10                      0.662                    0.06  \n",
       "223                     0.662                    0.06  \n",
       "436                     0.662                    0.06  \n",
       "649                     0.662                    0.06  \n",
       "862                     0.662                    0.06  "
      ]
     },
     "execution_count": 53,
     "metadata": {},
     "output_type": "execute_result"
    }
   ],
   "source": [
    "#lets print the data\n",
    "covid19_India_final.head()"
   ]
  },
  {
   "cell_type": "code",
   "execution_count": 56,
   "metadata": {},
   "outputs": [],
   "source": [
    "#so here as we are going to find the death rates, so we will drop Date,Country,Population and Total Recovered attributes\n",
    "covid19_India=covid19_India_final.drop(['Date','Country','Population','Total Recovered'],axis=1)"
   ]
  },
  {
   "cell_type": "code",
   "execution_count": 57,
   "metadata": {},
   "outputs": [
    {
     "data": {
      "text/html": [
       "<div>\n",
       "<style scoped>\n",
       "    .dataframe tbody tr th:only-of-type {\n",
       "        vertical-align: middle;\n",
       "    }\n",
       "\n",
       "    .dataframe tbody tr th {\n",
       "        vertical-align: top;\n",
       "    }\n",
       "\n",
       "    .dataframe thead th {\n",
       "        text-align: right;\n",
       "    }\n",
       "</style>\n",
       "<table border=\"1\" class=\"dataframe\">\n",
       "  <thead>\n",
       "    <tr style=\"text-align: right;\">\n",
       "      <th></th>\n",
       "      <th>Total Tests</th>\n",
       "      <th>Total Cases</th>\n",
       "      <th>Total Deaths</th>\n",
       "      <th>Active Cases</th>\n",
       "      <th>Fraction age 0-14 years</th>\n",
       "      <th>Fraction age 15-64 years</th>\n",
       "      <th>Fraction age 65+ years</th>\n",
       "    </tr>\n",
       "  </thead>\n",
       "  <tbody>\n",
       "    <tr>\n",
       "      <th>10</th>\n",
       "      <td>335123.0</td>\n",
       "      <td>16365.0</td>\n",
       "      <td>521.0</td>\n",
       "      <td>13381.0</td>\n",
       "      <td>0.278</td>\n",
       "      <td>0.662</td>\n",
       "      <td>0.06</td>\n",
       "    </tr>\n",
       "    <tr>\n",
       "      <th>223</th>\n",
       "      <td>401586.0</td>\n",
       "      <td>17615.0</td>\n",
       "      <td>559.0</td>\n",
       "      <td>14202.0</td>\n",
       "      <td>0.278</td>\n",
       "      <td>0.662</td>\n",
       "      <td>0.06</td>\n",
       "    </tr>\n",
       "    <tr>\n",
       "      <th>436</th>\n",
       "      <td>401586.0</td>\n",
       "      <td>18539.0</td>\n",
       "      <td>592.0</td>\n",
       "      <td>14674.0</td>\n",
       "      <td>0.278</td>\n",
       "      <td>0.662</td>\n",
       "      <td>0.06</td>\n",
       "    </tr>\n",
       "    <tr>\n",
       "      <th>649</th>\n",
       "      <td>447812.0</td>\n",
       "      <td>20080.0</td>\n",
       "      <td>645.0</td>\n",
       "      <td>15460.0</td>\n",
       "      <td>0.278</td>\n",
       "      <td>0.662</td>\n",
       "      <td>0.06</td>\n",
       "    </tr>\n",
       "    <tr>\n",
       "      <th>862</th>\n",
       "      <td>462621.0</td>\n",
       "      <td>21370.0</td>\n",
       "      <td>681.0</td>\n",
       "      <td>16319.0</td>\n",
       "      <td>0.278</td>\n",
       "      <td>0.662</td>\n",
       "      <td>0.06</td>\n",
       "    </tr>\n",
       "  </tbody>\n",
       "</table>\n",
       "</div>"
      ],
      "text/plain": [
       "     Total Tests  Total Cases  Total Deaths  Active Cases  \\\n",
       "10      335123.0      16365.0         521.0       13381.0   \n",
       "223     401586.0      17615.0         559.0       14202.0   \n",
       "436     401586.0      18539.0         592.0       14674.0   \n",
       "649     447812.0      20080.0         645.0       15460.0   \n",
       "862     462621.0      21370.0         681.0       16319.0   \n",
       "\n",
       "     Fraction age 0-14 years  Fraction age 15-64 years  Fraction age 65+ years  \n",
       "10                     0.278                     0.662                    0.06  \n",
       "223                    0.278                     0.662                    0.06  \n",
       "436                    0.278                     0.662                    0.06  \n",
       "649                    0.278                     0.662                    0.06  \n",
       "862                    0.278                     0.662                    0.06  "
      ]
     },
     "execution_count": 57,
     "metadata": {},
     "output_type": "execute_result"
    }
   ],
   "source": [
    "#lets print the data\n",
    "covid19_India.head()"
   ]
  },
  {
   "cell_type": "code",
   "execution_count": 58,
   "metadata": {},
   "outputs": [
    {
     "name": "stdout",
     "output_type": "stream",
     "text": [
      "(31, 6)\n",
      "(31, 1)\n"
     ]
    }
   ],
   "source": [
    "# separating the input and output/target variables of dtrain\n",
    "\n",
    "x=covid19_India.drop(columns=['Total Deaths'],axis=1)\n",
    "y=covid19_India[['Total Deaths']]\n",
    "\n",
    "print(x.shape)\n",
    "print(y.shape)"
   ]
  },
  {
   "cell_type": "markdown",
   "metadata": {},
   "source": [
    "# 4-Building Different Model and Finding the Best Model"
   ]
  },
  {
   "cell_type": "code",
   "execution_count": 59,
   "metadata": {},
   "outputs": [],
   "source": [
    "#defining the models which will be used for model building\n",
    "from sklearn.linear_model import LinearRegression\n",
    "lreg=LinearRegression()\n",
    "from sklearn.neighbors import KNeighborsRegressor\n",
    "knn=KNeighborsRegressor()\n",
    "from sklearn.linear_model import Lasso\n",
    "lsreg=Lasso()\n",
    "from sklearn.linear_model import Ridge\n",
    "lrreg=Ridge()\n",
    "from sklearn.ensemble import GradientBoostingRegressor\n",
    "gbr=GradientBoostingRegressor()\n",
    "from sklearn.ensemble import AdaBoostRegressor\n",
    "ada=AdaBoostRegressor()\n",
    "from sklearn.ensemble import RandomForestRegressor\n",
    "rf=RandomForestRegressor()"
   ]
  },
  {
   "cell_type": "code",
   "execution_count": 60,
   "metadata": {},
   "outputs": [],
   "source": [
    "#appending all the models\n",
    "models=[]\n",
    "models.append(('LinearRegression',lreg))\n",
    "models.append(('KNeighborsRegressor',knn))\n",
    "models.append(('Lasso',lsreg))\n",
    "models.append(('Ridge',lrreg))\n",
    "models.append(('GradientBoostingRegressor',gbr))\n",
    "models.append(('AdaBoostRegressor',ada))\n",
    "models.append(('RandomForestRegressor',rf))"
   ]
  },
  {
   "cell_type": "code",
   "execution_count": 61,
   "metadata": {},
   "outputs": [
    {
     "name": "stdout",
     "output_type": "stream",
     "text": [
      "************************ LinearRegression **********************\n",
      "\n",
      "\n",
      "Final Random State is: 87\n",
      "\n",
      "\n",
      "R2 Score is: 0.9998798745104486\n",
      "\n",
      "\n",
      "\n",
      "\n",
      "************************ KNeighborsRegressor **********************\n",
      "\n",
      "\n",
      "Final Random State is: 53\n",
      "\n",
      "\n",
      "R2 Score is: 0.9973797869211449\n",
      "\n",
      "\n",
      "\n",
      "\n",
      "************************ Lasso **********************\n",
      "\n",
      "\n",
      "Final Random State is: 87\n",
      "\n",
      "\n",
      "R2 Score is: 0.9999196619751244\n",
      "\n",
      "\n",
      "\n",
      "\n",
      "************************ Ridge **********************\n",
      "\n",
      "\n",
      "Final Random State is: 87\n",
      "\n",
      "\n",
      "R2 Score is: 0.9998798745409619\n",
      "\n",
      "\n",
      "\n",
      "\n",
      "************************ GradientBoostingRegressor **********************\n",
      "\n",
      "\n",
      "Final Random State is: 63\n",
      "\n",
      "\n",
      "R2 Score is: 0.9967887660266944\n",
      "\n",
      "\n",
      "\n",
      "\n",
      "************************ AdaBoostRegressor **********************\n",
      "\n",
      "\n",
      "Final Random State is: 75\n",
      "\n",
      "\n",
      "R2 Score is: 0.9930658492141835\n",
      "\n",
      "\n",
      "\n",
      "\n",
      "************************ RandomForestRegressor **********************\n",
      "\n",
      "\n",
      "Final Random State is: 64\n",
      "\n",
      "\n",
      "R2 Score is: 0.9992551888998308\n",
      "\n",
      "\n",
      "\n",
      "\n"
     ]
    }
   ],
   "source": [
    "#printing the output of each model\n",
    "from sklearn.model_selection import train_test_split\n",
    "from sklearn.metrics import mean_squared_error\n",
    "from sklearn.metrics import r2_score\n",
    "Model=[]\n",
    "RState=[]\n",
    "score=[]\n",
    "for name, model in models:\n",
    "    print('************************',name,'**********************')\n",
    "    print('\\n')\n",
    "    Model.append(name)\n",
    "    max_r2_score=0.0\n",
    "    for r_state in range(42,101):\n",
    "        x_train,x_test,y_train,y_test = train_test_split(x,y,test_size=0.2,random_state=r_state)\n",
    "        model.fit(x_train,y_train)\n",
    "        y_pred=model.predict(x_test)\n",
    "        r2_scr=r2_score(y_test,y_pred)\n",
    "        if r2_scr>max_r2_score:\n",
    "            max_r2_score=r2_scr\n",
    "            final_r_state=r_state\n",
    "    print('Final Random State is:', final_r_state)\n",
    "    print('\\n')\n",
    "    RState.append(final_r_state*1)\n",
    "    print('R2 Score is:', max_r2_score)\n",
    "    print('\\n')\n",
    "    score.append(max_r2_score*100)\n",
    "    print('\\n')"
   ]
  },
  {
   "cell_type": "code",
   "execution_count": 62,
   "metadata": {},
   "outputs": [
    {
     "name": "stdout",
     "output_type": "stream",
     "text": [
      "                       Model  Random_State   R2_Score\n",
      "0           LinearRegression            87  99.987987\n",
      "1        KNeighborsRegressor            53  99.737979\n",
      "2                      Lasso            87  99.991966\n",
      "3                      Ridge            87  99.987987\n",
      "4  GradientBoostingRegressor            63  99.678877\n",
      "5          AdaBoostRegressor            75  99.306585\n",
      "6      RandomForestRegressor            64  99.925519\n"
     ]
    }
   ],
   "source": [
    "#lets print the final result of all the models\n",
    "result=pd.DataFrame({'Model':Model,'Random_State':RState,'R2_Score':score})\n",
    "print(result)"
   ]
  },
  {
   "cell_type": "code",
   "execution_count": 63,
   "metadata": {},
   "outputs": [
    {
     "name": "stdout",
     "output_type": "stream",
     "text": [
      "R2 score is: 0.9998798745104486\n",
      "RMSE is: 9.472467796986304\n"
     ]
    }
   ],
   "source": [
    "# So here Lasso is the best model,So lets build the final model with random_state=87\n",
    "\n",
    "from sklearn.model_selection import train_test_split\n",
    "from sklearn.linear_model import Lasso\n",
    "from sklearn.metrics import mean_squared_error\n",
    "from sklearn.metrics import r2_score\n",
    "x_train,x_test,y_train,y_test = train_test_split(x,y,test_size=0.2,random_state=87)\n",
    "lsreg=LinearRegression()\n",
    "lsreg.fit(x_train,y_train)\n",
    "y_pred=lsreg.predict(x_test)\n",
    "print('R2 score is:',r2_score(y_test,y_pred))\n",
    "print('RMSE is:',np.sqrt(mean_squared_error(y_test,y_pred)))"
   ]
  },
  {
   "cell_type": "code",
   "execution_count": 64,
   "metadata": {},
   "outputs": [
    {
     "name": "stdout",
     "output_type": "stream",
     "text": [
      "Mean R2 score of Lasso Regression is: 0.962526925438512\n",
      "Standard Deviation of Lasso Regression is: 0.019194385944635028\n"
     ]
    }
   ],
   "source": [
    "#checking the mean r2 score and overfitting and underfitting using cross validation\n",
    "from sklearn.model_selection import cross_val_score\n",
    "print('Mean R2 score of Lasso Regression is:', cross_val_score(lsreg,x,y,cv=5,scoring='r2').mean())\n",
    "print('Standard Deviation of Lasso Regression is:',cross_val_score(lsreg,x,y,cv=5,scoring='r2').std())"
   ]
  },
  {
   "cell_type": "code",
   "execution_count": 65,
   "metadata": {
    "scrolled": true
   },
   "outputs": [
    {
     "name": "stdout",
     "output_type": "stream",
     "text": [
      "Actual Deaths:\n",
      "       Total Deaths\n",
      "6187        3025.0\n",
      "2566        1154.0\n",
      "223          559.0\n",
      "5122        2415.0\n",
      "4270        1985.0\n",
      "2353        1079.0\n",
      "862          681.0\n",
      "Predicted Deaths:\n",
      " [[3018.32837647]\n",
      " [1139.14097809]\n",
      " [ 558.00742697]\n",
      " [2432.3298456 ]\n",
      " [1979.04202896]\n",
      " [1076.65586038]\n",
      " [ 676.47327147]]\n"
     ]
    }
   ],
   "source": [
    "#lets predict the Death value\n",
    "print('Actual Deaths:\\n',y_test)\n",
    "print('Predicted Deaths:\\n',y_pred)"
   ]
  },
  {
   "cell_type": "code",
   "execution_count": 66,
   "metadata": {},
   "outputs": [
    {
     "data": {
      "text/plain": [
       "['lsreg_deaths.obj']"
      ]
     },
     "execution_count": 66,
     "metadata": {},
     "output_type": "execute_result"
    }
   ],
   "source": [
    "#saving the final model\n",
    "from sklearn.externals import joblib\n",
    "#save the model as joblib in a file\n",
    "joblib.dump(lsreg,'lsreg_deaths.obj')"
   ]
  },
  {
   "cell_type": "code",
   "execution_count": 67,
   "metadata": {},
   "outputs": [],
   "source": [
    "# load the model from the file\n",
    "Deaths_from_joblib=joblib.load('lsreg_deaths.obj')"
   ]
  },
  {
   "cell_type": "code",
   "execution_count": 68,
   "metadata": {},
   "outputs": [
    {
     "data": {
      "text/plain": [
       "array([[3018.32837647],\n",
       "       [1139.14097809],\n",
       "       [ 558.00742697],\n",
       "       [2432.3298456 ],\n",
       "       [1979.04202896],\n",
       "       [1076.65586038],\n",
       "       [ 676.47327147]])"
      ]
     },
     "execution_count": 68,
     "metadata": {},
     "output_type": "execute_result"
    }
   ],
   "source": [
    "#Use the loaded model to make predictions against test data\n",
    "Deaths_from_joblib.predict(x_test)"
   ]
  },
  {
   "cell_type": "markdown",
   "metadata": {},
   "source": [
    "# Conclusion:\n",
    "    \n",
    "So here 'Lasso Regression Model' is the best model out of all model tested above and by looking this we can conclude\n",
    "that our model is predicting around 99% of correct results for predicting the deaths from the covid19 cases."
   ]
  },
  {
   "cell_type": "markdown",
   "metadata": {},
   "source": [
    "# 5-Predicting/Forecasting Total Number of Cases for India till 31st December"
   ]
  },
  {
   "cell_type": "markdown",
   "metadata": {},
   "source": [
    "Here we are going to generate the data till December end i.e. for 235 days ahead (as the data contain last date is 18th may)\n",
    "of forecast of COVID-19. So we will use Prophet method for prediction.\n",
    "\n",
    "Prophet is open source software released by Facebook’s Core Data Science team. It is available for download on CRAN and PyPI.\n",
    "\n",
    "Will use Prophet, a procedure for forecasting time series data based on an additive model where non-linear trends are fit \n",
    "with yearly, weekly, and daily seasonality, plus holiday effects. It works best with time series that have strong seasonal\n",
    "effects and several seasons of historical data. Prophet is robust to missing data and shifts in the trend, and typically \n",
    "handles outliers well.\n",
    "\n",
    "The input to Prophet is always a data frame with two columns: ds and y. The ds (datestamp) column should be of a format \n",
    "expected by Pandas, ideally YYYY-MM-DD for a date or YYYY-MM-DD HH:MM:SS for a timestamp. The y column must be numeric \n",
    "and represents the measurement we wish to forecast."
   ]
  },
  {
   "cell_type": "code",
   "execution_count": 69,
   "metadata": {},
   "outputs": [
    {
     "name": "stderr",
     "output_type": "stream",
     "text": [
      "Importing plotly failed. Interactive plots will not work.\n"
     ]
    }
   ],
   "source": [
    "#import the prophet library\n",
    "from fbprophet import Prophet"
   ]
  },
  {
   "cell_type": "code",
   "execution_count": 98,
   "metadata": {},
   "outputs": [
    {
     "data": {
      "text/html": [
       "<div>\n",
       "<style scoped>\n",
       "    .dataframe tbody tr th:only-of-type {\n",
       "        vertical-align: middle;\n",
       "    }\n",
       "\n",
       "    .dataframe tbody tr th {\n",
       "        vertical-align: top;\n",
       "    }\n",
       "\n",
       "    .dataframe thead th {\n",
       "        text-align: right;\n",
       "    }\n",
       "</style>\n",
       "<table border=\"1\" class=\"dataframe\">\n",
       "  <thead>\n",
       "    <tr style=\"text-align: right;\">\n",
       "      <th></th>\n",
       "      <th>Date</th>\n",
       "      <th>Country</th>\n",
       "      <th>Population</th>\n",
       "      <th>Total Tests</th>\n",
       "      <th>Total Cases</th>\n",
       "      <th>Total Deaths</th>\n",
       "      <th>Total Recovered</th>\n",
       "      <th>Active Cases</th>\n",
       "      <th>Fraction age 0-14 years</th>\n",
       "      <th>Fraction age 15-64 years</th>\n",
       "      <th>Fraction age 65+ years</th>\n",
       "    </tr>\n",
       "  </thead>\n",
       "  <tbody>\n",
       "    <tr>\n",
       "      <th>5548</th>\n",
       "      <td>2020-05-14</td>\n",
       "      <td>India</td>\n",
       "      <td>1.378382e+09</td>\n",
       "      <td>1947041.0</td>\n",
       "      <td>81997.0</td>\n",
       "      <td>2649.0</td>\n",
       "      <td>27969.0</td>\n",
       "      <td>51379.0</td>\n",
       "      <td>0.278</td>\n",
       "      <td>0.662</td>\n",
       "      <td>0.06</td>\n",
       "    </tr>\n",
       "    <tr>\n",
       "      <th>5761</th>\n",
       "      <td>2020-05-15</td>\n",
       "      <td>India</td>\n",
       "      <td>1.378382e+09</td>\n",
       "      <td>2039952.0</td>\n",
       "      <td>85784.0</td>\n",
       "      <td>2753.0</td>\n",
       "      <td>30258.0</td>\n",
       "      <td>52773.0</td>\n",
       "      <td>0.278</td>\n",
       "      <td>0.662</td>\n",
       "      <td>0.06</td>\n",
       "    </tr>\n",
       "    <tr>\n",
       "      <th>5974</th>\n",
       "      <td>2020-05-16</td>\n",
       "      <td>India</td>\n",
       "      <td>1.378382e+09</td>\n",
       "      <td>2134277.0</td>\n",
       "      <td>90648.0</td>\n",
       "      <td>2871.0</td>\n",
       "      <td>34224.0</td>\n",
       "      <td>53553.0</td>\n",
       "      <td>0.278</td>\n",
       "      <td>0.662</td>\n",
       "      <td>0.06</td>\n",
       "    </tr>\n",
       "    <tr>\n",
       "      <th>6187</th>\n",
       "      <td>2020-05-17</td>\n",
       "      <td>India</td>\n",
       "      <td>1.378382e+09</td>\n",
       "      <td>2227642.0</td>\n",
       "      <td>95698.0</td>\n",
       "      <td>3025.0</td>\n",
       "      <td>36795.0</td>\n",
       "      <td>55878.0</td>\n",
       "      <td>0.278</td>\n",
       "      <td>0.662</td>\n",
       "      <td>0.06</td>\n",
       "    </tr>\n",
       "    <tr>\n",
       "      <th>6400</th>\n",
       "      <td>2020-05-18</td>\n",
       "      <td>India</td>\n",
       "      <td>1.378382e+09</td>\n",
       "      <td>2302792.0</td>\n",
       "      <td>100328.0</td>\n",
       "      <td>3156.0</td>\n",
       "      <td>39233.0</td>\n",
       "      <td>57939.0</td>\n",
       "      <td>0.278</td>\n",
       "      <td>0.662</td>\n",
       "      <td>0.06</td>\n",
       "    </tr>\n",
       "  </tbody>\n",
       "</table>\n",
       "</div>"
      ],
      "text/plain": [
       "            Date Country    Population  Total Tests  Total Cases  \\\n",
       "5548  2020-05-14   India  1.378382e+09    1947041.0      81997.0   \n",
       "5761  2020-05-15   India  1.378382e+09    2039952.0      85784.0   \n",
       "5974  2020-05-16   India  1.378382e+09    2134277.0      90648.0   \n",
       "6187  2020-05-17   India  1.378382e+09    2227642.0      95698.0   \n",
       "6400  2020-05-18   India  1.378382e+09    2302792.0     100328.0   \n",
       "\n",
       "      Total Deaths  Total Recovered  Active Cases  Fraction age 0-14 years  \\\n",
       "5548        2649.0          27969.0       51379.0                    0.278   \n",
       "5761        2753.0          30258.0       52773.0                    0.278   \n",
       "5974        2871.0          34224.0       53553.0                    0.278   \n",
       "6187        3025.0          36795.0       55878.0                    0.278   \n",
       "6400        3156.0          39233.0       57939.0                    0.278   \n",
       "\n",
       "      Fraction age 15-64 years  Fraction age 65+ years  \n",
       "5548                     0.662                    0.06  \n",
       "5761                     0.662                    0.06  \n",
       "5974                     0.662                    0.06  \n",
       "6187                     0.662                    0.06  \n",
       "6400                     0.662                    0.06  "
      ]
     },
     "execution_count": 98,
     "metadata": {},
     "output_type": "execute_result"
    }
   ],
   "source": [
    "#lets print the data\n",
    "covid19_India_final.tail()"
   ]
  },
  {
   "cell_type": "code",
   "execution_count": 75,
   "metadata": {},
   "outputs": [],
   "source": [
    "#as here as we are going to forecast the death rates, so we will drop Country,Population and Total Recovered attributes\n",
    "covid19_India_cases=covid19_India_final.drop(['Country','Population','Total Recovered'],axis=1)"
   ]
  },
  {
   "cell_type": "code",
   "execution_count": 88,
   "metadata": {},
   "outputs": [],
   "source": [
    "#split the data on the basis of Deaths\n",
    "deaths = covid19_India_cases.groupby('Date').sum()['Total Deaths'].reset_index()\n",
    "totalcases= covid19_India_cases.groupby('Date').sum()['Total Cases'].reset_index()"
   ]
  },
  {
   "cell_type": "code",
   "execution_count": 82,
   "metadata": {
    "scrolled": true
   },
   "outputs": [
    {
     "name": "stderr",
     "output_type": "stream",
     "text": [
      "INFO:fbprophet:Disabling yearly seasonality. Run prophet with yearly_seasonality=True to override this.\n",
      "INFO:fbprophet:Disabling daily seasonality. Run prophet with daily_seasonality=True to override this.\n",
      "INFO:fbprophet:n_changepoints greater than number of observations. Using 23.\n"
     ]
    },
    {
     "name": "stdout",
     "output_type": "stream",
     "text": [
      "           ds       y\n",
      "26 2020-05-14  2649.0\n",
      "27 2020-05-15  2753.0\n",
      "28 2020-05-16  2871.0\n",
      "29 2020-05-17  3025.0\n",
      "30 2020-05-18  3156.0\n",
      "            ds\n",
      "253 2020-12-27\n",
      "254 2020-12-28\n",
      "255 2020-12-29\n",
      "256 2020-12-30\n",
      "257 2020-12-31\n"
     ]
    }
   ],
   "source": [
    "#Forecasting India COVID19 Deaths Cases\n",
    "deaths.columns = ['ds','y']\n",
    "deaths['ds'] = pd.to_datetime(deaths['ds'])\n",
    "print(deaths.tail())\n",
    "m = Prophet(interval_width=0.95)\n",
    "m.fit(deaths)\n",
    "future_deaths_India = m.make_future_dataframe(periods=227)\n",
    "print(future_deaths_India.tail())"
   ]
  },
  {
   "cell_type": "code",
   "execution_count": 89,
   "metadata": {},
   "outputs": [
    {
     "name": "stderr",
     "output_type": "stream",
     "text": [
      "INFO:fbprophet:Disabling yearly seasonality. Run prophet with yearly_seasonality=True to override this.\n",
      "INFO:fbprophet:Disabling daily seasonality. Run prophet with daily_seasonality=True to override this.\n",
      "INFO:fbprophet:n_changepoints greater than number of observations. Using 23.\n"
     ]
    },
    {
     "name": "stdout",
     "output_type": "stream",
     "text": [
      "           ds         y\n",
      "26 2020-05-14   81997.0\n",
      "27 2020-05-15   85784.0\n",
      "28 2020-05-16   90648.0\n",
      "29 2020-05-17   95698.0\n",
      "30 2020-05-18  100328.0\n",
      "            ds\n",
      "253 2020-12-27\n",
      "254 2020-12-28\n",
      "255 2020-12-29\n",
      "256 2020-12-30\n",
      "257 2020-12-31\n"
     ]
    }
   ],
   "source": [
    "#Forecasting India COVID19 Total Cases\n",
    "totalcases.columns = ['ds','y']\n",
    "totalcases['ds'] = pd.to_datetime(totalcases['ds'])\n",
    "print(totalcases.tail())\n",
    "m = Prophet(interval_width=0.95)\n",
    "m.fit(totalcases)\n",
    "future_totalcases_India = m.make_future_dataframe(periods=227)\n",
    "print(future_totalcases_India.tail())"
   ]
  },
  {
   "cell_type": "code",
   "execution_count": 83,
   "metadata": {
    "scrolled": true
   },
   "outputs": [
    {
     "data": {
      "text/html": [
       "<div>\n",
       "<style scoped>\n",
       "    .dataframe tbody tr th:only-of-type {\n",
       "        vertical-align: middle;\n",
       "    }\n",
       "\n",
       "    .dataframe tbody tr th {\n",
       "        vertical-align: top;\n",
       "    }\n",
       "\n",
       "    .dataframe thead th {\n",
       "        text-align: right;\n",
       "    }\n",
       "</style>\n",
       "<table border=\"1\" class=\"dataframe\">\n",
       "  <thead>\n",
       "    <tr style=\"text-align: right;\">\n",
       "      <th></th>\n",
       "      <th>ds</th>\n",
       "      <th>yhat</th>\n",
       "      <th>yhat_lower</th>\n",
       "      <th>yhat_upper</th>\n",
       "    </tr>\n",
       "  </thead>\n",
       "  <tbody>\n",
       "    <tr>\n",
       "      <th>253</th>\n",
       "      <td>2020-12-27</td>\n",
       "      <td>29813.934496</td>\n",
       "      <td>602.091248</td>\n",
       "      <td>61104.011978</td>\n",
       "    </tr>\n",
       "    <tr>\n",
       "      <th>254</th>\n",
       "      <td>2020-12-28</td>\n",
       "      <td>29942.377696</td>\n",
       "      <td>569.435308</td>\n",
       "      <td>61426.020584</td>\n",
       "    </tr>\n",
       "    <tr>\n",
       "      <th>255</th>\n",
       "      <td>2020-12-29</td>\n",
       "      <td>30061.085255</td>\n",
       "      <td>529.246114</td>\n",
       "      <td>61716.094718</td>\n",
       "    </tr>\n",
       "    <tr>\n",
       "      <th>256</th>\n",
       "      <td>2020-12-30</td>\n",
       "      <td>30176.905083</td>\n",
       "      <td>486.545692</td>\n",
       "      <td>62021.140571</td>\n",
       "    </tr>\n",
       "    <tr>\n",
       "      <th>257</th>\n",
       "      <td>2020-12-31</td>\n",
       "      <td>30285.379052</td>\n",
       "      <td>445.839745</td>\n",
       "      <td>62297.850828</td>\n",
       "    </tr>\n",
       "  </tbody>\n",
       "</table>\n",
       "</div>"
      ],
      "text/plain": [
       "            ds          yhat  yhat_lower    yhat_upper\n",
       "253 2020-12-27  29813.934496  602.091248  61104.011978\n",
       "254 2020-12-28  29942.377696  569.435308  61426.020584\n",
       "255 2020-12-29  30061.085255  529.246114  61716.094718\n",
       "256 2020-12-30  30176.905083  486.545692  62021.140571\n",
       "257 2020-12-31  30285.379052  445.839745  62297.850828"
      ]
     },
     "execution_count": 83,
     "metadata": {},
     "output_type": "execute_result"
    }
   ],
   "source": [
    "#predicting the future death acses with date, and upper and lower limit of y value\n",
    "forecast_deaths_India = m.predict(future_deaths_India)\n",
    "forecast_deaths_India[['ds', 'yhat', 'yhat_lower', 'yhat_upper']].tail()"
   ]
  },
  {
   "cell_type": "code",
   "execution_count": 90,
   "metadata": {},
   "outputs": [
    {
     "data": {
      "text/html": [
       "<div>\n",
       "<style scoped>\n",
       "    .dataframe tbody tr th:only-of-type {\n",
       "        vertical-align: middle;\n",
       "    }\n",
       "\n",
       "    .dataframe tbody tr th {\n",
       "        vertical-align: top;\n",
       "    }\n",
       "\n",
       "    .dataframe thead th {\n",
       "        text-align: right;\n",
       "    }\n",
       "</style>\n",
       "<table border=\"1\" class=\"dataframe\">\n",
       "  <thead>\n",
       "    <tr style=\"text-align: right;\">\n",
       "      <th></th>\n",
       "      <th>ds</th>\n",
       "      <th>yhat</th>\n",
       "      <th>yhat_lower</th>\n",
       "      <th>yhat_upper</th>\n",
       "    </tr>\n",
       "  </thead>\n",
       "  <tbody>\n",
       "    <tr>\n",
       "      <th>253</th>\n",
       "      <td>2020-12-27</td>\n",
       "      <td>1.041388e+06</td>\n",
       "      <td>-175004.375830</td>\n",
       "      <td>2.314613e+06</td>\n",
       "    </tr>\n",
       "    <tr>\n",
       "      <th>254</th>\n",
       "      <td>2020-12-28</td>\n",
       "      <td>1.046017e+06</td>\n",
       "      <td>-181533.355888</td>\n",
       "      <td>2.328378e+06</td>\n",
       "    </tr>\n",
       "    <tr>\n",
       "      <th>255</th>\n",
       "      <td>2020-12-29</td>\n",
       "      <td>1.049684e+06</td>\n",
       "      <td>-188038.908005</td>\n",
       "      <td>2.341381e+06</td>\n",
       "    </tr>\n",
       "    <tr>\n",
       "      <th>256</th>\n",
       "      <td>2020-12-30</td>\n",
       "      <td>1.053466e+06</td>\n",
       "      <td>-194065.959910</td>\n",
       "      <td>2.354712e+06</td>\n",
       "    </tr>\n",
       "    <tr>\n",
       "      <th>257</th>\n",
       "      <td>2020-12-31</td>\n",
       "      <td>1.057347e+06</td>\n",
       "      <td>-200156.856070</td>\n",
       "      <td>2.367786e+06</td>\n",
       "    </tr>\n",
       "  </tbody>\n",
       "</table>\n",
       "</div>"
      ],
      "text/plain": [
       "            ds          yhat     yhat_lower    yhat_upper\n",
       "253 2020-12-27  1.041388e+06 -175004.375830  2.314613e+06\n",
       "254 2020-12-28  1.046017e+06 -181533.355888  2.328378e+06\n",
       "255 2020-12-29  1.049684e+06 -188038.908005  2.341381e+06\n",
       "256 2020-12-30  1.053466e+06 -194065.959910  2.354712e+06\n",
       "257 2020-12-31  1.057347e+06 -200156.856070  2.367786e+06"
      ]
     },
     "execution_count": 90,
     "metadata": {},
     "output_type": "execute_result"
    }
   ],
   "source": [
    "#predicting the future total cases with date, and upper and lower limit of y value\n",
    "forecast_totalcases_India = m.predict(future_totalcases_India)\n",
    "forecast_totalcases_India[['ds', 'yhat', 'yhat_lower', 'yhat_upper']].tail()"
   ]
  },
  {
   "cell_type": "code",
   "execution_count": 85,
   "metadata": {},
   "outputs": [
    {
     "name": "stdout",
     "output_type": "stream",
     "text": [
      "predicted average Death cases: 3856674.0045656925\n",
      "predicted lower limit Death cases: 1065198.495367002\n",
      "predicted higher limit Death cases: 6740301.465906759\n"
     ]
    }
   ],
   "source": [
    "#total no. of predicted death cases\n",
    "print('predicted average Death cases:',forecast_deaths_India['yhat'].sum())\n",
    "print('predicted lower limit Death cases:',forecast_deaths_India['yhat_lower'].sum())\n",
    "print('predicted higher limit Death cases:',forecast_deaths_India['yhat_upper'].sum())"
   ]
  },
  {
   "cell_type": "code",
   "execution_count": 91,
   "metadata": {},
   "outputs": [
    {
     "name": "stdout",
     "output_type": "stream",
     "text": [
      "predicted average total cases: 133339887.19920614\n",
      "predicted lower limit total cases: 20002395.216481034\n",
      "predicted higher limit total cases: 252985474.51084152\n"
     ]
    }
   ],
   "source": [
    "#total no. of predicted total cases\n",
    "print('predicted average total cases:',forecast_totalcases_India['yhat'].sum())\n",
    "print('predicted lower limit total cases:',forecast_totalcases_India['yhat_lower'].sum())\n",
    "print('predicted higher limit total cases:',forecast_totalcases_India['yhat_upper'].sum())"
   ]
  },
  {
   "cell_type": "code",
   "execution_count": 86,
   "metadata": {},
   "outputs": [
    {
     "data": {
      "image/png": "[encoded data removed]",
      "text/plain": [
       "<Figure size 720x432 with 1 Axes>"
      ]
     },
     "metadata": {},
     "output_type": "display_data"
    }
   ],
   "source": [
    "#lets plot the predicted model for deaths\n",
    "deaths_forecast_plot_India = m.plot(forecast_deaths_India)"
   ]
  },
  {
   "cell_type": "code",
   "execution_count": 92,
   "metadata": {},
   "outputs": [
    {
     "data": {
      "image/png": "[encoded data removed]",
      "text/plain": [
       "<Figure size 720x432 with 1 Axes>"
      ]
     },
     "metadata": {},
     "output_type": "display_data"
    }
   ],
   "source": [
    "#lets plot the predicted model for totalcases\n",
    "totalcases_forecast_plot_India = m.plot(forecast_totalcases_India)"
   ]
  },
  {
   "cell_type": "code",
   "execution_count": 94,
   "metadata": {
    "scrolled": false
   },
   "outputs": [
    {
     "data": {
      "image/png": "[encoded data removed]",
      "text/plain": [
       "<Figure size 648x432 with 2 Axes>"
      ]
     },
     "metadata": {},
     "output_type": "display_data"
    }
   ],
   "source": [
    "#lets print the components of the plot for deaths\n",
    "deaths_forecast_plot_India =m.plot_components(forecast_deaths_India)"
   ]
  },
  {
   "cell_type": "code",
   "execution_count": 93,
   "metadata": {},
   "outputs": [
    {
     "data": {
      "image/png": "[encoded data removed]",
      "text/plain": [
       "<Figure size 648x432 with 2 Axes>"
      ]
     },
     "metadata": {},
     "output_type": "display_data"
    }
   ],
   "source": [
    "#lets print the components of the plot for total cases\n",
    "deaths_forecast_plot_India =m.plot_components(forecast_totalcases_India)"
   ]
  },
  {
   "cell_type": "markdown",
   "metadata": {},
   "source": [
    "# Conclusion:\n",
    "\n",
    "As per data the summary of Covid19 cases in India, the total no of deaths will be increasing.\n",
    "\n",
    "Now as per predicted data the summary of Covid19 deaths cases of India (till end of Dec 2020) is:\n",
    "\n",
    "predicted average total cases: 133339887.19920614 and Death cases: 3856674.0045656925, so death rate is 0.029%\n",
    "\n",
    "predicted lower limit total cases: 20002395.216481034 and Death cases: 1065198.495367002, so death rate is 0.053%\n",
    "\n",
    "predicted higher limit total cases: 252985474.51084152 and Death cases: 6740301.465906759, so death rate is 0.027%\n",
    "\n",
    "So the predictions shows as the days ahead, we are proceeding towards better recovery rate."
   ]
  },
  {
   "cell_type": "code",
   "execution_count": null,
   "metadata": {},
   "outputs": [],
   "source": []
  }
 ],
 "metadata": {
  "kernelspec": {
   "display_name": "Python 3",
   "language": "python",
   "name": "python3"
  },
  "language_info": {
   "codemirror_mode": {
    "name": "ipython",
    "version": 3
   },
   "file_extension": ".py",
   "mimetype": "text/x-python",
   "name": "python",
   "nbconvert_exporter": "python",
   "pygments_lexer": "ipython3",
   "version": "3.7.6"
  }
 },
 "nbformat": 4,
 "nbformat_minor": 4
}
