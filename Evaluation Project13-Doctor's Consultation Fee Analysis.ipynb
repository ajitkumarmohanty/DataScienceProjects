{
 "cells": [
  {
   "cell_type": "markdown",
   "metadata": {},
   "source": [
    "# Doctor's Consultation Fee:\n",
    "\n",
    "We have all been in situation where we go to a doctor in emergency and find that the consultation fees are too high. \n",
    "As a data scientist we all should do better. What if you have data that records important details about a doctor and \n",
    "you get to build a model to predict the doctor’s consulting fee.? This is the hackathon that lets you do that.\n",
    "\n",
    "Size of training set: 5961 records\n",
    "\n",
    "Size of test set: 1987 records\n",
    "\n",
    "FEATURES:\n",
    "\n",
    "Qualification: Qualification and degrees held by the doctor\n",
    "\n",
    "Experience: Experience of the doctor in number of years\n",
    "\n",
    "Rating: Rating given by patients\n",
    "\n",
    "Profile: Type of the doctor\n",
    "\n",
    "Miscellaeous_Info: Extra information about the doctor\n",
    "\n",
    "Fees: Fees charged by the doctor\n",
    "\n",
    "Place: Area and the city where the doctor is located.\n",
    "    \n",
    "So here we will use different regression methods to predict the Doctor's Consultation Fee."
   ]
  },
  {
   "cell_type": "markdown",
   "metadata": {},
   "source": [
    "# 1-Data Exploration (Reading the data and Attributes name)"
   ]
  },
  {
   "cell_type": "code",
   "execution_count": 1,
   "metadata": {},
   "outputs": [],
   "source": [
    "#Importing all basic required libray\n",
    "import numpy as np\n",
    "import pandas as pd\n",
    "import matplotlib.pyplot as plt\n",
    "import seaborn as sns\n",
    "import warnings\n",
    "warnings.filterwarnings('ignore')"
   ]
  },
  {
   "cell_type": "code",
   "execution_count": 2,
   "metadata": {},
   "outputs": [
    {
     "name": "stdout",
     "output_type": "stream",
     "text": [
      "(5961, 7)\n",
      "(1987, 6)\n"
     ]
    }
   ],
   "source": [
    "#lets import the train and test dataset using utf-8 encoding method\n",
    "DocFee_train=pd.read_excel('DFee_Train.xlsx',encoding='utf-8')\n",
    "DocFee_test=pd.read_excel('DFee_Test.xlsx',encoding='utf-8')\n",
    "print(DocFee_train.shape)\n",
    "print(DocFee_test.shape)"
   ]
  },
  {
   "cell_type": "code",
   "execution_count": 3,
   "metadata": {},
   "outputs": [
    {
     "name": "stdout",
     "output_type": "stream",
     "text": [
      "                    Qualification           Experience Rating  \\\n",
      "0           BHMS, MD - Homeopathy  24 years experience   100%   \n",
      "1    BAMS, MD - Ayurveda Medicine  12 years experience    98%   \n",
      "2  MBBS, MS - Otorhinolaryngology   9 years experience    NaN   \n",
      "3             BSc - Zoology, BAMS  12 years experience    NaN   \n",
      "4                            BAMS  20 years experience   100%   \n",
      "\n",
      "                          Place         Profile  \\\n",
      "0           Kakkanad, Ernakulam       Homeopath   \n",
      "1         Whitefield, Bangalore        Ayurveda   \n",
      "2    Mathikere - BEL, Bangalore  ENT Specialist   \n",
      "3  Bannerghatta Road, Bangalore        Ayurveda   \n",
      "4         Keelkattalai, Chennai        Ayurveda   \n",
      "\n",
      "                                  Miscellaneous_Info  Fees  \n",
      "0               100% 16 Feedback Kakkanad, Ernakulam   100  \n",
      "1              98% 76 Feedback Whitefield, Bangalore   350  \n",
      "2                                                NaN   300  \n",
      "3  Bannerghatta Road, Bangalore ₹250 Available on...   250  \n",
      "4              100% 4 Feedback Keelkattalai, Chennai   250  \n"
     ]
    }
   ],
   "source": [
    "#printing the train data\n",
    "print(DocFee_train.head())"
   ]
  },
  {
   "cell_type": "code",
   "execution_count": 4,
   "metadata": {},
   "outputs": [
    {
     "name": "stdout",
     "output_type": "stream",
     "text": [
      "<class 'pandas.core.frame.DataFrame'>\n",
      "RangeIndex: 5961 entries, 0 to 5960\n",
      "Data columns (total 7 columns):\n",
      " #   Column              Non-Null Count  Dtype \n",
      "---  ------              --------------  ----- \n",
      " 0   Qualification       5961 non-null   object\n",
      " 1   Experience          5961 non-null   object\n",
      " 2   Rating              2659 non-null   object\n",
      " 3   Place               5936 non-null   object\n",
      " 4   Profile             5961 non-null   object\n",
      " 5   Miscellaneous_Info  3341 non-null   object\n",
      " 6   Fees                5961 non-null   int64 \n",
      "dtypes: int64(1), object(6)\n",
      "memory usage: 326.1+ KB\n",
      "None\n"
     ]
    }
   ],
   "source": [
    "#lets print the train data information\n",
    "print(DocFee_train.info())"
   ]
  },
  {
   "cell_type": "code",
   "execution_count": 5,
   "metadata": {},
   "outputs": [
    {
     "name": "stdout",
     "output_type": "stream",
     "text": [
      "                                     Qualification           Experience  \\\n",
      "0                                             MBBS  35 years experience   \n",
      "1       MBBS, Diploma in Otorhinolaryngology (DLO)  31 years experience   \n",
      "2                                       MBBS, DDVL  40 years experience   \n",
      "3                                             BAMS   0 years experience   \n",
      "4  BDS, MDS - Conservative Dentistry & Endodontics  16 years experience   \n",
      "\n",
      "  Rating                        Place           Profile  \\\n",
      "0    NaN       Ghatkopar East, Mumbai  General Medicine   \n",
      "1    NaN  West Marredpally, Hyderabad    ENT Specialist   \n",
      "2    70%            KK Nagar, Chennai    Dermatologists   \n",
      "3    NaN       New Ashok Nagar, Delhi          Ayurveda   \n",
      "4   100%    Kanakpura Road, Bangalore           Dentist   \n",
      "\n",
      "                                  Miscellaneous_Info  \n",
      "0                                                NaN  \n",
      "1                                                NaN  \n",
      "2                   70% 4 Feedback KK Nagar, Chennai  \n",
      "3                                                NaN  \n",
      "4  General Dentistry Conservative Dentistry Cosme...  \n"
     ]
    }
   ],
   "source": [
    "#printing the test data\n",
    "print(DocFee_test.head())"
   ]
  },
  {
   "cell_type": "code",
   "execution_count": 6,
   "metadata": {},
   "outputs": [
    {
     "name": "stdout",
     "output_type": "stream",
     "text": [
      "<class 'pandas.core.frame.DataFrame'>\n",
      "RangeIndex: 1987 entries, 0 to 1986\n",
      "Data columns (total 6 columns):\n",
      " #   Column              Non-Null Count  Dtype \n",
      "---  ------              --------------  ----- \n",
      " 0   Qualification       1987 non-null   object\n",
      " 1   Experience          1987 non-null   object\n",
      " 2   Rating              897 non-null    object\n",
      " 3   Place               1981 non-null   object\n",
      " 4   Profile             1987 non-null   object\n",
      " 5   Miscellaneous_Info  1153 non-null   object\n",
      "dtypes: object(6)\n",
      "memory usage: 93.3+ KB\n",
      "None\n"
     ]
    }
   ],
   "source": [
    "#lets print the test data information\n",
    "print(DocFee_test.info())"
   ]
  },
  {
   "cell_type": "markdown",
   "metadata": {},
   "source": [
    "# 2-Exploratory Data Analysis (Exploring, Imputing, Cleaning & Visualizing)"
   ]
  },
  {
   "cell_type": "code",
   "execution_count": 21,
   "metadata": {},
   "outputs": [
    {
     "name": "stdout",
     "output_type": "stream",
     "text": [
      "(5961, 8)\n",
      "(1987, 8)\n",
      "(7948, 8)\n"
     ]
    }
   ],
   "source": [
    "#so to explore data better we can append both train and test data. \n",
    "#So we will combine both train and test for our dayta analysis and for data visualization,\n",
    "#feature engineering, one-hot encoding, and label encoding as all the attributes are object in nature except price. \n",
    "#Later we will split this combined data back to train and test datasets.\n",
    "\n",
    "DocFee_train['source']='train'\n",
    "DocFee_test['source']='test'\n",
    "DocFee_test['Fees'] = 0\n",
    "combidata = pd.concat([DocFee_train,DocFee_test],sort=False)\n",
    "print(DocFee_train.shape)\n",
    "print(DocFee_test.shape)\n",
    "print(combidata.shape)"
   ]
  },
  {
   "cell_type": "code",
   "execution_count": 8,
   "metadata": {},
   "outputs": [
    {
     "name": "stdout",
     "output_type": "stream",
     "text": [
      "                    Qualification           Experience Rating  \\\n",
      "0           BHMS, MD - Homeopathy  24 years experience   100%   \n",
      "1    BAMS, MD - Ayurveda Medicine  12 years experience    98%   \n",
      "2  MBBS, MS - Otorhinolaryngology   9 years experience    NaN   \n",
      "3             BSc - Zoology, BAMS  12 years experience    NaN   \n",
      "4                            BAMS  20 years experience   100%   \n",
      "\n",
      "                          Place         Profile  \\\n",
      "0           Kakkanad, Ernakulam       Homeopath   \n",
      "1         Whitefield, Bangalore        Ayurveda   \n",
      "2    Mathikere - BEL, Bangalore  ENT Specialist   \n",
      "3  Bannerghatta Road, Bangalore        Ayurveda   \n",
      "4         Keelkattalai, Chennai        Ayurveda   \n",
      "\n",
      "                                  Miscellaneous_Info  Fees source  \n",
      "0               100% 16 Feedback Kakkanad, Ernakulam   100  train  \n",
      "1              98% 76 Feedback Whitefield, Bangalore   350  train  \n",
      "2                                                NaN   300  train  \n",
      "3  Bannerghatta Road, Bangalore ₹250 Available on...   250  train  \n",
      "4              100% 4 Feedback Keelkattalai, Chennai   250  train  \n"
     ]
    }
   ],
   "source": [
    "#printing the combine data\n",
    "print(combidata.head())"
   ]
  },
  {
   "cell_type": "code",
   "execution_count": 9,
   "metadata": {},
   "outputs": [
    {
     "name": "stdout",
     "output_type": "stream",
     "text": [
      "<class 'pandas.core.frame.DataFrame'>\n",
      "Int64Index: 7948 entries, 0 to 1986\n",
      "Data columns (total 8 columns):\n",
      " #   Column              Non-Null Count  Dtype \n",
      "---  ------              --------------  ----- \n",
      " 0   Qualification       7948 non-null   object\n",
      " 1   Experience          7948 non-null   object\n",
      " 2   Rating              3556 non-null   object\n",
      " 3   Place               7917 non-null   object\n",
      " 4   Profile             7948 non-null   object\n",
      " 5   Miscellaneous_Info  4494 non-null   object\n",
      " 6   Fees                7948 non-null   int64 \n",
      " 7   source              7948 non-null   object\n",
      "dtypes: int64(1), object(7)\n",
      "memory usage: 558.8+ KB\n",
      "None\n"
     ]
    }
   ],
   "source": [
    "#lets print the combine data information\n",
    "print(combidata.info())"
   ]
  },
  {
   "cell_type": "code",
   "execution_count": 10,
   "metadata": {},
   "outputs": [
    {
     "data": {
      "text/plain": [
       "Qualification         1801\n",
       "Experience              64\n",
       "Rating                  53\n",
       "Place                  949\n",
       "Profile                  6\n",
       "Miscellaneous_Info    3981\n",
       "Fees                    41\n",
       "source                   2\n",
       "dtype: int64"
      ]
     },
     "execution_count": 10,
     "metadata": {},
     "output_type": "execute_result"
    }
   ],
   "source": [
    "#lets see the categorical variable, and the number of unique values in each of them.\n",
    "combidata.apply(lambda x: len(x.unique()))"
   ]
  },
  {
   "cell_type": "code",
   "execution_count": 11,
   "metadata": {},
   "outputs": [
    {
     "name": "stdout",
     "output_type": "stream",
     "text": [
      "Column Name: Qualification\n",
      "BDS                                                                                                     632\n",
      "BHMS                                                                                                    627\n",
      "BAMS                                                                                                    624\n",
      "MBBS                                                                                                    441\n",
      "MBBS, MS - ENT                                                                                          280\n",
      "                                                                                                       ... \n",
      "MD - Dermatology , Venereology & Leprosy, Fellow of the American Academy of Dermatology (FAAD), MBBS      1\n",
      "MBBS, Master of Family Medicine, Diploma in Geriatric Medicine                                            1\n",
      "MDS - Oral & Maxillofacial Pathology and Microbiology, BDS                                                1\n",
      "MDS - Endodontics, BDS                                                                                    1\n",
      "MD - Ayurveda Medicine, BAMS, Diploma in Family Medicine (DFM)                                            1\n",
      "Name: Qualification, Length: 1801, dtype: int64\n",
      "\n",
      "\n",
      "Column Name: Experience\n",
      "9 years experience     419\n",
      "10 years experience    404\n",
      "8 years experience     380\n",
      "11 years experience    374\n",
      "12 years experience    358\n",
      "                      ... \n",
      "60 years experience      1\n",
      "64 years experience      1\n",
      "66 years experience      1\n",
      "61 years experience      1\n",
      "58 years experience      1\n",
      "Name: Experience, Length: 64, dtype: int64\n",
      "\n",
      "\n",
      "Column Name: Rating\n",
      "100%    907\n",
      "98%     402\n",
      "99%     327\n",
      "97%     325\n",
      "96%     285\n",
      "95%     225\n",
      "94%     166\n",
      "93%     143\n",
      "90%      95\n",
      "92%      95\n",
      "91%      86\n",
      "88%      54\n",
      "89%      53\n",
      "85%      35\n",
      "83%      32\n",
      "82%      32\n",
      "86%      27\n",
      "80%      26\n",
      "87%      25\n",
      "84%      20\n",
      "67%      17\n",
      "77%      17\n",
      "71%      16\n",
      "81%      15\n",
      "79%      15\n",
      "73%      13\n",
      "76%      13\n",
      "60%      11\n",
      "75%       8\n",
      "70%       8\n",
      "78%       7\n",
      "74%       7\n",
      "69%       6\n",
      "68%       5\n",
      "56%       5\n",
      "55%       5\n",
      "64%       4\n",
      "57%       3\n",
      "72%       3\n",
      "65%       2\n",
      "33%       2\n",
      "62%       2\n",
      "63%       2\n",
      "53%       2\n",
      "47%       1\n",
      "7%        1\n",
      "45%       1\n",
      "40%       1\n",
      "48%       1\n",
      "36%       1\n",
      "52%       1\n",
      "58%       1\n",
      "Name: Rating, dtype: int64\n",
      "\n",
      "\n",
      "Column Name: Place\n",
      "HSR Layout, Bangalore        97\n",
      "Andheri West, Mumbai         97\n",
      "Dwarka, Delhi                93\n",
      "Banjara Hills, Hyderabad     85\n",
      "Mulund West, Mumbai          81\n",
      "                             ..\n",
      "Lingarajapuram, Bangalore     1\n",
      "Charminar, Hyderabad          1\n",
      "Gandhi Nagar, Chennai         1\n",
      "Nettoor, Ernakulam            1\n",
      "Harlur, Bangalore             1\n",
      "Name: Place, Length: 948, dtype: int64\n",
      "\n",
      "\n",
      "Column Name: Profile\n",
      "Dentist             1838\n",
      "General Medicine    1617\n",
      "Dermatologists      1373\n",
      "Homeopath           1120\n",
      "Ayurveda            1037\n",
      "ENT Specialist       963\n",
      "Name: Profile, dtype: int64\n",
      "\n",
      "\n",
      "Column Name: Miscellaneous_Info\n",
      "Acrylic Partial Denture Crowns and Bridges Fixing Artificial Teeth             50\n",
      "Skin Allergy Treatment Skin Allergies Dermabrasion                             18\n",
      "Tooth Extraction Dental Fillings Scaling / Polishing                           16\n",
      "Dental Fillings Zirconia Crowns Dental Implant Fixing                          15\n",
      "Dermabrasion Laser Resurfacing Acne / Pimples Treatment                        14\n",
      "                                                                               ..\n",
      "88% 9 Feedback Wilson Garden, Bangalore                                         1\n",
      "Leg length inequality Ankylosing Spondylitis Treatment Rheumatism Treatment     1\n",
      "Dental Braces Fixing Metal Braces Fixing Gap Closing                            1\n",
      "Mesotherapy Hair Loss Treatment Hyper Pigmentation Treatment                    1\n",
      "100% 7 Feedback Pappanaickenpalayam West, Coimbatore                            1\n",
      "Name: Miscellaneous_Info, Length: 3980, dtype: int64\n",
      "\n",
      "\n",
      "Column Name: Fees\n",
      "0      1987\n",
      "100    1306\n",
      "500     938\n",
      "200     904\n",
      "300     864\n",
      "400     424\n",
      "250     307\n",
      "150     253\n",
      "600     215\n",
      "700     153\n",
      "350     143\n",
      "800     143\n",
      "50       81\n",
      "450      65\n",
      "750      34\n",
      "550      22\n",
      "650      21\n",
      "900      18\n",
      "70       18\n",
      "80       12\n",
      "60       11\n",
      "30        4\n",
      "180       2\n",
      "40        2\n",
      "10        2\n",
      "260       2\n",
      "130       2\n",
      "380       2\n",
      "220       1\n",
      "20        1\n",
      "499       1\n",
      "280       1\n",
      "920       1\n",
      "299       1\n",
      "125       1\n",
      "230       1\n",
      "430       1\n",
      "630       1\n",
      "850       1\n",
      "950       1\n",
      "5         1\n",
      "Name: Fees, dtype: int64\n",
      "\n",
      "\n",
      "Column Name: source\n",
      "train    5961\n",
      "test     1987\n",
      "Name: source, dtype: int64\n",
      "\n",
      "\n"
     ]
    }
   ],
   "source": [
    "#lets see what are the types of data are present in each attribute which will help us to analyze.\n",
    "for columns in combidata:\n",
    "    print(\"Column Name:\",columns)\n",
    "    #print(np.unique(combidata[columns], return_counts=True))\n",
    "    print(combidata[columns].value_counts())\n",
    "    print(\"\\n\")"
   ]
  },
  {
   "cell_type": "code",
   "execution_count": 12,
   "metadata": {},
   "outputs": [
    {
     "data": {
      "text/html": [
       "<div>\n",
       "<style scoped>\n",
       "    .dataframe tbody tr th:only-of-type {\n",
       "        vertical-align: middle;\n",
       "    }\n",
       "\n",
       "    .dataframe tbody tr th {\n",
       "        vertical-align: top;\n",
       "    }\n",
       "\n",
       "    .dataframe thead th {\n",
       "        text-align: right;\n",
       "    }\n",
       "</style>\n",
       "<table border=\"1\" class=\"dataframe\">\n",
       "  <thead>\n",
       "    <tr style=\"text-align: right;\">\n",
       "      <th></th>\n",
       "      <th>Qualification</th>\n",
       "      <th>Experience</th>\n",
       "      <th>Rating</th>\n",
       "      <th>Place</th>\n",
       "      <th>Profile</th>\n",
       "      <th>Miscellaneous_Info</th>\n",
       "    </tr>\n",
       "  </thead>\n",
       "  <tbody>\n",
       "    <tr>\n",
       "      <th>0</th>\n",
       "      <td>BHMS, MD - Homeopathy</td>\n",
       "      <td>24 years experience</td>\n",
       "      <td>100%</td>\n",
       "      <td>Kakkanad, Ernakulam</td>\n",
       "      <td>Homeopath</td>\n",
       "      <td>100% 16 Feedback Kakkanad, Ernakulam</td>\n",
       "    </tr>\n",
       "    <tr>\n",
       "      <th>1</th>\n",
       "      <td>BAMS, MD - Ayurveda Medicine</td>\n",
       "      <td>12 years experience</td>\n",
       "      <td>98%</td>\n",
       "      <td>Whitefield, Bangalore</td>\n",
       "      <td>Ayurveda</td>\n",
       "      <td>98% 76 Feedback Whitefield, Bangalore</td>\n",
       "    </tr>\n",
       "    <tr>\n",
       "      <th>2</th>\n",
       "      <td>MBBS, MS - Otorhinolaryngology</td>\n",
       "      <td>9 years experience</td>\n",
       "      <td>NaN</td>\n",
       "      <td>Mathikere - BEL, Bangalore</td>\n",
       "      <td>ENT Specialist</td>\n",
       "      <td>NaN</td>\n",
       "    </tr>\n",
       "    <tr>\n",
       "      <th>3</th>\n",
       "      <td>BSc - Zoology, BAMS</td>\n",
       "      <td>12 years experience</td>\n",
       "      <td>NaN</td>\n",
       "      <td>Bannerghatta Road, Bangalore</td>\n",
       "      <td>Ayurveda</td>\n",
       "      <td>Bannerghatta Road, Bangalore ₹250 Available on...</td>\n",
       "    </tr>\n",
       "    <tr>\n",
       "      <th>4</th>\n",
       "      <td>BAMS</td>\n",
       "      <td>20 years experience</td>\n",
       "      <td>100%</td>\n",
       "      <td>Keelkattalai, Chennai</td>\n",
       "      <td>Ayurveda</td>\n",
       "      <td>100% 4 Feedback Keelkattalai, Chennai</td>\n",
       "    </tr>\n",
       "    <tr>\n",
       "      <th>...</th>\n",
       "      <td>...</td>\n",
       "      <td>...</td>\n",
       "      <td>...</td>\n",
       "      <td>...</td>\n",
       "      <td>...</td>\n",
       "      <td>...</td>\n",
       "    </tr>\n",
       "    <tr>\n",
       "      <th>95</th>\n",
       "      <td>BHMS</td>\n",
       "      <td>12 years experience</td>\n",
       "      <td>100%</td>\n",
       "      <td>Kanakpura Road, Bangalore</td>\n",
       "      <td>Homeopath</td>\n",
       "      <td>Pediaterics Skin Disorder Kidney Stone Treatment</td>\n",
       "    </tr>\n",
       "    <tr>\n",
       "      <th>96</th>\n",
       "      <td>MD - Dermatology , Venereology &amp; Leprosy, MBBS</td>\n",
       "      <td>13 years experience</td>\n",
       "      <td>97%</td>\n",
       "      <td>Green Park, Delhi</td>\n",
       "      <td>Dermatologists</td>\n",
       "      <td>General dermatology Botox Injections Skin Boos...</td>\n",
       "    </tr>\n",
       "    <tr>\n",
       "      <th>97</th>\n",
       "      <td>MBBS, DDVL</td>\n",
       "      <td>24 years experience</td>\n",
       "      <td>NaN</td>\n",
       "      <td>Maduravoyal, Chennai</td>\n",
       "      <td>Dermatologists</td>\n",
       "      <td>NaN</td>\n",
       "    </tr>\n",
       "    <tr>\n",
       "      <th>98</th>\n",
       "      <td>BAMS</td>\n",
       "      <td>27 years experience</td>\n",
       "      <td>NaN</td>\n",
       "      <td>Dahisar East, Mumbai</td>\n",
       "      <td>Ayurveda</td>\n",
       "      <td>NaN</td>\n",
       "    </tr>\n",
       "    <tr>\n",
       "      <th>99</th>\n",
       "      <td>BDS, MDS - Periodontics</td>\n",
       "      <td>12 years experience</td>\n",
       "      <td>98%</td>\n",
       "      <td>Moosapet, Hyderabad</td>\n",
       "      <td>Dentist</td>\n",
       "      <td>Flap Surgery Dental Implant Fixing Periodontal...</td>\n",
       "    </tr>\n",
       "  </tbody>\n",
       "</table>\n",
       "<p>100 rows × 6 columns</p>\n",
       "</div>"
      ],
      "text/plain": [
       "                                     Qualification           Experience  \\\n",
       "0                            BHMS, MD - Homeopathy  24 years experience   \n",
       "1                     BAMS, MD - Ayurveda Medicine  12 years experience   \n",
       "2                   MBBS, MS - Otorhinolaryngology   9 years experience   \n",
       "3                              BSc - Zoology, BAMS  12 years experience   \n",
       "4                                             BAMS  20 years experience   \n",
       "..                                             ...                  ...   \n",
       "95                                            BHMS  12 years experience   \n",
       "96  MD - Dermatology , Venereology & Leprosy, MBBS  13 years experience   \n",
       "97                                      MBBS, DDVL  24 years experience   \n",
       "98                                            BAMS  27 years experience   \n",
       "99                         BDS, MDS - Periodontics  12 years experience   \n",
       "\n",
       "   Rating                         Place         Profile  \\\n",
       "0    100%           Kakkanad, Ernakulam       Homeopath   \n",
       "1     98%         Whitefield, Bangalore        Ayurveda   \n",
       "2     NaN    Mathikere - BEL, Bangalore  ENT Specialist   \n",
       "3     NaN  Bannerghatta Road, Bangalore        Ayurveda   \n",
       "4    100%         Keelkattalai, Chennai        Ayurveda   \n",
       "..    ...                           ...             ...   \n",
       "95   100%     Kanakpura Road, Bangalore       Homeopath   \n",
       "96    97%             Green Park, Delhi  Dermatologists   \n",
       "97    NaN          Maduravoyal, Chennai  Dermatologists   \n",
       "98    NaN          Dahisar East, Mumbai        Ayurveda   \n",
       "99    98%           Moosapet, Hyderabad         Dentist   \n",
       "\n",
       "                                   Miscellaneous_Info  \n",
       "0                100% 16 Feedback Kakkanad, Ernakulam  \n",
       "1               98% 76 Feedback Whitefield, Bangalore  \n",
       "2                                                 NaN  \n",
       "3   Bannerghatta Road, Bangalore ₹250 Available on...  \n",
       "4               100% 4 Feedback Keelkattalai, Chennai  \n",
       "..                                                ...  \n",
       "95   Pediaterics Skin Disorder Kidney Stone Treatment  \n",
       "96  General dermatology Botox Injections Skin Boos...  \n",
       "97                                                NaN  \n",
       "98                                                NaN  \n",
       "99  Flap Surgery Dental Implant Fixing Periodontal...  \n",
       "\n",
       "[100 rows x 6 columns]"
      ]
     },
     "execution_count": 12,
     "metadata": {},
     "output_type": "execute_result"
    }
   ],
   "source": [
    "tempdata=combidata.drop(['Fees','source'],axis=1,inplace=False)\n",
    "tempdata.head(100)"
   ]
  },
  {
   "cell_type": "code",
   "execution_count": 22,
   "metadata": {},
   "outputs": [
    {
     "name": "stdout",
     "output_type": "stream",
     "text": [
      "(7948, 6)\n",
      "                    Qualification           Experience  \\\n",
      "0           BHMS, MD - Homeopathy  24 years experience   \n",
      "1    BAMS, MD - Ayurveda Medicine  12 years experience   \n",
      "2  MBBS, MS - Otorhinolaryngology   9 years experience   \n",
      "3             BSc - Zoology, BAMS  12 years experience   \n",
      "4                            BAMS  20 years experience   \n",
      "\n",
      "                          Place         Profile  Fees source  \n",
      "0           Kakkanad, Ernakulam       Homeopath   100  train  \n",
      "1         Whitefield, Bangalore        Ayurveda   350  train  \n",
      "2    Mathikere - BEL, Bangalore  ENT Specialist   300  train  \n",
      "3  Bannerghatta Road, Bangalore        Ayurveda   250  train  \n",
      "4         Keelkattalai, Chennai        Ayurveda   250  train  \n"
     ]
    }
   ],
   "source": [
    "#so here by looking the data we can drop below attributes\n",
    "#drop Qualification attribute as we will consider Profile attribute\n",
    "#drop Rating attribute as this is directly propertional to Experience and \n",
    "#also Rating attribute has 50% of missing data, so we can not replace those values\n",
    "#similarly we can drop Miscellaneous_Info attribute which has 50% of missing data, so we can not replace those values\n",
    "\n",
    "combidata=combidata.drop(columns=['Rating','Miscellaneous_Info'])\n",
    "print(combidata.shape)\n",
    "print(combidata.head())"
   ]
  },
  {
   "cell_type": "code",
   "execution_count": 23,
   "metadata": {},
   "outputs": [
    {
     "data": {
      "text/plain": [
       "Qualification    1801\n",
       "Experience         64\n",
       "Place             949\n",
       "Profile             6\n",
       "Fees               41\n",
       "source              2\n",
       "dtype: int64"
      ]
     },
     "execution_count": 23,
     "metadata": {},
     "output_type": "execute_result"
    }
   ],
   "source": [
    "#lets see the categorical variable, and the number of unique values in each of them.\n",
    "combidata.apply(lambda x: len(x.unique()))"
   ]
  },
  {
   "cell_type": "code",
   "execution_count": 24,
   "metadata": {},
   "outputs": [
    {
     "name": "stdout",
     "output_type": "stream",
     "text": [
      "<class 'pandas.core.frame.DataFrame'>\n",
      "Int64Index: 7948 entries, 0 to 1986\n",
      "Data columns (total 6 columns):\n",
      " #   Column         Non-Null Count  Dtype \n",
      "---  ------         --------------  ----- \n",
      " 0   Qualification  7948 non-null   object\n",
      " 1   Experience     7948 non-null   object\n",
      " 2   Place          7917 non-null   object\n",
      " 3   Profile        7948 non-null   object\n",
      " 4   Fees           7948 non-null   int64 \n",
      " 5   source         7948 non-null   object\n",
      "dtypes: int64(1), object(5)\n",
      "memory usage: 434.7+ KB\n",
      "None\n"
     ]
    }
   ],
   "source": [
    "#lets print the combine data information\n",
    "print(combidata.info())"
   ]
  },
  {
   "cell_type": "code",
   "execution_count": 25,
   "metadata": {},
   "outputs": [
    {
     "name": "stdout",
     "output_type": "stream",
     "text": [
      "<class 'pandas.core.frame.DataFrame'>\n",
      "Int64Index: 7917 entries, 0 to 1986\n",
      "Data columns (total 6 columns):\n",
      " #   Column         Non-Null Count  Dtype \n",
      "---  ------         --------------  ----- \n",
      " 0   Qualification  7917 non-null   object\n",
      " 1   Experience     7917 non-null   object\n",
      " 2   Place          7917 non-null   object\n",
      " 3   Profile        7917 non-null   object\n",
      " 4   Fees           7917 non-null   int64 \n",
      " 5   source         7917 non-null   object\n",
      "dtypes: int64(1), object(5)\n",
      "memory usage: 433.0+ KB\n"
     ]
    }
   ],
   "source": [
    "#so here we saw that there are 31 (7948-7917=31) missing information for place attribute, \n",
    "#as the place name is different so we will drop those records for whcih the place was missing\n",
    "\n",
    "combidata=combidata.dropna(how='any', subset=['Place'])\n",
    "combidata.info()"
   ]
  },
  {
   "cell_type": "code",
   "execution_count": 26,
   "metadata": {},
   "outputs": [
    {
     "data": {
      "text/plain": [
       "<matplotlib.axes._subplots.AxesSubplot at 0x1f1505a0a88>"
      ]
     },
     "execution_count": 26,
     "metadata": {},
     "output_type": "execute_result"
    },
    {
     "data": {
      "image/png": "[encoded data removed]",
      "text/plain": [
       "<Figure size 1080x720 with 1 Axes>"
      ]
     },
     "metadata": {
      "needs_background": "light"
     },
     "output_type": "display_data"
    }
   ],
   "source": [
    "# now lets see the distribution of \"Fees\" in the dataset\n",
    "plt.figure(figsize=(15,10))\n",
    "plt.title('Distribution of Doctor Consultation Fees')\n",
    "sns.distplot(combidata['Fees'])\n",
    "\n",
    "#so by looking this the data is skewed, so we will treat them later."
   ]
  },
  {
   "cell_type": "code",
   "execution_count": 27,
   "metadata": {},
   "outputs": [
    {
     "name": "stdout",
     "output_type": "stream",
     "text": [
      "                                    Qualification    Fees\n",
      "0                                            BHMS  139849\n",
      "1                                            BAMS   99619\n",
      "2                                             BDS   97265\n",
      "3                                  MBBS, MS - ENT   89900\n",
      "4                                            MBBS   78160\n",
      "5                          MBBS, MD - Dermatology   73350\n",
      "6                     MBBS, MD - General Medicine   56750\n",
      "7  MBBS, MD - Dermatology , Venereology & Leprosy   55200\n",
      "8                                      MBBS, DDVL   34500\n",
      "9                           BHMS, MD - Homeopathy   29550\n"
     ]
    },
    {
     "data": {
      "image/png": "[encoded data removed]",
      "text/plain": [
       "<Figure size 1440x720 with 1 Axes>"
      ]
     },
     "metadata": {
      "needs_background": "light"
     },
     "output_type": "display_data"
    }
   ],
   "source": [
    "#lets see the Fees wrt Qualification\n",
    "top_cases=combidata[['Fees','Qualification']].groupby('Qualification').sum().sort_values('Fees',ascending=False).head(10)\n",
    "top_cases=top_cases.reset_index()\n",
    "print(top_cases)\n",
    "top_cases.plot(kind='bar',width=0.5,colormap='plasma',figsize=(20,10))\n",
    "plt.show()"
   ]
  },
  {
   "cell_type": "code",
   "execution_count": 28,
   "metadata": {},
   "outputs": [
    {
     "name": "stdout",
     "output_type": "stream",
     "text": [
      "            Experience   Fees\n",
      "0   9 years experience  96790\n",
      "1  10 years experience  90580\n",
      "2  12 years experience  87200\n",
      "3   8 years experience  86600\n",
      "4  14 years experience  85870\n",
      "5  11 years experience  85750\n",
      "6  19 years experience  82390\n",
      "7  13 years experience  79240\n",
      "8   7 years experience  70019\n",
      "9   6 years experience  65385\n"
     ]
    },
    {
     "data": {
      "image/png": "[encoded data removed]",
      "text/plain": [
       "<Figure size 1440x720 with 1 Axes>"
      ]
     },
     "metadata": {
      "needs_background": "light"
     },
     "output_type": "display_data"
    }
   ],
   "source": [
    "#lets see the Fees wrt Experience\n",
    "top_cases=combidata[['Fees','Experience']].groupby('Experience').sum().sort_values('Fees',ascending=False).head(10)\n",
    "top_cases=top_cases.reset_index()\n",
    "print(top_cases)\n",
    "top_cases.plot(kind='bar',width=0.5,colormap='plasma',figsize=(20,10))\n",
    "plt.show()"
   ]
  },
  {
   "cell_type": "code",
   "execution_count": 29,
   "metadata": {},
   "outputs": [
    {
     "name": "stdout",
     "output_type": "stream",
     "text": [
      "                      Place   Fees\n",
      "0             Dwarka, Delhi  26900\n",
      "1     HSR Layout, Bangalore  25649\n",
      "2      Andheri West, Mumbai  25530\n",
      "3  Banjara Hills, Hyderabad  24550\n",
      "4        Malad West, Mumbai  19500\n",
      "5    Indiranagar, Bangalore  19100\n",
      "6     Whitefield, Bangalore  18750\n",
      "7             Powai, Mumbai  18570\n",
      "8       Mulund West, Mumbai  18400\n",
      "9     Borivali West, Mumbai  18299\n"
     ]
    },
    {
     "data": {
      "image/png": "[encoded data removed]",
      "text/plain": [
       "<Figure size 1440x720 with 1 Axes>"
      ]
     },
     "metadata": {
      "needs_background": "light"
     },
     "output_type": "display_data"
    }
   ],
   "source": [
    "#lets see the Fees wrt Place\n",
    "top_cases=combidata[['Fees','Place']].groupby('Place').sum().sort_values('Fees',ascending=False).head(10)\n",
    "top_cases=top_cases.reset_index()\n",
    "print(top_cases)\n",
    "top_cases.plot(kind='bar',width=0.5,colormap='plasma',figsize=(20,10))\n",
    "plt.show()"
   ]
  },
  {
   "cell_type": "code",
   "execution_count": 30,
   "metadata": {},
   "outputs": [
    {
     "name": "stdout",
     "output_type": "stream",
     "text": [
      "            Profile    Fees\n",
      "0    Dermatologists  403950\n",
      "1  General Medicine  368215\n",
      "2           Dentist  332765\n",
      "3    ENT Specialist  281970\n",
      "4         Homeopath  258379\n",
      "5          Ayurveda  187829\n"
     ]
    },
    {
     "data": {
      "image/png": "[encoded data removed]",
      "text/plain": [
       "<Figure size 1440x720 with 1 Axes>"
      ]
     },
     "metadata": {
      "needs_background": "light"
     },
     "output_type": "display_data"
    }
   ],
   "source": [
    "#lets see the Fees wrt Profile\n",
    "top_cases=combidata[['Fees','Profile']].groupby('Profile').sum().sort_values('Fees',ascending=False).head(10)\n",
    "top_cases=top_cases.reset_index()\n",
    "print(top_cases)\n",
    "top_cases.plot(kind='bar',width=0.5,colormap='plasma',figsize=(20,10))\n",
    "plt.show()"
   ]
  },
  {
   "cell_type": "code",
   "execution_count": 31,
   "metadata": {},
   "outputs": [
    {
     "name": "stdout",
     "output_type": "stream",
     "text": [
      "Index(['Qualification', 'Experience', 'Place', 'Profile', 'Fees', 'source'], dtype='object')\n"
     ]
    }
   ],
   "source": [
    "#lets print all the columns name and create a array for all categorical data to convert them to numerical value.\n",
    "print(combidata.columns)"
   ]
  },
  {
   "cell_type": "code",
   "execution_count": 32,
   "metadata": {},
   "outputs": [],
   "source": [
    "#Now convert all the categorical variable to numerical varibale using label encoder.\n",
    "cat_data=['Qualification','Experience','Place','Profile']\n",
    "\n",
    "from sklearn.preprocessing import LabelEncoder\n",
    "le = LabelEncoder()\n",
    "for i in cat_data:\n",
    "    combidata[i] = le.fit_transform(combidata[i])"
   ]
  },
  {
   "cell_type": "code",
   "execution_count": 33,
   "metadata": {},
   "outputs": [
    {
     "name": "stdout",
     "output_type": "stream",
     "text": [
      "Column Name: Qualification\n",
      "(array([   0,    1,    2, ..., 1797, 1798, 1799]), array([1, 1, 1, ..., 1, 1, 1], dtype=int64))\n",
      "168     632\n",
      "424     627\n",
      "16      624\n",
      "748     441\n",
      "1365    280\n",
      "       ... \n",
      "942       1\n",
      "946       1\n",
      "950       1\n",
      "954       1\n",
      "0         1\n",
      "Name: Qualification, Length: 1800, dtype: int64\n",
      "\n",
      "\n",
      "Column Name: Experience\n",
      "(array([ 0,  1,  2,  3,  4,  5,  6,  7,  8,  9, 10, 11, 12, 13, 14, 15, 16,\n",
      "       17, 18, 19, 20, 21, 22, 23, 24, 25, 26, 27, 28, 29, 30, 31, 32, 33,\n",
      "       34, 35, 36, 37, 38, 39, 40, 41, 42, 43, 44, 45, 46, 47, 48, 49, 50,\n",
      "       51, 52, 53, 54, 55, 56, 57, 58, 59, 60, 61, 62, 63]), array([ 88, 404, 374, 358, 325, 332, 257, 237, 251, 254, 343,  80, 204,\n",
      "       202, 183, 168, 131, 115, 103, 111, 111, 113, 144,  86,  81,  81,\n",
      "        73,  94,  65,  73,  69,  84,  70, 159,  61,  48,  52,  50,  48,\n",
      "        28,  38,  20,  17,  22, 238,  12,  14,   6,   4,   7,   3,   4,\n",
      "         2,   1,   5, 280,   1,   1,   1,   2,   1, 329, 380, 419],\n",
      "      dtype=int64))\n",
      "63    419\n",
      "1     404\n",
      "62    380\n",
      "2     374\n",
      "3     358\n",
      "     ... \n",
      "56      1\n",
      "60      1\n",
      "58      1\n",
      "53      1\n",
      "57      1\n",
      "Name: Experience, Length: 64, dtype: int64\n",
      "\n",
      "\n",
      "Column Name: Place\n",
      "(array([  0,   1,   2,   3,   4,   5,   6,   7,   8,   9,  10,  11,  12,\n",
      "        13,  14,  15,  16,  17,  18,  19,  20,  21,  22,  23,  24,  25,\n",
      "        26,  27,  28,  29,  30,  31,  32,  33,  34,  35,  36,  37,  38,\n",
      "        39,  40,  41,  42,  43,  44,  45,  46,  47,  48,  49,  50,  51,\n",
      "        52,  53,  54,  55,  56,  57,  58,  59,  60,  61,  62,  63,  64,\n",
      "        65,  66,  67,  68,  69,  70,  71,  72,  73,  74,  75,  76,  77,\n",
      "        78,  79,  80,  81,  82,  83,  84,  85,  86,  87,  88,  89,  90,\n",
      "        91,  92,  93,  94,  95,  96,  97,  98,  99, 100, 101, 102, 103,\n",
      "       104, 105, 106, 107, 108, 109, 110, 111, 112, 113, 114, 115, 116,\n",
      "       117, 118, 119, 120, 121, 122, 123, 124, 125, 126, 127, 128, 129,\n",
      "       130, 131, 132, 133, 134, 135, 136, 137, 138, 139, 140, 141, 142,\n",
      "       143, 144, 145, 146, 147, 148, 149, 150, 151, 152, 153, 154, 155,\n",
      "       156, 157, 158, 159, 160, 161, 162, 163, 164, 165, 166, 167, 168,\n",
      "       169, 170, 171, 172, 173, 174, 175, 176, 177, 178, 179, 180, 181,\n",
      "       182, 183, 184, 185, 186, 187, 188, 189, 190, 191, 192, 193, 194,\n",
      "       195, 196, 197, 198, 199, 200, 201, 202, 203, 204, 205, 206, 207,\n",
      "       208, 209, 210, 211, 212, 213, 214, 215, 216, 217, 218, 219, 220,\n",
      "       221, 222, 223, 224, 225, 226, 227, 228, 229, 230, 231, 232, 233,\n",
      "       234, 235, 236, 237, 238, 239, 240, 241, 242, 243, 244, 245, 246,\n",
      "       247, 248, 249, 250, 251, 252, 253, 254, 255, 256, 257, 258, 259,\n",
      "       260, 261, 262, 263, 264, 265, 266, 267, 268, 269, 270, 271, 272,\n",
      "       273, 274, 275, 276, 277, 278, 279, 280, 281, 282, 283, 284, 285,\n",
      "       286, 287, 288, 289, 290, 291, 292, 293, 294, 295, 296, 297, 298,\n",
      "       299, 300, 301, 302, 303, 304, 305, 306, 307, 308, 309, 310, 311,\n",
      "       312, 313, 314, 315, 316, 317, 318, 319, 320, 321, 322, 323, 324,\n",
      "       325, 326, 327, 328, 329, 330, 331, 332, 333, 334, 335, 336, 337,\n",
      "       338, 339, 340, 341, 342, 343, 344, 345, 346, 347, 348, 349, 350,\n",
      "       351, 352, 353, 354, 355, 356, 357, 358, 359, 360, 361, 362, 363,\n",
      "       364, 365, 366, 367, 368, 369, 370, 371, 372, 373, 374, 375, 376,\n",
      "       377, 378, 379, 380, 381, 382, 383, 384, 385, 386, 387, 388, 389,\n",
      "       390, 391, 392, 393, 394, 395, 396, 397, 398, 399, 400, 401, 402,\n",
      "       403, 404, 405, 406, 407, 408, 409, 410, 411, 412, 413, 414, 415,\n",
      "       416, 417, 418, 419, 420, 421, 422, 423, 424, 425, 426, 427, 428,\n",
      "       429, 430, 431, 432, 433, 434, 435, 436, 437, 438, 439, 440, 441,\n",
      "       442, 443, 444, 445, 446, 447, 448, 449, 450, 451, 452, 453, 454,\n",
      "       455, 456, 457, 458, 459, 460, 461, 462, 463, 464, 465, 466, 467,\n",
      "       468, 469, 470, 471, 472, 473, 474, 475, 476, 477, 478, 479, 480,\n",
      "       481, 482, 483, 484, 485, 486, 487, 488, 489, 490, 491, 492, 493,\n",
      "       494, 495, 496, 497, 498, 499, 500, 501, 502, 503, 504, 505, 506,\n",
      "       507, 508, 509, 510, 511, 512, 513, 514, 515, 516, 517, 518, 519,\n",
      "       520, 521, 522, 523, 524, 525, 526, 527, 528, 529, 530, 531, 532,\n",
      "       533, 534, 535, 536, 537, 538, 539, 540, 541, 542, 543, 544, 545,\n",
      "       546, 547, 548, 549, 550, 551, 552, 553, 554, 555, 556, 557, 558,\n",
      "       559, 560, 561, 562, 563, 564, 565, 566, 567, 568, 569, 570, 571,\n",
      "       572, 573, 574, 575, 576, 577, 578, 579, 580, 581, 582, 583, 584,\n",
      "       585, 586, 587, 588, 589, 590, 591, 592, 593, 594, 595, 596, 597,\n",
      "       598, 599, 600, 601, 602, 603, 604, 605, 606, 607, 608, 609, 610,\n",
      "       611, 612, 613, 614, 615, 616, 617, 618, 619, 620, 621, 622, 623,\n",
      "       624, 625, 626, 627, 628, 629, 630, 631, 632, 633, 634, 635, 636,\n",
      "       637, 638, 639, 640, 641, 642, 643, 644, 645, 646, 647, 648, 649,\n",
      "       650, 651, 652, 653, 654, 655, 656, 657, 658, 659, 660, 661, 662,\n",
      "       663, 664, 665, 666, 667, 668, 669, 670, 671, 672, 673, 674, 675,\n",
      "       676, 677, 678, 679, 680, 681, 682, 683, 684, 685, 686, 687, 688,\n",
      "       689, 690, 691, 692, 693, 694, 695, 696, 697, 698, 699, 700, 701,\n",
      "       702, 703, 704, 705, 706, 707, 708, 709, 710, 711, 712, 713, 714,\n",
      "       715, 716, 717, 718, 719, 720, 721, 722, 723, 724, 725, 726, 727,\n",
      "       728, 729, 730, 731, 732, 733, 734, 735, 736, 737, 738, 739, 740,\n",
      "       741, 742, 743, 744, 745, 746, 747, 748, 749, 750, 751, 752, 753,\n",
      "       754, 755, 756, 757, 758, 759, 760, 761, 762, 763, 764, 765, 766,\n",
      "       767, 768, 769, 770, 771, 772, 773, 774, 775, 776, 777, 778, 779,\n",
      "       780, 781, 782, 783, 784, 785, 786, 787, 788, 789, 790, 791, 792,\n",
      "       793, 794, 795, 796, 797, 798, 799, 800, 801, 802, 803, 804, 805,\n",
      "       806, 807, 808, 809, 810, 811, 812, 813, 814, 815, 816, 817, 818,\n",
      "       819, 820, 821, 822, 823, 824, 825, 826, 827, 828, 829, 830, 831,\n",
      "       832, 833, 834, 835, 836, 837, 838, 839, 840, 841, 842, 843, 844,\n",
      "       845, 846, 847, 848, 849, 850, 851, 852, 853, 854, 855, 856, 857,\n",
      "       858, 859, 860, 861, 862, 863, 864, 865, 866, 867, 868, 869, 870,\n",
      "       871, 872, 873, 874, 875, 876, 877, 878, 879, 880, 881, 882, 883,\n",
      "       884, 885, 886, 887, 888, 889, 890, 891, 892, 893, 894, 895, 896,\n",
      "       897, 898, 899, 900, 901, 902, 903, 904, 905, 906, 907, 908, 909,\n",
      "       910, 911, 912, 913, 914, 915, 916, 917, 918, 919, 920, 921, 922,\n",
      "       923, 924, 925, 926, 927, 928, 929, 930, 931, 932, 933, 934, 935,\n",
      "       936, 937, 938, 939, 940, 941, 942, 943, 944, 945, 946, 947]), array([ 1, 23,  3,  3,  4, 10,  7,  2, 53,  1,  2,  1,  3,  6,  1, 11, 11,\n",
      "       20,  4,  3, 12,  2, 17,  9,  2,  3,  9, 49, 97,  5,  5,  7, 13, 41,\n",
      "       15,  1, 15, 13,  5,  3, 11,  1, 25,  3,  1,  2,  2,  1,  9,  1,  3,\n",
      "        1,  9, 34, 10,  1,  3,  1,  2,  3,  3,  1,  2,  3, 10, 11, 25, 13,\n",
      "       11,  1,  9, 48,  4, 85, 57,  6, 22, 19,  4,  1,  3, 16,  3, 36, 11,\n",
      "        7, 33,  1, 13, 11,  1,  4,  3,  1,  2,  1, 18, 68,  7,  6,  2,  3,\n",
      "        1,  4, 12, 11,  2, 10,  2,  2,  1, 24,  4,  2,  5,  1,  1,  2,  1,\n",
      "        7, 10, 20, 40,  1,  1,  1, 12,  3,  7,  2,  1,  2,  7,  2,  1,  2,\n",
      "        6, 22,  1,  4,  2,  4,  1,  3, 10,  3, 13,  1,  3,  5,  1,  4, 16,\n",
      "       21, 10, 19,  6,  2,  4,  2, 24,  1,  1,  3,  1,  1,  3,  1, 24, 36,\n",
      "        1,  2,  4, 11,  3,  1,  1,  1,  1,  2,  4,  3,  1,  3,  4,  4, 93,\n",
      "        1,  5,  4, 11, 11,  1,  1, 14,  4,  6,  3, 19,  2,  2,  1,  1, 10,\n",
      "        1,  1,  1, 16,  1, 39,  2, 24,  1,  1,  3, 12,  4,  3,  1, 49, 41,\n",
      "        4,  2,  4,  1, 28, 34,  2,  1,  5,  2,  7, 11, 23, 18,  6, 22, 10,\n",
      "        2,  8,  2,  3,  5,  1,  5, 11, 97, 11,  2,  9,  1,  2,  1, 11,  2,\n",
      "        6,  1, 12,  3,  3, 21, 12,  1,  3,  4,  7,  1,  2,  1,  4,  1,  6,\n",
      "        2, 62,  1,  1,  1,  4,  6, 14,  8,  1,  8,  6, 16,  1,  1,  9,  1,\n",
      "        1,  1,  1,  5,  5,  1, 47,  5,  4,  2,  1,  1,  2, 20,  6,  4, 19,\n",
      "       22,  8,  1,  6,  4, 11, 10, 56, 15,  1, 10, 50, 19,  6, 16,  1, 11,\n",
      "       13,  1,  4,  1, 17,  1,  1,  5,  2,  3, 20,  3,  1,  7,  1, 35,  1,\n",
      "        9, 16, 12,  3,  4, 37, 60,  2,  2,  3,  2,  1,  4,  4,  5,  6,  1,\n",
      "       18,  1,  2,  3,  7,  3,  2,  5,  2,  1,  4,  4,  7,  2, 14,  8,  4,\n",
      "        6,  1,  3,  2,  2, 26,  2,  5,  1, 31,  2,  2,  4,  3,  5,  3, 14,\n",
      "        3, 17,  3,  3,  4, 50,  2,  2,  1,  5,  1,  6,  8,  2,  1,  2, 41,\n",
      "        2,  5,  1,  3, 12,  8,  3,  1,  1,  1,  1,  1, 17,  1,  1, 42,  5,\n",
      "        7,  7, 18,  2,  1,  2,  5, 15,  1, 19,  2,  3,  3, 32,  3,  3,  3,\n",
      "        2, 26,  9,  1,  1,  6,  2,  8,  2,  1,  1,  3,  1,  2,  3,  1, 46,\n",
      "        1,  7, 17, 14,  2,  1,  6,  3,  2,  1,  2, 31,  1,  4, 13, 60,  3,\n",
      "       20, 13,  2,  3, 61,  1, 26,  1,  2, 10,  1,  1,  4, 32,  1,  1,  2,\n",
      "       49,  3,  2,  3,  3,  8, 14,  3, 17, 25,  6, 12,  9, 16,  1,  1, 27,\n",
      "        2,  1,  8,  7, 43,  3, 19,  1,  2,  1,  7,  7,  9,  4,  2,  4,  4,\n",
      "        2,  5, 11,  1,  1,  5,  5,  2, 16, 81,  5,  4,  8,  3,  2,  3,  1,\n",
      "        2, 30,  3, 17, 11,  3,  2,  7,  6, 10,  1,  1,  1,  6, 21,  6,  2,\n",
      "        5,  4,  1,  9,  4,  1,  2,  1,  1,  3,  1,  1,  1,  1,  2,  2,  1,\n",
      "        1,  5, 11, 10,  8,  2,  6,  1,  2, 16,  2, 37,  8, 12, 19,  2,  4,\n",
      "       41,  1,  5,  7,  1,  1,  1,  1,  4, 10,  4,  5,  5,  2,  2,  1,  1,\n",
      "        5, 20,  4,  5, 12,  2, 20,  8,  2,  4,  4,  1,  2,  1,  1, 15,  2,\n",
      "        1, 44,  1,  5,  9,  6, 27,  1,  1, 11,  6, 27,  2,  3, 10,  1,  3,\n",
      "        1,  1, 13,  6,  3,  9,  4,  1,  1,  1, 61,  1,  8,  1,  1,  4,  1,\n",
      "        1, 33,  1, 53, 26,  5,  4,  1, 10, 17, 14,  8, 15,  1,  2,  4, 45,\n",
      "        8,  2, 29,  2,  1,  1,  5, 31, 13, 15,  1, 23,  1,  1,  1,  1,  1,\n",
      "       20, 13,  3,  3, 11,  3,  8,  1,  6,  1,  1,  2,  1,  2,  2, 14,  1,\n",
      "        1,  1,  1,  2,  1,  3,  2,  1,  1,  7,  1,  1, 56, 12,  2,  1,  7,\n",
      "        1, 11, 24,  1,  1,  3, 19, 24,  4,  5,  3, 38,  1, 14,  6,  4,  9,\n",
      "        1, 10, 10, 29,  1,  8,  1,  9, 20, 31,  1,  7,  1,  3,  1, 49,  1,\n",
      "        2,  4,  2,  7,  4,  1,  1, 16, 10,  4,  3,  1, 53,  1,  1,  4,  5,\n",
      "        6,  9,  6,  3,  1,  8,  1,  6,  1,  1,  8,  3,  7,  1,  8,  5,  1,\n",
      "       14, 10, 11,  3,  5,  7,  5,  1,  2,  3,  2,  1,  7,  1,  2,  3,  2,\n",
      "        3,  6,  2,  1,  1,  3, 40,  1,  3,  1,  1,  1,  2,  5, 24, 11, 11,\n",
      "        6,  7,  4,  1, 13,  2,  3,  1,  1,  2,  3, 17,  4,  1,  4, 30,  7,\n",
      "        3,  2, 11,  1,  3,  1,  3, 23,  7,  2, 11, 11,  8,  2,  5,  1,  4,\n",
      "        2,  2,  7,  7,  2,  1,  7,  6,  1, 17,  1, 17,  2, 18,  1,  1, 16,\n",
      "       23,  3,  7,  1, 40, 22,  3,  6,  1,  2, 44,  5,  1,  2,  1,  1,  4,\n",
      "        3,  2,  9,  7,  2,  1, 36,  6,  5,  1, 21,  9,  5,  5,  2,  4, 27,\n",
      "       57,  2, 12, 12,  1,  1,  2, 10,  1,  2, 14, 11,  1,  3,  5,  6, 12,\n",
      "        2, 70,  7, 10,  1,  8,  9, 42,  2,  1, 22,  7,  1], dtype=int64))\n",
      "246    97\n",
      "28     97\n",
      "186    93\n",
      "73     85\n",
      "536    81\n",
      "       ..\n",
      "142     1\n",
      "150     1\n",
      "162     1\n",
      "170     1\n",
      "0       1\n",
      "Name: Place, Length: 948, dtype: int64\n",
      "\n",
      "\n",
      "Column Name: Profile\n",
      "(array([0, 1, 2, 3, 4, 5]), array([1037, 1838, 1342,  963, 1617, 1120], dtype=int64))\n",
      "1    1838\n",
      "4    1617\n",
      "2    1342\n",
      "5    1120\n",
      "0    1037\n",
      "3     963\n",
      "Name: Profile, dtype: int64\n",
      "\n",
      "\n",
      "Column Name: Fees\n",
      "(array([  0,   5,  10,  20,  30,  40,  50,  60,  70,  80, 100, 125, 130,\n",
      "       150, 180, 200, 220, 230, 250, 260, 280, 299, 300, 350, 380, 400,\n",
      "       430, 450, 499, 500, 550, 600, 630, 650, 700, 750, 800, 850, 900,\n",
      "       920, 950], dtype=int64), array([1981,    1,    2,    1,    4,    2,   81,   11,   18,   12, 1282,\n",
      "          1,    2,  252,    2,  904,    1,    1,  307,    2,    1,    1,\n",
      "        864,  143,    2,  424,    1,   65,    1,  938,   22,  215,    1,\n",
      "         21,  153,   34,  143,    1,   18,    1,    1], dtype=int64))\n",
      "0      1981\n",
      "100    1282\n",
      "500     938\n",
      "200     904\n",
      "300     864\n",
      "400     424\n",
      "250     307\n",
      "150     252\n",
      "600     215\n",
      "700     153\n",
      "350     143\n",
      "800     143\n",
      "50       81\n",
      "450      65\n",
      "750      34\n",
      "550      22\n",
      "650      21\n",
      "900      18\n",
      "70       18\n",
      "80       12\n",
      "60       11\n",
      "30        4\n",
      "180       2\n",
      "40        2\n",
      "10        2\n",
      "260       2\n",
      "130       2\n",
      "380       2\n",
      "220       1\n",
      "20        1\n",
      "499       1\n",
      "280       1\n",
      "920       1\n",
      "299       1\n",
      "125       1\n",
      "230       1\n",
      "430       1\n",
      "630       1\n",
      "850       1\n",
      "950       1\n",
      "5         1\n",
      "Name: Fees, dtype: int64\n",
      "\n",
      "\n",
      "Column Name: source\n",
      "(array(['test', 'train'], dtype=object), array([1981, 5936], dtype=int64))\n",
      "train    5936\n",
      "test     1981\n",
      "Name: source, dtype: int64\n",
      "\n",
      "\n"
     ]
    }
   ],
   "source": [
    "#lets again see what are the types of data are present in each attribute after label encoder.\n",
    "for columns in combidata:\n",
    "    print(\"Column Name:\",columns)\n",
    "    print(np.unique(combidata[columns], return_counts=True))\n",
    "    print(combidata[columns].value_counts())\n",
    "    print(\"\\n\")"
   ]
  },
  {
   "cell_type": "code",
   "execution_count": 34,
   "metadata": {},
   "outputs": [
    {
     "name": "stdout",
     "output_type": "stream",
     "text": [
      "<class 'pandas.core.frame.DataFrame'>\n",
      "Int64Index: 7917 entries, 0 to 1986\n",
      "Data columns (total 6 columns):\n",
      " #   Column         Non-Null Count  Dtype \n",
      "---  ------         --------------  ----- \n",
      " 0   Qualification  7917 non-null   int32 \n",
      " 1   Experience     7917 non-null   int32 \n",
      " 2   Place          7917 non-null   int32 \n",
      " 3   Profile        7917 non-null   int32 \n",
      " 4   Fees           7917 non-null   int64 \n",
      " 5   source         7917 non-null   object\n",
      "dtypes: int32(4), int64(1), object(1)\n",
      "memory usage: 309.3+ KB\n"
     ]
    }
   ],
   "source": [
    "#again checking the information of the data\n",
    "combidata.info()"
   ]
  },
  {
   "cell_type": "code",
   "execution_count": 35,
   "metadata": {},
   "outputs": [
    {
     "data": {
      "text/plain": [
       "<matplotlib.axes._subplots.AxesSubplot at 0x1f150f505c8>"
      ]
     },
     "execution_count": 35,
     "metadata": {},
     "output_type": "execute_result"
    },
    {
     "data": {
      "image/png": "[encoded data removed]",
      "text/plain": [
       "<Figure size 1440x1080 with 2 Axes>"
      ]
     },
     "metadata": {
      "needs_background": "light"
     },
     "output_type": "display_data"
    }
   ],
   "source": [
    "#lets see the corelation among data\n",
    "plt.figure(figsize=(20,15))\n",
    "sns.heatmap(combidata.corr(),cmap='coolwarm',annot=True)\n",
    "\n",
    "#so by looking the corelation of data, we can say that Profile and Qualification attributes has most significant."
   ]
  },
  {
   "cell_type": "code",
   "execution_count": 38,
   "metadata": {},
   "outputs": [
    {
     "data": {
      "text/plain": [
       "Qualification       AxesSubplot(0.125,0.125;0.133621x0.755)\n",
       "Experience       AxesSubplot(0.285345,0.125;0.133621x0.755)\n",
       "Place             AxesSubplot(0.44569,0.125;0.133621x0.755)\n",
       "Profile          AxesSubplot(0.606034,0.125;0.133621x0.755)\n",
       "Fees             AxesSubplot(0.766379,0.125;0.133621x0.755)\n",
       "dtype: object"
      ]
     },
     "execution_count": 38,
     "metadata": {},
     "output_type": "execute_result"
    },
    {
     "data": {
      "image/png": "[encoded data removed]",
      "text/plain": [
       "<Figure size 1080x720 with 5 Axes>"
      ]
     },
     "metadata": {
      "needs_background": "light"
     },
     "output_type": "display_data"
    }
   ],
   "source": [
    "#checking the outliers with box plot\n",
    "combidata.plot(kind='box',subplots=True, figsize=(15,10))\n",
    "\n",
    "#so here we saw that there are no outlier data present."
   ]
  },
  {
   "cell_type": "code",
   "execution_count": 41,
   "metadata": {},
   "outputs": [
    {
     "name": "stdout",
     "output_type": "stream",
     "text": [
      "(5936, 6)\n",
      "(1981, 6)\n"
     ]
    }
   ],
   "source": [
    "# Now our data is ready for model building, so split them into original train and test dataset\n",
    "\n",
    "dcfees_train = combidata.loc[combidata['source']==\"train\"]\n",
    "dcfees_test = combidata.loc[combidata['source']==\"test\"]\n",
    "print(dcfees_train.shape)\n",
    "print(dcfees_test.shape)"
   ]
  },
  {
   "cell_type": "code",
   "execution_count": 42,
   "metadata": {},
   "outputs": [
    {
     "name": "stdout",
     "output_type": "stream",
     "text": [
      "(5936, 5)\n",
      "(1981, 4)\n"
     ]
    }
   ],
   "source": [
    "#Drop the columns which are added initially for data analysis\n",
    "dcfees_train.drop(['source'],axis=1,inplace=True)\n",
    "dcfees_test.drop(['Fees','source'],axis=1,inplace=True)\n",
    "print(dcfees_train.shape)\n",
    "print(dcfees_test.shape)"
   ]
  },
  {
   "cell_type": "code",
   "execution_count": 43,
   "metadata": {},
   "outputs": [
    {
     "data": {
      "text/plain": [
       "Qualification    0.260240\n",
       "Experience      -0.340303\n",
       "Place            0.102777\n",
       "Profile          0.105341\n",
       "Fees            -0.307713\n",
       "dtype: float64"
      ]
     },
     "execution_count": 43,
     "metadata": {},
     "output_type": "execute_result"
    }
   ],
   "source": [
    "#lets check the skewness of the train data\n",
    "dcfees_train.skew()"
   ]
  },
  {
   "cell_type": "code",
   "execution_count": 44,
   "metadata": {},
   "outputs": [
    {
     "data": {
      "text/plain": [
       "Qualification    0.208130\n",
       "Experience      -0.392945\n",
       "Place            0.113232\n",
       "Profile          0.026189\n",
       "dtype: float64"
      ]
     },
     "execution_count": 44,
     "metadata": {},
     "output_type": "execute_result"
    }
   ],
   "source": [
    "#lets check the skewness of the test data\n",
    "dcfees_test.skew()"
   ]
  },
  {
   "cell_type": "code",
   "execution_count": 45,
   "metadata": {},
   "outputs": [],
   "source": [
    "#Now Export the final dataset:\n",
    "dcfees_train.to_csv(\"dcfees_train.csv\",index=False)\n",
    "dcfees_test.to_csv(\"dcfees_test.csv\",index=False)"
   ]
  },
  {
   "cell_type": "markdown",
   "metadata": {},
   "source": [
    "# 3-Preparing the Train data for Model Building"
   ]
  },
  {
   "cell_type": "code",
   "execution_count": 46,
   "metadata": {},
   "outputs": [
    {
     "name": "stdout",
     "output_type": "stream",
     "text": [
      "(5936, 5)\n",
      "(1981, 4)\n"
     ]
    }
   ],
   "source": [
    "#lets import the final train and test dataset and print them\n",
    "dcfees_train=pd.read_csv('dcfees_train.csv')\n",
    "dcfees_test=pd.read_csv('dcfees_test.csv')\n",
    "\n",
    "print(dcfees_train.shape)\n",
    "print(dcfees_test.shape)"
   ]
  },
  {
   "cell_type": "code",
   "execution_count": 47,
   "metadata": {},
   "outputs": [
    {
     "name": "stdout",
     "output_type": "stream",
     "text": [
      "   Qualification  Experience  Place  Profile      Fees\n",
      "0            491    2.833213    327        5  4.615121\n",
      "1             92    1.386294    936        0  5.860786\n",
      "2           1441    4.158883    499        3  5.707110\n",
      "3            572    1.386294     74        0  5.525453\n",
      "4             16    2.564949    369        0  5.525453\n"
     ]
    }
   ],
   "source": [
    "#printing the train data\n",
    "print(dcfees_train.head())"
   ]
  },
  {
   "cell_type": "code",
   "execution_count": 51,
   "metadata": {},
   "outputs": [
    {
     "name": "stdout",
     "output_type": "stream",
     "text": [
      "(5936, 4)\n",
      "(5936, 1)\n"
     ]
    }
   ],
   "source": [
    "# separating the input and output/target variables of dtrain\n",
    "import numpy as np\n",
    "x=dcfees_train.drop(columns=['Fees'],axis=1)\n",
    "y=dcfees_train[['Fees']]\n",
    "\n",
    "print(x.shape)\n",
    "print(y.shape)"
   ]
  },
  {
   "cell_type": "code",
   "execution_count": null,
   "metadata": {},
   "outputs": [],
   "source": [
    "#scaling the input variables\n",
    "from sklearn.preprocessing import StandardScaler\n",
    "sc=StandardScaler()\n",
    "x=sc.fit_transform(df_x)\n",
    "x=pd.DataFrame(x,columns=df_x.columns)"
   ]
  },
  {
   "cell_type": "markdown",
   "metadata": {},
   "source": [
    "# 4-Building Different Model and Finding the Best Model"
   ]
  },
  {
   "cell_type": "code",
   "execution_count": 52,
   "metadata": {},
   "outputs": [],
   "source": [
    "#defining the models which will be used for model building\n",
    "from sklearn.linear_model import LinearRegression\n",
    "lreg=LinearRegression()\n",
    "from sklearn.neighbors import KNeighborsRegressor\n",
    "knn=KNeighborsRegressor()\n",
    "from sklearn.linear_model import Lasso\n",
    "lsreg=Lasso(alpha=0.1)\n",
    "from sklearn.linear_model import Ridge\n",
    "lrreg=Ridge(alpha=0.1)\n",
    "from sklearn.ensemble import GradientBoostingRegressor\n",
    "gbr=GradientBoostingRegressor()\n",
    "from sklearn.ensemble import AdaBoostRegressor\n",
    "ada=AdaBoostRegressor()\n",
    "from sklearn.ensemble import RandomForestRegressor\n",
    "rf=RandomForestRegressor()"
   ]
  },
  {
   "cell_type": "code",
   "execution_count": 53,
   "metadata": {},
   "outputs": [],
   "source": [
    "#appending all the models\n",
    "models=[]\n",
    "models.append(('LinearRegression',lreg))\n",
    "models.append(('KNeighborsRegressor',knn))\n",
    "models.append(('Lasso',lsreg))\n",
    "models.append(('Ridge',lrreg))\n",
    "models.append(('GradientBoostingRegressor',gbr))\n",
    "models.append(('AdaBoostRegressor',ada))\n",
    "models.append(('RandomForestRegressor',rf))"
   ]
  },
  {
   "cell_type": "code",
   "execution_count": 54,
   "metadata": {},
   "outputs": [
    {
     "name": "stdout",
     "output_type": "stream",
     "text": [
      "************************ LinearRegression **********************\n",
      "\n",
      "\n",
      "Final Random State is: 63\n",
      "\n",
      "\n",
      "R2 Score is: 0.08559084834852415\n",
      "\n",
      "\n",
      "\n",
      "\n",
      "************************ KNeighborsRegressor **********************\n",
      "\n",
      "\n",
      "Final Random State is: 53\n",
      "\n",
      "\n",
      "R2 Score is: 0.0465771390325046\n",
      "\n",
      "\n",
      "\n",
      "\n",
      "************************ Lasso **********************\n",
      "\n",
      "\n",
      "Final Random State is: 43\n",
      "\n",
      "\n",
      "R2 Score is: 0.08055256548073775\n",
      "\n",
      "\n",
      "\n",
      "\n",
      "************************ Ridge **********************\n",
      "\n",
      "\n",
      "Final Random State is: 63\n",
      "\n",
      "\n",
      "R2 Score is: 0.08559078484684934\n",
      "\n",
      "\n",
      "\n",
      "\n",
      "************************ GradientBoostingRegressor **********************\n",
      "\n",
      "\n",
      "Final Random State is: 63\n",
      "\n",
      "\n",
      "R2 Score is: 0.20366657465296145\n",
      "\n",
      "\n",
      "\n",
      "\n",
      "************************ AdaBoostRegressor **********************\n",
      "\n",
      "\n",
      "Final Random State is: 65\n",
      "\n",
      "\n",
      "R2 Score is: 0.0937427858223322\n",
      "\n",
      "\n",
      "\n",
      "\n",
      "************************ RandomForestRegressor **********************\n",
      "\n",
      "\n",
      "Final Random State is: 66\n",
      "\n",
      "\n",
      "R2 Score is: 0.14953790871774442\n",
      "\n",
      "\n",
      "\n",
      "\n"
     ]
    }
   ],
   "source": [
    "#printing the output of each model\n",
    "from sklearn.model_selection import train_test_split\n",
    "from sklearn.metrics import mean_squared_error\n",
    "from sklearn.metrics import r2_score\n",
    "Model=[]\n",
    "RState=[]\n",
    "score=[]\n",
    "for name, model in models:\n",
    "    print('************************',name,'**********************')\n",
    "    print('\\n')\n",
    "    Model.append(name)\n",
    "    max_r2_score=0.0\n",
    "    for r_state in range(42,101):\n",
    "        x_train,x_test,y_train,y_test = train_test_split(x,y,test_size=0.2,random_state=r_state)\n",
    "        model.fit(x_train,y_train)\n",
    "        y_pred=model.predict(x_test)\n",
    "        r2_scr=r2_score(y_test,y_pred)\n",
    "        if r2_scr>max_r2_score:\n",
    "            max_r2_score=r2_scr\n",
    "            final_r_state=r_state\n",
    "    print('Final Random State is:', final_r_state)\n",
    "    print('\\n')\n",
    "    RState.append(final_r_state*1)\n",
    "    print('R2 Score is:', max_r2_score)\n",
    "    print('\\n')\n",
    "    score.append(max_r2_score*100)\n",
    "    print('\\n')"
   ]
  },
  {
   "cell_type": "code",
   "execution_count": 55,
   "metadata": {},
   "outputs": [
    {
     "name": "stdout",
     "output_type": "stream",
     "text": [
      "                       Model  Random_State   R2_Score\n",
      "0           LinearRegression            63   8.559085\n",
      "1        KNeighborsRegressor            53   4.657714\n",
      "2                      Lasso            43   8.055257\n",
      "3                      Ridge            63   8.559078\n",
      "4  GradientBoostingRegressor            63  20.366657\n",
      "5          AdaBoostRegressor            65   9.374279\n",
      "6      RandomForestRegressor            66  14.953791\n"
     ]
    }
   ],
   "source": [
    "#lets print the final result of all the models\n",
    "result=pd.DataFrame({'Model':Model,'Random_State':RState,'R2_Score':score})\n",
    "print(result)"
   ]
  },
  {
   "cell_type": "code",
   "execution_count": 56,
   "metadata": {},
   "outputs": [
    {
     "data": {
      "text/plain": [
       "{'learning_rate': 0.1, 'loss': 'huber', 'n_estimators': 500}"
      ]
     },
     "execution_count": 56,
     "metadata": {},
     "output_type": "execute_result"
    }
   ],
   "source": [
    "# So here GradientBoostingClassifier is the best model, so lets find out the best parameter for this to get maximum score\n",
    "#lets use grid search method to find optimal value \n",
    "\n",
    "from sklearn.model_selection import GridSearchCV\n",
    "from sklearn.ensemble import GradientBoostingRegressor \n",
    "gdrreg=GradientBoostingRegressor()\n",
    "parameters={'learning_rate':[0.01,0.1,0.5,1.0],'n_estimators':[100,200,500],'loss':['ls','lad','huber','quantile']}\n",
    "clf=GridSearchCV(gdrreg, parameters, cv=5)\n",
    "clf.fit(x,y)\n",
    "clf.best_params_"
   ]
  },
  {
   "cell_type": "code",
   "execution_count": 57,
   "metadata": {},
   "outputs": [
    {
     "name": "stdout",
     "output_type": "stream",
     "text": [
      "R2 score is: 0.22663821045898347\n",
      "RMSE is: 0.5968617785465605\n"
     ]
    }
   ],
   "source": [
    "# So lets build the final model with 'learning_rate': 0.1, 'loss': 'huber', 'n_estimators': 500 and random_state=63\n",
    "\n",
    "from sklearn.model_selection import train_test_split\n",
    "from sklearn.ensemble import GradientBoostingRegressor\n",
    "from sklearn.metrics import mean_squared_error\n",
    "from sklearn.metrics import r2_score\n",
    "x_train,x_test,y_train,y_test = train_test_split(x,y,test_size=0.2,random_state=63)\n",
    "gbrreg=GradientBoostingRegressor(learning_rate=0.1,n_estimators=500,loss='huber')\n",
    "gbrreg.fit(x_train,y_train)\n",
    "y_pred=gbrreg.predict(x_test)\n",
    "print('R2 score is:',r2_score(y_test,y_pred))\n",
    "print('RMSE is:',np.sqrt(mean_squared_error(y_test,y_pred)))"
   ]
  },
  {
   "cell_type": "code",
   "execution_count": 58,
   "metadata": {},
   "outputs": [
    {
     "name": "stdout",
     "output_type": "stream",
     "text": [
      "Mean R2 score of GradientBoostingRegressor is: 0.19006965560361588\n",
      "Standard Deviation of GradientBoostingRegressor is: 0.036827638486433764\n"
     ]
    }
   ],
   "source": [
    "#checking the mean r2 score and overfitting and underfitting using cross validation\n",
    "from sklearn.model_selection import cross_val_score\n",
    "print('Mean R2 score of GradientBoostingRegressor is:', cross_val_score(gbrreg,x,y,cv=5,scoring='r2').mean())\n",
    "print('Standard Deviation of GradientBoostingRegressor is:',cross_val_score(gbrreg,x,y,cv=5,scoring='r2').std())"
   ]
  },
  {
   "cell_type": "code",
   "execution_count": 59,
   "metadata": {},
   "outputs": [
    {
     "name": "stdout",
     "output_type": "stream",
     "text": [
      "Actual Consultation Fees:\n",
      "           Fees\n",
      "634   5.303305\n",
      "5305  5.303305\n",
      "2565  5.303305\n",
      "482   5.707110\n",
      "383   6.398595\n",
      "...        ...\n",
      "5402  6.216606\n",
      "3288  5.303305\n",
      "4240  5.707110\n",
      "524   5.993961\n",
      "3191  6.216606\n",
      "\n",
      "[1188 rows x 1 columns]\n",
      "Predicted Consultation Fees:\n",
      " [5.53981047 5.41466496 5.28020568 ... 5.18242049 6.02674052 5.45702159]\n"
     ]
    }
   ],
   "source": [
    "#lets predict the Consultation Fees\n",
    "print('Actual Consultation Fees:\\n',y_test)\n",
    "print('Predicted Consultation Fees:\\n',y_pred)\n",
    "\n",
    "#So by looking this we can conclude that our model is predicting around 86% of correct results \n",
    "#for predicting the claim amount auto insurance."
   ]
  },
  {
   "cell_type": "code",
   "execution_count": 60,
   "metadata": {},
   "outputs": [
    {
     "data": {
      "text/plain": [
       "['gbrreg_dcfees.obj']"
      ]
     },
     "execution_count": 60,
     "metadata": {},
     "output_type": "execute_result"
    }
   ],
   "source": [
    "#saving the final model\n",
    "from sklearn.externals import joblib\n",
    "#save the model as joblib in a file\n",
    "joblib.dump(gbrreg,'gbrreg_dcfees.obj')"
   ]
  },
  {
   "cell_type": "code",
   "execution_count": 61,
   "metadata": {},
   "outputs": [],
   "source": [
    "# load the model from the file\n",
    "dcfees_from_joblib=joblib.load('gbrreg_dcfees.obj')"
   ]
  },
  {
   "cell_type": "code",
   "execution_count": 62,
   "metadata": {},
   "outputs": [
    {
     "data": {
      "text/plain": [
       "array([5.53981047, 5.41466496, 5.28020568, ..., 5.18242049, 6.02674052,\n",
       "       5.45702159])"
      ]
     },
     "execution_count": 62,
     "metadata": {},
     "output_type": "execute_result"
    }
   ],
   "source": [
    "#Use the loaded model to make predictions against test data\n",
    "dcfees_from_joblib.predict(x_test)"
   ]
  },
  {
   "cell_type": "code",
   "execution_count": 63,
   "metadata": {},
   "outputs": [
    {
     "name": "stdout",
     "output_type": "stream",
     "text": [
      "[5.31822679 5.8354133  5.84956962 ... 5.62516539 5.12568606 5.80463776]\n"
     ]
    }
   ],
   "source": [
    "#lets predict the price of flight ticket for test dataset which provided initially\n",
    "dcfees_predict=dcfees_from_joblib.predict(dcfees_test)\n",
    "print(dcfees_predict)"
   ]
  },
  {
   "cell_type": "markdown",
   "metadata": {},
   "source": [
    "# Conclusion:\n",
    "    \n",
    "So here 'RandomForestRegressor Model' is the best model out of all model tested above and by looking this we can \n",
    "conclude that our model is predicting just more than 22% of correct results for predicting the doctors consultation fees."
   ]
  },
  {
   "cell_type": "code",
   "execution_count": null,
   "metadata": {},
   "outputs": [],
   "source": []
  }
 ],
 "metadata": {
  "kernelspec": {
   "display_name": "Python 3",
   "language": "python",
   "name": "python3"
  },
  "language_info": {
   "codemirror_mode": {
    "name": "ipython",
    "version": 3
   },
   "file_extension": ".py",
   "mimetype": "text/x-python",
   "name": "python",
   "nbconvert_exporter": "python",
   "pygments_lexer": "ipython3",
   "version": "3.7.6"
  }
 },
 "nbformat": 4,
 "nbformat_minor": 4
}
