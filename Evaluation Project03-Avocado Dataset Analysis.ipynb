{
 "cells": [
  {
   "cell_type": "markdown",
   "metadata": {},
   "source": [
    "Avacado Dataset Summary:\n",
    "\n",
    "Avacado is a fruit consumed by people heavily in United states. \n",
    "\n",
    "Content\n",
    "This data was downloaded from the Hass Avocado Board website in May of 2018 & compiled into a single CSV. \n",
    "Here's how the Hass Avocado Board describes the data on their website:\n",
    "\n",
    "The table below represents weekly 2018 retail scan data for National retail volume (units) and price. \n",
    "Retail scan data comes directly from retailers’ cash registers based on actual retail sales of Hass avocados. \n",
    "Starting in 2013, the table below reflects an expanded, multi-outlet retail data set. \n",
    "Multi-outlet reporting includes an aggregation of the following channels: grocery, mass, club, drug, dollar and military. \n",
    "The Average Price (of avocados) in the table reflects a per unit (per avocado) cost, even when multiple units (avocados)\n",
    "are sold in bags. The Product Lookup codes (PLU’s) in the table are only for Hass avocados. Other varieties of avocados\n",
    "(e.g. greenskins) are not included in this table.\n",
    "\n",
    "Some relevant columns in the dataset:\n",
    "\n",
    "Date - The date of the observation\n",
    "AveragePrice - the average price of a single avocado\n",
    "type - conventional or organic\n",
    "year - the year\n",
    "Region - the city or region of the observation\n",
    "Total Volume - Total number of avocados sold\n",
    "4046 - Total number of avocados with PLU 4046 sold\n",
    "4225 - Total number of avocados with PLU 4225 sold\n",
    "4770 - Total number of avocados with PLU 4770 sold\n",
    "\n",
    "Inspiration /Label \n",
    "The dataset can be seen in two angles to find the city or region and find the average price.\n",
    "Task: Classification /Regression\n",
    "\n",
    "So here we will predict the Avocados Average Price based on different features, so we will go for Regression technique."
   ]
  },
  {
   "cell_type": "code",
   "execution_count": 1,
   "metadata": {},
   "outputs": [],
   "source": [
    "#Importing all basic required libray\n",
    "import numpy as np\n",
    "import pandas as pd\n",
    "import matplotlib.pyplot as plt\n",
    "import seaborn as sns\n",
    "import warnings\n",
    "warnings.filterwarnings('ignore')"
   ]
  },
  {
   "cell_type": "markdown",
   "metadata": {},
   "source": [
    "# 1-Data Exploration"
   ]
  },
  {
   "cell_type": "code",
   "execution_count": 2,
   "metadata": {},
   "outputs": [
    {
     "name": "stdout",
     "output_type": "stream",
     "text": [
      "(1517, 14)\n",
      "   Sl No        Date  AveragePrice  Total Volume     4046       4225    4770  \\\n",
      "0      0  27-12-2015          1.33      64236.62  1036.74   54454.85   48.16   \n",
      "1      1  20-12-2015          1.35      54876.98   674.28   44638.81   58.33   \n",
      "2      2  13-12-2015          0.93     118220.22   794.70  109149.67  130.50   \n",
      "3      3  06-12-2015          1.08      78992.15  1132.00   71976.41   72.58   \n",
      "4      4  29-11-2015          1.28      51039.60   941.48   43838.39   75.78   \n",
      "5      5  22-11-2015          1.26      55979.78  1184.27   48067.99   43.61   \n",
      "6      6  15-11-2015          0.99      83453.76  1368.92   73672.72   93.26   \n",
      "7      7  08-11-2015          0.98     109428.33   703.75  101815.36   80.00   \n",
      "8      8  01-11-2015          1.02      99811.42  1022.15   87315.57   85.34   \n",
      "9      9  25-10-2015          1.07      74338.76   842.40   64757.44  113.00   \n",
      "\n",
      "   Total Bags  Small Bags  Large Bags  XLarge Bags          type  year  region  \n",
      "0     8696.87     8603.62       93.25          0.0  conventional  2015  Albany  \n",
      "1     9505.56     9408.07       97.49          0.0  conventional  2015  Albany  \n",
      "2     8145.35     8042.21      103.14          0.0  conventional  2015  Albany  \n",
      "3     5811.16     5677.40      133.76          0.0  conventional  2015  Albany  \n",
      "4     6183.95     5986.26      197.69          0.0  conventional  2015  Albany  \n",
      "5     6683.91     6556.47      127.44          0.0  conventional  2015  Albany  \n",
      "6     8318.86     8196.81      122.05          0.0  conventional  2015  Albany  \n",
      "7     6829.22     6266.85      562.37          0.0  conventional  2015  Albany  \n",
      "8    11388.36    11104.53      283.83          0.0  conventional  2015  Albany  \n",
      "9     8625.92     8061.47      564.45          0.0  conventional  2015  Albany  \n"
     ]
    }
   ],
   "source": [
    "#lets import the avocado data and print them\n",
    "avocado_init=pd.read_csv('avocado.csv')\n",
    "print(avocado_init.shape)\n",
    "\n",
    "print(avocado_init.head(10))"
   ]
  },
  {
   "cell_type": "code",
   "execution_count": 3,
   "metadata": {},
   "outputs": [
    {
     "data": {
      "text/html": [
       "<div>\n",
       "<style scoped>\n",
       "    .dataframe tbody tr th:only-of-type {\n",
       "        vertical-align: middle;\n",
       "    }\n",
       "\n",
       "    .dataframe tbody tr th {\n",
       "        vertical-align: top;\n",
       "    }\n",
       "\n",
       "    .dataframe thead th {\n",
       "        text-align: right;\n",
       "    }\n",
       "</style>\n",
       "<table border=\"1\" class=\"dataframe\">\n",
       "  <thead>\n",
       "    <tr style=\"text-align: right;\">\n",
       "      <th></th>\n",
       "      <th>Sl No</th>\n",
       "      <th>AveragePrice</th>\n",
       "      <th>Total Volume</th>\n",
       "      <th>4046</th>\n",
       "      <th>4225</th>\n",
       "      <th>4770</th>\n",
       "      <th>Total Bags</th>\n",
       "      <th>Small Bags</th>\n",
       "      <th>Large Bags</th>\n",
       "      <th>XLarge Bags</th>\n",
       "      <th>year</th>\n",
       "    </tr>\n",
       "  </thead>\n",
       "  <tbody>\n",
       "    <tr>\n",
       "      <th>count</th>\n",
       "      <td>1517.000000</td>\n",
       "      <td>1517.000000</td>\n",
       "      <td>1.517000e+03</td>\n",
       "      <td>1.517000e+03</td>\n",
       "      <td>1.517000e+03</td>\n",
       "      <td>1.517000e+03</td>\n",
       "      <td>1.517000e+03</td>\n",
       "      <td>1.517000e+03</td>\n",
       "      <td>1.517000e+03</td>\n",
       "      <td>1517.000000</td>\n",
       "      <td>1517.000000</td>\n",
       "    </tr>\n",
       "    <tr>\n",
       "      <th>mean</th>\n",
       "      <td>26.995386</td>\n",
       "      <td>1.074990</td>\n",
       "      <td>1.601879e+06</td>\n",
       "      <td>6.464387e+05</td>\n",
       "      <td>6.114375e+05</td>\n",
       "      <td>5.040550e+04</td>\n",
       "      <td>2.935974e+05</td>\n",
       "      <td>2.487736e+05</td>\n",
       "      <td>4.264205e+04</td>\n",
       "      <td>2181.771074</td>\n",
       "      <td>2015.162821</td>\n",
       "    </tr>\n",
       "    <tr>\n",
       "      <th>std</th>\n",
       "      <td>14.848287</td>\n",
       "      <td>0.188891</td>\n",
       "      <td>4.433143e+06</td>\n",
       "      <td>1.947614e+06</td>\n",
       "      <td>1.672906e+06</td>\n",
       "      <td>1.377812e+05</td>\n",
       "      <td>7.579765e+05</td>\n",
       "      <td>6.474765e+05</td>\n",
       "      <td>1.182157e+05</td>\n",
       "      <td>7455.712144</td>\n",
       "      <td>0.369324</td>\n",
       "    </tr>\n",
       "    <tr>\n",
       "      <th>min</th>\n",
       "      <td>0.000000</td>\n",
       "      <td>0.490000</td>\n",
       "      <td>3.875074e+04</td>\n",
       "      <td>4.677200e+02</td>\n",
       "      <td>1.783770e+03</td>\n",
       "      <td>0.000000e+00</td>\n",
       "      <td>3.311770e+03</td>\n",
       "      <td>3.311770e+03</td>\n",
       "      <td>0.000000e+00</td>\n",
       "      <td>0.000000</td>\n",
       "      <td>2015.000000</td>\n",
       "    </tr>\n",
       "    <tr>\n",
       "      <th>25%</th>\n",
       "      <td>14.000000</td>\n",
       "      <td>0.980000</td>\n",
       "      <td>1.474700e+05</td>\n",
       "      <td>2.040034e+04</td>\n",
       "      <td>4.147606e+04</td>\n",
       "      <td>9.112500e+02</td>\n",
       "      <td>3.620689e+04</td>\n",
       "      <td>2.972722e+04</td>\n",
       "      <td>5.407400e+02</td>\n",
       "      <td>0.000000</td>\n",
       "      <td>2015.000000</td>\n",
       "    </tr>\n",
       "    <tr>\n",
       "      <th>50%</th>\n",
       "      <td>29.000000</td>\n",
       "      <td>1.080000</td>\n",
       "      <td>4.027919e+05</td>\n",
       "      <td>8.175117e+04</td>\n",
       "      <td>1.186649e+05</td>\n",
       "      <td>7.688170e+03</td>\n",
       "      <td>7.397906e+04</td>\n",
       "      <td>6.237569e+04</td>\n",
       "      <td>5.044350e+03</td>\n",
       "      <td>0.000000</td>\n",
       "      <td>2015.000000</td>\n",
       "    </tr>\n",
       "    <tr>\n",
       "      <th>75%</th>\n",
       "      <td>39.000000</td>\n",
       "      <td>1.190000</td>\n",
       "      <td>9.819751e+05</td>\n",
       "      <td>3.775785e+05</td>\n",
       "      <td>4.851503e+05</td>\n",
       "      <td>2.916730e+04</td>\n",
       "      <td>1.576097e+05</td>\n",
       "      <td>1.461994e+05</td>\n",
       "      <td>2.926767e+04</td>\n",
       "      <td>401.480000</td>\n",
       "      <td>2015.000000</td>\n",
       "    </tr>\n",
       "    <tr>\n",
       "      <th>max</th>\n",
       "      <td>51.000000</td>\n",
       "      <td>1.680000</td>\n",
       "      <td>4.465546e+07</td>\n",
       "      <td>1.893304e+07</td>\n",
       "      <td>1.895648e+07</td>\n",
       "      <td>1.381516e+06</td>\n",
       "      <td>6.736304e+06</td>\n",
       "      <td>5.893642e+06</td>\n",
       "      <td>1.121076e+06</td>\n",
       "      <td>108072.790000</td>\n",
       "      <td>2016.000000</td>\n",
       "    </tr>\n",
       "  </tbody>\n",
       "</table>\n",
       "</div>"
      ],
      "text/plain": [
       "             Sl No  AveragePrice  Total Volume          4046          4225  \\\n",
       "count  1517.000000   1517.000000  1.517000e+03  1.517000e+03  1.517000e+03   \n",
       "mean     26.995386      1.074990  1.601879e+06  6.464387e+05  6.114375e+05   \n",
       "std      14.848287      0.188891  4.433143e+06  1.947614e+06  1.672906e+06   \n",
       "min       0.000000      0.490000  3.875074e+04  4.677200e+02  1.783770e+03   \n",
       "25%      14.000000      0.980000  1.474700e+05  2.040034e+04  4.147606e+04   \n",
       "50%      29.000000      1.080000  4.027919e+05  8.175117e+04  1.186649e+05   \n",
       "75%      39.000000      1.190000  9.819751e+05  3.775785e+05  4.851503e+05   \n",
       "max      51.000000      1.680000  4.465546e+07  1.893304e+07  1.895648e+07   \n",
       "\n",
       "               4770    Total Bags    Small Bags    Large Bags    XLarge Bags  \\\n",
       "count  1.517000e+03  1.517000e+03  1.517000e+03  1.517000e+03    1517.000000   \n",
       "mean   5.040550e+04  2.935974e+05  2.487736e+05  4.264205e+04    2181.771074   \n",
       "std    1.377812e+05  7.579765e+05  6.474765e+05  1.182157e+05    7455.712144   \n",
       "min    0.000000e+00  3.311770e+03  3.311770e+03  0.000000e+00       0.000000   \n",
       "25%    9.112500e+02  3.620689e+04  2.972722e+04  5.407400e+02       0.000000   \n",
       "50%    7.688170e+03  7.397906e+04  6.237569e+04  5.044350e+03       0.000000   \n",
       "75%    2.916730e+04  1.576097e+05  1.461994e+05  2.926767e+04     401.480000   \n",
       "max    1.381516e+06  6.736304e+06  5.893642e+06  1.121076e+06  108072.790000   \n",
       "\n",
       "              year  \n",
       "count  1517.000000  \n",
       "mean   2015.162821  \n",
       "std       0.369324  \n",
       "min    2015.000000  \n",
       "25%    2015.000000  \n",
       "50%    2015.000000  \n",
       "75%    2015.000000  \n",
       "max    2016.000000  "
      ]
     },
     "execution_count": 3,
     "metadata": {},
     "output_type": "execute_result"
    }
   ],
   "source": [
    "#describing the data\n",
    "avocado_init.describe()"
   ]
  },
  {
   "cell_type": "code",
   "execution_count": 4,
   "metadata": {},
   "outputs": [
    {
     "name": "stdout",
     "output_type": "stream",
     "text": [
      "<class 'pandas.core.frame.DataFrame'>\n",
      "RangeIndex: 1517 entries, 0 to 1516\n",
      "Data columns (total 14 columns):\n",
      " #   Column        Non-Null Count  Dtype  \n",
      "---  ------        --------------  -----  \n",
      " 0   Sl No         1517 non-null   int64  \n",
      " 1   Date          1517 non-null   object \n",
      " 2   AveragePrice  1517 non-null   float64\n",
      " 3   Total Volume  1517 non-null   float64\n",
      " 4   4046          1517 non-null   float64\n",
      " 5   4225          1517 non-null   float64\n",
      " 6   4770          1517 non-null   float64\n",
      " 7   Total Bags    1517 non-null   float64\n",
      " 8   Small Bags    1517 non-null   float64\n",
      " 9   Large Bags    1517 non-null   float64\n",
      " 10  XLarge Bags   1517 non-null   float64\n",
      " 11  type          1517 non-null   object \n",
      " 12  year          1517 non-null   int64  \n",
      " 13  region        1517 non-null   object \n",
      "dtypes: float64(9), int64(2), object(3)\n",
      "memory usage: 166.0+ KB\n"
     ]
    }
   ],
   "source": [
    "#checking the information of the data\n",
    "avocado_init.info()\n",
    "\n",
    "#so by looking the information, here there are no missing data"
   ]
  },
  {
   "cell_type": "markdown",
   "metadata": {},
   "source": [
    "# 2-Exploratory Data Analysis (Cleaning, Data Exploring & Visualizing)"
   ]
  },
  {
   "cell_type": "code",
   "execution_count": 5,
   "metadata": {},
   "outputs": [
    {
     "data": {
      "text/html": [
       "<div>\n",
       "<style scoped>\n",
       "    .dataframe tbody tr th:only-of-type {\n",
       "        vertical-align: middle;\n",
       "    }\n",
       "\n",
       "    .dataframe tbody tr th {\n",
       "        vertical-align: top;\n",
       "    }\n",
       "\n",
       "    .dataframe thead th {\n",
       "        text-align: right;\n",
       "    }\n",
       "</style>\n",
       "<table border=\"1\" class=\"dataframe\">\n",
       "  <thead>\n",
       "    <tr style=\"text-align: right;\">\n",
       "      <th></th>\n",
       "      <th>Sl No</th>\n",
       "      <th>Date</th>\n",
       "      <th>AveragePrice</th>\n",
       "      <th>Total Volume</th>\n",
       "      <th>4046</th>\n",
       "      <th>4225</th>\n",
       "      <th>4770</th>\n",
       "      <th>Total Bags</th>\n",
       "      <th>Small Bags</th>\n",
       "      <th>Large Bags</th>\n",
       "      <th>XLarge Bags</th>\n",
       "      <th>type</th>\n",
       "      <th>year</th>\n",
       "      <th>region</th>\n",
       "    </tr>\n",
       "  </thead>\n",
       "  <tbody>\n",
       "    <tr>\n",
       "      <th>0</th>\n",
       "      <td>0</td>\n",
       "      <td>27-12-2015</td>\n",
       "      <td>1.33</td>\n",
       "      <td>64236.62</td>\n",
       "      <td>1036.74</td>\n",
       "      <td>54454.85</td>\n",
       "      <td>48.16</td>\n",
       "      <td>8696.87</td>\n",
       "      <td>8603.62</td>\n",
       "      <td>93.25</td>\n",
       "      <td>0.0</td>\n",
       "      <td>conventional</td>\n",
       "      <td>2015</td>\n",
       "      <td>Albany</td>\n",
       "    </tr>\n",
       "    <tr>\n",
       "      <th>1</th>\n",
       "      <td>1</td>\n",
       "      <td>20-12-2015</td>\n",
       "      <td>1.35</td>\n",
       "      <td>54876.98</td>\n",
       "      <td>674.28</td>\n",
       "      <td>44638.81</td>\n",
       "      <td>58.33</td>\n",
       "      <td>9505.56</td>\n",
       "      <td>9408.07</td>\n",
       "      <td>97.49</td>\n",
       "      <td>0.0</td>\n",
       "      <td>conventional</td>\n",
       "      <td>2015</td>\n",
       "      <td>Albany</td>\n",
       "    </tr>\n",
       "    <tr>\n",
       "      <th>2</th>\n",
       "      <td>2</td>\n",
       "      <td>13-12-2015</td>\n",
       "      <td>0.93</td>\n",
       "      <td>118220.22</td>\n",
       "      <td>794.70</td>\n",
       "      <td>109149.67</td>\n",
       "      <td>130.50</td>\n",
       "      <td>8145.35</td>\n",
       "      <td>8042.21</td>\n",
       "      <td>103.14</td>\n",
       "      <td>0.0</td>\n",
       "      <td>conventional</td>\n",
       "      <td>2015</td>\n",
       "      <td>Albany</td>\n",
       "    </tr>\n",
       "    <tr>\n",
       "      <th>3</th>\n",
       "      <td>3</td>\n",
       "      <td>06-12-2015</td>\n",
       "      <td>1.08</td>\n",
       "      <td>78992.15</td>\n",
       "      <td>1132.00</td>\n",
       "      <td>71976.41</td>\n",
       "      <td>72.58</td>\n",
       "      <td>5811.16</td>\n",
       "      <td>5677.40</td>\n",
       "      <td>133.76</td>\n",
       "      <td>0.0</td>\n",
       "      <td>conventional</td>\n",
       "      <td>2015</td>\n",
       "      <td>Albany</td>\n",
       "    </tr>\n",
       "    <tr>\n",
       "      <th>4</th>\n",
       "      <td>4</td>\n",
       "      <td>29-11-2015</td>\n",
       "      <td>1.28</td>\n",
       "      <td>51039.60</td>\n",
       "      <td>941.48</td>\n",
       "      <td>43838.39</td>\n",
       "      <td>75.78</td>\n",
       "      <td>6183.95</td>\n",
       "      <td>5986.26</td>\n",
       "      <td>197.69</td>\n",
       "      <td>0.0</td>\n",
       "      <td>conventional</td>\n",
       "      <td>2015</td>\n",
       "      <td>Albany</td>\n",
       "    </tr>\n",
       "    <tr>\n",
       "      <th>5</th>\n",
       "      <td>5</td>\n",
       "      <td>22-11-2015</td>\n",
       "      <td>1.26</td>\n",
       "      <td>55979.78</td>\n",
       "      <td>1184.27</td>\n",
       "      <td>48067.99</td>\n",
       "      <td>43.61</td>\n",
       "      <td>6683.91</td>\n",
       "      <td>6556.47</td>\n",
       "      <td>127.44</td>\n",
       "      <td>0.0</td>\n",
       "      <td>conventional</td>\n",
       "      <td>2015</td>\n",
       "      <td>Albany</td>\n",
       "    </tr>\n",
       "    <tr>\n",
       "      <th>6</th>\n",
       "      <td>6</td>\n",
       "      <td>15-11-2015</td>\n",
       "      <td>0.99</td>\n",
       "      <td>83453.76</td>\n",
       "      <td>1368.92</td>\n",
       "      <td>73672.72</td>\n",
       "      <td>93.26</td>\n",
       "      <td>8318.86</td>\n",
       "      <td>8196.81</td>\n",
       "      <td>122.05</td>\n",
       "      <td>0.0</td>\n",
       "      <td>conventional</td>\n",
       "      <td>2015</td>\n",
       "      <td>Albany</td>\n",
       "    </tr>\n",
       "    <tr>\n",
       "      <th>7</th>\n",
       "      <td>7</td>\n",
       "      <td>08-11-2015</td>\n",
       "      <td>0.98</td>\n",
       "      <td>109428.33</td>\n",
       "      <td>703.75</td>\n",
       "      <td>101815.36</td>\n",
       "      <td>80.00</td>\n",
       "      <td>6829.22</td>\n",
       "      <td>6266.85</td>\n",
       "      <td>562.37</td>\n",
       "      <td>0.0</td>\n",
       "      <td>conventional</td>\n",
       "      <td>2015</td>\n",
       "      <td>Albany</td>\n",
       "    </tr>\n",
       "    <tr>\n",
       "      <th>8</th>\n",
       "      <td>8</td>\n",
       "      <td>01-11-2015</td>\n",
       "      <td>1.02</td>\n",
       "      <td>99811.42</td>\n",
       "      <td>1022.15</td>\n",
       "      <td>87315.57</td>\n",
       "      <td>85.34</td>\n",
       "      <td>11388.36</td>\n",
       "      <td>11104.53</td>\n",
       "      <td>283.83</td>\n",
       "      <td>0.0</td>\n",
       "      <td>conventional</td>\n",
       "      <td>2015</td>\n",
       "      <td>Albany</td>\n",
       "    </tr>\n",
       "    <tr>\n",
       "      <th>9</th>\n",
       "      <td>9</td>\n",
       "      <td>25-10-2015</td>\n",
       "      <td>1.07</td>\n",
       "      <td>74338.76</td>\n",
       "      <td>842.40</td>\n",
       "      <td>64757.44</td>\n",
       "      <td>113.00</td>\n",
       "      <td>8625.92</td>\n",
       "      <td>8061.47</td>\n",
       "      <td>564.45</td>\n",
       "      <td>0.0</td>\n",
       "      <td>conventional</td>\n",
       "      <td>2015</td>\n",
       "      <td>Albany</td>\n",
       "    </tr>\n",
       "  </tbody>\n",
       "</table>\n",
       "</div>"
      ],
      "text/plain": [
       "   Sl No        Date  AveragePrice  Total Volume     4046       4225    4770  \\\n",
       "0      0  27-12-2015          1.33      64236.62  1036.74   54454.85   48.16   \n",
       "1      1  20-12-2015          1.35      54876.98   674.28   44638.81   58.33   \n",
       "2      2  13-12-2015          0.93     118220.22   794.70  109149.67  130.50   \n",
       "3      3  06-12-2015          1.08      78992.15  1132.00   71976.41   72.58   \n",
       "4      4  29-11-2015          1.28      51039.60   941.48   43838.39   75.78   \n",
       "5      5  22-11-2015          1.26      55979.78  1184.27   48067.99   43.61   \n",
       "6      6  15-11-2015          0.99      83453.76  1368.92   73672.72   93.26   \n",
       "7      7  08-11-2015          0.98     109428.33   703.75  101815.36   80.00   \n",
       "8      8  01-11-2015          1.02      99811.42  1022.15   87315.57   85.34   \n",
       "9      9  25-10-2015          1.07      74338.76   842.40   64757.44  113.00   \n",
       "\n",
       "   Total Bags  Small Bags  Large Bags  XLarge Bags          type  year  region  \n",
       "0     8696.87     8603.62       93.25          0.0  conventional  2015  Albany  \n",
       "1     9505.56     9408.07       97.49          0.0  conventional  2015  Albany  \n",
       "2     8145.35     8042.21      103.14          0.0  conventional  2015  Albany  \n",
       "3     5811.16     5677.40      133.76          0.0  conventional  2015  Albany  \n",
       "4     6183.95     5986.26      197.69          0.0  conventional  2015  Albany  \n",
       "5     6683.91     6556.47      127.44          0.0  conventional  2015  Albany  \n",
       "6     8318.86     8196.81      122.05          0.0  conventional  2015  Albany  \n",
       "7     6829.22     6266.85      562.37          0.0  conventional  2015  Albany  \n",
       "8    11388.36    11104.53      283.83          0.0  conventional  2015  Albany  \n",
       "9     8625.92     8061.47      564.45          0.0  conventional  2015  Albany  "
      ]
     },
     "execution_count": 5,
     "metadata": {},
     "output_type": "execute_result"
    }
   ],
   "source": [
    "#lets again see the data\n",
    "avocado_init.head(10)"
   ]
  },
  {
   "cell_type": "code",
   "execution_count": 6,
   "metadata": {},
   "outputs": [
    {
     "name": "stdout",
     "output_type": "stream",
     "text": [
      "         Date  AveragePrice  Total Volume     4046       4225    4770  \\\n",
      "0  27-12-2015          1.33      64236.62  1036.74   54454.85   48.16   \n",
      "1  20-12-2015          1.35      54876.98   674.28   44638.81   58.33   \n",
      "2  13-12-2015          0.93     118220.22   794.70  109149.67  130.50   \n",
      "3  06-12-2015          1.08      78992.15  1132.00   71976.41   72.58   \n",
      "4  29-11-2015          1.28      51039.60   941.48   43838.39   75.78   \n",
      "\n",
      "   Total Bags  Small Bags  Large Bags  XLarge Bags          type  year  region  \n",
      "0     8696.87     8603.62       93.25          0.0  conventional  2015  Albany  \n",
      "1     9505.56     9408.07       97.49          0.0  conventional  2015  Albany  \n",
      "2     8145.35     8042.21      103.14          0.0  conventional  2015  Albany  \n",
      "3     5811.16     5677.40      133.76          0.0  conventional  2015  Albany  \n",
      "4     6183.95     5986.26      197.69          0.0  conventional  2015  Albany  \n",
      "(1517, 13)\n"
     ]
    }
   ],
   "source": [
    "#so here we saw there is a attribute named \"Unnamed:0\" which is not required, lets drop this column from our dataset\n",
    "avocado=avocado_init.drop(columns=['Sl No'])\n",
    "print(avocado.head(5))\n",
    "print(avocado.shape)"
   ]
  },
  {
   "cell_type": "code",
   "execution_count": 7,
   "metadata": {},
   "outputs": [
    {
     "data": {
      "text/plain": [
       "Index(['Date', 'AveragePrice', 'Total Volume', '4046', '4225', '4770',\n",
       "       'Total Bags', 'Small Bags', 'Large Bags', 'XLarge Bags', 'type', 'year',\n",
       "       'region'],\n",
       "      dtype='object')"
      ]
     },
     "execution_count": 7,
     "metadata": {},
     "output_type": "execute_result"
    }
   ],
   "source": [
    "#lets print all the columns\n",
    "avocado.columns"
   ]
  },
  {
   "cell_type": "code",
   "execution_count": 8,
   "metadata": {},
   "outputs": [
    {
     "data": {
      "text/plain": [
       "AveragePrice   -0.109444\n",
       "Total Volume    6.200138\n",
       "4046            6.051830\n",
       "4225            6.394926\n",
       "4770            5.405164\n",
       "Total Bags      5.366378\n",
       "Small Bags      5.355185\n",
       "Large Bags      5.144495\n",
       "XLarge Bags     5.775077\n",
       "year            1.828332\n",
       "dtype: float64"
      ]
     },
     "execution_count": 8,
     "metadata": {},
     "output_type": "execute_result"
    }
   ],
   "source": [
    "# Checking the skewness of the dataset\n",
    "avocado.skew()\n",
    "\n",
    "# so here there are few variable where the skewness is more than 0.55, so we have to treat them.\n",
    "# the variables are R, H, CG, SHO, SV, and E"
   ]
  },
  {
   "cell_type": "code",
   "execution_count": 9,
   "metadata": {},
   "outputs": [],
   "source": [
    "# treating the skewness using log\n",
    "skewattb=('AveragePrice','Total Volume','4046','4225','4770','Total Bags','Small Bags','Large Bags','XLarge Bags')\n",
    "for col in skewattb:\n",
    "    if avocado.skew().loc[col]>0.55:\n",
    "        avocado[col]=np.log1p(avocado[col])"
   ]
  },
  {
   "cell_type": "code",
   "execution_count": 10,
   "metadata": {},
   "outputs": [
    {
     "data": {
      "text/plain": [
       "AveragePrice   -0.109444\n",
       "Total Volume    0.667468\n",
       "4046           -0.160268\n",
       "4225            0.184436\n",
       "4770           -0.355508\n",
       "Total Bags      0.695502\n",
       "Small Bags      0.713843\n",
       "Large Bags     -0.912766\n",
       "XLarge Bags     0.783913\n",
       "year            1.828332\n",
       "dtype: float64"
      ]
     },
     "execution_count": 10,
     "metadata": {},
     "output_type": "execute_result"
    }
   ],
   "source": [
    "# Again checking the skewness of the dataset\n",
    "avocado.skew()"
   ]
  },
  {
   "cell_type": "code",
   "execution_count": 11,
   "metadata": {},
   "outputs": [
    {
     "data": {
      "text/plain": [
       "Date             object\n",
       "AveragePrice    float64\n",
       "Total Volume    float64\n",
       "4046            float64\n",
       "4225            float64\n",
       "4770            float64\n",
       "Total Bags      float64\n",
       "Small Bags      float64\n",
       "Large Bags      float64\n",
       "XLarge Bags     float64\n",
       "type             object\n",
       "year              int64\n",
       "region           object\n",
       "dtype: object"
      ]
     },
     "execution_count": 11,
     "metadata": {},
     "output_type": "execute_result"
    }
   ],
   "source": [
    "#lets check the attribute data types\n",
    "avocado.dtypes"
   ]
  },
  {
   "cell_type": "code",
   "execution_count": 12,
   "metadata": {},
   "outputs": [
    {
     "data": {
      "text/plain": [
       "883    2015-01-03\n",
       "501    2015-01-11\n",
       "1454   2016-11-27\n",
       "665    2015-12-07\n",
       "300    2015-03-29\n",
       "Name: Date, dtype: datetime64[ns]"
      ]
     },
     "execution_count": 12,
     "metadata": {},
     "output_type": "execute_result"
    }
   ],
   "source": [
    "#now lets convert the date attribute to date format as it is objevt type\n",
    "avocado['Date']=pd.to_datetime(avocado['Date'])\n",
    "avocado['Date'].sample(5)"
   ]
  },
  {
   "cell_type": "code",
   "execution_count": 13,
   "metadata": {},
   "outputs": [
    {
     "data": {
      "text/plain": [
       "1"
      ]
     },
     "execution_count": 13,
     "metadata": {},
     "output_type": "execute_result"
    }
   ],
   "source": [
    "#now lets convert the type attribute to numeric format as it is object format\n",
    "#avocado['type'].describe()\n",
    "avocado['type'].nunique()\n",
    "\n",
    "#so by looking this, we observed that all the avocado'd are conventional type, \n",
    "#so we can drop this column for our model building, as this is not going to impact, \n",
    "#if the type was more than one, then we can consoder this to our model building."
   ]
  },
  {
   "cell_type": "code",
   "execution_count": 14,
   "metadata": {},
   "outputs": [
    {
     "name": "stdout",
     "output_type": "stream",
     "text": [
      "        Date  AveragePrice  Total Volume      4046       4225      4770  \\\n",
      "0 2015-12-27          1.33     11.070344  6.944801  10.905146  3.895080   \n",
      "1 2015-12-20          1.35     10.912867  6.515127  10.706381  4.083115   \n",
      "2 2015-12-13          0.93     11.680313  6.679222  11.600485  4.879007   \n",
      "3 2015-06-12          1.08     11.277116  7.032624  11.184108  4.298373   \n",
      "4 2015-11-29          1.28     10.840377  6.848515  10.688288  4.340944   \n",
      "5 2015-11-22          1.26     10.932764  7.077726  10.780393  3.797958   \n",
      "\n",
      "   Total Bags  Small Bags  Large Bags  XLarge Bags  year  region  \n",
      "0    9.070833    9.060055    4.545951          0.0  2015  Albany  \n",
      "1    9.159737    9.149429    4.589955          0.0  2015  Albany  \n",
      "2    9.005325    8.992584    4.645736          0.0  2015  Albany  \n",
      "3    8.667708    8.644425    4.903495          0.0  2015  Albany  \n",
      "4    8.729874    8.697389    5.291746          0.0  2015  Albany  \n",
      "5    8.807608    8.788360    4.855462          0.0  2015  Albany  \n"
     ]
    }
   ],
   "source": [
    "#so lets drop this attribute from our dataset\n",
    "avocado=avocado.drop(columns=['type'])\n",
    "print(avocado.head(6))"
   ]
  },
  {
   "cell_type": "code",
   "execution_count": 15,
   "metadata": {},
   "outputs": [
    {
     "data": {
      "text/plain": [
       "count           1517\n",
       "unique            51\n",
       "top       California\n",
       "freq              76\n",
       "Name: region, dtype: object"
      ]
     },
     "execution_count": 15,
     "metadata": {},
     "output_type": "execute_result"
    }
   ],
   "source": [
    "#now lets convert the region attribute to numeric format as it is object format\n",
    "avocado['region'].describe()\n",
    "#avocado['region'].nunique()\n",
    "\n",
    "#so here we saw that there are 51 unique region, so we can convert them to numeric using label encoder "
   ]
  },
  {
   "cell_type": "code",
   "execution_count": 16,
   "metadata": {},
   "outputs": [
    {
     "data": {
      "text/html": [
       "<div>\n",
       "<style scoped>\n",
       "    .dataframe tbody tr th:only-of-type {\n",
       "        vertical-align: middle;\n",
       "    }\n",
       "\n",
       "    .dataframe tbody tr th {\n",
       "        vertical-align: top;\n",
       "    }\n",
       "\n",
       "    .dataframe thead th {\n",
       "        text-align: right;\n",
       "    }\n",
       "</style>\n",
       "<table border=\"1\" class=\"dataframe\">\n",
       "  <thead>\n",
       "    <tr style=\"text-align: right;\">\n",
       "      <th></th>\n",
       "      <th>Date</th>\n",
       "      <th>AveragePrice</th>\n",
       "      <th>Total Volume</th>\n",
       "      <th>4046</th>\n",
       "      <th>4225</th>\n",
       "      <th>4770</th>\n",
       "      <th>Total Bags</th>\n",
       "      <th>Small Bags</th>\n",
       "      <th>Large Bags</th>\n",
       "      <th>XLarge Bags</th>\n",
       "      <th>year</th>\n",
       "      <th>region</th>\n",
       "    </tr>\n",
       "  </thead>\n",
       "  <tbody>\n",
       "    <tr>\n",
       "      <th>1502</th>\n",
       "      <td>2016-12-25</td>\n",
       "      <td>1.25</td>\n",
       "      <td>11.956290</td>\n",
       "      <td>10.494784</td>\n",
       "      <td>10.835523</td>\n",
       "      <td>8.899136</td>\n",
       "      <td>11.027627</td>\n",
       "      <td>10.844450</td>\n",
       "      <td>9.233469</td>\n",
       "      <td>4.254761</td>\n",
       "      <td>2016</td>\n",
       "      <td>7</td>\n",
       "    </tr>\n",
       "    <tr>\n",
       "      <th>1503</th>\n",
       "      <td>2016-12-18</td>\n",
       "      <td>1.24</td>\n",
       "      <td>11.881969</td>\n",
       "      <td>10.484666</td>\n",
       "      <td>10.742414</td>\n",
       "      <td>8.980132</td>\n",
       "      <td>10.908774</td>\n",
       "      <td>10.705614</td>\n",
       "      <td>9.215254</td>\n",
       "      <td>0.000000</td>\n",
       "      <td>2016</td>\n",
       "      <td>7</td>\n",
       "    </tr>\n",
       "    <tr>\n",
       "      <th>1504</th>\n",
       "      <td>2016-11-12</td>\n",
       "      <td>1.33</td>\n",
       "      <td>11.890101</td>\n",
       "      <td>10.686152</td>\n",
       "      <td>10.620648</td>\n",
       "      <td>9.070796</td>\n",
       "      <td>10.866728</td>\n",
       "      <td>10.742770</td>\n",
       "      <td>8.717744</td>\n",
       "      <td>0.000000</td>\n",
       "      <td>2016</td>\n",
       "      <td>7</td>\n",
       "    </tr>\n",
       "    <tr>\n",
       "      <th>1505</th>\n",
       "      <td>2016-04-12</td>\n",
       "      <td>1.34</td>\n",
       "      <td>11.949526</td>\n",
       "      <td>10.577014</td>\n",
       "      <td>10.742614</td>\n",
       "      <td>9.154085</td>\n",
       "      <td>10.998495</td>\n",
       "      <td>10.779326</td>\n",
       "      <td>9.373086</td>\n",
       "      <td>0.000000</td>\n",
       "      <td>2016</td>\n",
       "      <td>7</td>\n",
       "    </tr>\n",
       "    <tr>\n",
       "      <th>1506</th>\n",
       "      <td>2016-11-27</td>\n",
       "      <td>1.54</td>\n",
       "      <td>11.786419</td>\n",
       "      <td>10.570727</td>\n",
       "      <td>10.444273</td>\n",
       "      <td>9.019910</td>\n",
       "      <td>10.817129</td>\n",
       "      <td>10.692088</td>\n",
       "      <td>8.676316</td>\n",
       "      <td>0.000000</td>\n",
       "      <td>2016</td>\n",
       "      <td>7</td>\n",
       "    </tr>\n",
       "    <tr>\n",
       "      <th>1507</th>\n",
       "      <td>2016-11-20</td>\n",
       "      <td>1.57</td>\n",
       "      <td>11.817532</td>\n",
       "      <td>10.692983</td>\n",
       "      <td>10.271890</td>\n",
       "      <td>9.540654</td>\n",
       "      <td>10.794336</td>\n",
       "      <td>10.662484</td>\n",
       "      <td>8.703223</td>\n",
       "      <td>0.000000</td>\n",
       "      <td>2016</td>\n",
       "      <td>7</td>\n",
       "    </tr>\n",
       "    <tr>\n",
       "      <th>1508</th>\n",
       "      <td>2016-11-13</td>\n",
       "      <td>1.64</td>\n",
       "      <td>11.878194</td>\n",
       "      <td>10.807714</td>\n",
       "      <td>10.188606</td>\n",
       "      <td>10.030811</td>\n",
       "      <td>10.722797</td>\n",
       "      <td>10.556796</td>\n",
       "      <td>8.845326</td>\n",
       "      <td>0.000000</td>\n",
       "      <td>2016</td>\n",
       "      <td>7</td>\n",
       "    </tr>\n",
       "    <tr>\n",
       "      <th>1509</th>\n",
       "      <td>2016-06-11</td>\n",
       "      <td>1.57</td>\n",
       "      <td>11.864265</td>\n",
       "      <td>10.514387</td>\n",
       "      <td>10.222026</td>\n",
       "      <td>10.138831</td>\n",
       "      <td>10.867596</td>\n",
       "      <td>10.733407</td>\n",
       "      <td>8.792900</td>\n",
       "      <td>0.000000</td>\n",
       "      <td>2016</td>\n",
       "      <td>7</td>\n",
       "    </tr>\n",
       "    <tr>\n",
       "      <th>1510</th>\n",
       "      <td>2016-10-30</td>\n",
       "      <td>1.58</td>\n",
       "      <td>11.870296</td>\n",
       "      <td>10.580948</td>\n",
       "      <td>10.288182</td>\n",
       "      <td>10.199220</td>\n",
       "      <td>10.764615</td>\n",
       "      <td>10.603106</td>\n",
       "      <td>8.827258</td>\n",
       "      <td>5.485958</td>\n",
       "      <td>2016</td>\n",
       "      <td>7</td>\n",
       "    </tr>\n",
       "    <tr>\n",
       "      <th>1511</th>\n",
       "      <td>2016-10-23</td>\n",
       "      <td>1.52</td>\n",
       "      <td>12.030184</td>\n",
       "      <td>10.914778</td>\n",
       "      <td>10.590385</td>\n",
       "      <td>9.917948</td>\n",
       "      <td>10.872755</td>\n",
       "      <td>10.759210</td>\n",
       "      <td>8.641142</td>\n",
       "      <td>0.000000</td>\n",
       "      <td>2016</td>\n",
       "      <td>7</td>\n",
       "    </tr>\n",
       "    <tr>\n",
       "      <th>1512</th>\n",
       "      <td>2016-10-16</td>\n",
       "      <td>1.39</td>\n",
       "      <td>12.159227</td>\n",
       "      <td>10.960064</td>\n",
       "      <td>10.939651</td>\n",
       "      <td>9.771828</td>\n",
       "      <td>10.992377</td>\n",
       "      <td>10.795988</td>\n",
       "      <td>9.245288</td>\n",
       "      <td>5.485958</td>\n",
       "      <td>2016</td>\n",
       "      <td>7</td>\n",
       "    </tr>\n",
       "    <tr>\n",
       "      <th>1513</th>\n",
       "      <td>2016-09-10</td>\n",
       "      <td>1.51</td>\n",
       "      <td>12.090868</td>\n",
       "      <td>10.676528</td>\n",
       "      <td>10.862658</td>\n",
       "      <td>9.874088</td>\n",
       "      <td>11.055667</td>\n",
       "      <td>10.909713</td>\n",
       "      <td>9.059234</td>\n",
       "      <td>0.000000</td>\n",
       "      <td>2016</td>\n",
       "      <td>7</td>\n",
       "    </tr>\n",
       "    <tr>\n",
       "      <th>1514</th>\n",
       "      <td>2016-02-10</td>\n",
       "      <td>1.48</td>\n",
       "      <td>12.091850</td>\n",
       "      <td>10.744316</td>\n",
       "      <td>10.876052</td>\n",
       "      <td>9.725432</td>\n",
       "      <td>11.041589</td>\n",
       "      <td>10.884322</td>\n",
       "      <td>9.019078</td>\n",
       "      <td>6.716595</td>\n",
       "      <td>2016</td>\n",
       "      <td>7</td>\n",
       "    </tr>\n",
       "    <tr>\n",
       "      <th>1515</th>\n",
       "      <td>2016-09-25</td>\n",
       "      <td>1.47</td>\n",
       "      <td>12.150203</td>\n",
       "      <td>10.898807</td>\n",
       "      <td>10.889203</td>\n",
       "      <td>9.769752</td>\n",
       "      <td>11.065587</td>\n",
       "      <td>10.926918</td>\n",
       "      <td>9.021509</td>\n",
       "      <td>0.000000</td>\n",
       "      <td>2016</td>\n",
       "      <td>7</td>\n",
       "    </tr>\n",
       "    <tr>\n",
       "      <th>1516</th>\n",
       "      <td>2016-09-18</td>\n",
       "      <td>1.43</td>\n",
       "      <td>12.117128</td>\n",
       "      <td>10.671682</td>\n",
       "      <td>10.900333</td>\n",
       "      <td>9.715042</td>\n",
       "      <td>11.143390</td>\n",
       "      <td>10.958796</td>\n",
       "      <td>9.363006</td>\n",
       "      <td>0.000000</td>\n",
       "      <td>2016</td>\n",
       "      <td>7</td>\n",
       "    </tr>\n",
       "  </tbody>\n",
       "</table>\n",
       "</div>"
      ],
      "text/plain": [
       "           Date  AveragePrice  Total Volume       4046       4225       4770  \\\n",
       "1502 2016-12-25          1.25     11.956290  10.494784  10.835523   8.899136   \n",
       "1503 2016-12-18          1.24     11.881969  10.484666  10.742414   8.980132   \n",
       "1504 2016-11-12          1.33     11.890101  10.686152  10.620648   9.070796   \n",
       "1505 2016-04-12          1.34     11.949526  10.577014  10.742614   9.154085   \n",
       "1506 2016-11-27          1.54     11.786419  10.570727  10.444273   9.019910   \n",
       "1507 2016-11-20          1.57     11.817532  10.692983  10.271890   9.540654   \n",
       "1508 2016-11-13          1.64     11.878194  10.807714  10.188606  10.030811   \n",
       "1509 2016-06-11          1.57     11.864265  10.514387  10.222026  10.138831   \n",
       "1510 2016-10-30          1.58     11.870296  10.580948  10.288182  10.199220   \n",
       "1511 2016-10-23          1.52     12.030184  10.914778  10.590385   9.917948   \n",
       "1512 2016-10-16          1.39     12.159227  10.960064  10.939651   9.771828   \n",
       "1513 2016-09-10          1.51     12.090868  10.676528  10.862658   9.874088   \n",
       "1514 2016-02-10          1.48     12.091850  10.744316  10.876052   9.725432   \n",
       "1515 2016-09-25          1.47     12.150203  10.898807  10.889203   9.769752   \n",
       "1516 2016-09-18          1.43     12.117128  10.671682  10.900333   9.715042   \n",
       "\n",
       "      Total Bags  Small Bags  Large Bags  XLarge Bags  year  region  \n",
       "1502   11.027627   10.844450    9.233469     4.254761  2016       7  \n",
       "1503   10.908774   10.705614    9.215254     0.000000  2016       7  \n",
       "1504   10.866728   10.742770    8.717744     0.000000  2016       7  \n",
       "1505   10.998495   10.779326    9.373086     0.000000  2016       7  \n",
       "1506   10.817129   10.692088    8.676316     0.000000  2016       7  \n",
       "1507   10.794336   10.662484    8.703223     0.000000  2016       7  \n",
       "1508   10.722797   10.556796    8.845326     0.000000  2016       7  \n",
       "1509   10.867596   10.733407    8.792900     0.000000  2016       7  \n",
       "1510   10.764615   10.603106    8.827258     5.485958  2016       7  \n",
       "1511   10.872755   10.759210    8.641142     0.000000  2016       7  \n",
       "1512   10.992377   10.795988    9.245288     5.485958  2016       7  \n",
       "1513   11.055667   10.909713    9.059234     0.000000  2016       7  \n",
       "1514   11.041589   10.884322    9.019078     6.716595  2016       7  \n",
       "1515   11.065587   10.926918    9.021509     0.000000  2016       7  \n",
       "1516   11.143390   10.958796    9.363006     0.000000  2016       7  "
      ]
     },
     "execution_count": 16,
     "metadata": {},
     "output_type": "execute_result"
    }
   ],
   "source": [
    "#similarly lets use level encoder to convert it into numeric data\n",
    "from sklearn.preprocessing import LabelEncoder\n",
    "le=LabelEncoder()\n",
    "avocado['region']=le.fit_transform(avocado['region'])\n",
    "avocado.tail(15)"
   ]
  },
  {
   "cell_type": "code",
   "execution_count": 17,
   "metadata": {},
   "outputs": [
    {
     "data": {
      "text/plain": [
       "51"
      ]
     },
     "execution_count": 17,
     "metadata": {},
     "output_type": "execute_result"
    }
   ],
   "source": [
    "avocado['region'].nunique()"
   ]
  },
  {
   "cell_type": "code",
   "execution_count": 18,
   "metadata": {},
   "outputs": [
    {
     "data": {
      "text/plain": [
       "<matplotlib.axes._subplots.AxesSubplot at 0x1b0a3e33e88>"
      ]
     },
     "execution_count": 18,
     "metadata": {},
     "output_type": "execute_result"
    },
    {
     "data": {
      "image/png": "[encoded data removed]",
      "text/plain": [
       "<Figure size 1080x720 with 1 Axes>"
      ]
     },
     "metadata": {
      "needs_background": "light"
     },
     "output_type": "display_data"
    }
   ],
   "source": [
    "# now lets see the distribution of \"AveragePrice\"\n",
    "plt.figure(figsize=(15,10))\n",
    "plt.title('Distribution of AveragePrice')\n",
    "sns.distplot(avocado['AveragePrice'])"
   ]
  },
  {
   "cell_type": "code",
   "execution_count": 19,
   "metadata": {},
   "outputs": [
    {
     "data": {
      "text/plain": [
       "Text(0.5, 1.0, 'Average Price changes wrt Date')"
      ]
     },
     "execution_count": 19,
     "metadata": {},
     "output_type": "execute_result"
    },
    {
     "data": {
      "image/png": "[encoded data removed]",
      "text/plain": [
       "<Figure size 1440x1080 with 1 Axes>"
      ]
     },
     "metadata": {
      "needs_background": "light"
     },
     "output_type": "display_data"
    }
   ],
   "source": [
    "# now lets see the distribution of \"AveragePrice\" changes wrt date\n",
    "bydate=avocado.groupby('Date').mean()\n",
    "plt.figure(figsize=(20,15))\n",
    "bydate['AveragePrice'].plot()\n",
    "plt.title('Average Price changes wrt Date')\n",
    "\n",
    "#so by looking this plot we can say that the avocado average price is increasing as the year increases."
   ]
  },
  {
   "cell_type": "code",
   "execution_count": 20,
   "metadata": {},
   "outputs": [
    {
     "data": {
      "text/plain": [
       "<matplotlib.axes._subplots.AxesSubplot at 0x1b0a4c34048>"
      ]
     },
     "execution_count": 20,
     "metadata": {},
     "output_type": "execute_result"
    },
    {
     "data": {
      "image/png": "[encoded data removed]",
      "text/plain": [
       "<Figure size 1080x720 with 2 Axes>"
      ]
     },
     "metadata": {
      "needs_background": "light"
     },
     "output_type": "display_data"
    }
   ],
   "source": [
    "#lets see the corelation among data wrt AveragePrice\n",
    "plt.figure(figsize=(15,10))\n",
    "sns.heatmap(avocado.corr(),cmap='coolwarm',annot=True)"
   ]
  },
  {
   "cell_type": "code",
   "execution_count": 21,
   "metadata": {},
   "outputs": [
    {
     "name": "stdout",
     "output_type": "stream",
     "text": [
      "   AveragePrice  Total Volume      4046       4225      4770  Total Bags  \\\n",
      "0          1.33     11.070344  6.944801  10.905146  3.895080    9.070833   \n",
      "1          1.35     10.912867  6.515127  10.706381  4.083115    9.159737   \n",
      "2          0.93     11.680313  6.679222  11.600485  4.879007    9.005325   \n",
      "3          1.08     11.277116  7.032624  11.184108  4.298373    8.667708   \n",
      "4          1.28     10.840377  6.848515  10.688288  4.340944    8.729874   \n",
      "5          1.26     10.932764  7.077726  10.780393  3.797958    8.807608   \n",
      "\n",
      "   Small Bags  Large Bags  XLarge Bags  year  region  \n",
      "0    9.060055    4.545951          0.0  2015       0  \n",
      "1    9.149429    4.589955          0.0  2015       0  \n",
      "2    8.992584    4.645736          0.0  2015       0  \n",
      "3    8.644425    4.903495          0.0  2015       0  \n",
      "4    8.697389    5.291746          0.0  2015       0  \n",
      "5    8.788360    4.855462          0.0  2015       0  \n"
     ]
    }
   ],
   "source": [
    "#so as Date attribute is not required for building the model, lets drop them from data set\n",
    "avocado=avocado.drop(columns=['Date'])\n",
    "print(avocado.head(6))"
   ]
  },
  {
   "cell_type": "code",
   "execution_count": 22,
   "metadata": {},
   "outputs": [
    {
     "data": {
      "text/plain": [
       "AveragePrice       AxesSubplot(0.125,0.125;0.0596154x0.755)\n",
       "Total Volume    AxesSubplot(0.196538,0.125;0.0596154x0.755)\n",
       "4046            AxesSubplot(0.268077,0.125;0.0596154x0.755)\n",
       "4225            AxesSubplot(0.339615,0.125;0.0596154x0.755)\n",
       "4770            AxesSubplot(0.411154,0.125;0.0596154x0.755)\n",
       "Total Bags      AxesSubplot(0.482692,0.125;0.0596154x0.755)\n",
       "Small Bags      AxesSubplot(0.554231,0.125;0.0596154x0.755)\n",
       "Large Bags      AxesSubplot(0.625769,0.125;0.0596154x0.755)\n",
       "XLarge Bags     AxesSubplot(0.697308,0.125;0.0596154x0.755)\n",
       "year            AxesSubplot(0.768846,0.125;0.0596154x0.755)\n",
       "region          AxesSubplot(0.840385,0.125;0.0596154x0.755)\n",
       "dtype: object"
      ]
     },
     "execution_count": 22,
     "metadata": {},
     "output_type": "execute_result"
    },
    {
     "data": {
      "image/png": "[encoded data removed]",
      "text/plain": [
       "<Figure size 1080x720 with 11 Axes>"
      ]
     },
     "metadata": {
      "needs_background": "light"
     },
     "output_type": "display_data"
    }
   ],
   "source": [
    "#checking the outliers with box plot\n",
    "avocado.plot(kind='box',subplots=True, figsize=(15,10))"
   ]
  },
  {
   "cell_type": "code",
   "execution_count": 23,
   "metadata": {},
   "outputs": [
    {
     "name": "stdout",
     "output_type": "stream",
     "text": [
      "(1517, 11)\n",
      "Z Score is: \n",
      " [[1.35048079 1.35676174 1.82816171 ... 0.81077519 0.44100815 1.3143384 ]\n",
      " [1.45639674 1.46638736 2.01206913 ... 0.81077519 0.44100815 1.3143384 ]\n",
      " [0.76783831 0.9321394  1.94183376 ... 0.81077519 0.44100815 1.3143384 ]\n",
      " ...\n",
      " [2.14485045 0.64565294 0.20190426 ... 1.10389091 2.26753179 0.88028586]\n",
      " [2.09189247 0.60503087 0.13577946 ... 0.81077519 2.26753179 0.88028586]\n",
      " [1.88006056 0.62805557 0.23299293 ... 0.81077519 2.26753179 0.88028586]]\n",
      "(1502, 11)\n",
      "   AveragePrice  Total Volume      4046       4225      4770  Total Bags  \\\n",
      "0          1.33     11.070344  6.944801  10.905146  3.895080    9.070833   \n",
      "1          1.35     10.912867  6.515127  10.706381  4.083115    9.159737   \n",
      "2          0.93     11.680313  6.679222  11.600485  4.879007    9.005325   \n",
      "3          1.08     11.277116  7.032624  11.184108  4.298373    8.667708   \n",
      "4          1.28     10.840377  6.848515  10.688288  4.340944    8.729874   \n",
      "\n",
      "   Small Bags  Large Bags  XLarge Bags  year  region  \n",
      "0    9.060055    4.545951          0.0  2015       0  \n",
      "1    9.149429    4.589955          0.0  2015       0  \n",
      "2    8.992584    4.645736          0.0  2015       0  \n",
      "3    8.644425    4.903495          0.0  2015       0  \n",
      "4    8.697389    5.291746          0.0  2015       0  \n"
     ]
    }
   ],
   "source": [
    "#so here we saw there are few outliers present in the dataset, so lets remove them using z score\n",
    "from scipy.stats import zscore\n",
    "print(avocado.shape)\n",
    "z_score=abs(zscore(avocado))\n",
    "print('Z Score is:','\\n',z_score)\n",
    "avocado_final=avocado.loc[(z_score<3).all(axis=1)]\n",
    "print(avocado_final.shape)\n",
    "print(avocado_final.head(5))"
   ]
  },
  {
   "cell_type": "code",
   "execution_count": 24,
   "metadata": {},
   "outputs": [
    {
     "name": "stdout",
     "output_type": "stream",
     "text": [
      "(1502, 10)\n",
      "(1502, 1)\n"
     ]
    }
   ],
   "source": [
    "# separating the input and output/target variables\n",
    "df_x=avocado_final.drop(columns=['AveragePrice'])\n",
    "y=avocado_final[['AveragePrice']]\n",
    "\n",
    "print(df_x.shape)\n",
    "print(y.shape)"
   ]
  },
  {
   "cell_type": "code",
   "execution_count": 25,
   "metadata": {},
   "outputs": [
    {
     "data": {
      "text/plain": [
       "Total Volume    0.592040\n",
       "4046           -0.203940\n",
       "4225            0.122951\n",
       "4770           -0.371693\n",
       "Total Bags      0.621617\n",
       "Small Bags      0.643635\n",
       "Large Bags     -0.934829\n",
       "XLarge Bags     0.796336\n",
       "year            1.838704\n",
       "region          0.294168\n",
       "dtype: float64"
      ]
     },
     "execution_count": 25,
     "metadata": {},
     "output_type": "execute_result"
    }
   ],
   "source": [
    "df_x.skew()"
   ]
  },
  {
   "cell_type": "code",
   "execution_count": 41,
   "metadata": {},
   "outputs": [],
   "source": [
    "#scaling the input variables\n",
    "from sklearn.preprocessing import StandardScaler\n",
    "sc=StandardScaler()\n",
    "x=sc.fit_transform(df_x)\n",
    "x=pd.DataFrame(x,columns=df_x.columns)"
   ]
  },
  {
   "cell_type": "code",
   "execution_count": 27,
   "metadata": {},
   "outputs": [
    {
     "data": {
      "text/plain": [
       "Total Volume    0.592040\n",
       "4046           -0.203940\n",
       "4225            0.122951\n",
       "4770           -0.371693\n",
       "Total Bags      0.621617\n",
       "Small Bags      0.643635\n",
       "Large Bags     -0.934829\n",
       "XLarge Bags     0.796336\n",
       "year            1.838704\n",
       "region          0.294168\n",
       "dtype: float64"
      ]
     },
     "execution_count": 27,
     "metadata": {},
     "output_type": "execute_result"
    }
   ],
   "source": [
    "# Again checking the skewness of the dataset\n",
    "x.skew()"
   ]
  },
  {
   "cell_type": "markdown",
   "metadata": {},
   "source": [
    "# 3-Building Different Model and Finding the Best Model"
   ]
  },
  {
   "cell_type": "code",
   "execution_count": 42,
   "metadata": {},
   "outputs": [
    {
     "name": "stdout",
     "output_type": "stream",
     "text": [
      "(1502, 10)\n",
      "(1502, 1)\n"
     ]
    }
   ],
   "source": [
    "#lets print the shape of both input and target dataset\n",
    "print(x.shape)\n",
    "print(y.shape)"
   ]
  },
  {
   "cell_type": "code",
   "execution_count": 29,
   "metadata": {},
   "outputs": [],
   "source": [
    "#defining the models which will be used for model building\n",
    "from sklearn.linear_model import LinearRegression\n",
    "lreg=LinearRegression()\n",
    "from sklearn.neighbors import KNeighborsRegressor\n",
    "knn=KNeighborsRegressor()\n",
    "from sklearn.linear_model import Lasso\n",
    "lsreg=Lasso()\n",
    "from sklearn.linear_model import Ridge\n",
    "lrreg=Ridge()\n",
    "from sklearn.ensemble import GradientBoostingRegressor\n",
    "gbr=GradientBoostingRegressor()\n",
    "from sklearn.ensemble import AdaBoostRegressor\n",
    "ada=AdaBoostRegressor()\n",
    "from sklearn.ensemble import RandomForestRegressor\n",
    "rf=RandomForestRegressor()"
   ]
  },
  {
   "cell_type": "code",
   "execution_count": 30,
   "metadata": {},
   "outputs": [],
   "source": [
    "#appending all the models\n",
    "models=[]\n",
    "models.append(('LinearRegression',lreg))\n",
    "models.append(('KNeighborsRegressor',knn))\n",
    "models.append(('Lasso',lsreg))\n",
    "models.append(('Ridge',lrreg))\n",
    "models.append(('GradientBoostingRegressor',gbr))\n",
    "models.append(('AdaBoostRegressor',ada))\n",
    "models.append(('RandomForestRegressor',rf))"
   ]
  },
  {
   "cell_type": "code",
   "execution_count": 31,
   "metadata": {},
   "outputs": [
    {
     "name": "stdout",
     "output_type": "stream",
     "text": [
      "************************ LinearRegression **********************\n",
      "\n",
      "\n",
      "Final Random State is: 96\n",
      "\n",
      "\n",
      "R2 Score is: 0.45823128785362544\n",
      "\n",
      "\n",
      "\n",
      "\n",
      "************************ KNeighborsRegressor **********************\n",
      "\n",
      "\n",
      "Final Random State is: 94\n",
      "\n",
      "\n",
      "R2 Score is: 0.8170242670394897\n",
      "\n",
      "\n",
      "\n",
      "\n",
      "************************ Lasso **********************\n",
      "\n",
      "\n",
      "Final Random State is: 94\n",
      "\n",
      "\n",
      "R2 Score is: 0.0\n",
      "\n",
      "\n",
      "\n",
      "\n",
      "************************ Ridge **********************\n",
      "\n",
      "\n",
      "Final Random State is: 96\n",
      "\n",
      "\n",
      "R2 Score is: 0.4582763768345406\n",
      "\n",
      "\n",
      "\n",
      "\n",
      "************************ GradientBoostingRegressor **********************\n",
      "\n",
      "\n",
      "Final Random State is: 50\n",
      "\n",
      "\n",
      "R2 Score is: 0.7840730367594143\n",
      "\n",
      "\n",
      "\n",
      "\n",
      "************************ AdaBoostRegressor **********************\n",
      "\n",
      "\n",
      "Final Random State is: 42\n",
      "\n",
      "\n",
      "R2 Score is: 0.6659804759218617\n",
      "\n",
      "\n",
      "\n",
      "\n",
      "************************ RandomForestRegressor **********************\n",
      "\n",
      "\n",
      "Final Random State is: 95\n",
      "\n",
      "\n",
      "R2 Score is: 0.8578759466043697\n",
      "\n",
      "\n",
      "\n",
      "\n"
     ]
    }
   ],
   "source": [
    "#printing the output of each model\n",
    "from sklearn.model_selection import train_test_split\n",
    "from sklearn.metrics import mean_squared_error\n",
    "from sklearn.metrics import r2_score\n",
    "Model=[]\n",
    "RState=[]\n",
    "score=[]\n",
    "for name, model in models:\n",
    "    print('************************',name,'**********************')\n",
    "    print('\\n')\n",
    "    Model.append(name)\n",
    "    max_r2_score=0.0\n",
    "    for r_state in range(42,101):\n",
    "        x_train,x_test,y_train,y_test = train_test_split(x,y,test_size=0.2,random_state=r_state)\n",
    "        model.fit(x_train,y_train)\n",
    "        y_pred=model.predict(x_test)\n",
    "        r2_scr=r2_score(y_test,y_pred)\n",
    "        if r2_scr>max_r2_score:\n",
    "            max_r2_score=r2_scr\n",
    "            final_r_state=r_state\n",
    "    print('Final Random State is:', final_r_state)\n",
    "    print('\\n')\n",
    "    RState.append(final_r_state*1)\n",
    "    print('R2 Score is:', max_r2_score)\n",
    "    print('\\n')\n",
    "    score.append(max_r2_score*100)\n",
    "    print('\\n')"
   ]
  },
  {
   "cell_type": "code",
   "execution_count": 32,
   "metadata": {},
   "outputs": [
    {
     "name": "stdout",
     "output_type": "stream",
     "text": [
      "                       Model  Random_State   R2_Score\n",
      "0           LinearRegression            96  45.823129\n",
      "1        KNeighborsRegressor            94  81.702427\n",
      "2                      Lasso            94   0.000000\n",
      "3                      Ridge            96  45.827638\n",
      "4  GradientBoostingRegressor            50  78.407304\n",
      "5          AdaBoostRegressor            42  66.598048\n",
      "6      RandomForestRegressor            95  85.787595\n"
     ]
    }
   ],
   "source": [
    "#lets print the final result of all the models\n",
    "result=pd.DataFrame({'Model':Model,'Random_State':RState,'R2_Score':score})\n",
    "print(result)"
   ]
  },
  {
   "cell_type": "code",
   "execution_count": 33,
   "metadata": {},
   "outputs": [
    {
     "data": {
      "text/plain": [
       "{'n_estimators': 200}"
      ]
     },
     "execution_count": 33,
     "metadata": {},
     "output_type": "execute_result"
    }
   ],
   "source": [
    "# So here RandomForestRegressor is the best model, so lets find out the best parameter for this to get maximum score\n",
    "#lets use grid search method to find optimal value \n",
    "\n",
    "from sklearn.model_selection import GridSearchCV\n",
    "from sklearn.ensemble import RandomForestRegressor\n",
    "rfreg=RandomForestRegressor()\n",
    "parameters={'n_estimators':[int(x) for x in np.linspace(start = 200, stop = 2000, num = 10)]}\n",
    "clf=GridSearchCV(rfreg, parameters, cv=5)\n",
    "clf.fit(x,y)\n",
    "clf.best_params_"
   ]
  },
  {
   "cell_type": "code",
   "execution_count": 47,
   "metadata": {},
   "outputs": [
    {
     "name": "stdout",
     "output_type": "stream",
     "text": [
      "R2 score is: 0.8344635043059786\n",
      "RMSE is: 0.08518319524701864\n"
     ]
    }
   ],
   "source": [
    "# So lets build the final model with n_estimators=200 and random_state=95\n",
    "\n",
    "from sklearn.model_selection import train_test_split\n",
    "from sklearn.ensemble import RandomForestRegressor\n",
    "from sklearn.metrics import mean_squared_error\n",
    "from sklearn.metrics import r2_score\n",
    "x_train,x_test,y_train,y_test = train_test_split(x,y,test_size=0.2)\n",
    "rfreg=RandomForestRegressor(n_estimators=200,random_state=95)\n",
    "rfreg.fit(x_train,y_train)\n",
    "y_pred=rfreg.predict(x_test)\n",
    "print('R2 score is:',r2_score(y_test,y_pred))\n",
    "print('RMSE is:',np.sqrt(mean_squared_error(y_test,y_pred)))"
   ]
  },
  {
   "cell_type": "code",
   "execution_count": 48,
   "metadata": {},
   "outputs": [
    {
     "name": "stdout",
     "output_type": "stream",
     "text": [
      "Mean R2 score of RandomForestRegressor is: 0.15494560207960134\n",
      "Standard Deviation of RandomForestRegressor is: 0.2769130611583224\n"
     ]
    }
   ],
   "source": [
    "#checking the mean r2 score and overfitting and underfitting using cross validation\n",
    "from sklearn.model_selection import cross_val_score\n",
    "print('Mean R2 score of RandomForestRegressor is:', cross_val_score(rfreg,x,y,cv=5,scoring='r2').mean())\n",
    "print('Standard Deviation of RandomForestRegressor is:',cross_val_score(rfreg,x,y,cv=5,scoring='r2').std())"
   ]
  },
  {
   "cell_type": "code",
   "execution_count": 49,
   "metadata": {},
   "outputs": [
    {
     "name": "stdout",
     "output_type": "stream",
     "text": [
      "Actual Avarage Price:\n",
      "       AveragePrice\n",
      "708           1.19\n",
      "100           1.19\n",
      "886           1.14\n",
      "864           1.08\n",
      "1355          0.89\n",
      "...            ...\n",
      "348           1.17\n",
      "273           0.94\n",
      "421           1.21\n",
      "1104          1.10\n",
      "31            1.19\n",
      "\n",
      "[301 rows x 1 columns]\n",
      "Predicted Avarage Price:\n",
      " [1.11755 1.17635 1.14395 1.0582  0.92365 1.20315 1.0453  1.23475 0.98375\n",
      " 1.1207  1.247   1.11275 1.04825 0.98235 1.0456  1.3798  1.01095 1.35355\n",
      " 0.7802  1.20165 1.2197  1.21685 0.9315  0.9957  1.3424  1.26745 1.37645\n",
      " 1.01585 0.8854  0.8995  0.89665 1.03785 0.82845 1.2374  0.7666  0.60295\n",
      " 1.14425 0.8955  0.9898  0.83645 0.56345 1.25235 1.1525  1.363   1.28995\n",
      " 1.0123  1.0186  0.9685  1.23265 0.8012  0.78315 1.10525 1.13365 1.03115\n",
      " 1.07315 1.0942  1.07525 1.02395 1.2121  0.77905 1.0832  0.9597  1.1422\n",
      " 0.9637  0.9781  1.03675 1.09845 0.9964  1.2211  1.10775 1.1428  1.0788\n",
      " 1.1117  1.1652  1.14985 1.00435 1.24255 0.9314  1.07685 0.9162  1.084\n",
      " 1.2064  1.0223  1.12415 1.2295  1.1216  1.1713  1.2807  1.0495  1.0287\n",
      " 1.0999  1.0955  1.0869  1.02245 1.2265  1.0239  0.7424  0.9946  1.0872\n",
      " 1.00735 1.1156  1.0927  1.23615 1.1315  1.1741  1.0385  1.1812  0.8147\n",
      " 1.00445 1.0303  1.06585 0.70825 1.1839  1.24705 1.40315 0.7577  0.77565\n",
      " 0.8559  1.04355 1.19255 0.80625 1.06725 1.05395 1.0365  1.22035 1.5179\n",
      " 1.11815 1.1943  1.16095 0.9923  1.0779  0.7484  0.9808  1.2431  0.98955\n",
      " 0.91315 1.2079  0.92385 0.99135 1.105   1.20235 0.7497  1.3658  1.0755\n",
      " 1.10235 1.2045  1.0812  1.03245 1.1775  0.74365 0.7805  1.10805 1.12895\n",
      " 0.9214  1.0783  1.00575 1.10645 1.05555 1.1059  1.09925 0.97485 1.26005\n",
      " 1.11615 1.258   1.3769  1.06585 1.0861  0.90925 0.99305 1.204   1.038\n",
      " 1.1496  1.2125  0.8042  1.3689  1.13105 1.1284  1.126   0.8497  1.1223\n",
      " 0.6877  1.09795 1.39015 1.17725 1.0992  0.97095 1.17025 1.3836  1.07665\n",
      " 1.07065 0.8844  1.15905 1.06965 0.55985 1.36705 1.02095 0.99825 0.93465\n",
      " 1.13555 1.09525 0.8467  0.733   0.7764  1.1052  1.0998  1.1583  1.13145\n",
      " 0.78745 1.01405 1.20885 1.25615 1.3029  1.06165 0.7829  1.4296  1.02075\n",
      " 1.0646  1.05575 1.207   1.0315  1.2162  1.0036  0.9919  1.39865 0.90875\n",
      " 1.14705 1.0161  1.2678  1.02785 1.2031  1.24085 0.9007  1.29575 1.03455\n",
      " 1.11305 1.1757  1.20355 1.371   0.99105 1.03045 1.1355  1.06915 1.22395\n",
      " 0.7524  1.35515 0.5992  1.10325 1.23715 1.02635 0.99925 1.0818  1.05045\n",
      " 1.0868  0.5529  1.05775 1.173   1.12235 1.15945 1.36445 0.57235 1.12325\n",
      " 1.13755 1.046   1.03825 0.82625 1.1687  0.76015 1.201   1.005   1.21975\n",
      " 0.6378  1.18665 1.0332  0.74675 1.10445 1.3637  1.02155 1.1124  1.011\n",
      " 1.1323  1.18755 1.0638  1.06325 1.1004  0.75745 1.0252  1.05165 1.12735\n",
      " 1.0274  1.07685 0.92505 1.0209  1.0207  0.98695 1.3296  1.43845 1.10505\n",
      " 1.0048  1.1515  1.1449  1.2523 ]\n"
     ]
    }
   ],
   "source": [
    "#lets predict the Avarage Price value\n",
    "print('Actual Avarage Price:\\n',y_test)\n",
    "print('Predicted Avarage Price:\\n',y_pred)\n",
    "\n",
    "#So by looking this we can conclude that our model is predicting around 86% of correct results \n",
    "#for predicting the Avarage Price of Avocado."
   ]
  },
  {
   "cell_type": "code",
   "execution_count": 50,
   "metadata": {},
   "outputs": [
    {
     "data": {
      "text/plain": [
       "['rfreg_averageprice.obj']"
      ]
     },
     "execution_count": 50,
     "metadata": {},
     "output_type": "execute_result"
    }
   ],
   "source": [
    "#saving the final model\n",
    "from sklearn.externals import joblib\n",
    "#save the model as joblib in a file\n",
    "joblib.dump(rfreg,'rfreg_averageprice.obj')"
   ]
  },
  {
   "cell_type": "code",
   "execution_count": 51,
   "metadata": {},
   "outputs": [],
   "source": [
    "# load the model from the file\n",
    "AvaragePrice_from_joblib=joblib.load('rfreg_averageprice.obj')"
   ]
  },
  {
   "cell_type": "code",
   "execution_count": 52,
   "metadata": {},
   "outputs": [
    {
     "data": {
      "text/plain": [
       "array([1.11755, 1.17635, 1.14395, 1.0582 , 0.92365, 1.20315, 1.0453 ,\n",
       "       1.23475, 0.98375, 1.1207 , 1.247  , 1.11275, 1.04825, 0.98235,\n",
       "       1.0456 , 1.3798 , 1.01095, 1.35355, 0.7802 , 1.20165, 1.2197 ,\n",
       "       1.21685, 0.9315 , 0.9957 , 1.3424 , 1.26745, 1.37645, 1.01585,\n",
       "       0.8854 , 0.8995 , 0.89665, 1.03785, 0.82845, 1.2374 , 0.7666 ,\n",
       "       0.60295, 1.14425, 0.8955 , 0.9898 , 0.83645, 0.56345, 1.25235,\n",
       "       1.1525 , 1.363  , 1.28995, 1.0123 , 1.0186 , 0.9685 , 1.23265,\n",
       "       0.8012 , 0.78315, 1.10525, 1.13365, 1.03115, 1.07315, 1.0942 ,\n",
       "       1.07525, 1.02395, 1.2121 , 0.77905, 1.0832 , 0.9597 , 1.1422 ,\n",
       "       0.9637 , 0.9781 , 1.03675, 1.09845, 0.9964 , 1.2211 , 1.10775,\n",
       "       1.1428 , 1.0788 , 1.1117 , 1.1652 , 1.14985, 1.00435, 1.24255,\n",
       "       0.9314 , 1.07685, 0.9162 , 1.084  , 1.2064 , 1.0223 , 1.12415,\n",
       "       1.2295 , 1.1216 , 1.1713 , 1.2807 , 1.0495 , 1.0287 , 1.0999 ,\n",
       "       1.0955 , 1.0869 , 1.02245, 1.2265 , 1.0239 , 0.7424 , 0.9946 ,\n",
       "       1.0872 , 1.00735, 1.1156 , 1.0927 , 1.23615, 1.1315 , 1.1741 ,\n",
       "       1.0385 , 1.1812 , 0.8147 , 1.00445, 1.0303 , 1.06585, 0.70825,\n",
       "       1.1839 , 1.24705, 1.40315, 0.7577 , 0.77565, 0.8559 , 1.04355,\n",
       "       1.19255, 0.80625, 1.06725, 1.05395, 1.0365 , 1.22035, 1.5179 ,\n",
       "       1.11815, 1.1943 , 1.16095, 0.9923 , 1.0779 , 0.7484 , 0.9808 ,\n",
       "       1.2431 , 0.98955, 0.91315, 1.2079 , 0.92385, 0.99135, 1.105  ,\n",
       "       1.20235, 0.7497 , 1.3658 , 1.0755 , 1.10235, 1.2045 , 1.0812 ,\n",
       "       1.03245, 1.1775 , 0.74365, 0.7805 , 1.10805, 1.12895, 0.9214 ,\n",
       "       1.0783 , 1.00575, 1.10645, 1.05555, 1.1059 , 1.09925, 0.97485,\n",
       "       1.26005, 1.11615, 1.258  , 1.3769 , 1.06585, 1.0861 , 0.90925,\n",
       "       0.99305, 1.204  , 1.038  , 1.1496 , 1.2125 , 0.8042 , 1.3689 ,\n",
       "       1.13105, 1.1284 , 1.126  , 0.8497 , 1.1223 , 0.6877 , 1.09795,\n",
       "       1.39015, 1.17725, 1.0992 , 0.97095, 1.17025, 1.3836 , 1.07665,\n",
       "       1.07065, 0.8844 , 1.15905, 1.06965, 0.55985, 1.36705, 1.02095,\n",
       "       0.99825, 0.93465, 1.13555, 1.09525, 0.8467 , 0.733  , 0.7764 ,\n",
       "       1.1052 , 1.0998 , 1.1583 , 1.13145, 0.78745, 1.01405, 1.20885,\n",
       "       1.25615, 1.3029 , 1.06165, 0.7829 , 1.4296 , 1.02075, 1.0646 ,\n",
       "       1.05575, 1.207  , 1.0315 , 1.2162 , 1.0036 , 0.9919 , 1.39865,\n",
       "       0.90875, 1.14705, 1.0161 , 1.2678 , 1.02785, 1.2031 , 1.24085,\n",
       "       0.9007 , 1.29575, 1.03455, 1.11305, 1.1757 , 1.20355, 1.371  ,\n",
       "       0.99105, 1.03045, 1.1355 , 1.06915, 1.22395, 0.7524 , 1.35515,\n",
       "       0.5992 , 1.10325, 1.23715, 1.02635, 0.99925, 1.0818 , 1.05045,\n",
       "       1.0868 , 0.5529 , 1.05775, 1.173  , 1.12235, 1.15945, 1.36445,\n",
       "       0.57235, 1.12325, 1.13755, 1.046  , 1.03825, 0.82625, 1.1687 ,\n",
       "       0.76015, 1.201  , 1.005  , 1.21975, 0.6378 , 1.18665, 1.0332 ,\n",
       "       0.74675, 1.10445, 1.3637 , 1.02155, 1.1124 , 1.011  , 1.1323 ,\n",
       "       1.18755, 1.0638 , 1.06325, 1.1004 , 0.75745, 1.0252 , 1.05165,\n",
       "       1.12735, 1.0274 , 1.07685, 0.92505, 1.0209 , 1.0207 , 0.98695,\n",
       "       1.3296 , 1.43845, 1.10505, 1.0048 , 1.1515 , 1.1449 , 1.2523 ])"
      ]
     },
     "execution_count": 52,
     "metadata": {},
     "output_type": "execute_result"
    }
   ],
   "source": [
    "#Use the loaded model to make predictions against test data\n",
    "AvaragePrice_from_joblib.predict(x_test)"
   ]
  },
  {
   "cell_type": "markdown",
   "metadata": {},
   "source": [
    "# Conclusion:\n",
    "\n",
    "So here 'RandomForestRegressor Model' is the best model out of all model tested above and by looking this we can conclude\n",
    "that our model is predicting around 85% of correct results for predicting the Average Price of Avocado."
   ]
  },
  {
   "cell_type": "code",
   "execution_count": null,
   "metadata": {},
   "outputs": [],
   "source": []
  }
 ],
 "metadata": {
  "kernelspec": {
   "display_name": "Python 3",
   "language": "python",
   "name": "python3"
  },
  "language_info": {
   "codemirror_mode": {
    "name": "ipython",
    "version": 3
   },
   "file_extension": ".py",
   "mimetype": "text/x-python",
   "name": "python",
   "nbconvert_exporter": "python",
   "pygments_lexer": "ipython3",
   "version": "3.7.6"
  }
 },
 "nbformat": 4,
 "nbformat_minor": 4
}
