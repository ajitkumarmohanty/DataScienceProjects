{
 "cells": [
  {
   "cell_type": "code",
   "execution_count": 2,
   "metadata": {},
   "outputs": [],
   "source": [
    "import numpy as np\n",
    "import pandas as pd\n",
    "import sklearn\n",
    "from sklearn.linear_model import LinearRegression"
   ]
  },
  {
   "cell_type": "code",
   "execution_count": 3,
   "metadata": {},
   "outputs": [
    {
     "name": "stdout",
     "output_type": "stream",
     "text": [
      "    SNo    Name   Age       City  Country   Salary\n",
      "0     1     Tom  28.0    Toronto   Canada  20000.0\n",
      "1     2     Lee  31.0    Edmonto   Canada   3900.0\n",
      "2     3    Dave  34.0    Toronto   Canada   8000.0\n",
      "3     4    Anik  26.0   HongKong     Asia  66672.0\n",
      "4     5   kamal  30.0        NaN  America      NaN\n",
      "5     6    Geet   NaN   HongKong     Asia  30007.0\n",
      "6     7  Steven  43.0    BayArea  America   8300.0\n",
      "7     8     Ram  38.0  Hyderabad     Asia  54666.0\n",
      "8     9    hari  50.0    newyork  America  67666.0\n",
      "9    11    yami   NaN    newyork  America   8888.0\n",
      "10   12    Anik  26.0   HongKong     Asia  66672.0\n",
      "11   13   kamal  30.0        NaN  America  34344.0\n",
      "12   14    Geet  22.0   HongKong     Asia  30007.0\n",
      "13   15  Steven  43.0        NaN  America   8300.0\n",
      "14   16     Ram  38.0  Hyderabad     Asia  54666.0\n",
      "15   17    hari   NaN    newyork  America  67666.0\n",
      "16   18    yami  27.0    newyork  America   8888.0\n",
      "17   19     Lee  31.0    Edmonto   Canada      NaN\n",
      "18   20  Andrew  34.0      Congo   Africa  34432.0\n",
      "19   21   soham  32.0     Angola   Africa  34534.0\n",
      "20   22    Grig  26.0    Finland   Europe  33451.0\n",
      "21   23   Kiara  27.0     London   Europe      NaN\n"
     ]
    }
   ],
   "source": [
    "salary=pd.read_csv('salarydataset.csv')\n",
    "print(salary)"
   ]
  },
  {
   "cell_type": "code",
   "execution_count": 4,
   "metadata": {},
   "outputs": [
    {
     "name": "stdout",
     "output_type": "stream",
     "text": [
      "    SNo    Name   Age       City  Country   Salary\n",
      "0     1     Tom  28.0    Toronto   Canada  20000.0\n",
      "1     2     Lee  31.0    Edmonto   Canada   3900.0\n",
      "2     3    Dave  34.0    Toronto   Canada   8000.0\n",
      "3     4    Anik  26.0   HongKong     Asia  66672.0\n",
      "4     5   kamal  30.0        NaN  America      NaN\n",
      "5     6    Geet   NaN   HongKong     Asia  30007.0\n",
      "6     7  Steven  43.0    BayArea  America   8300.0\n",
      "7     8     Ram  38.0  Hyderabad     Asia  54666.0\n",
      "8     9    hari  50.0    newyork  America  67666.0\n",
      "9    11    yami   NaN    newyork  America   8888.0\n",
      "10   12    Anik  26.0   HongKong     Asia  66672.0\n",
      "11   13   kamal  30.0        NaN  America  34344.0\n",
      "12   14    Geet  22.0   HongKong     Asia  30007.0\n",
      "13   15  Steven  43.0        NaN  America   8300.0\n",
      "14   16     Ram  38.0  Hyderabad     Asia  54666.0\n",
      "15   17    hari   NaN    newyork  America  67666.0\n",
      "16   18    yami  27.0    newyork  America   8888.0\n",
      "17   19     Lee  31.0    Edmonto   Canada      NaN\n",
      "18   20  Andrew  34.0      Congo   Africa  34432.0\n",
      "19   21   soham  32.0     Angola   Africa  34534.0\n",
      "20   22    Grig  26.0    Finland   Europe  33451.0\n",
      "21   23   Kiara  27.0     London   Europe      NaN\n"
     ]
    }
   ],
   "source": [
    "salarydf=pd.DataFrame(data=salary)\n",
    "print(salarydf)"
   ]
  },
  {
   "cell_type": "code",
   "execution_count": 5,
   "metadata": {},
   "outputs": [
    {
     "data": {
      "text/plain": [
       "(22, 6)"
      ]
     },
     "execution_count": 5,
     "metadata": {},
     "output_type": "execute_result"
    }
   ],
   "source": [
    "salarydf.shape"
   ]
  },
  {
   "cell_type": "code",
   "execution_count": 6,
   "metadata": {},
   "outputs": [
    {
     "data": {
      "text/plain": [
       "SNo          int64\n",
       "Name        object\n",
       "Age        float64\n",
       "City        object\n",
       "Country     object\n",
       "Salary     float64\n",
       "dtype: object"
      ]
     },
     "execution_count": 6,
     "metadata": {},
     "output_type": "execute_result"
    }
   ],
   "source": [
    "salarydf.dtypes"
   ]
  },
  {
   "cell_type": "code",
   "execution_count": 7,
   "metadata": {},
   "outputs": [
    {
     "data": {
      "text/html": [
       "<div>\n",
       "<style scoped>\n",
       "    .dataframe tbody tr th:only-of-type {\n",
       "        vertical-align: middle;\n",
       "    }\n",
       "\n",
       "    .dataframe tbody tr th {\n",
       "        vertical-align: top;\n",
       "    }\n",
       "\n",
       "    .dataframe thead th {\n",
       "        text-align: right;\n",
       "    }\n",
       "</style>\n",
       "<table border=\"1\" class=\"dataframe\">\n",
       "  <thead>\n",
       "    <tr style=\"text-align: right;\">\n",
       "      <th></th>\n",
       "      <th>SNo</th>\n",
       "      <th>Age</th>\n",
       "      <th>Salary</th>\n",
       "    </tr>\n",
       "  </thead>\n",
       "  <tbody>\n",
       "    <tr>\n",
       "      <th>count</th>\n",
       "      <td>22.000000</td>\n",
       "      <td>19.000000</td>\n",
       "      <td>19.000000</td>\n",
       "    </tr>\n",
       "    <tr>\n",
       "      <th>mean</th>\n",
       "      <td>12.090909</td>\n",
       "      <td>32.421053</td>\n",
       "      <td>33739.947368</td>\n",
       "    </tr>\n",
       "    <tr>\n",
       "      <th>std</th>\n",
       "      <td>6.927578</td>\n",
       "      <td>7.174924</td>\n",
       "      <td>23151.188084</td>\n",
       "    </tr>\n",
       "    <tr>\n",
       "      <th>min</th>\n",
       "      <td>1.000000</td>\n",
       "      <td>22.000000</td>\n",
       "      <td>3900.000000</td>\n",
       "    </tr>\n",
       "    <tr>\n",
       "      <th>25%</th>\n",
       "      <td>6.250000</td>\n",
       "      <td>27.000000</td>\n",
       "      <td>8888.000000</td>\n",
       "    </tr>\n",
       "    <tr>\n",
       "      <th>50%</th>\n",
       "      <td>12.500000</td>\n",
       "      <td>31.000000</td>\n",
       "      <td>33451.000000</td>\n",
       "    </tr>\n",
       "    <tr>\n",
       "      <th>75%</th>\n",
       "      <td>17.750000</td>\n",
       "      <td>36.000000</td>\n",
       "      <td>54666.000000</td>\n",
       "    </tr>\n",
       "    <tr>\n",
       "      <th>max</th>\n",
       "      <td>23.000000</td>\n",
       "      <td>50.000000</td>\n",
       "      <td>67666.000000</td>\n",
       "    </tr>\n",
       "  </tbody>\n",
       "</table>\n",
       "</div>"
      ],
      "text/plain": [
       "             SNo        Age        Salary\n",
       "count  22.000000  19.000000     19.000000\n",
       "mean   12.090909  32.421053  33739.947368\n",
       "std     6.927578   7.174924  23151.188084\n",
       "min     1.000000  22.000000   3900.000000\n",
       "25%     6.250000  27.000000   8888.000000\n",
       "50%    12.500000  31.000000  33451.000000\n",
       "75%    17.750000  36.000000  54666.000000\n",
       "max    23.000000  50.000000  67666.000000"
      ]
     },
     "execution_count": 7,
     "metadata": {},
     "output_type": "execute_result"
    }
   ],
   "source": [
    "salarydf.describe()"
   ]
  },
  {
   "cell_type": "code",
   "execution_count": 8,
   "metadata": {},
   "outputs": [
    {
     "data": {
      "image/png": "[encoded data removed]",
      "text/plain": [
       "<Figure size 432x288 with 2 Axes>"
      ]
     },
     "metadata": {
      "needs_background": "light"
     },
     "output_type": "display_data"
    }
   ],
   "source": [
    "#verifying what are the null values with visualization\n",
    "import seaborn as sns\n",
    "import matplotlib.pyplot as plt\n",
    "sns.heatmap(salarydf.isnull(),annot=True)\n",
    "plt.show()"
   ]
  },
  {
   "cell_type": "code",
   "execution_count": 9,
   "metadata": {},
   "outputs": [
    {
     "data": {
      "text/plain": [
       "SNo        0\n",
       "Name       0\n",
       "Age        3\n",
       "City       3\n",
       "Country    0\n",
       "Salary     3\n",
       "dtype: int64"
      ]
     },
     "execution_count": 9,
     "metadata": {},
     "output_type": "execute_result"
    }
   ],
   "source": [
    "#verifying the numbers of null values without visualization\n",
    "salarydf.isnull().sum()"
   ]
  },
  {
   "cell_type": "code",
   "execution_count": 10,
   "metadata": {},
   "outputs": [
    {
     "name": "stdout",
     "output_type": "stream",
     "text": [
      "    SNo    Name   Age       City  Country   Salary\n",
      "0     1     Tom  28.0    Toronto   Canada  20000.0\n",
      "1     2     Lee  31.0    Edmonto   Canada   3900.0\n",
      "2     3    Dave  34.0    Toronto   Canada   8000.0\n",
      "3     4    Anik  26.0   HongKong     Asia  66672.0\n",
      "6     7  Steven  43.0    BayArea  America   8300.0\n",
      "7     8     Ram  38.0  Hyderabad     Asia  54666.0\n",
      "8     9    hari  50.0    newyork  America  67666.0\n",
      "10   12    Anik  26.0   HongKong     Asia  66672.0\n",
      "12   14    Geet  22.0   HongKong     Asia  30007.0\n",
      "14   16     Ram  38.0  Hyderabad     Asia  54666.0\n",
      "16   18    yami  27.0    newyork  America   8888.0\n",
      "18   20  Andrew  34.0      Congo   Africa  34432.0\n",
      "19   21   soham  32.0     Angola   Africa  34534.0\n",
      "20   22    Grig  26.0    Finland   Europe  33451.0\n"
     ]
    }
   ],
   "source": [
    "salaryfinal=salarydf.dropna()\n",
    "print(salaryfinal)"
   ]
  },
  {
   "cell_type": "code",
   "execution_count": 11,
   "metadata": {},
   "outputs": [
    {
     "name": "stdout",
     "output_type": "stream",
     "text": [
      "      Name   Age       City  Country   Salary\n",
      "0      Tom  28.0    Toronto   Canada  20000.0\n",
      "1      Lee  31.0    Edmonto   Canada   3900.0\n",
      "2     Dave  34.0    Toronto   Canada   8000.0\n",
      "3     Anik  26.0   HongKong     Asia  66672.0\n",
      "6   Steven  43.0    BayArea  America   8300.0\n",
      "7      Ram  38.0  Hyderabad     Asia  54666.0\n",
      "8     hari  50.0    newyork  America  67666.0\n",
      "10    Anik  26.0   HongKong     Asia  66672.0\n",
      "12    Geet  22.0   HongKong     Asia  30007.0\n",
      "14     Ram  38.0  Hyderabad     Asia  54666.0\n",
      "16    yami  27.0    newyork  America   8888.0\n",
      "18  Andrew  34.0      Congo   Africa  34432.0\n",
      "19   soham  32.0     Angola   Africa  34534.0\n",
      "20    Grig  26.0    Finland   Europe  33451.0\n"
     ]
    }
   ],
   "source": [
    "salary_final=salaryfinal.drop(['SNo'],axis=1)\n",
    "print(salary_final)"
   ]
  },
  {
   "cell_type": "code",
   "execution_count": 12,
   "metadata": {
    "scrolled": true
   },
   "outputs": [
    {
     "data": {
      "text/plain": [
       "<matplotlib.axes._subplots.AxesSubplot at 0x18ab5c48088>"
      ]
     },
     "execution_count": 12,
     "metadata": {},
     "output_type": "execute_result"
    },
    {
     "data": {
      "image/png": "[encoded data removed]",
      "text/plain": [
       "<Figure size 432x288 with 1 Axes>"
      ]
     },
     "metadata": {
      "needs_background": "light"
     },
     "output_type": "display_data"
    }
   ],
   "source": [
    "salary_final['Salary'].plot.box()"
   ]
  },
  {
   "cell_type": "code",
   "execution_count": 13,
   "metadata": {},
   "outputs": [
    {
     "data": {
      "text/plain": [
       "Age          AxesSubplot(0.125,0.536818;0.0945122x0.343182)\n",
       "Salary    AxesSubplot(0.238415,0.536818;0.0945122x0.343182)\n",
       "dtype: object"
      ]
     },
     "execution_count": 13,
     "metadata": {},
     "output_type": "execute_result"
    },
    {
     "data": {
      "image/png": "[encoded data removed]",
      "text/plain": [
       "<Figure size 432x288 with 14 Axes>"
      ]
     },
     "metadata": {
      "needs_background": "light"
     },
     "output_type": "display_data"
    }
   ],
   "source": [
    "salary_final.plot(kind='box',subplots=True, layout=(2,7))"
   ]
  },
  {
   "cell_type": "code",
   "execution_count": 14,
   "metadata": {},
   "outputs": [
    {
     "data": {
      "text/plain": [
       "<matplotlib.axes._subplots.AxesSubplot at 0x18ab5a56648>"
      ]
     },
     "execution_count": 14,
     "metadata": {},
     "output_type": "execute_result"
    },
    {
     "data": {
      "image/png": "[encoded data removed]",
      "text/plain": [
       "<Figure size 432x288 with 1 Axes>"
      ]
     },
     "metadata": {
      "needs_background": "light"
     },
     "output_type": "display_data"
    }
   ],
   "source": [
    "sns.lineplot(x=salary_final['Age'],y=salary_final['Salary'],data=salary_final)"
   ]
  },
  {
   "cell_type": "code",
   "execution_count": 15,
   "metadata": {},
   "outputs": [
    {
     "data": {
      "image/png": "[encoded data removed]",
      "text/plain": [
       "<Figure size 432x288 with 1 Axes>"
      ]
     },
     "metadata": {
      "needs_background": "light"
     },
     "output_type": "display_data"
    }
   ],
   "source": [
    "plt.hist(x='Salary',bins=10,data=salary_final)\n",
    "plt.show()"
   ]
  },
  {
   "cell_type": "code",
   "execution_count": 16,
   "metadata": {},
   "outputs": [
    {
     "data": {
      "text/plain": [
       "Age       0.905716\n",
       "Salary    0.142454\n",
       "dtype: float64"
      ]
     },
     "execution_count": 16,
     "metadata": {},
     "output_type": "execute_result"
    }
   ],
   "source": [
    "# Checking the skewness of the dataset\n",
    "salary_final.skew()"
   ]
  },
  {
   "cell_type": "code",
   "execution_count": 20,
   "metadata": {},
   "outputs": [],
   "source": [
    "# treating the skewness using log\n",
    "import numpy as np\n",
    "if salary_final.skew().loc['Age']>0.55:\n",
    "    salary_final['Age']=np.log1p(salary_final['Age'])"
   ]
  },
  {
   "cell_type": "code",
   "execution_count": 21,
   "metadata": {},
   "outputs": [
    {
     "data": {
      "text/plain": [
       "Age       0.448617\n",
       "Salary    0.142454\n",
       "dtype: float64"
      ]
     },
     "execution_count": 21,
     "metadata": {},
     "output_type": "execute_result"
    }
   ],
   "source": [
    "# Again checking the skewness of the dataset\n",
    "salary_final.skew()"
   ]
  },
  {
   "cell_type": "code",
   "execution_count": 22,
   "metadata": {},
   "outputs": [
    {
     "data": {
      "image/png": "[encoded data removed]",
      "text/plain": [
       "<Figure size 360x360 with 6 Axes>"
      ]
     },
     "metadata": {
      "needs_background": "light"
     },
     "output_type": "display_data"
    }
   ],
   "source": [
    "# checking the pair plot\n",
    "import seaborn as sns\n",
    "sns.pairplot(salary_final)\n",
    "plt.show()"
   ]
  },
  {
   "cell_type": "code",
   "execution_count": 23,
   "metadata": {},
   "outputs": [
    {
     "name": "stdout",
     "output_type": "stream",
     "text": [
      "(14, 1)\n",
      "(14, 1)\n"
     ]
    }
   ],
   "source": [
    "# separating the input and output/target variables\n",
    "import numpy as np\n",
    "df_x=pd.DataFrame(salary_final['Age'])\n",
    "y=pd.DataFrame(salary_final['Salary'])\n",
    "\n",
    "print(df_x.shape)\n",
    "print(y.shape)"
   ]
  },
  {
   "cell_type": "code",
   "execution_count": 24,
   "metadata": {},
   "outputs": [],
   "source": [
    "#scaling the input variables\n",
    "from sklearn.preprocessing import StandardScaler\n",
    "sc=StandardScaler()\n",
    "x=sc.fit_transform(df_x)\n",
    "x=pd.DataFrame(x,columns=df_x.columns)"
   ]
  },
  {
   "cell_type": "code",
   "execution_count": 25,
   "metadata": {},
   "outputs": [
    {
     "data": {
      "text/plain": [
       "Age    0.448617\n",
       "dtype: float64"
      ]
     },
     "execution_count": 25,
     "metadata": {},
     "output_type": "execute_result"
    }
   ],
   "source": [
    "# Again checking the skewness of the dataset\n",
    "x.skew()"
   ]
  },
  {
   "cell_type": "code",
   "execution_count": 33,
   "metadata": {},
   "outputs": [
    {
     "name": "stdout",
     "output_type": "stream",
     "text": [
      "R2 score corresponding to random state: 42 is: 0.07153364168569265\n",
      "R2 score corresponding to random state: 43 is: -0.18031454452438744\n",
      "R2 score corresponding to random state: 44 is: -5.558982825161505\n",
      "R2 score corresponding to random state: 45 is: -5.558982825161509\n",
      "R2 score corresponding to random state: 46 is: -0.2940351496083382\n",
      "R2 score corresponding to random state: 47 is: -1.056656659671682\n",
      "R2 score corresponding to random state: 48 is: -0.4384365876302314\n",
      "R2 score corresponding to random state: 49 is: -0.35598361878820883\n",
      "R2 score corresponding to random state: 50 is: -0.012842032504631007\n",
      "R2 score corresponding to random state: 51 is: -0.3424595151614003\n",
      "R2 score corresponding to random state: 52 is: -0.08017118855691319\n",
      "R2 score corresponding to random state: 53 is: -5.188882567037823\n",
      "R2 score corresponding to random state: 54 is: -0.39656197712774177\n",
      "R2 score corresponding to random state: 55 is: -6.0766796055831795\n",
      "R2 score corresponding to random state: 56 is: 0.6485426844760855\n",
      "R2 score corresponding to random state: 57 is: -0.3965619771277422\n",
      "R2 score corresponding to random state: 58 is: 0.6141388112134161\n",
      "R2 score corresponding to random state: 59 is: -3.729157171296335\n",
      "R2 score corresponding to random state: 60 is: -0.4843729367538201\n",
      "R2 score corresponding to random state: 61 is: -0.14489049968047985\n",
      "R2 score corresponding to random state: 62 is: -3.3095515557083486\n",
      "R2 score corresponding to random state: 63 is: -1.5241060847779089\n",
      "R2 score corresponding to random state: 64 is: -1.4366865761824972\n",
      "R2 score corresponding to random state: 65 is: -6.406531724678796\n",
      "R2 score corresponding to random state: 66 is: -0.2940351496083382\n",
      "R2 score corresponding to random state: 67 is: -0.19936297108154122\n",
      "R2 score corresponding to random state: 68 is: -0.03163791787947745\n",
      "R2 score corresponding to random state: 69 is: -0.3424595151614003\n",
      "R2 score corresponding to random state: 70 is: -3.2707759232650107\n",
      "R2 score corresponding to random state: 71 is: -44.41204948936314\n",
      "R2 score corresponding to random state: 72 is: -3.49207116728234\n",
      "R2 score corresponding to random state: 73 is: -0.10187195007061045\n",
      "R2 score corresponding to random state: 74 is: -0.40698635347316015\n",
      "R2 score corresponding to random state: 75 is: -0.4294908954062251\n",
      "R2 score corresponding to random state: 76 is: -2.7856902559281593\n",
      "R2 score corresponding to random state: 77 is: -0.21859903262297542\n",
      "R2 score corresponding to random state: 78 is: -3.5802738704839685\n",
      "R2 score corresponding to random state: 79 is: -0.37569848253425064\n",
      "R2 score corresponding to random state: 80 is: -0.6753903799087111\n",
      "R2 score corresponding to random state: 81 is: -0.01726496768104191\n",
      "R2 score corresponding to random state: 82 is: -1.2168087648238002\n",
      "R2 score corresponding to random state: 83 is: -0.8164272518850892\n",
      "R2 score corresponding to random state: 84 is: -1.692029607540559\n",
      "R2 score corresponding to random state: 85 is: -5.558982825161509\n",
      "R2 score corresponding to random state: 86 is: -1.3323435817718594\n",
      "R2 score corresponding to random state: 87 is: -0.0282625143917119\n",
      "R2 score corresponding to random state: 88 is: -5.785963649784892\n",
      "R2 score corresponding to random state: 89 is: -2.801865675220052\n",
      "R2 score corresponding to random state: 90 is: -0.6045282659822304\n",
      "R2 score corresponding to random state: 91 is: -0.3995495623835743\n",
      "R2 score corresponding to random state: 92 is: -0.4294908954062253\n",
      "R2 score corresponding to random state: 93 is: -0.27822568120468505\n",
      "R2 score corresponding to random state: 94 is: -1.1969139772079926\n",
      "R2 score corresponding to random state: 95 is: -0.0747034438308034\n",
      "R2 score corresponding to random state: 96 is: -1.445062900571294\n",
      "R2 score corresponding to random state: 97 is: -0.23584273959131008\n",
      "R2 score corresponding to random state: 98 is: 0.04786210568669513\n",
      "R2 score corresponding to random state: 99 is: -0.35598361878820883\n",
      "R2 score corresponding to random state: 100 is: -0.43843658763023163\n",
      "Maximum R2 score corresponding to random state 56 is: 0.6485426844760855\n"
     ]
    }
   ],
   "source": [
    "#dividing the train and test dataset and find out the r2 score corresponding to random state\n",
    "\n",
    "from sklearn.model_selection import train_test_split\n",
    "from sklearn.metrics import mean_absolute_error\n",
    "from sklearn.metrics import mean_squared_error\n",
    "from sklearn.metrics import r2_score\n",
    "from sklearn import linear_model\n",
    "max_r2_score=0.0\n",
    "for r_state in range(42,101):\n",
    "    x_train,x_test,y_train,y_test = train_test_split(x,y,test_size=0.2,random_state=r_state)\n",
    "    regr=linear_model.LinearRegression()\n",
    "    regr.fit(x_train,y_train)\n",
    "    y_pred=regr.predict(x_test)\n",
    "    r2_scr=r2_score(y_test,y_pred)\n",
    "    print('R2 score corresponding to random state:',r_state, 'is:',r2_scr)\n",
    "    if r2_scr>max_r2_score:\n",
    "        max_r2_score=r2_scr\n",
    "        final_r_state=r_state\n",
    "print('Maximum R2 score corresponding to random state',final_r_state,'is:',max_r2_score)   "
   ]
  },
  {
   "cell_type": "code",
   "execution_count": 28,
   "metadata": {},
   "outputs": [
    {
     "data": {
      "text/plain": [
       "-4.891947251786707"
      ]
     },
     "execution_count": 28,
     "metadata": {},
     "output_type": "execute_result"
    }
   ],
   "source": [
    "#checking the overfitting and underfitting using cross validation\n",
    "from sklearn.model_selection import cross_val_score\n",
    "cross_val_score(linear_model.LinearRegression(),x,y,cv=5,scoring='r2').mean()"
   ]
  },
  {
   "cell_type": "code",
   "execution_count": 34,
   "metadata": {},
   "outputs": [],
   "source": [
    "# Making the Final Model\n",
    "x_train,x_test,y_train,y_test = train_test_split(x,y,test_size=0.2,random_state=56)\n",
    "lr=linear_model.LinearRegression()\n",
    "lr.fit(x_train,y_train)\n",
    "y_pred=regr.predict(x_test)"
   ]
  },
  {
   "cell_type": "code",
   "execution_count": 35,
   "metadata": {},
   "outputs": [
    {
     "name": "stdout",
     "output_type": "stream",
     "text": [
      "r2 score is: 0.7514321237316386\n",
      "RMSE is: 946.0223034651096\n"
     ]
    }
   ],
   "source": [
    "#Evaluating the Final Model\n",
    "from sklearn.metrics import mean_squared_error\n",
    "from sklearn.metrics import r2_score\n",
    "import numpy as np\n",
    "print('r2 score is:',r2_score(y_test,y_pred))\n",
    "print('RMSE is:',np.sqrt(mean_squared_error(y_test,y_pred)))"
   ]
  },
  {
   "cell_type": "code",
   "execution_count": 36,
   "metadata": {},
   "outputs": [
    {
     "name": "stderr",
     "output_type": "stream",
     "text": [
      "C:\\Users\\ajitk\\anaconda3\\lib\\site-packages\\sklearn\\externals\\joblib\\__init__.py:15: FutureWarning: sklearn.externals.joblib is deprecated in 0.21 and will be removed in 0.23. Please import this functionality directly from joblib, which can be installed with: pip install joblib. If this warning is raised when loading pickled models, you may need to re-serialize those models with scikit-learn 0.21+.\n",
      "  warnings.warn(msg, category=FutureWarning)\n"
     ]
    },
    {
     "data": {
      "text/plain": [
       "['lr_Salary.obj']"
      ]
     },
     "execution_count": 36,
     "metadata": {},
     "output_type": "execute_result"
    }
   ],
   "source": [
    "#saving the final model\n",
    "from sklearn.externals import joblib\n",
    "#save the model as joblib in a file\n",
    "joblib.dump(lr,'lr_Salary.obj')\n"
   ]
  },
  {
   "cell_type": "code",
   "execution_count": null,
   "metadata": {},
   "outputs": [],
   "source": []
  }
 ],
 "metadata": {
  "kernelspec": {
   "display_name": "Python 3",
   "language": "python",
   "name": "python3"
  },
  "language_info": {
   "codemirror_mode": {
    "name": "ipython",
    "version": 3
   },
   "file_extension": ".py",
   "mimetype": "text/x-python",
   "name": "python",
   "nbconvert_exporter": "python",
   "pygments_lexer": "ipython3",
   "version": "3.7.6"
  }
 },
 "nbformat": 4,
 "nbformat_minor": 4
}
